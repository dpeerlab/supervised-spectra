{
  "cells": [
    {
      "cell_type": "markdown",
      "metadata": {
        "colab_type": "text",
        "id": "view-in-github"
      },
      "source": [
        "<a href=\"https://colab.research.google.com/github/wallet-maker/spectra/blob/main/notebooks/Spectra_Colaboratory_tutorial.ipynb\" target=\"_parent\"><img src=\"https://colab.research.google.com/assets/colab-badge.svg\" alt=\"Open In Colab\"/></a>"
      ]
    },
    {
      "attachments": {},
      "cell_type": "markdown",
      "metadata": {},
      "source": [
        "# install packages"
      ]
    },
    {
      "cell_type": "code",
      "execution_count": null,
      "metadata": {},
      "outputs": [],
      "source": [
        "!git clone https://github.com/dpeerlab/spectra"
      ]
    },
    {
      "cell_type": "code",
      "execution_count": null,
      "metadata": {},
      "outputs": [],
      "source": [
        "!ls"
      ]
    },
    {
      "cell_type": "code",
      "execution_count": null,
      "metadata": {},
      "outputs": [],
      "source": [
        "%cd spectra"
      ]
    },
    {
      "cell_type": "code",
      "execution_count": null,
      "metadata": {},
      "outputs": [],
      "source": [
        "%pip install ."
      ]
    },
    {
      "cell_type": "code",
      "execution_count": 5,
      "metadata": {
        "colab": {
          "base_uri": "https://localhost:8080/"
        },
        "id": "GQFeb6lhIWR0",
        "outputId": "ce550b96-077f-4dc9-b000-41f8aae6bd6d"
      },
      "outputs": [
        {
          "name": "stdout",
          "output_type": "stream",
          "text": [
            "Looking in indexes: https://pypi.org/simple, https://us-python.pkg.dev/colab-wheels/public/simple/\n",
            "Requirement already satisfied: matplotlib==3.5.0 in /usr/local/lib/python3.9/dist-packages (3.5.0)\n",
            "Requirement already satisfied: pillow>=6.2.0 in /usr/local/lib/python3.9/dist-packages (from matplotlib==3.5.0) (8.4.0)\n",
            "Requirement already satisfied: python-dateutil>=2.7 in /usr/local/lib/python3.9/dist-packages (from matplotlib==3.5.0) (2.8.2)\n",
            "Requirement already satisfied: pyparsing>=2.2.1 in /usr/local/lib/python3.9/dist-packages (from matplotlib==3.5.0) (3.0.9)\n",
            "Requirement already satisfied: fonttools>=4.22.0 in /usr/local/lib/python3.9/dist-packages (from matplotlib==3.5.0) (4.39.3)\n",
            "Requirement already satisfied: numpy>=1.17 in /usr/local/lib/python3.9/dist-packages (from matplotlib==3.5.0) (1.22.4)\n",
            "Requirement already satisfied: setuptools-scm>=4 in /usr/local/lib/python3.9/dist-packages (from matplotlib==3.5.0) (7.1.0)\n",
            "Requirement already satisfied: packaging>=20.0 in /usr/local/lib/python3.9/dist-packages (from matplotlib==3.5.0) (23.0)\n",
            "Requirement already satisfied: cycler>=0.10 in /usr/local/lib/python3.9/dist-packages (from matplotlib==3.5.0) (0.11.0)\n",
            "Requirement already satisfied: kiwisolver>=1.0.1 in /usr/local/lib/python3.9/dist-packages (from matplotlib==3.5.0) (1.4.4)\n",
            "Requirement already satisfied: six>=1.5 in /usr/local/lib/python3.9/dist-packages (from python-dateutil>=2.7->matplotlib==3.5.0) (1.16.0)\n",
            "Requirement already satisfied: typing-extensions in /usr/local/lib/python3.9/dist-packages (from setuptools-scm>=4->matplotlib==3.5.0) (4.5.0)\n",
            "Requirement already satisfied: tomli>=1.0.0 in /usr/local/lib/python3.9/dist-packages (from setuptools-scm>=4->matplotlib==3.5.0) (2.0.1)\n",
            "Requirement already satisfied: setuptools in /usr/local/lib/python3.9/dist-packages (from setuptools-scm>=4->matplotlib==3.5.0) (67.6.1)\n"
          ]
        }
      ],
      "source": [
        "%pip install -U matplotlib==3.5.0"
      ]
    },
    {
      "attachments": {},
      "cell_type": "markdown",
      "metadata": {},
      "source": [
        "# import relevant packages"
      ]
    },
    {
      "cell_type": "code",
      "execution_count": 1,
      "metadata": {
        "id": "uUhGZevNHjzd"
      },
      "outputs": [],
      "source": [
        "from spectra import spectra as spc"
      ]
    },
    {
      "cell_type": "code",
      "execution_count": 2,
      "metadata": {},
      "outputs": [],
      "source": [
        "from spectra import spectra_util as spc_tl"
      ]
    },
    {
      "cell_type": "code",
      "execution_count": 3,
      "metadata": {
        "id": "WEf_XV5Vxf-I"
      },
      "outputs": [],
      "source": [
        "#import packages\n",
        "import numpy as np\n",
        "import json \n",
        "import scanpy as sc\n",
        "from collections import OrderedDict\n",
        "import scipy \n",
        "import pandas as pd\n",
        "\n",
        "#spectra imports \n",
        "from spectra import spectra as spc\n",
        "from spectra import spectra_util as util\n",
        "from spectra import K_est as kst\n",
        "\n"
      ]
    },
    {
      "cell_type": "code",
      "execution_count": 4,
      "metadata": {
        "id": "6htuiSo0xz2w"
      },
      "outputs": [],
      "source": [
        "def check_gene_set_dictionary(adata, annotations, obs_key='cell_type_annotations',global_key='global', return_dict = True):\n",
        "    '''\n",
        "    Filters annotations dictionary contains only genes contained in the adata. \n",
        "    Checks that annotations dictionary cell type keys and adata cell types are identical.\n",
        "    Checks that all gene sets in annotations dictionary contain >2 genes after filtering.\n",
        "    \n",
        "    adata: AnnData , data to use with Spectra\n",
        "    annotations: dict , gene set annotations dictionary to use with Spectra\n",
        "    obs_key: str , column name for cell type annotations in adata.obs\n",
        "    global_key: str , key for global gene sests in gene set annotation dictionary\n",
        "    return_dict: bool , return filtered gene set annotation dictionary\n",
        "    \n",
        "    returns: dict , filtered gene set annotation dictionary\n",
        "    \n",
        "    '''\n",
        "    #test if keys match\n",
        "    adata_labels  = list(set(adata.obs[obs_key]))+['global']#cell type labels in adata object\n",
        "    annotation_labels = list(annotations.keys())\n",
        "    matching_celltype_labels = list(set(adata_labels).intersection(annotation_labels))\n",
        "    if set(annotation_labels)==set(adata_labels):\n",
        "        print('Cell type labels in gene set annotation dictionary and AnnData object are identical')\n",
        "        dict_keys_OK = True\n",
        "    if len(annotation_labels)<len(adata_labels):\n",
        "        print('The following labels are missing in the gene set annotation dictionary:',set(adata_labels)-set(annotation_labels))\n",
        "        dict_keys_OK = False\n",
        "    if len(adata_labels)<len(annotation_labels):\n",
        "        print('The following labels are missing in the AnnData object:',set(annotation_labels)-set(adata_labels))\n",
        "        dict_keys_OK = False\n",
        "        \n",
        "    #check that gene sets in dictionary have len >2\n",
        "    Counter = 0\n",
        "    annotations_new = {}\n",
        "    for k,v in annotations.items():\n",
        "        annotations_new[k] = {}\n",
        "        for k2,v2 in v.items():\n",
        "            annotations_new[k][k2]= [x for x in v2 if x in adata.var_names]\n",
        "            length = len(v2)\n",
        "            if length<3:\n",
        "                print('gene set',k2,'for cell type',k,'is of length',length)\n",
        "                Counter = Counter+1\n",
        "            \n",
        "    if Counter > 0:\n",
        "        print(Counter,'gene sets are too small. Gene sets must contain at least 3 genes')\n",
        "    elif Counter == 0 and dict_keys_OK:\n",
        "        print('Your gene set annotation dictionary is correctly formatted.')\n",
        "    if return_dict:\n",
        "        return annotations_new"
      ]
    },
    {
      "cell_type": "markdown",
      "metadata": {
        "id": "v4vTEyL6sDR4"
      },
      "source": [
        "# Load gene_set_dictionary"
      ]
    },
    {
      "attachments": {},
      "cell_type": "markdown",
      "metadata": {
        "id": "oqLbpf3qsFWF"
      },
      "source": [
        "**load a nested dictionary containing global and cell type specific gene sets in the following format:**\n",
        "\n",
        "Gene set annotation dictionary with the keys being the celltypes (str) and values being dictionaries with gene set names as keys (str) and gene sets as values (lists of gene names/IDs which matches the gene names/IDs in adata.var_names).\n",
        "\n",
        "For example:\n",
        "\n",
        "```\n",
        "gene_set_dictionary = {'celltype_1':{'gene_set_1':['gene_a', 'gene_b', 'gene_c'], 'gene_set_2':['gene_c','gene_a','gene_e','gene_f']},\n",
        "\n",
        "'celltype_2':{'gene_set_1':['gene_a', 'gene_b', 'gene_c'], 'gene_set_3':['gene_a', 'gene_e','gene_f','gene_d']},\n",
        "\n",
        "'celltype_3':{},\n",
        "\n",
        "'global':\"{'gene_set_4':['gene_m','gene_n']} #the global key must be supplied\n",
        "\n",
        "```\n",
        "\n",
        "**Note that one key in the dictionary must be 'global' with the corresponding value being a dictionary of gene sets which apply to all cells**\n",
        "\n",
        "Spectra will use this dictionary to align factors to the input gene sets. Gene sets which apply to only one cell type in the data should be included in the dictionary of that cell type. If a gene sets applies to all cell types in the data, the gene set should be included in the dictionary for 'global'. If a gene set applies to more than one cell type but not all cell types in the data there are two options 1) Include this gene set in each cell type dictionary which will likely result in a separate factor for this gene set in each cell type. OR 2) include this gene set in the 'global' dictionary which will likely result in one factor for this gene set in all cell types. We give additional guidance on the advantages and disadvantages of either approach in the Supplementary Methods of the Spectra paper: https://doi.org/10.1101/2022.12.20.521311"
      ]
    },
    {
      "cell_type": "markdown",
      "metadata": {
        "id": "mU-oUalzsO-P"
      },
      "source": [
        "**Load the default dictionary**\n",
        "We used this dictionary to generate the results in the paper: https://doi.org/10.1101/2022.12.20.521311"
      ]
    },
    {
      "cell_type": "code",
      "execution_count": 5,
      "metadata": {
        "id": "X4QL5M0ax1rc"
      },
      "outputs": [],
      "source": [
        "#load the default gene set dictionary from the Spectra paper:\n",
        "annotations = spc_tl.get_default_dict()"
      ]
    },
    {
      "cell_type": "code",
      "execution_count": 6,
      "metadata": {
        "colab": {
          "base_uri": "https://localhost:8080/"
        },
        "id": "GLttFF8Lx3_3",
        "outputId": "f1d3b4cb-733b-48e7-b540-fc1abf95a911"
      },
      "outputs": [
        {
          "data": {
            "text/plain": [
              "['HDAC2',\n",
              " 'LEF1',\n",
              " 'CUL1',\n",
              " 'TP53',\n",
              " 'GNAI1',\n",
              " 'DLL1',\n",
              " 'SKP2',\n",
              " 'AXIN1',\n",
              " 'KAT2A',\n",
              " 'CSNK1E',\n",
              " 'MAML1',\n",
              " 'FZD8',\n",
              " 'NOTCH1',\n",
              " 'MYC',\n",
              " 'RBPJ',\n",
              " 'JAG2',\n",
              " 'PTCH1',\n",
              " 'PPARD',\n",
              " 'HDAC5',\n",
              " 'AXIN2',\n",
              " 'NUMB',\n",
              " 'PSEN2',\n",
              " 'NKD1',\n",
              " 'WNT1',\n",
              " 'TCF7',\n",
              " 'FRAT1',\n",
              " 'HDAC11',\n",
              " 'ADAM17',\n",
              " 'CCND2',\n",
              " 'HEY1',\n",
              " 'NCSTN',\n",
              " 'JAG1',\n",
              " 'DVL2',\n",
              " 'NOTCH4',\n",
              " 'NCOR2',\n",
              " 'TPTEP2-CSNK1E',\n",
              " 'FZD1',\n",
              " 'CTNNB1',\n",
              " 'DKK4',\n",
              " 'HEY2',\n",
              " 'WNT6',\n",
              " 'DKK1',\n",
              " 'WNT5B']"
            ]
          },
          "execution_count": 6,
          "metadata": {},
          "output_type": "execute_result"
        }
      ],
      "source": [
        "annotations[\"global\"][\"all_wnt-beta-catenin-signaling\"]"
      ]
    },
    {
      "cell_type": "markdown",
      "metadata": {
        "id": "MMXT036ZsanA"
      },
      "source": [
        "# Custom gene_set_dictionary"
      ]
    },
    {
      "cell_type": "markdown",
      "metadata": {
        "id": "k5IWVmNGsfH5"
      },
      "source": [
        "**Alternatively you can use Spectra with your custom gene set annotation dictionaries.**\n",
        "\n",
        "Cytopus Knowledge Base\n",
        "\n",
        "We supply the Cytopus knowledge base to construct custom input gene set dictionaries for Spectra. For a tutorial visit the github repository: https://github.com/wallet-maker/cytopus\n",
        "\n",
        "**External Databases**\n",
        "\n",
        "To obtain optimal results, we recommend using dedicated gene sets, like from the Cytopus database which are tailored to single cell RNA sequencing data (see Supplementary Methods for details https://doi.org/10.1101/2022.12.20.521311).\n",
        "\n",
        "However, Spectra can also use gene set annotation dictionaries from external databases if they can be provided in the format described above."
      ]
    },
    {
      "cell_type": "markdown",
      "metadata": {
        "id": "ktOGTojasldB"
      },
      "source": [
        "# Load adata"
      ]
    },
    {
      "attachments": {},
      "cell_type": "markdown",
      "metadata": {
        "id": "0kHJZhUOsn2C"
      },
      "source": [
        "In the Spectra paper we use a subsetted, anonymized, log1p-transformed (f(x) = ln(x+1), with x being the raw gene expression counts), and scran-normalized leukocyte single cell RNA sequencing data (https://doi.org/10.1101/2022.12.20.521311). While we recommend scran for leukocyte data, the method with log1p-transformed median library size normalized RNA sequencing data."
      ]
    },
    {
      "cell_type": "code",
      "execution_count": 7,
      "metadata": {
        "id": "75tKPam6yCoz"
      },
      "outputs": [],
      "source": [
        "#define data paths\n",
        "adata_path = '/content/spectra/data/sample_data.h5ad'#indicate where to find the gene expression AnnData object\n",
        "obs_key = 'cell_type_annotations' #indicat the column name for the dataframe in adata.obs where to find the cell type lab"
      ]
    },
    {
      "cell_type": "code",
      "execution_count": 8,
      "metadata": {
        "colab": {
          "base_uri": "https://localhost:8080/"
        },
        "id": "mdoNNI4XyHlk",
        "outputId": "e1f7d979-cf4b-4ae7-a89b-c3915a2bd671"
      },
      "outputs": [
        {
          "data": {
            "text/plain": [
              "AnnData object with n_obs × n_vars = 10000 × 6397\n",
              "    obs: 'cell_type_annotations'\n",
              "    var: 'n_cells_by_counts', 'highly_variable'\n",
              "    uns: 'annotation_SPADE_1_colors', 'cell_type_annotations_colors', 'diffmap_evals', 'draw_graph', 'hvg', 'neighbors', 'pca'\n",
              "    obsm: 'X_diffmap', 'X_draw_graph_fa', 'X_pca', 'X_tsne', 'X_umap'\n",
              "    varm: 'PCs'\n",
              "    obsp: 'connectivities', 'distances'"
            ]
          },
          "execution_count": 8,
          "metadata": {},
          "output_type": "execute_result"
        }
      ],
      "source": [
        "#load data\n",
        "adata = sc.read(adata_path)\n",
        "adata"
      ]
    },
    {
      "cell_type": "markdown",
      "metadata": {
        "id": "-oKda8X2sql-"
      },
      "source": [
        "**Important: The cell type labels have to match with the cell type labels in the gene set dictionary**"
      ]
    },
    {
      "cell_type": "code",
      "execution_count": 9,
      "metadata": {
        "colab": {
          "base_uri": "https://localhost:8080/"
        },
        "id": "PDOrKMD8yI_i",
        "outputId": "9ac56721-264c-4cd1-f91d-f57be5973cb2"
      },
      "outputs": [
        {
          "name": "stdout",
          "output_type": "stream",
          "text": [
            "Cell type labels in gene set annotation dictionary and AnnData object are identical\n",
            "Your gene set annotation dictionary is correctly formatted.\n"
          ]
        }
      ],
      "source": [
        "#filter gene set annotation dict for genes contained in adata\n",
        "annotations = check_gene_set_dictionary(adata, annotations, obs_key='cell_type_annotations',global_key='global')"
      ]
    },
    {
      "cell_type": "code",
      "execution_count": 10,
      "metadata": {
        "colab": {
          "base_uri": "https://localhost:8080/"
        },
        "id": "4FDWzBwXymHu",
        "outputId": "e1696f53-c9d0-4310-adf4-45bd9e5bdcea"
      },
      "outputs": [
        {
          "data": {
            "text/plain": [
              "['B_memory',\n",
              " 'MDC',\n",
              " 'mast',\n",
              " 'gdT',\n",
              " 'plasma',\n",
              " 'DC',\n",
              " 'ILC3',\n",
              " 'B_GC',\n",
              " 'Treg',\n",
              " 'pDC',\n",
              " 'CD8_T',\n",
              " 'B_naive',\n",
              " 'CD4_T',\n",
              " 'NK']"
            ]
          },
          "execution_count": 10,
          "metadata": {},
          "output_type": "execute_result"
        }
      ],
      "source": [
        "#cell type labels in adata\n",
        "list(set(adata.obs[obs_key]))"
      ]
    },
    {
      "cell_type": "code",
      "execution_count": 11,
      "metadata": {
        "colab": {
          "base_uri": "https://localhost:8080/"
        },
        "id": "lH4on6YRynsN",
        "outputId": "636dfa9a-0705-4cfb-d99a-ec019672a26c"
      },
      "outputs": [
        {
          "data": {
            "text/plain": [
              "['B_memory',\n",
              " 'MDC',\n",
              " 'mast',\n",
              " 'gdT',\n",
              " 'plasma',\n",
              " 'DC',\n",
              " 'global',\n",
              " 'ILC3',\n",
              " 'B_GC',\n",
              " 'Treg',\n",
              " 'pDC',\n",
              " 'CD8_T',\n",
              " 'B_naive',\n",
              " 'CD4_T',\n",
              " 'NK']"
            ]
          },
          "execution_count": 11,
          "metadata": {},
          "output_type": "execute_result"
        }
      ],
      "source": [
        "#cell type in gene set annotation dictionary\n",
        "list(set(annotations.keys()))"
      ]
    },
    {
      "cell_type": "markdown",
      "metadata": {
        "id": "bSKFHS3rs8ae"
      },
      "source": [
        "**if labels do not match adjust the labels either in adata or in annotations**"
      ]
    },
    {
      "cell_type": "markdown",
      "metadata": {
        "id": "D5EvurEfs2aL"
      },
      "source": [
        "For example define and map a dictionary mapping the annotations in the adata object to the keys in the gene set annotations dictionary or vice versa. **Note that if you have a cell type in your adata for which you do not have any gene sets in your gene set annotation dictionary you must include an empty dictionary under that cell type key.** Afterwards confirm that the matching has worked:"
      ]
    },
    {
      "cell_type": "code",
      "execution_count": 12,
      "metadata": {
        "colab": {
          "base_uri": "https://localhost:8080/"
        },
        "id": "DNY50iPdyo_5",
        "outputId": "51c8d1f3-2587-4593-aff0-f13a55ed570a"
      },
      "outputs": [
        {
          "name": "stdout",
          "output_type": "stream",
          "text": [
            "Cell type labels in gene set annotation dictionary and AnnData object are identical\n",
            "Your gene set annotation dictionary is correctly formatted.\n"
          ]
        }
      ],
      "source": [
        "#filter gene set annotation dict for genes contained in adata\n",
        "annotations = check_gene_set_dictionary(adata, annotations, obs_key='cell_type_annotations',global_key='global')"
      ]
    },
    {
      "cell_type": "markdown",
      "metadata": {
        "id": "u3-E0Hsstt2L"
      },
      "source": [
        "# Fit Spectra model"
      ]
    },
    {
      "attachments": {},
      "cell_type": "markdown",
      "metadata": {
        "id": "q-G3dGLPtp8P"
      },
      "source": [
        "**General comments**\n",
        "\n",
        "We start by importing spectra. The easiest way to run spectra is to use the `est_spectra` function in the `spectra` module, as shown below. The default behavior is to set the number of factors equal to the number of gene sets plus one. However, this can be modified by passing an integer e.g. `L = 20` as an argument to the function or a dictionary that maps cell type to an integer per cell type. We provide a method for estimating the number of factors directly from the data by bulk eigenvalue matching analysis, which is detailed further below. \n",
        "\n",
        "**Computational comments**\n",
        "\n",
        "Spectra is memory and cpu intensive.\n",
        "\n",
        "The here-provided dataset can be run on most computers. For bigger datasets you want to run this in non-interactive mode, as runtime can be 1-2 days for a dataset of ca 200,000 cells with 250 factors and 10 cell types. Run time scales linearly with the number of cell types in your data.\n",
        "\n",
        "An example hardware you could run a 200,000 cell, 10 cell type, 250 factor dataset on would be:\n",
        "\n",
        "16 cpus Intel Xeon Gold 256 GB RAM\n",
        "\n",
        "**Parameters**\n",
        "\n",
        "`adata` : AnnData object containing cell_type_key with log count data stored in .X\n",
        "\n",
        "`gene_set_dictionary`:dict or OrderedDict() maps cell types to gene set names to gene sets ; if use_cell_types == False then maps gene set names to gene sets ; must contain \"global\" key in addition to every unique cell type under .obs.<cell_type_key>\n",
        "\n",
        "`L`: dict, OrderedDict(), int , NoneType number of factors per cell type ; if use_cell_types == False then int. Else dictionary. If None then match factors to number of gene sets (recommended)\n",
        "\n",
        "`use_highly_variable` : bool if True, then uses highly_variable_genes\n",
        "\n",
        "`cell_type_key`: str cell type key, must be under adata.obs.<cell_type_key> . If use_cell_types == False, this is ignored\n",
        "\n",
        "`use_weights`: bool if True, edge weights are estimated based on graph structure and used throughout training\n",
        "\n",
        "`lam`: float lambda parameter of the model. weighs relative contribution of graph and expression loss functions\n",
        "\n",
        "`delta`: float delta parameter of the model. lower bounds possible gene scaling factors so that maximum ratio of gene scalings cannot be too large\n",
        "\n",
        "`kappa`: float or None if None, estimate background rate of 1s in the graph from data\n",
        "\n",
        "`rho`: float or None if None, estimate background rate of 0s in the graph from data\n",
        "\n",
        "`use_cell_types` : bool if True then cell type label is used to fit cell type specific factors. If false then cell types are ignored\n",
        "\n",
        "`n_top_vals` : int number of top markers to return in markers dataframe\n",
        "\n",
        "`determinant_penalty` : float determinant penalty of the attention mechanism. If set higher than 0 then sparse solutions of the attention weights and diverse attention weights are encouraged. However, tuning is crucial as setting too high reduces the selection accuracy because convergence to a hard selection occurs early during training [todo: annealing strategy]\n",
        "\n",
        "`filter_sets` : bool whether to filter the gene sets based on coherence\n",
        "\n",
        "`label_factors` : bool whether to label the factors by their cell type specificity and their Szymkiewicz–Simpson overlap coefficient with the input marker genes\n",
        "\n",
        "`overlap_threshold`: float minimum overlap coefficient to assign an input gene set label to a factor\n",
        "\n",
        "``**kwargs`` : (num_epochs = 10000, lr_schedule = [...], verbose = False) arguments to .train(), maximum number of training epochs, learning rate schedule and whether to print changes in learning rate\n",
        "\n",
        "**Returns**: SPECTRA_Model object [after training]\n",
        "\n",
        "**In place**: adds 1. factors, 2. cell scores, 3. vocabulary, and 4. markers as attributes in .obsm, .var, .uns\n",
        "\n",
        "**default parameters:** `est_spectra(adata, gene_set_dictionary, L = None,use_highly_variable = True, cell_type_key = None, use_weights = True, lam = 0.008, delta=0.001,kappa = None, rho = 0.05, use_cell_types = True, n_top_vals = 50, \n",
        "filter_sets = True, label_factors=True, overlap_threshold= 0.2, **kwargs)`\n",
        "\n"
      ]
    },
    {
      "cell_type": "markdown",
      "metadata": {
        "id": "zKETp-2LtmAs"
      },
      "source": [
        "**fit model with cell type annotations**\n",
        "\n",
        "Running Spectra with the cell type annotations will give you both global and cell type specific factors."
      ]
    },
    {
      "cell_type": "code",
      "execution_count": 13,
      "metadata": {
        "colab": {
          "base_uri": "https://localhost:8080/"
        },
        "id": "6XDuS4eoopXS",
        "outputId": "c604731b-0517-4f60-927d-dab12bd8fdf7"
      },
      "outputs": [
        {
          "name": "stderr",
          "output_type": "stream",
          "text": [
            "100%|██████████| 2/2 [01:06<00:00, 33.42s/it]\n"
          ]
        }
      ],
      "source": [
        "#fit the model (We will run this with only 2 epochs to decrease runtime in this tutorial)\n",
        "model = spc.est_spectra(adata = adata, gene_set_dictionary = annotations, \n",
        "                        use_highly_variable = True, cell_type_key = \"cell_type_annotations\", \n",
        "                        use_weights = True, lam = 0.1, \n",
        "                        delta=0.001,kappa = 0.00001, rho = 0.00001, \n",
        "                        use_cell_types = True, n_top_vals = 25, \n",
        "                        label_factors = True, #whether to label the factors by their overlap coefficient with the input gene sets\n",
        "                        overlap_threshold = 0.2, #minimum overlap coefficient that has to be surpassed to assign a label to a factor\n",
        "                        num_epochs=2 #for demonstration purposes we will only run 2 epochs, we recommend 10,000 epochs\n",
        "                       )"
      ]
    },
    {
      "attachments": {},
      "cell_type": "markdown",
      "metadata": {},
      "source": [
        "## Accessing quantities stored in AnnData"
      ]
    },
    {
      "cell_type": "markdown",
      "metadata": {},
      "source": [
        "This function stores four important quantities in the AnnData, in addition to returning a fitted model object. *Factors* are the scores that tell you how much each gene contributes to each factor:"
      ]
    },
    {
      "cell_type": "code",
      "execution_count": 14,
      "metadata": {},
      "outputs": [
        {
          "data": {
            "text/plain": [
              "array([[1.46763930e-13, 3.02316598e-12, 6.56712122e-13, ...,\n",
              "        1.19592067e-14, 5.21537793e-14, 3.19914758e-12],\n",
              "       [1.39794663e-13, 2.53434189e-12, 2.49730440e-13, ...,\n",
              "        6.04096513e-15, 8.39639242e-14, 2.77452426e-13],\n",
              "       [9.54146255e-14, 1.91405804e-12, 2.28634316e-12, ...,\n",
              "        5.69561856e-15, 1.48162810e-13, 2.80528663e-13],\n",
              "       ...,\n",
              "       [1.97218086e-12, 8.80132631e-13, 2.18658333e-12, ...,\n",
              "        1.32999927e-13, 3.98656740e-12, 3.30202537e-13],\n",
              "       [7.79087303e-02, 5.03682468e-02, 1.03155950e-01, ...,\n",
              "        6.62231060e-03, 1.16777640e-01, 2.02912971e-02],\n",
              "       [1.00805895e-02, 8.22460284e-02, 4.20985527e-02, ...,\n",
              "        1.26262846e-02, 4.59279689e-02, 3.10441310e-02]])"
            ]
          },
          "execution_count": 14,
          "metadata": {},
          "output_type": "execute_result"
        }
      ],
      "source": [
        "#find the factors under adata.uns['SPECTRA_factors'] \n",
        "adata.uns['SPECTRA_factors']"
      ]
    },
    {
      "cell_type": "code",
      "execution_count": 15,
      "metadata": {},
      "outputs": [
        {
          "data": {
            "text/html": [
              "<div>\n",
              "<style scoped>\n",
              "    .dataframe tbody tr th:only-of-type {\n",
              "        vertical-align: middle;\n",
              "    }\n",
              "\n",
              "    .dataframe tbody tr th {\n",
              "        vertical-align: top;\n",
              "    }\n",
              "\n",
              "    .dataframe thead th {\n",
              "        text-align: right;\n",
              "    }\n",
              "</style>\n",
              "<table border=\"1\" class=\"dataframe\">\n",
              "  <thead>\n",
              "    <tr style=\"text-align: right;\">\n",
              "      <th></th>\n",
              "      <th>KCNC3</th>\n",
              "      <th>NDUFS3</th>\n",
              "      <th>HACD1</th>\n",
              "      <th>FAM214A</th>\n",
              "      <th>TBCD</th>\n",
              "      <th>AC124312.1</th>\n",
              "      <th>PLAGL2</th>\n",
              "      <th>CD40LG</th>\n",
              "      <th>AC022182.1</th>\n",
              "      <th>USP53</th>\n",
              "      <th>...</th>\n",
              "      <th>CCL3L1</th>\n",
              "      <th>BAG3</th>\n",
              "      <th>CDC42EP3</th>\n",
              "      <th>TRAM1</th>\n",
              "      <th>RANBP1</th>\n",
              "      <th>FDFT1</th>\n",
              "      <th>HACD4</th>\n",
              "      <th>FCGR3A</th>\n",
              "      <th>AZGP1</th>\n",
              "      <th>SLC35A1</th>\n",
              "    </tr>\n",
              "  </thead>\n",
              "  <tbody>\n",
              "    <tr>\n",
              "      <th>0-X-global-X-all_biotin_metabolism</th>\n",
              "      <td>1.467639e-13</td>\n",
              "      <td>3.023166e-12</td>\n",
              "      <td>6.567121e-13</td>\n",
              "      <td>1.994192e-13</td>\n",
              "      <td>1.053033e-11</td>\n",
              "      <td>1.348244e-15</td>\n",
              "      <td>9.999986e-14</td>\n",
              "      <td>8.325358e-15</td>\n",
              "      <td>8.888970e-14</td>\n",
              "      <td>7.653008e-14</td>\n",
              "      <td>...</td>\n",
              "      <td>8.071157e-14</td>\n",
              "      <td>5.686769e-14</td>\n",
              "      <td>1.304602e-13</td>\n",
              "      <td>1.094678e-13</td>\n",
              "      <td>2.574962e-13</td>\n",
              "      <td>2.661113e-13</td>\n",
              "      <td>3.852637e-13</td>\n",
              "      <td>1.195921e-14</td>\n",
              "      <td>5.215378e-14</td>\n",
              "      <td>3.199148e-12</td>\n",
              "    </tr>\n",
              "    <tr>\n",
              "      <th>1-X-global-X-all_purine_synthesis</th>\n",
              "      <td>1.397947e-13</td>\n",
              "      <td>2.534342e-12</td>\n",
              "      <td>2.497304e-13</td>\n",
              "      <td>8.407330e-14</td>\n",
              "      <td>9.247210e-12</td>\n",
              "      <td>1.260173e-14</td>\n",
              "      <td>8.310259e-14</td>\n",
              "      <td>1.828678e-15</td>\n",
              "      <td>6.691382e-14</td>\n",
              "      <td>4.430539e-14</td>\n",
              "      <td>...</td>\n",
              "      <td>4.510400e-14</td>\n",
              "      <td>1.900090e-14</td>\n",
              "      <td>1.311408e-13</td>\n",
              "      <td>4.336700e-14</td>\n",
              "      <td>4.521572e-12</td>\n",
              "      <td>1.819289e-13</td>\n",
              "      <td>1.070487e-11</td>\n",
              "      <td>6.040965e-15</td>\n",
              "      <td>8.396392e-14</td>\n",
              "      <td>2.774524e-13</td>\n",
              "    </tr>\n",
              "    <tr>\n",
              "      <th>2-X-global-X-all_ethanol_metabolism</th>\n",
              "      <td>9.541463e-14</td>\n",
              "      <td>1.914058e-12</td>\n",
              "      <td>2.286343e-12</td>\n",
              "      <td>5.410196e-14</td>\n",
              "      <td>5.388739e-12</td>\n",
              "      <td>4.431687e-15</td>\n",
              "      <td>1.641615e-13</td>\n",
              "      <td>2.797708e-15</td>\n",
              "      <td>3.942285e-13</td>\n",
              "      <td>2.017965e-13</td>\n",
              "      <td>...</td>\n",
              "      <td>8.368426e-14</td>\n",
              "      <td>1.106399e-14</td>\n",
              "      <td>8.277085e-14</td>\n",
              "      <td>7.939226e-14</td>\n",
              "      <td>3.192680e-11</td>\n",
              "      <td>5.485760e-14</td>\n",
              "      <td>3.058279e-13</td>\n",
              "      <td>5.695619e-15</td>\n",
              "      <td>1.481628e-13</td>\n",
              "      <td>2.805287e-13</td>\n",
              "    </tr>\n",
              "    <tr>\n",
              "      <th>3-X-global-X-all_amino-sugar-nucleotide-sugar_metabolism</th>\n",
              "      <td>2.450634e-13</td>\n",
              "      <td>1.706948e-11</td>\n",
              "      <td>2.246515e-14</td>\n",
              "      <td>1.405620e-13</td>\n",
              "      <td>1.007652e-11</td>\n",
              "      <td>4.638083e-15</td>\n",
              "      <td>7.572771e-14</td>\n",
              "      <td>1.997145e-15</td>\n",
              "      <td>2.537845e-13</td>\n",
              "      <td>1.805716e-14</td>\n",
              "      <td>...</td>\n",
              "      <td>2.833720e-13</td>\n",
              "      <td>4.568297e-14</td>\n",
              "      <td>1.036697e-13</td>\n",
              "      <td>2.034715e-14</td>\n",
              "      <td>3.140178e-12</td>\n",
              "      <td>2.245592e-14</td>\n",
              "      <td>9.428382e-12</td>\n",
              "      <td>2.443180e-14</td>\n",
              "      <td>8.068420e-14</td>\n",
              "      <td>2.034088e-12</td>\n",
              "    </tr>\n",
              "    <tr>\n",
              "      <th>4-X-global-X-all_steroid_metabolism</th>\n",
              "      <td>1.486807e-13</td>\n",
              "      <td>6.334979e-13</td>\n",
              "      <td>6.574465e-13</td>\n",
              "      <td>1.198134e-13</td>\n",
              "      <td>2.146484e-11</td>\n",
              "      <td>1.793154e-15</td>\n",
              "      <td>7.394527e-14</td>\n",
              "      <td>1.824567e-15</td>\n",
              "      <td>1.278226e-13</td>\n",
              "      <td>1.095039e-13</td>\n",
              "      <td>...</td>\n",
              "      <td>8.948418e-14</td>\n",
              "      <td>2.269785e-14</td>\n",
              "      <td>1.652916e-13</td>\n",
              "      <td>3.074348e-14</td>\n",
              "      <td>1.619636e-11</td>\n",
              "      <td>1.655874e-03</td>\n",
              "      <td>2.649236e-12</td>\n",
              "      <td>2.004101e-14</td>\n",
              "      <td>4.002548e-13</td>\n",
              "      <td>2.290511e-14</td>\n",
              "    </tr>\n",
              "    <tr>\n",
              "      <th>...</th>\n",
              "      <td>...</td>\n",
              "      <td>...</td>\n",
              "      <td>...</td>\n",
              "      <td>...</td>\n",
              "      <td>...</td>\n",
              "      <td>...</td>\n",
              "      <td>...</td>\n",
              "      <td>...</td>\n",
              "      <td>...</td>\n",
              "      <td>...</td>\n",
              "      <td>...</td>\n",
              "      <td>...</td>\n",
              "      <td>...</td>\n",
              "      <td>...</td>\n",
              "      <td>...</td>\n",
              "      <td>...</td>\n",
              "      <td>...</td>\n",
              "      <td>...</td>\n",
              "      <td>...</td>\n",
              "      <td>...</td>\n",
              "      <td>...</td>\n",
              "    </tr>\n",
              "    <tr>\n",
              "      <th>191-X-mast-X-mast_granule-exocytosis</th>\n",
              "      <td>2.055665e-12</td>\n",
              "      <td>1.646471e-13</td>\n",
              "      <td>3.174963e-12</td>\n",
              "      <td>2.821401e-13</td>\n",
              "      <td>1.252176e-12</td>\n",
              "      <td>6.957668e-13</td>\n",
              "      <td>2.120649e-12</td>\n",
              "      <td>7.050528e-13</td>\n",
              "      <td>8.743824e-13</td>\n",
              "      <td>5.159894e-13</td>\n",
              "      <td>...</td>\n",
              "      <td>1.175350e-11</td>\n",
              "      <td>1.176845e-12</td>\n",
              "      <td>2.993193e-12</td>\n",
              "      <td>3.555552e-12</td>\n",
              "      <td>4.563198e-14</td>\n",
              "      <td>7.174543e-13</td>\n",
              "      <td>1.656011e-13</td>\n",
              "      <td>1.859545e-13</td>\n",
              "      <td>2.949447e-13</td>\n",
              "      <td>1.258455e-12</td>\n",
              "    </tr>\n",
              "    <tr>\n",
              "      <th>192-X-mast-X-192</th>\n",
              "      <td>9.340788e-02</td>\n",
              "      <td>1.477115e-02</td>\n",
              "      <td>4.008080e-02</td>\n",
              "      <td>1.778360e-02</td>\n",
              "      <td>1.039477e-01</td>\n",
              "      <td>5.480931e-02</td>\n",
              "      <td>4.301913e-02</td>\n",
              "      <td>5.784503e-02</td>\n",
              "      <td>2.896835e-02</td>\n",
              "      <td>2.987405e-02</td>\n",
              "      <td>...</td>\n",
              "      <td>6.087860e-02</td>\n",
              "      <td>2.692560e-02</td>\n",
              "      <td>2.989682e-02</td>\n",
              "      <td>6.882333e-02</td>\n",
              "      <td>1.725068e-02</td>\n",
              "      <td>1.034069e-01</td>\n",
              "      <td>1.670691e-02</td>\n",
              "      <td>1.655848e-02</td>\n",
              "      <td>2.302945e-02</td>\n",
              "      <td>4.559482e-02</td>\n",
              "    </tr>\n",
              "    <tr>\n",
              "      <th>193-X-pDC-X-p-DC_CpG-TLR9_response</th>\n",
              "      <td>1.972181e-12</td>\n",
              "      <td>8.801326e-13</td>\n",
              "      <td>2.186583e-12</td>\n",
              "      <td>1.366527e-13</td>\n",
              "      <td>1.163595e-13</td>\n",
              "      <td>1.944548e-12</td>\n",
              "      <td>7.861504e-13</td>\n",
              "      <td>2.369894e-13</td>\n",
              "      <td>1.077471e-12</td>\n",
              "      <td>8.027307e-13</td>\n",
              "      <td>...</td>\n",
              "      <td>4.295284e-13</td>\n",
              "      <td>3.989906e-14</td>\n",
              "      <td>2.334492e-12</td>\n",
              "      <td>9.020897e-12</td>\n",
              "      <td>4.962003e-12</td>\n",
              "      <td>7.945611e-14</td>\n",
              "      <td>1.229106e-13</td>\n",
              "      <td>1.329999e-13</td>\n",
              "      <td>3.986567e-12</td>\n",
              "      <td>3.302025e-13</td>\n",
              "    </tr>\n",
              "    <tr>\n",
              "      <th>194-X-pDC-X-194</th>\n",
              "      <td>7.790873e-02</td>\n",
              "      <td>5.036825e-02</td>\n",
              "      <td>1.031559e-01</td>\n",
              "      <td>2.800084e-02</td>\n",
              "      <td>2.468839e-02</td>\n",
              "      <td>3.861215e-02</td>\n",
              "      <td>3.140754e-02</td>\n",
              "      <td>5.958754e-02</td>\n",
              "      <td>7.836380e-02</td>\n",
              "      <td>1.920855e-02</td>\n",
              "      <td>...</td>\n",
              "      <td>4.148903e-02</td>\n",
              "      <td>2.239532e-02</td>\n",
              "      <td>9.150897e-02</td>\n",
              "      <td>8.759623e-02</td>\n",
              "      <td>9.975566e-02</td>\n",
              "      <td>4.897925e-02</td>\n",
              "      <td>1.002546e-01</td>\n",
              "      <td>6.622311e-03</td>\n",
              "      <td>1.167776e-01</td>\n",
              "      <td>2.029130e-02</td>\n",
              "    </tr>\n",
              "    <tr>\n",
              "      <th>195-X-plasma-X-195</th>\n",
              "      <td>1.008059e-02</td>\n",
              "      <td>8.224603e-02</td>\n",
              "      <td>4.209855e-02</td>\n",
              "      <td>3.695289e-02</td>\n",
              "      <td>3.387413e-02</td>\n",
              "      <td>5.180724e-03</td>\n",
              "      <td>1.264711e-02</td>\n",
              "      <td>9.907738e-03</td>\n",
              "      <td>2.899133e-02</td>\n",
              "      <td>9.066285e-02</td>\n",
              "      <td>...</td>\n",
              "      <td>1.114684e-01</td>\n",
              "      <td>4.473886e-02</td>\n",
              "      <td>5.179585e-02</td>\n",
              "      <td>1.479542e-01</td>\n",
              "      <td>1.165868e-02</td>\n",
              "      <td>2.861395e-02</td>\n",
              "      <td>9.293150e-02</td>\n",
              "      <td>1.262628e-02</td>\n",
              "      <td>4.592797e-02</td>\n",
              "      <td>3.104413e-02</td>\n",
              "    </tr>\n",
              "  </tbody>\n",
              "</table>\n",
              "<p>196 rows × 6392 columns</p>\n",
              "</div>"
            ],
            "text/plain": [
              "                                                           KCNC3   \n",
              "0-X-global-X-all_biotin_metabolism                  1.467639e-13  \\\n",
              "1-X-global-X-all_purine_synthesis                   1.397947e-13   \n",
              "2-X-global-X-all_ethanol_metabolism                 9.541463e-14   \n",
              "3-X-global-X-all_amino-sugar-nucleotide-sugar_m...  2.450634e-13   \n",
              "4-X-global-X-all_steroid_metabolism                 1.486807e-13   \n",
              "...                                                          ...   \n",
              "191-X-mast-X-mast_granule-exocytosis                2.055665e-12   \n",
              "192-X-mast-X-192                                    9.340788e-02   \n",
              "193-X-pDC-X-p-DC_CpG-TLR9_response                  1.972181e-12   \n",
              "194-X-pDC-X-194                                     7.790873e-02   \n",
              "195-X-plasma-X-195                                  1.008059e-02   \n",
              "\n",
              "                                                          NDUFS3   \n",
              "0-X-global-X-all_biotin_metabolism                  3.023166e-12  \\\n",
              "1-X-global-X-all_purine_synthesis                   2.534342e-12   \n",
              "2-X-global-X-all_ethanol_metabolism                 1.914058e-12   \n",
              "3-X-global-X-all_amino-sugar-nucleotide-sugar_m...  1.706948e-11   \n",
              "4-X-global-X-all_steroid_metabolism                 6.334979e-13   \n",
              "...                                                          ...   \n",
              "191-X-mast-X-mast_granule-exocytosis                1.646471e-13   \n",
              "192-X-mast-X-192                                    1.477115e-02   \n",
              "193-X-pDC-X-p-DC_CpG-TLR9_response                  8.801326e-13   \n",
              "194-X-pDC-X-194                                     5.036825e-02   \n",
              "195-X-plasma-X-195                                  8.224603e-02   \n",
              "\n",
              "                                                           HACD1   \n",
              "0-X-global-X-all_biotin_metabolism                  6.567121e-13  \\\n",
              "1-X-global-X-all_purine_synthesis                   2.497304e-13   \n",
              "2-X-global-X-all_ethanol_metabolism                 2.286343e-12   \n",
              "3-X-global-X-all_amino-sugar-nucleotide-sugar_m...  2.246515e-14   \n",
              "4-X-global-X-all_steroid_metabolism                 6.574465e-13   \n",
              "...                                                          ...   \n",
              "191-X-mast-X-mast_granule-exocytosis                3.174963e-12   \n",
              "192-X-mast-X-192                                    4.008080e-02   \n",
              "193-X-pDC-X-p-DC_CpG-TLR9_response                  2.186583e-12   \n",
              "194-X-pDC-X-194                                     1.031559e-01   \n",
              "195-X-plasma-X-195                                  4.209855e-02   \n",
              "\n",
              "                                                         FAM214A   \n",
              "0-X-global-X-all_biotin_metabolism                  1.994192e-13  \\\n",
              "1-X-global-X-all_purine_synthesis                   8.407330e-14   \n",
              "2-X-global-X-all_ethanol_metabolism                 5.410196e-14   \n",
              "3-X-global-X-all_amino-sugar-nucleotide-sugar_m...  1.405620e-13   \n",
              "4-X-global-X-all_steroid_metabolism                 1.198134e-13   \n",
              "...                                                          ...   \n",
              "191-X-mast-X-mast_granule-exocytosis                2.821401e-13   \n",
              "192-X-mast-X-192                                    1.778360e-02   \n",
              "193-X-pDC-X-p-DC_CpG-TLR9_response                  1.366527e-13   \n",
              "194-X-pDC-X-194                                     2.800084e-02   \n",
              "195-X-plasma-X-195                                  3.695289e-02   \n",
              "\n",
              "                                                            TBCD   \n",
              "0-X-global-X-all_biotin_metabolism                  1.053033e-11  \\\n",
              "1-X-global-X-all_purine_synthesis                   9.247210e-12   \n",
              "2-X-global-X-all_ethanol_metabolism                 5.388739e-12   \n",
              "3-X-global-X-all_amino-sugar-nucleotide-sugar_m...  1.007652e-11   \n",
              "4-X-global-X-all_steroid_metabolism                 2.146484e-11   \n",
              "...                                                          ...   \n",
              "191-X-mast-X-mast_granule-exocytosis                1.252176e-12   \n",
              "192-X-mast-X-192                                    1.039477e-01   \n",
              "193-X-pDC-X-p-DC_CpG-TLR9_response                  1.163595e-13   \n",
              "194-X-pDC-X-194                                     2.468839e-02   \n",
              "195-X-plasma-X-195                                  3.387413e-02   \n",
              "\n",
              "                                                      AC124312.1   \n",
              "0-X-global-X-all_biotin_metabolism                  1.348244e-15  \\\n",
              "1-X-global-X-all_purine_synthesis                   1.260173e-14   \n",
              "2-X-global-X-all_ethanol_metabolism                 4.431687e-15   \n",
              "3-X-global-X-all_amino-sugar-nucleotide-sugar_m...  4.638083e-15   \n",
              "4-X-global-X-all_steroid_metabolism                 1.793154e-15   \n",
              "...                                                          ...   \n",
              "191-X-mast-X-mast_granule-exocytosis                6.957668e-13   \n",
              "192-X-mast-X-192                                    5.480931e-02   \n",
              "193-X-pDC-X-p-DC_CpG-TLR9_response                  1.944548e-12   \n",
              "194-X-pDC-X-194                                     3.861215e-02   \n",
              "195-X-plasma-X-195                                  5.180724e-03   \n",
              "\n",
              "                                                          PLAGL2   \n",
              "0-X-global-X-all_biotin_metabolism                  9.999986e-14  \\\n",
              "1-X-global-X-all_purine_synthesis                   8.310259e-14   \n",
              "2-X-global-X-all_ethanol_metabolism                 1.641615e-13   \n",
              "3-X-global-X-all_amino-sugar-nucleotide-sugar_m...  7.572771e-14   \n",
              "4-X-global-X-all_steroid_metabolism                 7.394527e-14   \n",
              "...                                                          ...   \n",
              "191-X-mast-X-mast_granule-exocytosis                2.120649e-12   \n",
              "192-X-mast-X-192                                    4.301913e-02   \n",
              "193-X-pDC-X-p-DC_CpG-TLR9_response                  7.861504e-13   \n",
              "194-X-pDC-X-194                                     3.140754e-02   \n",
              "195-X-plasma-X-195                                  1.264711e-02   \n",
              "\n",
              "                                                          CD40LG   \n",
              "0-X-global-X-all_biotin_metabolism                  8.325358e-15  \\\n",
              "1-X-global-X-all_purine_synthesis                   1.828678e-15   \n",
              "2-X-global-X-all_ethanol_metabolism                 2.797708e-15   \n",
              "3-X-global-X-all_amino-sugar-nucleotide-sugar_m...  1.997145e-15   \n",
              "4-X-global-X-all_steroid_metabolism                 1.824567e-15   \n",
              "...                                                          ...   \n",
              "191-X-mast-X-mast_granule-exocytosis                7.050528e-13   \n",
              "192-X-mast-X-192                                    5.784503e-02   \n",
              "193-X-pDC-X-p-DC_CpG-TLR9_response                  2.369894e-13   \n",
              "194-X-pDC-X-194                                     5.958754e-02   \n",
              "195-X-plasma-X-195                                  9.907738e-03   \n",
              "\n",
              "                                                      AC022182.1   \n",
              "0-X-global-X-all_biotin_metabolism                  8.888970e-14  \\\n",
              "1-X-global-X-all_purine_synthesis                   6.691382e-14   \n",
              "2-X-global-X-all_ethanol_metabolism                 3.942285e-13   \n",
              "3-X-global-X-all_amino-sugar-nucleotide-sugar_m...  2.537845e-13   \n",
              "4-X-global-X-all_steroid_metabolism                 1.278226e-13   \n",
              "...                                                          ...   \n",
              "191-X-mast-X-mast_granule-exocytosis                8.743824e-13   \n",
              "192-X-mast-X-192                                    2.896835e-02   \n",
              "193-X-pDC-X-p-DC_CpG-TLR9_response                  1.077471e-12   \n",
              "194-X-pDC-X-194                                     7.836380e-02   \n",
              "195-X-plasma-X-195                                  2.899133e-02   \n",
              "\n",
              "                                                           USP53  ...   \n",
              "0-X-global-X-all_biotin_metabolism                  7.653008e-14  ...  \\\n",
              "1-X-global-X-all_purine_synthesis                   4.430539e-14  ...   \n",
              "2-X-global-X-all_ethanol_metabolism                 2.017965e-13  ...   \n",
              "3-X-global-X-all_amino-sugar-nucleotide-sugar_m...  1.805716e-14  ...   \n",
              "4-X-global-X-all_steroid_metabolism                 1.095039e-13  ...   \n",
              "...                                                          ...  ...   \n",
              "191-X-mast-X-mast_granule-exocytosis                5.159894e-13  ...   \n",
              "192-X-mast-X-192                                    2.987405e-02  ...   \n",
              "193-X-pDC-X-p-DC_CpG-TLR9_response                  8.027307e-13  ...   \n",
              "194-X-pDC-X-194                                     1.920855e-02  ...   \n",
              "195-X-plasma-X-195                                  9.066285e-02  ...   \n",
              "\n",
              "                                                          CCL3L1   \n",
              "0-X-global-X-all_biotin_metabolism                  8.071157e-14  \\\n",
              "1-X-global-X-all_purine_synthesis                   4.510400e-14   \n",
              "2-X-global-X-all_ethanol_metabolism                 8.368426e-14   \n",
              "3-X-global-X-all_amino-sugar-nucleotide-sugar_m...  2.833720e-13   \n",
              "4-X-global-X-all_steroid_metabolism                 8.948418e-14   \n",
              "...                                                          ...   \n",
              "191-X-mast-X-mast_granule-exocytosis                1.175350e-11   \n",
              "192-X-mast-X-192                                    6.087860e-02   \n",
              "193-X-pDC-X-p-DC_CpG-TLR9_response                  4.295284e-13   \n",
              "194-X-pDC-X-194                                     4.148903e-02   \n",
              "195-X-plasma-X-195                                  1.114684e-01   \n",
              "\n",
              "                                                            BAG3   \n",
              "0-X-global-X-all_biotin_metabolism                  5.686769e-14  \\\n",
              "1-X-global-X-all_purine_synthesis                   1.900090e-14   \n",
              "2-X-global-X-all_ethanol_metabolism                 1.106399e-14   \n",
              "3-X-global-X-all_amino-sugar-nucleotide-sugar_m...  4.568297e-14   \n",
              "4-X-global-X-all_steroid_metabolism                 2.269785e-14   \n",
              "...                                                          ...   \n",
              "191-X-mast-X-mast_granule-exocytosis                1.176845e-12   \n",
              "192-X-mast-X-192                                    2.692560e-02   \n",
              "193-X-pDC-X-p-DC_CpG-TLR9_response                  3.989906e-14   \n",
              "194-X-pDC-X-194                                     2.239532e-02   \n",
              "195-X-plasma-X-195                                  4.473886e-02   \n",
              "\n",
              "                                                        CDC42EP3   \n",
              "0-X-global-X-all_biotin_metabolism                  1.304602e-13  \\\n",
              "1-X-global-X-all_purine_synthesis                   1.311408e-13   \n",
              "2-X-global-X-all_ethanol_metabolism                 8.277085e-14   \n",
              "3-X-global-X-all_amino-sugar-nucleotide-sugar_m...  1.036697e-13   \n",
              "4-X-global-X-all_steroid_metabolism                 1.652916e-13   \n",
              "...                                                          ...   \n",
              "191-X-mast-X-mast_granule-exocytosis                2.993193e-12   \n",
              "192-X-mast-X-192                                    2.989682e-02   \n",
              "193-X-pDC-X-p-DC_CpG-TLR9_response                  2.334492e-12   \n",
              "194-X-pDC-X-194                                     9.150897e-02   \n",
              "195-X-plasma-X-195                                  5.179585e-02   \n",
              "\n",
              "                                                           TRAM1   \n",
              "0-X-global-X-all_biotin_metabolism                  1.094678e-13  \\\n",
              "1-X-global-X-all_purine_synthesis                   4.336700e-14   \n",
              "2-X-global-X-all_ethanol_metabolism                 7.939226e-14   \n",
              "3-X-global-X-all_amino-sugar-nucleotide-sugar_m...  2.034715e-14   \n",
              "4-X-global-X-all_steroid_metabolism                 3.074348e-14   \n",
              "...                                                          ...   \n",
              "191-X-mast-X-mast_granule-exocytosis                3.555552e-12   \n",
              "192-X-mast-X-192                                    6.882333e-02   \n",
              "193-X-pDC-X-p-DC_CpG-TLR9_response                  9.020897e-12   \n",
              "194-X-pDC-X-194                                     8.759623e-02   \n",
              "195-X-plasma-X-195                                  1.479542e-01   \n",
              "\n",
              "                                                          RANBP1   \n",
              "0-X-global-X-all_biotin_metabolism                  2.574962e-13  \\\n",
              "1-X-global-X-all_purine_synthesis                   4.521572e-12   \n",
              "2-X-global-X-all_ethanol_metabolism                 3.192680e-11   \n",
              "3-X-global-X-all_amino-sugar-nucleotide-sugar_m...  3.140178e-12   \n",
              "4-X-global-X-all_steroid_metabolism                 1.619636e-11   \n",
              "...                                                          ...   \n",
              "191-X-mast-X-mast_granule-exocytosis                4.563198e-14   \n",
              "192-X-mast-X-192                                    1.725068e-02   \n",
              "193-X-pDC-X-p-DC_CpG-TLR9_response                  4.962003e-12   \n",
              "194-X-pDC-X-194                                     9.975566e-02   \n",
              "195-X-plasma-X-195                                  1.165868e-02   \n",
              "\n",
              "                                                           FDFT1   \n",
              "0-X-global-X-all_biotin_metabolism                  2.661113e-13  \\\n",
              "1-X-global-X-all_purine_synthesis                   1.819289e-13   \n",
              "2-X-global-X-all_ethanol_metabolism                 5.485760e-14   \n",
              "3-X-global-X-all_amino-sugar-nucleotide-sugar_m...  2.245592e-14   \n",
              "4-X-global-X-all_steroid_metabolism                 1.655874e-03   \n",
              "...                                                          ...   \n",
              "191-X-mast-X-mast_granule-exocytosis                7.174543e-13   \n",
              "192-X-mast-X-192                                    1.034069e-01   \n",
              "193-X-pDC-X-p-DC_CpG-TLR9_response                  7.945611e-14   \n",
              "194-X-pDC-X-194                                     4.897925e-02   \n",
              "195-X-plasma-X-195                                  2.861395e-02   \n",
              "\n",
              "                                                           HACD4   \n",
              "0-X-global-X-all_biotin_metabolism                  3.852637e-13  \\\n",
              "1-X-global-X-all_purine_synthesis                   1.070487e-11   \n",
              "2-X-global-X-all_ethanol_metabolism                 3.058279e-13   \n",
              "3-X-global-X-all_amino-sugar-nucleotide-sugar_m...  9.428382e-12   \n",
              "4-X-global-X-all_steroid_metabolism                 2.649236e-12   \n",
              "...                                                          ...   \n",
              "191-X-mast-X-mast_granule-exocytosis                1.656011e-13   \n",
              "192-X-mast-X-192                                    1.670691e-02   \n",
              "193-X-pDC-X-p-DC_CpG-TLR9_response                  1.229106e-13   \n",
              "194-X-pDC-X-194                                     1.002546e-01   \n",
              "195-X-plasma-X-195                                  9.293150e-02   \n",
              "\n",
              "                                                          FCGR3A   \n",
              "0-X-global-X-all_biotin_metabolism                  1.195921e-14  \\\n",
              "1-X-global-X-all_purine_synthesis                   6.040965e-15   \n",
              "2-X-global-X-all_ethanol_metabolism                 5.695619e-15   \n",
              "3-X-global-X-all_amino-sugar-nucleotide-sugar_m...  2.443180e-14   \n",
              "4-X-global-X-all_steroid_metabolism                 2.004101e-14   \n",
              "...                                                          ...   \n",
              "191-X-mast-X-mast_granule-exocytosis                1.859545e-13   \n",
              "192-X-mast-X-192                                    1.655848e-02   \n",
              "193-X-pDC-X-p-DC_CpG-TLR9_response                  1.329999e-13   \n",
              "194-X-pDC-X-194                                     6.622311e-03   \n",
              "195-X-plasma-X-195                                  1.262628e-02   \n",
              "\n",
              "                                                           AZGP1       SLC35A1  \n",
              "0-X-global-X-all_biotin_metabolism                  5.215378e-14  3.199148e-12  \n",
              "1-X-global-X-all_purine_synthesis                   8.396392e-14  2.774524e-13  \n",
              "2-X-global-X-all_ethanol_metabolism                 1.481628e-13  2.805287e-13  \n",
              "3-X-global-X-all_amino-sugar-nucleotide-sugar_m...  8.068420e-14  2.034088e-12  \n",
              "4-X-global-X-all_steroid_metabolism                 4.002548e-13  2.290511e-14  \n",
              "...                                                          ...           ...  \n",
              "191-X-mast-X-mast_granule-exocytosis                2.949447e-13  1.258455e-12  \n",
              "192-X-mast-X-192                                    2.302945e-02  4.559482e-02  \n",
              "193-X-pDC-X-p-DC_CpG-TLR9_response                  3.986567e-12  3.302025e-13  \n",
              "194-X-pDC-X-194                                     1.167776e-01  2.029130e-02  \n",
              "195-X-plasma-X-195                                  4.592797e-02  3.104413e-02  \n",
              "\n",
              "[196 rows x 6392 columns]"
            ]
          },
          "execution_count": 15,
          "metadata": {},
          "output_type": "execute_result"
        }
      ],
      "source": [
        "#so you can construct a dataframe for the factor gene weights\n",
        "\n",
        "#include cell type specificity as a prefix into the index\n",
        "index_labels = adata.uns['SPECTRA_overlap'].index\n",
        "gene_weights = pd.DataFrame(adata.uns['SPECTRA_factors'], \n",
        "                            index= index_labels,\n",
        "                            columns=adata.var[adata.var['spectra_vocab']].index)\n",
        "gene_weights"
      ]
    },
    {
      "cell_type": "markdown",
      "metadata": {},
      "source": [
        "*Markers* is an array of genes with top scores for every factor:"
      ]
    },
    {
      "cell_type": "code",
      "execution_count": 16,
      "metadata": {},
      "outputs": [
        {
          "data": {
            "text/plain": [
              "array([['BTD', 'SLC5A6', 'HLCS', ..., 'HCST', 'FBXL17', 'ALAS2'],\n",
              "       ['GUK1', 'APRT', 'NT5C2', ..., 'GMPR', 'BFAR', 'GAMT'],\n",
              "       ['ALDH1B1', 'AOX1', 'ZADH2', ..., 'NOC4L', 'LYN', 'CLDN8'],\n",
              "       ...,\n",
              "       ['ZAP70', 'ID2', 'OTULINL', ..., 'C12orf75', 'ITGB1',\n",
              "        'AC243960.1'],\n",
              "       ['PTGDS', 'LILRA4', 'TSPAN13', ..., 'CLIC3', 'TCF4', 'NEFL'],\n",
              "       ['MZB1', 'SPON1', 'PRDX4', ..., 'PLPP5', 'PROS1', 'PIM2']],\n",
              "      dtype=object)"
            ]
          },
          "execution_count": 16,
          "metadata": {},
          "output_type": "execute_result"
        }
      ],
      "source": [
        "#find an array of the marker genes per factor here:\n",
        "adata.uns['SPECTRA_markers']"
      ]
    },
    {
      "attachments": {},
      "cell_type": "markdown",
      "metadata": {},
      "source": [
        "We also provide an approach to label the factors by their Szymkiewicz–Simpson overlap coefficient with the input gene sets. Each factors receives the label of the input gene set with the highest overlap coefficient, given that it the overlap coefficient is greater than the threshold defined in 'overlap_threshold'. Ties in the overlap coefficient by gene set size, selecting the label of the bigger gene set (because smaller gene sets might get bigger overlap coefficients by chance).\n",
        "\n",
        "We provide a pandas.DataFrame indicating the overlap coefficients for each input gene set with each factor's marker genes. The index of this dataframe contains the *index* of each factor, *assigned label* as well as the *cell type specificity* for each factor in the format:\n",
        "\n",
        "`['index' + '-X-' + 'cell type specificity' + '-X-' + 'assigned label', ...]`\n",
        "\n",
        "We use `'-X-'` as a unique seperator to make string splitting and retrieval of the different components of the index easier."
      ]
    },
    {
      "cell_type": "code",
      "execution_count": 17,
      "metadata": {},
      "outputs": [
        {
          "data": {
            "text/html": [
              "<div>\n",
              "<style scoped>\n",
              "    .dataframe tbody tr th:only-of-type {\n",
              "        vertical-align: middle;\n",
              "    }\n",
              "\n",
              "    .dataframe tbody tr th {\n",
              "        vertical-align: top;\n",
              "    }\n",
              "\n",
              "    .dataframe thead th {\n",
              "        text-align: right;\n",
              "    }\n",
              "</style>\n",
              "<table border=\"1\" class=\"dataframe\">\n",
              "  <thead>\n",
              "    <tr style=\"text-align: right;\">\n",
              "      <th></th>\n",
              "      <th>B_Breg_UP</th>\n",
              "      <th>B_effector-2_UP</th>\n",
              "      <th>B_effector-1_UP</th>\n",
              "      <th>B_IgM-ligation_response</th>\n",
              "      <th>CD4-T_IL12_response</th>\n",
              "      <th>TNK_IL2_response</th>\n",
              "      <th>CD4-T_TH22_UP</th>\n",
              "      <th>CD4-T_TH17_UP</th>\n",
              "      <th>TNK_IL2-STAT5-signaling</th>\n",
              "      <th>T_IL21_response</th>\n",
              "      <th>...</th>\n",
              "      <th>all_thiamin_metabolism</th>\n",
              "      <th>all_NOTCH_signaling</th>\n",
              "      <th>all_galactose_metabolism</th>\n",
              "      <th>all_MYC_targets</th>\n",
              "      <th>all_GLU_metabolism</th>\n",
              "      <th>all_fatty-acid_synthesis</th>\n",
              "      <th>all_glycolysis</th>\n",
              "      <th>all_glutathione_metabolism</th>\n",
              "      <th>all_IL6-JAK-STAT3_signaling</th>\n",
              "      <th>all_autophagy-chaperone-mediated</th>\n",
              "    </tr>\n",
              "  </thead>\n",
              "  <tbody>\n",
              "    <tr>\n",
              "      <th>0-X-global-X-all_biotin_metabolism</th>\n",
              "      <td>0.0</td>\n",
              "      <td>0.0</td>\n",
              "      <td>0.0</td>\n",
              "      <td>0.00</td>\n",
              "      <td>0.0</td>\n",
              "      <td>0.0</td>\n",
              "      <td>0.0</td>\n",
              "      <td>0.0</td>\n",
              "      <td>0.00</td>\n",
              "      <td>0.0</td>\n",
              "      <td>...</td>\n",
              "      <td>0.0</td>\n",
              "      <td>0.00</td>\n",
              "      <td>0.000000</td>\n",
              "      <td>0.04</td>\n",
              "      <td>0.00</td>\n",
              "      <td>0.000000</td>\n",
              "      <td>0.000000</td>\n",
              "      <td>0.0</td>\n",
              "      <td>0.00</td>\n",
              "      <td>0.0</td>\n",
              "    </tr>\n",
              "    <tr>\n",
              "      <th>1-X-global-X-all_purine_synthesis</th>\n",
              "      <td>0.0</td>\n",
              "      <td>0.0</td>\n",
              "      <td>0.0</td>\n",
              "      <td>0.00</td>\n",
              "      <td>0.0</td>\n",
              "      <td>0.0</td>\n",
              "      <td>0.0</td>\n",
              "      <td>0.0</td>\n",
              "      <td>0.08</td>\n",
              "      <td>0.0</td>\n",
              "      <td>...</td>\n",
              "      <td>0.0</td>\n",
              "      <td>0.00</td>\n",
              "      <td>0.000000</td>\n",
              "      <td>0.04</td>\n",
              "      <td>0.00</td>\n",
              "      <td>0.000000</td>\n",
              "      <td>0.000000</td>\n",
              "      <td>0.0</td>\n",
              "      <td>0.00</td>\n",
              "      <td>0.0</td>\n",
              "    </tr>\n",
              "    <tr>\n",
              "      <th>2-X-global-X-all_ethanol_metabolism</th>\n",
              "      <td>0.0</td>\n",
              "      <td>0.0</td>\n",
              "      <td>0.0</td>\n",
              "      <td>0.04</td>\n",
              "      <td>0.0</td>\n",
              "      <td>0.0</td>\n",
              "      <td>0.0</td>\n",
              "      <td>0.0</td>\n",
              "      <td>0.00</td>\n",
              "      <td>0.0</td>\n",
              "      <td>...</td>\n",
              "      <td>0.0</td>\n",
              "      <td>0.00</td>\n",
              "      <td>0.000000</td>\n",
              "      <td>0.04</td>\n",
              "      <td>0.00</td>\n",
              "      <td>0.000000</td>\n",
              "      <td>0.000000</td>\n",
              "      <td>0.0</td>\n",
              "      <td>0.00</td>\n",
              "      <td>0.0</td>\n",
              "    </tr>\n",
              "    <tr>\n",
              "      <th>3-X-global-X-all_amino-sugar-nucleotide-sugar_metabolism</th>\n",
              "      <td>0.0</td>\n",
              "      <td>0.0</td>\n",
              "      <td>0.0</td>\n",
              "      <td>0.00</td>\n",
              "      <td>0.0</td>\n",
              "      <td>0.0</td>\n",
              "      <td>0.0</td>\n",
              "      <td>0.0</td>\n",
              "      <td>0.00</td>\n",
              "      <td>0.0</td>\n",
              "      <td>...</td>\n",
              "      <td>0.0</td>\n",
              "      <td>0.00</td>\n",
              "      <td>0.055556</td>\n",
              "      <td>0.00</td>\n",
              "      <td>0.00</td>\n",
              "      <td>0.000000</td>\n",
              "      <td>0.041667</td>\n",
              "      <td>0.0</td>\n",
              "      <td>0.00</td>\n",
              "      <td>0.0</td>\n",
              "    </tr>\n",
              "    <tr>\n",
              "      <th>4-X-global-X-all_steroid_metabolism</th>\n",
              "      <td>0.0</td>\n",
              "      <td>0.0</td>\n",
              "      <td>0.0</td>\n",
              "      <td>0.00</td>\n",
              "      <td>0.0</td>\n",
              "      <td>0.0</td>\n",
              "      <td>0.0</td>\n",
              "      <td>0.0</td>\n",
              "      <td>0.00</td>\n",
              "      <td>0.0</td>\n",
              "      <td>...</td>\n",
              "      <td>0.0</td>\n",
              "      <td>0.00</td>\n",
              "      <td>0.000000</td>\n",
              "      <td>0.00</td>\n",
              "      <td>0.00</td>\n",
              "      <td>0.041667</td>\n",
              "      <td>0.000000</td>\n",
              "      <td>0.0</td>\n",
              "      <td>0.00</td>\n",
              "      <td>0.0</td>\n",
              "    </tr>\n",
              "    <tr>\n",
              "      <th>...</th>\n",
              "      <td>...</td>\n",
              "      <td>...</td>\n",
              "      <td>...</td>\n",
              "      <td>...</td>\n",
              "      <td>...</td>\n",
              "      <td>...</td>\n",
              "      <td>...</td>\n",
              "      <td>...</td>\n",
              "      <td>...</td>\n",
              "      <td>...</td>\n",
              "      <td>...</td>\n",
              "      <td>...</td>\n",
              "      <td>...</td>\n",
              "      <td>...</td>\n",
              "      <td>...</td>\n",
              "      <td>...</td>\n",
              "      <td>...</td>\n",
              "      <td>...</td>\n",
              "      <td>...</td>\n",
              "      <td>...</td>\n",
              "      <td>...</td>\n",
              "    </tr>\n",
              "    <tr>\n",
              "      <th>191-X-mast-X-mast_granule-exocytosis</th>\n",
              "      <td>0.0</td>\n",
              "      <td>0.0</td>\n",
              "      <td>0.0</td>\n",
              "      <td>0.00</td>\n",
              "      <td>0.0</td>\n",
              "      <td>0.0</td>\n",
              "      <td>0.0</td>\n",
              "      <td>0.0</td>\n",
              "      <td>0.00</td>\n",
              "      <td>0.0</td>\n",
              "      <td>...</td>\n",
              "      <td>0.0</td>\n",
              "      <td>0.00</td>\n",
              "      <td>0.000000</td>\n",
              "      <td>0.00</td>\n",
              "      <td>0.00</td>\n",
              "      <td>0.000000</td>\n",
              "      <td>0.000000</td>\n",
              "      <td>0.0</td>\n",
              "      <td>0.04</td>\n",
              "      <td>0.0</td>\n",
              "    </tr>\n",
              "    <tr>\n",
              "      <th>192-X-mast-X-192</th>\n",
              "      <td>0.0</td>\n",
              "      <td>0.0</td>\n",
              "      <td>0.0</td>\n",
              "      <td>0.00</td>\n",
              "      <td>0.0</td>\n",
              "      <td>0.0</td>\n",
              "      <td>0.0</td>\n",
              "      <td>0.0</td>\n",
              "      <td>0.00</td>\n",
              "      <td>0.0</td>\n",
              "      <td>...</td>\n",
              "      <td>0.0</td>\n",
              "      <td>0.04</td>\n",
              "      <td>0.000000</td>\n",
              "      <td>0.00</td>\n",
              "      <td>0.04</td>\n",
              "      <td>0.000000</td>\n",
              "      <td>0.000000</td>\n",
              "      <td>0.0</td>\n",
              "      <td>0.00</td>\n",
              "      <td>0.0</td>\n",
              "    </tr>\n",
              "    <tr>\n",
              "      <th>193-X-pDC-X-p-DC_CpG-TLR9_response</th>\n",
              "      <td>0.0</td>\n",
              "      <td>0.0</td>\n",
              "      <td>0.0</td>\n",
              "      <td>0.00</td>\n",
              "      <td>0.0</td>\n",
              "      <td>0.0</td>\n",
              "      <td>0.0</td>\n",
              "      <td>0.0</td>\n",
              "      <td>0.04</td>\n",
              "      <td>0.0</td>\n",
              "      <td>...</td>\n",
              "      <td>0.0</td>\n",
              "      <td>0.00</td>\n",
              "      <td>0.000000</td>\n",
              "      <td>0.00</td>\n",
              "      <td>0.00</td>\n",
              "      <td>0.000000</td>\n",
              "      <td>0.000000</td>\n",
              "      <td>0.0</td>\n",
              "      <td>0.00</td>\n",
              "      <td>0.0</td>\n",
              "    </tr>\n",
              "    <tr>\n",
              "      <th>194-X-pDC-X-194</th>\n",
              "      <td>0.0</td>\n",
              "      <td>0.0</td>\n",
              "      <td>0.0</td>\n",
              "      <td>0.00</td>\n",
              "      <td>0.0</td>\n",
              "      <td>0.0</td>\n",
              "      <td>0.0</td>\n",
              "      <td>0.0</td>\n",
              "      <td>0.04</td>\n",
              "      <td>0.0</td>\n",
              "      <td>...</td>\n",
              "      <td>0.0</td>\n",
              "      <td>0.00</td>\n",
              "      <td>0.000000</td>\n",
              "      <td>0.08</td>\n",
              "      <td>0.00</td>\n",
              "      <td>0.000000</td>\n",
              "      <td>0.000000</td>\n",
              "      <td>0.0</td>\n",
              "      <td>0.00</td>\n",
              "      <td>0.0</td>\n",
              "    </tr>\n",
              "    <tr>\n",
              "      <th>195-X-plasma-X-195</th>\n",
              "      <td>0.0</td>\n",
              "      <td>0.0</td>\n",
              "      <td>0.0</td>\n",
              "      <td>0.04</td>\n",
              "      <td>0.0</td>\n",
              "      <td>0.0</td>\n",
              "      <td>0.0</td>\n",
              "      <td>0.0</td>\n",
              "      <td>0.00</td>\n",
              "      <td>0.0</td>\n",
              "      <td>...</td>\n",
              "      <td>0.0</td>\n",
              "      <td>0.00</td>\n",
              "      <td>0.000000</td>\n",
              "      <td>0.00</td>\n",
              "      <td>0.00</td>\n",
              "      <td>0.000000</td>\n",
              "      <td>0.000000</td>\n",
              "      <td>0.0</td>\n",
              "      <td>0.00</td>\n",
              "      <td>0.0</td>\n",
              "    </tr>\n",
              "  </tbody>\n",
              "</table>\n",
              "<p>196 rows × 181 columns</p>\n",
              "</div>"
            ],
            "text/plain": [
              "                                                    B_Breg_UP   \n",
              "0-X-global-X-all_biotin_metabolism                        0.0  \\\n",
              "1-X-global-X-all_purine_synthesis                         0.0   \n",
              "2-X-global-X-all_ethanol_metabolism                       0.0   \n",
              "3-X-global-X-all_amino-sugar-nucleotide-sugar_m...        0.0   \n",
              "4-X-global-X-all_steroid_metabolism                       0.0   \n",
              "...                                                       ...   \n",
              "191-X-mast-X-mast_granule-exocytosis                      0.0   \n",
              "192-X-mast-X-192                                          0.0   \n",
              "193-X-pDC-X-p-DC_CpG-TLR9_response                        0.0   \n",
              "194-X-pDC-X-194                                           0.0   \n",
              "195-X-plasma-X-195                                        0.0   \n",
              "\n",
              "                                                    B_effector-2_UP   \n",
              "0-X-global-X-all_biotin_metabolism                              0.0  \\\n",
              "1-X-global-X-all_purine_synthesis                               0.0   \n",
              "2-X-global-X-all_ethanol_metabolism                             0.0   \n",
              "3-X-global-X-all_amino-sugar-nucleotide-sugar_m...              0.0   \n",
              "4-X-global-X-all_steroid_metabolism                             0.0   \n",
              "...                                                             ...   \n",
              "191-X-mast-X-mast_granule-exocytosis                            0.0   \n",
              "192-X-mast-X-192                                                0.0   \n",
              "193-X-pDC-X-p-DC_CpG-TLR9_response                              0.0   \n",
              "194-X-pDC-X-194                                                 0.0   \n",
              "195-X-plasma-X-195                                              0.0   \n",
              "\n",
              "                                                    B_effector-1_UP   \n",
              "0-X-global-X-all_biotin_metabolism                              0.0  \\\n",
              "1-X-global-X-all_purine_synthesis                               0.0   \n",
              "2-X-global-X-all_ethanol_metabolism                             0.0   \n",
              "3-X-global-X-all_amino-sugar-nucleotide-sugar_m...              0.0   \n",
              "4-X-global-X-all_steroid_metabolism                             0.0   \n",
              "...                                                             ...   \n",
              "191-X-mast-X-mast_granule-exocytosis                            0.0   \n",
              "192-X-mast-X-192                                                0.0   \n",
              "193-X-pDC-X-p-DC_CpG-TLR9_response                              0.0   \n",
              "194-X-pDC-X-194                                                 0.0   \n",
              "195-X-plasma-X-195                                              0.0   \n",
              "\n",
              "                                                    B_IgM-ligation_response   \n",
              "0-X-global-X-all_biotin_metabolism                                     0.00  \\\n",
              "1-X-global-X-all_purine_synthesis                                      0.00   \n",
              "2-X-global-X-all_ethanol_metabolism                                    0.04   \n",
              "3-X-global-X-all_amino-sugar-nucleotide-sugar_m...                     0.00   \n",
              "4-X-global-X-all_steroid_metabolism                                    0.00   \n",
              "...                                                                     ...   \n",
              "191-X-mast-X-mast_granule-exocytosis                                   0.00   \n",
              "192-X-mast-X-192                                                       0.00   \n",
              "193-X-pDC-X-p-DC_CpG-TLR9_response                                     0.00   \n",
              "194-X-pDC-X-194                                                        0.00   \n",
              "195-X-plasma-X-195                                                     0.04   \n",
              "\n",
              "                                                    CD4-T_IL12_response   \n",
              "0-X-global-X-all_biotin_metabolism                                  0.0  \\\n",
              "1-X-global-X-all_purine_synthesis                                   0.0   \n",
              "2-X-global-X-all_ethanol_metabolism                                 0.0   \n",
              "3-X-global-X-all_amino-sugar-nucleotide-sugar_m...                  0.0   \n",
              "4-X-global-X-all_steroid_metabolism                                 0.0   \n",
              "...                                                                 ...   \n",
              "191-X-mast-X-mast_granule-exocytosis                                0.0   \n",
              "192-X-mast-X-192                                                    0.0   \n",
              "193-X-pDC-X-p-DC_CpG-TLR9_response                                  0.0   \n",
              "194-X-pDC-X-194                                                     0.0   \n",
              "195-X-plasma-X-195                                                  0.0   \n",
              "\n",
              "                                                    TNK_IL2_response   \n",
              "0-X-global-X-all_biotin_metabolism                               0.0  \\\n",
              "1-X-global-X-all_purine_synthesis                                0.0   \n",
              "2-X-global-X-all_ethanol_metabolism                              0.0   \n",
              "3-X-global-X-all_amino-sugar-nucleotide-sugar_m...               0.0   \n",
              "4-X-global-X-all_steroid_metabolism                              0.0   \n",
              "...                                                              ...   \n",
              "191-X-mast-X-mast_granule-exocytosis                             0.0   \n",
              "192-X-mast-X-192                                                 0.0   \n",
              "193-X-pDC-X-p-DC_CpG-TLR9_response                               0.0   \n",
              "194-X-pDC-X-194                                                  0.0   \n",
              "195-X-plasma-X-195                                               0.0   \n",
              "\n",
              "                                                    CD4-T_TH22_UP   \n",
              "0-X-global-X-all_biotin_metabolism                            0.0  \\\n",
              "1-X-global-X-all_purine_synthesis                             0.0   \n",
              "2-X-global-X-all_ethanol_metabolism                           0.0   \n",
              "3-X-global-X-all_amino-sugar-nucleotide-sugar_m...            0.0   \n",
              "4-X-global-X-all_steroid_metabolism                           0.0   \n",
              "...                                                           ...   \n",
              "191-X-mast-X-mast_granule-exocytosis                          0.0   \n",
              "192-X-mast-X-192                                              0.0   \n",
              "193-X-pDC-X-p-DC_CpG-TLR9_response                            0.0   \n",
              "194-X-pDC-X-194                                               0.0   \n",
              "195-X-plasma-X-195                                            0.0   \n",
              "\n",
              "                                                    CD4-T_TH17_UP   \n",
              "0-X-global-X-all_biotin_metabolism                            0.0  \\\n",
              "1-X-global-X-all_purine_synthesis                             0.0   \n",
              "2-X-global-X-all_ethanol_metabolism                           0.0   \n",
              "3-X-global-X-all_amino-sugar-nucleotide-sugar_m...            0.0   \n",
              "4-X-global-X-all_steroid_metabolism                           0.0   \n",
              "...                                                           ...   \n",
              "191-X-mast-X-mast_granule-exocytosis                          0.0   \n",
              "192-X-mast-X-192                                              0.0   \n",
              "193-X-pDC-X-p-DC_CpG-TLR9_response                            0.0   \n",
              "194-X-pDC-X-194                                               0.0   \n",
              "195-X-plasma-X-195                                            0.0   \n",
              "\n",
              "                                                    TNK_IL2-STAT5-signaling   \n",
              "0-X-global-X-all_biotin_metabolism                                     0.00  \\\n",
              "1-X-global-X-all_purine_synthesis                                      0.08   \n",
              "2-X-global-X-all_ethanol_metabolism                                    0.00   \n",
              "3-X-global-X-all_amino-sugar-nucleotide-sugar_m...                     0.00   \n",
              "4-X-global-X-all_steroid_metabolism                                    0.00   \n",
              "...                                                                     ...   \n",
              "191-X-mast-X-mast_granule-exocytosis                                   0.00   \n",
              "192-X-mast-X-192                                                       0.00   \n",
              "193-X-pDC-X-p-DC_CpG-TLR9_response                                     0.04   \n",
              "194-X-pDC-X-194                                                        0.04   \n",
              "195-X-plasma-X-195                                                     0.00   \n",
              "\n",
              "                                                    T_IL21_response  ...   \n",
              "0-X-global-X-all_biotin_metabolism                              0.0  ...  \\\n",
              "1-X-global-X-all_purine_synthesis                               0.0  ...   \n",
              "2-X-global-X-all_ethanol_metabolism                             0.0  ...   \n",
              "3-X-global-X-all_amino-sugar-nucleotide-sugar_m...              0.0  ...   \n",
              "4-X-global-X-all_steroid_metabolism                             0.0  ...   \n",
              "...                                                             ...  ...   \n",
              "191-X-mast-X-mast_granule-exocytosis                            0.0  ...   \n",
              "192-X-mast-X-192                                                0.0  ...   \n",
              "193-X-pDC-X-p-DC_CpG-TLR9_response                              0.0  ...   \n",
              "194-X-pDC-X-194                                                 0.0  ...   \n",
              "195-X-plasma-X-195                                              0.0  ...   \n",
              "\n",
              "                                                    all_thiamin_metabolism   \n",
              "0-X-global-X-all_biotin_metabolism                                     0.0  \\\n",
              "1-X-global-X-all_purine_synthesis                                      0.0   \n",
              "2-X-global-X-all_ethanol_metabolism                                    0.0   \n",
              "3-X-global-X-all_amino-sugar-nucleotide-sugar_m...                     0.0   \n",
              "4-X-global-X-all_steroid_metabolism                                    0.0   \n",
              "...                                                                    ...   \n",
              "191-X-mast-X-mast_granule-exocytosis                                   0.0   \n",
              "192-X-mast-X-192                                                       0.0   \n",
              "193-X-pDC-X-p-DC_CpG-TLR9_response                                     0.0   \n",
              "194-X-pDC-X-194                                                        0.0   \n",
              "195-X-plasma-X-195                                                     0.0   \n",
              "\n",
              "                                                    all_NOTCH_signaling   \n",
              "0-X-global-X-all_biotin_metabolism                                 0.00  \\\n",
              "1-X-global-X-all_purine_synthesis                                  0.00   \n",
              "2-X-global-X-all_ethanol_metabolism                                0.00   \n",
              "3-X-global-X-all_amino-sugar-nucleotide-sugar_m...                 0.00   \n",
              "4-X-global-X-all_steroid_metabolism                                0.00   \n",
              "...                                                                 ...   \n",
              "191-X-mast-X-mast_granule-exocytosis                               0.00   \n",
              "192-X-mast-X-192                                                   0.04   \n",
              "193-X-pDC-X-p-DC_CpG-TLR9_response                                 0.00   \n",
              "194-X-pDC-X-194                                                    0.00   \n",
              "195-X-plasma-X-195                                                 0.00   \n",
              "\n",
              "                                                    all_galactose_metabolism   \n",
              "0-X-global-X-all_biotin_metabolism                                  0.000000  \\\n",
              "1-X-global-X-all_purine_synthesis                                   0.000000   \n",
              "2-X-global-X-all_ethanol_metabolism                                 0.000000   \n",
              "3-X-global-X-all_amino-sugar-nucleotide-sugar_m...                  0.055556   \n",
              "4-X-global-X-all_steroid_metabolism                                 0.000000   \n",
              "...                                                                      ...   \n",
              "191-X-mast-X-mast_granule-exocytosis                                0.000000   \n",
              "192-X-mast-X-192                                                    0.000000   \n",
              "193-X-pDC-X-p-DC_CpG-TLR9_response                                  0.000000   \n",
              "194-X-pDC-X-194                                                     0.000000   \n",
              "195-X-plasma-X-195                                                  0.000000   \n",
              "\n",
              "                                                    all_MYC_targets   \n",
              "0-X-global-X-all_biotin_metabolism                             0.04  \\\n",
              "1-X-global-X-all_purine_synthesis                              0.04   \n",
              "2-X-global-X-all_ethanol_metabolism                            0.04   \n",
              "3-X-global-X-all_amino-sugar-nucleotide-sugar_m...             0.00   \n",
              "4-X-global-X-all_steroid_metabolism                            0.00   \n",
              "...                                                             ...   \n",
              "191-X-mast-X-mast_granule-exocytosis                           0.00   \n",
              "192-X-mast-X-192                                               0.00   \n",
              "193-X-pDC-X-p-DC_CpG-TLR9_response                             0.00   \n",
              "194-X-pDC-X-194                                                0.08   \n",
              "195-X-plasma-X-195                                             0.00   \n",
              "\n",
              "                                                    all_GLU_metabolism   \n",
              "0-X-global-X-all_biotin_metabolism                                0.00  \\\n",
              "1-X-global-X-all_purine_synthesis                                 0.00   \n",
              "2-X-global-X-all_ethanol_metabolism                               0.00   \n",
              "3-X-global-X-all_amino-sugar-nucleotide-sugar_m...                0.00   \n",
              "4-X-global-X-all_steroid_metabolism                               0.00   \n",
              "...                                                                ...   \n",
              "191-X-mast-X-mast_granule-exocytosis                              0.00   \n",
              "192-X-mast-X-192                                                  0.04   \n",
              "193-X-pDC-X-p-DC_CpG-TLR9_response                                0.00   \n",
              "194-X-pDC-X-194                                                   0.00   \n",
              "195-X-plasma-X-195                                                0.00   \n",
              "\n",
              "                                                    all_fatty-acid_synthesis   \n",
              "0-X-global-X-all_biotin_metabolism                                  0.000000  \\\n",
              "1-X-global-X-all_purine_synthesis                                   0.000000   \n",
              "2-X-global-X-all_ethanol_metabolism                                 0.000000   \n",
              "3-X-global-X-all_amino-sugar-nucleotide-sugar_m...                  0.000000   \n",
              "4-X-global-X-all_steroid_metabolism                                 0.041667   \n",
              "...                                                                      ...   \n",
              "191-X-mast-X-mast_granule-exocytosis                                0.000000   \n",
              "192-X-mast-X-192                                                    0.000000   \n",
              "193-X-pDC-X-p-DC_CpG-TLR9_response                                  0.000000   \n",
              "194-X-pDC-X-194                                                     0.000000   \n",
              "195-X-plasma-X-195                                                  0.000000   \n",
              "\n",
              "                                                    all_glycolysis   \n",
              "0-X-global-X-all_biotin_metabolism                        0.000000  \\\n",
              "1-X-global-X-all_purine_synthesis                         0.000000   \n",
              "2-X-global-X-all_ethanol_metabolism                       0.000000   \n",
              "3-X-global-X-all_amino-sugar-nucleotide-sugar_m...        0.041667   \n",
              "4-X-global-X-all_steroid_metabolism                       0.000000   \n",
              "...                                                            ...   \n",
              "191-X-mast-X-mast_granule-exocytosis                      0.000000   \n",
              "192-X-mast-X-192                                          0.000000   \n",
              "193-X-pDC-X-p-DC_CpG-TLR9_response                        0.000000   \n",
              "194-X-pDC-X-194                                           0.000000   \n",
              "195-X-plasma-X-195                                        0.000000   \n",
              "\n",
              "                                                    all_glutathione_metabolism   \n",
              "0-X-global-X-all_biotin_metabolism                                         0.0  \\\n",
              "1-X-global-X-all_purine_synthesis                                          0.0   \n",
              "2-X-global-X-all_ethanol_metabolism                                        0.0   \n",
              "3-X-global-X-all_amino-sugar-nucleotide-sugar_m...                         0.0   \n",
              "4-X-global-X-all_steroid_metabolism                                        0.0   \n",
              "...                                                                        ...   \n",
              "191-X-mast-X-mast_granule-exocytosis                                       0.0   \n",
              "192-X-mast-X-192                                                           0.0   \n",
              "193-X-pDC-X-p-DC_CpG-TLR9_response                                         0.0   \n",
              "194-X-pDC-X-194                                                            0.0   \n",
              "195-X-plasma-X-195                                                         0.0   \n",
              "\n",
              "                                                    all_IL6-JAK-STAT3_signaling   \n",
              "0-X-global-X-all_biotin_metabolism                                         0.00  \\\n",
              "1-X-global-X-all_purine_synthesis                                          0.00   \n",
              "2-X-global-X-all_ethanol_metabolism                                        0.00   \n",
              "3-X-global-X-all_amino-sugar-nucleotide-sugar_m...                         0.00   \n",
              "4-X-global-X-all_steroid_metabolism                                        0.00   \n",
              "...                                                                         ...   \n",
              "191-X-mast-X-mast_granule-exocytosis                                       0.04   \n",
              "192-X-mast-X-192                                                           0.00   \n",
              "193-X-pDC-X-p-DC_CpG-TLR9_response                                         0.00   \n",
              "194-X-pDC-X-194                                                            0.00   \n",
              "195-X-plasma-X-195                                                         0.00   \n",
              "\n",
              "                                                    all_autophagy-chaperone-mediated  \n",
              "0-X-global-X-all_biotin_metabolism                                               0.0  \n",
              "1-X-global-X-all_purine_synthesis                                                0.0  \n",
              "2-X-global-X-all_ethanol_metabolism                                              0.0  \n",
              "3-X-global-X-all_amino-sugar-nucleotide-sugar_m...                               0.0  \n",
              "4-X-global-X-all_steroid_metabolism                                              0.0  \n",
              "...                                                                              ...  \n",
              "191-X-mast-X-mast_granule-exocytosis                                             0.0  \n",
              "192-X-mast-X-192                                                                 0.0  \n",
              "193-X-pDC-X-p-DC_CpG-TLR9_response                                               0.0  \n",
              "194-X-pDC-X-194                                                                  0.0  \n",
              "195-X-plasma-X-195                                                               0.0  \n",
              "\n",
              "[196 rows x 181 columns]"
            ]
          },
          "execution_count": 17,
          "metadata": {},
          "output_type": "execute_result"
        }
      ],
      "source": [
        "adata.uns['SPECTRA_overlap']"
      ]
    },
    {
      "cell_type": "markdown",
      "metadata": {},
      "source": [
        "*Cell scores* are similarly the score of each factor for every cell:"
      ]
    },
    {
      "cell_type": "code",
      "execution_count": 18,
      "metadata": {},
      "outputs": [
        {
          "data": {
            "text/plain": [
              "array([[1.88030898e-05, 7.88295203e-05, 8.77621149e-05, ...,\n",
              "        0.00000000e+00, 0.00000000e+00, 0.00000000e+00],\n",
              "       [9.32516374e-06, 5.77162911e-06, 1.16355710e-04, ...,\n",
              "        0.00000000e+00, 0.00000000e+00, 0.00000000e+00],\n",
              "       [6.38162085e-05, 6.94942297e-06, 1.44492715e-05, ...,\n",
              "        0.00000000e+00, 0.00000000e+00, 0.00000000e+00],\n",
              "       ...,\n",
              "       [1.21437679e-06, 8.29485615e-06, 4.34440299e-05, ...,\n",
              "        0.00000000e+00, 0.00000000e+00, 0.00000000e+00],\n",
              "       [7.17987126e-06, 3.11050211e-06, 8.76690223e-06, ...,\n",
              "        0.00000000e+00, 0.00000000e+00, 0.00000000e+00],\n",
              "       [5.53077293e-06, 9.00507337e-06, 1.50964643e-05, ...,\n",
              "        0.00000000e+00, 0.00000000e+00, 0.00000000e+00]])"
            ]
          },
          "execution_count": 18,
          "metadata": {},
          "output_type": "execute_result"
        }
      ],
      "source": [
        "#find an array of cell scores per factor and cell here:\n",
        "adata.obsm['SPECTRA_cell_scores']"
      ]
    },
    {
      "cell_type": "markdown",
      "metadata": {},
      "source": [
        "Vocab is a boolean array that is `True` for genes that were used while fitting the model - note that this quantity is only added to the AnnData when `highly_variable` is set to `True`:"
      ]
    },
    {
      "cell_type": "code",
      "execution_count": 19,
      "metadata": {},
      "outputs": [
        {
          "data": {
            "text/plain": [
              "KCNC3      True\n",
              "NDUFS3     True\n",
              "HACD1      True\n",
              "FAM214A    True\n",
              "TBCD       True\n",
              "           ... \n",
              "FDFT1      True\n",
              "HACD4      True\n",
              "FCGR3A     True\n",
              "AZGP1      True\n",
              "SLC35A1    True\n",
              "Name: spectra_vocab, Length: 6397, dtype: bool"
            ]
          },
          "execution_count": 19,
          "metadata": {},
          "output_type": "execute_result"
        }
      ],
      "source": [
        "#find the vocab here:\n",
        "adata.var['spectra_vocab']"
      ]
    },
    {
      "cell_type": "markdown",
      "metadata": {},
      "source": [
        "It also includes a dictionary of the factor numbers per cell type:"
      ]
    },
    {
      "cell_type": "code",
      "execution_count": 20,
      "metadata": {},
      "outputs": [
        {
          "data": {
            "text/plain": [
              "{'B_GC': 1,\n",
              " 'B_memory': 5,\n",
              " 'B_naive': 1,\n",
              " 'CD4_T': 12,\n",
              " 'CD8_T': 7,\n",
              " 'DC': 3,\n",
              " 'ILC3': 1,\n",
              " 'MDC': 6,\n",
              " 'NK': 1,\n",
              " 'Treg': 2,\n",
              " 'gdT': 1,\n",
              " 'mast': 2,\n",
              " 'pDC': 2,\n",
              " 'plasma': 1,\n",
              " 'global': 151}"
            ]
          },
          "execution_count": 20,
          "metadata": {},
          "output_type": "execute_result"
        }
      ],
      "source": [
        "#find the factor numbere dict here:\n",
        "adata.uns['SPECTRA_L']"
      ]
    },
    {
      "attachments": {},
      "cell_type": "markdown",
      "metadata": {},
      "source": [
        "## Acessing model parameters"
      ]
    },
    {
      "attachments": {},
      "cell_type": "markdown",
      "metadata": {},
      "source": [
        "To access finer grained information about the model fit, we can look at the attributes of the model object directly. Model parameters can be accessed with functions associated with the model object"
      ]
    },
    {
      "cell_type": "code",
      "execution_count": 21,
      "metadata": {},
      "outputs": [
        {
          "data": {
            "text/plain": [
              "['B_diag',\n",
              " 'L',\n",
              " '_SPECTRA_Model__B_diag',\n",
              " '_SPECTRA_Model__eta_matrices',\n",
              " '_SPECTRA_Model__store_parameters',\n",
              " '_SPECTRA_Model__store_parameters_no_celltypes',\n",
              " '__class__',\n",
              " '__delattr__',\n",
              " '__dict__',\n",
              " '__dir__',\n",
              " '__doc__',\n",
              " '__eq__',\n",
              " '__format__',\n",
              " '__ge__',\n",
              " '__getattribute__',\n",
              " '__gt__',\n",
              " '__hash__',\n",
              " '__init__',\n",
              " '__init_subclass__',\n",
              " '__le__',\n",
              " '__lt__',\n",
              " '__module__',\n",
              " '__ne__',\n",
              " '__new__',\n",
              " '__reduce__',\n",
              " '__reduce_ex__',\n",
              " '__repr__',\n",
              " '__setattr__',\n",
              " '__sizeof__',\n",
              " '__str__',\n",
              " '__subclasshook__',\n",
              " '__weakref__',\n",
              " 'cell_scores',\n",
              " 'delta',\n",
              " 'eta_matrices',\n",
              " 'factors',\n",
              " 'gene_scalings',\n",
              " 'initialize',\n",
              " 'internal_model',\n",
              " 'kappa',\n",
              " 'lam',\n",
              " 'load',\n",
              " 'matching',\n",
              " 'return_cell_scores',\n",
              " 'return_eta',\n",
              " 'return_eta_diag',\n",
              " 'return_factors',\n",
              " 'return_gene_scalings',\n",
              " 'return_graph',\n",
              " 'return_kappa',\n",
              " 'return_rho',\n",
              " 'rho',\n",
              " 'save',\n",
              " 'train',\n",
              " 'use_cell_types']"
            ]
          },
          "execution_count": 21,
          "metadata": {},
          "output_type": "execute_result"
        }
      ],
      "source": [
        "#this is the model file\n",
        "dir(model)"
      ]
    },
    {
      "cell_type": "code",
      "execution_count": 22,
      "metadata": {},
      "outputs": [
        {
          "data": {
            "text/plain": [
              "0.1"
            ]
          },
          "execution_count": 22,
          "metadata": {},
          "output_type": "execute_result"
        }
      ],
      "source": [
        "#e.g. find the lambda parameter the model was trained with:\n",
        "model.lam"
      ]
    },
    {
      "attachments": {},
      "cell_type": "markdown",
      "metadata": {},
      "source": [
        "Apart from cell scores and factors, we can also retrive a number of other parameters this way that are not by default added to the AnnData. Eta diag is the diagonal of the fitted factor-factor interaction matrix; however, its interpretation is that it measures the extent to which each factor is influenced by the prior information. In practice many of these values are zero, indicating that they are estimated without bias introduced by the annotation set. Eta is the full set of factor-factor interaction matrices, whose off diagonals measure the extent to which factors share the same genes. Rho and kappa are parameters that control the background rate of non-edges and edges respectively. These can be fixed throughout training (default) or estimated from the data by providing rho = None or kappa = None to the est_spectra() function or to model.train(). Finally gene scalings are correction factors that normalize each gene based on its mean expression value."
      ]
    },
    {
      "cell_type": "code",
      "execution_count": 23,
      "metadata": {},
      "outputs": [
        {
          "data": {
            "text/plain": [
              "array([9.64220822e-01, 8.95528257e-01, 9.43281591e-01, 8.64717245e-01,\n",
              "       9.13501978e-01, 9.74960685e-01, 5.83764195e-01, 7.16050506e-01,\n",
              "       9.70901191e-01, 8.86493623e-01, 8.27786148e-01, 9.31369245e-01,\n",
              "       8.68168950e-01, 9.02189732e-01, 8.18948805e-01, 8.15996289e-01,\n",
              "       7.72142887e-01, 9.25252140e-01, 9.19741750e-01, 7.63408840e-01,\n",
              "       8.10961902e-01, 8.13516378e-01, 9.19706345e-01, 8.89073730e-01,\n",
              "       9.84171569e-01, 9.46264684e-01, 7.37392902e-01, 9.78448391e-01,\n",
              "       7.27811396e-01, 5.36224902e-01, 5.86865723e-01, 7.01275647e-01,\n",
              "       7.87707269e-01, 9.42885935e-01, 9.36517775e-01, 9.44648445e-01,\n",
              "       9.47656035e-01, 8.30928802e-01, 9.12383735e-01, 6.78944945e-01,\n",
              "       9.70184445e-01, 9.10618305e-01, 8.35366547e-01, 9.39168513e-01,\n",
              "       7.03852355e-01, 4.16136950e-01, 8.09641361e-01, 9.52630222e-01,\n",
              "       6.94087982e-01, 7.42847323e-01, 9.56648827e-01, 9.49754000e-01,\n",
              "       7.68138707e-01, 8.91813636e-01, 8.34404528e-01, 8.53750587e-01,\n",
              "       7.19097495e-01, 9.29874063e-01, 9.35286164e-01, 7.45102406e-01,\n",
              "       8.14198375e-01, 8.47383201e-01, 9.23853397e-01, 9.34642017e-01,\n",
              "       6.08634710e-01, 6.34619474e-01, 7.90011704e-01, 9.55559850e-01,\n",
              "       9.52876270e-01, 7.53111839e-01, 8.50393176e-01, 9.26126599e-01,\n",
              "       7.07710743e-01, 9.19084787e-01, 7.40379572e-01, 9.29751575e-01,\n",
              "       8.01093042e-01, 8.89674485e-01, 9.11276937e-01, 7.57257998e-01,\n",
              "       9.42406297e-01, 6.04286492e-01, 7.67688751e-01, 3.88955384e-01,\n",
              "       7.94949234e-01, 9.38745499e-01, 9.61937010e-01, 7.10381806e-01,\n",
              "       6.08531117e-01, 8.85183275e-01, 9.15782988e-01, 7.45308518e-01,\n",
              "       9.59219217e-01, 8.82324100e-01, 8.79738748e-01, 9.01050270e-01,\n",
              "       5.07119775e-01, 8.30972970e-01, 9.13662851e-01, 9.05121505e-01,\n",
              "       7.24235237e-01, 9.21187222e-01, 8.83109331e-01, 7.40168154e-01,\n",
              "       7.12365687e-01, 6.39992297e-01, 8.85181427e-01, 9.37980652e-01,\n",
              "       8.72426808e-01, 7.19306469e-01, 9.04935539e-01, 8.56588304e-01,\n",
              "       6.98024690e-01, 9.66654718e-01, 7.60756731e-01, 8.83679390e-01,\n",
              "       8.74618948e-01, 8.01725745e-01, 7.62623131e-01, 8.75467062e-01,\n",
              "       9.21275198e-01, 8.79040182e-01, 9.45788503e-01, 9.17117476e-01,\n",
              "       8.87711883e-01, 8.97130847e-01, 7.69885421e-01, 7.70191491e-01,\n",
              "       8.52630556e-01, 6.19308949e-01, 8.96715701e-01, 7.74454117e-01,\n",
              "       7.99532890e-01, 8.06957066e-01, 6.09781802e-01, 4.15252626e-01,\n",
              "       8.63480866e-01, 9.62411940e-01, 8.08207035e-01, 9.02359128e-01,\n",
              "       9.40346897e-01, 8.78798902e-01, 9.06746328e-01, 7.34387398e-01,\n",
              "       5.64363003e-01, 3.45781624e-01, 5.78530550e-01, 5.91511607e-01,\n",
              "       8.47858071e-01, 9.38894153e-01, 2.10725404e-12, 8.78155708e-01,\n",
              "       9.02650833e-01, 8.18747938e-01, 8.29830825e-01, 4.63760674e-01,\n",
              "       2.10829943e-12, 8.90941143e-01, 9.20925021e-01, 9.10947800e-01,\n",
              "       9.60354328e-01, 7.72360742e-01, 9.71153080e-01, 8.22981179e-01,\n",
              "       8.78128231e-01, 9.46312785e-01, 6.22811973e-01, 9.61243987e-01,\n",
              "       8.57442915e-01, 2.10711743e-12, 9.80758846e-01, 9.03927684e-01,\n",
              "       7.53819287e-01, 6.18884861e-01, 7.65368581e-01, 8.62202644e-01,\n",
              "       2.10705715e-12, 9.42652583e-01, 7.79196441e-01, 2.10959071e-12,\n",
              "       4.28929269e-01, 8.45256150e-01, 4.88885194e-01, 9.64323044e-01,\n",
              "       8.50186944e-01, 9.02850151e-01, 2.10745115e-12, 5.63497543e-01,\n",
              "       7.03447640e-01, 2.10779679e-12, 3.32953721e-01, 3.53651166e-01,\n",
              "       2.11448502e-12, 8.65868151e-01, 2.11559459e-12, 2.43498415e-01])"
            ]
          },
          "execution_count": 23,
          "metadata": {},
          "output_type": "execute_result"
        }
      ],
      "source": [
        "model.return_eta_diag()"
      ]
    },
    {
      "cell_type": "code",
      "execution_count": 24,
      "metadata": {},
      "outputs": [
        {
          "data": {
            "text/html": [
              "<div>\n",
              "<style scoped>\n",
              "    .dataframe tbody tr th:only-of-type {\n",
              "        vertical-align: middle;\n",
              "    }\n",
              "\n",
              "    .dataframe tbody tr th {\n",
              "        vertical-align: top;\n",
              "    }\n",
              "\n",
              "    .dataframe thead th {\n",
              "        text-align: right;\n",
              "    }\n",
              "</style>\n",
              "<table border=\"1\" class=\"dataframe\">\n",
              "  <thead>\n",
              "    <tr style=\"text-align: right;\">\n",
              "      <th></th>\n",
              "      <th>B_Breg_UP</th>\n",
              "      <th>B_effector-2_UP</th>\n",
              "      <th>B_effector-1_UP</th>\n",
              "      <th>B_IgM-ligation_response</th>\n",
              "      <th>CD4-T_IL12_response</th>\n",
              "      <th>TNK_IL2_response</th>\n",
              "      <th>CD4-T_TH22_UP</th>\n",
              "      <th>CD4-T_TH17_UP</th>\n",
              "      <th>TNK_IL2-STAT5-signaling</th>\n",
              "      <th>T_IL21_response</th>\n",
              "      <th>...</th>\n",
              "      <th>all_thiamin_metabolism</th>\n",
              "      <th>all_NOTCH_signaling</th>\n",
              "      <th>all_galactose_metabolism</th>\n",
              "      <th>all_MYC_targets</th>\n",
              "      <th>all_GLU_metabolism</th>\n",
              "      <th>all_fatty-acid_synthesis</th>\n",
              "      <th>all_glycolysis</th>\n",
              "      <th>all_glutathione_metabolism</th>\n",
              "      <th>all_IL6-JAK-STAT3_signaling</th>\n",
              "      <th>all_autophagy-chaperone-mediated</th>\n",
              "    </tr>\n",
              "  </thead>\n",
              "  <tbody>\n",
              "    <tr>\n",
              "      <th>0-X-global-X-all_biotin_metabolism</th>\n",
              "      <td>0.0</td>\n",
              "      <td>0.0</td>\n",
              "      <td>0.0</td>\n",
              "      <td>0.00</td>\n",
              "      <td>0.0</td>\n",
              "      <td>0.0</td>\n",
              "      <td>0.0</td>\n",
              "      <td>0.0</td>\n",
              "      <td>0.00</td>\n",
              "      <td>0.0</td>\n",
              "      <td>...</td>\n",
              "      <td>0.0</td>\n",
              "      <td>0.00</td>\n",
              "      <td>0.000000</td>\n",
              "      <td>0.04</td>\n",
              "      <td>0.00</td>\n",
              "      <td>0.000000</td>\n",
              "      <td>0.000000</td>\n",
              "      <td>0.0</td>\n",
              "      <td>0.00</td>\n",
              "      <td>0.0</td>\n",
              "    </tr>\n",
              "    <tr>\n",
              "      <th>1-X-global-X-all_purine_synthesis</th>\n",
              "      <td>0.0</td>\n",
              "      <td>0.0</td>\n",
              "      <td>0.0</td>\n",
              "      <td>0.00</td>\n",
              "      <td>0.0</td>\n",
              "      <td>0.0</td>\n",
              "      <td>0.0</td>\n",
              "      <td>0.0</td>\n",
              "      <td>0.08</td>\n",
              "      <td>0.0</td>\n",
              "      <td>...</td>\n",
              "      <td>0.0</td>\n",
              "      <td>0.00</td>\n",
              "      <td>0.000000</td>\n",
              "      <td>0.04</td>\n",
              "      <td>0.00</td>\n",
              "      <td>0.000000</td>\n",
              "      <td>0.000000</td>\n",
              "      <td>0.0</td>\n",
              "      <td>0.00</td>\n",
              "      <td>0.0</td>\n",
              "    </tr>\n",
              "    <tr>\n",
              "      <th>2-X-global-X-all_ethanol_metabolism</th>\n",
              "      <td>0.0</td>\n",
              "      <td>0.0</td>\n",
              "      <td>0.0</td>\n",
              "      <td>0.04</td>\n",
              "      <td>0.0</td>\n",
              "      <td>0.0</td>\n",
              "      <td>0.0</td>\n",
              "      <td>0.0</td>\n",
              "      <td>0.00</td>\n",
              "      <td>0.0</td>\n",
              "      <td>...</td>\n",
              "      <td>0.0</td>\n",
              "      <td>0.00</td>\n",
              "      <td>0.000000</td>\n",
              "      <td>0.04</td>\n",
              "      <td>0.00</td>\n",
              "      <td>0.000000</td>\n",
              "      <td>0.000000</td>\n",
              "      <td>0.0</td>\n",
              "      <td>0.00</td>\n",
              "      <td>0.0</td>\n",
              "    </tr>\n",
              "    <tr>\n",
              "      <th>3-X-global-X-all_amino-sugar-nucleotide-sugar_metabolism</th>\n",
              "      <td>0.0</td>\n",
              "      <td>0.0</td>\n",
              "      <td>0.0</td>\n",
              "      <td>0.00</td>\n",
              "      <td>0.0</td>\n",
              "      <td>0.0</td>\n",
              "      <td>0.0</td>\n",
              "      <td>0.0</td>\n",
              "      <td>0.00</td>\n",
              "      <td>0.0</td>\n",
              "      <td>...</td>\n",
              "      <td>0.0</td>\n",
              "      <td>0.00</td>\n",
              "      <td>0.055556</td>\n",
              "      <td>0.00</td>\n",
              "      <td>0.00</td>\n",
              "      <td>0.000000</td>\n",
              "      <td>0.041667</td>\n",
              "      <td>0.0</td>\n",
              "      <td>0.00</td>\n",
              "      <td>0.0</td>\n",
              "    </tr>\n",
              "    <tr>\n",
              "      <th>4-X-global-X-all_steroid_metabolism</th>\n",
              "      <td>0.0</td>\n",
              "      <td>0.0</td>\n",
              "      <td>0.0</td>\n",
              "      <td>0.00</td>\n",
              "      <td>0.0</td>\n",
              "      <td>0.0</td>\n",
              "      <td>0.0</td>\n",
              "      <td>0.0</td>\n",
              "      <td>0.00</td>\n",
              "      <td>0.0</td>\n",
              "      <td>...</td>\n",
              "      <td>0.0</td>\n",
              "      <td>0.00</td>\n",
              "      <td>0.000000</td>\n",
              "      <td>0.00</td>\n",
              "      <td>0.00</td>\n",
              "      <td>0.041667</td>\n",
              "      <td>0.000000</td>\n",
              "      <td>0.0</td>\n",
              "      <td>0.00</td>\n",
              "      <td>0.0</td>\n",
              "    </tr>\n",
              "    <tr>\n",
              "      <th>...</th>\n",
              "      <td>...</td>\n",
              "      <td>...</td>\n",
              "      <td>...</td>\n",
              "      <td>...</td>\n",
              "      <td>...</td>\n",
              "      <td>...</td>\n",
              "      <td>...</td>\n",
              "      <td>...</td>\n",
              "      <td>...</td>\n",
              "      <td>...</td>\n",
              "      <td>...</td>\n",
              "      <td>...</td>\n",
              "      <td>...</td>\n",
              "      <td>...</td>\n",
              "      <td>...</td>\n",
              "      <td>...</td>\n",
              "      <td>...</td>\n",
              "      <td>...</td>\n",
              "      <td>...</td>\n",
              "      <td>...</td>\n",
              "      <td>...</td>\n",
              "    </tr>\n",
              "    <tr>\n",
              "      <th>191-X-mast-X-mast_granule-exocytosis</th>\n",
              "      <td>0.0</td>\n",
              "      <td>0.0</td>\n",
              "      <td>0.0</td>\n",
              "      <td>0.00</td>\n",
              "      <td>0.0</td>\n",
              "      <td>0.0</td>\n",
              "      <td>0.0</td>\n",
              "      <td>0.0</td>\n",
              "      <td>0.00</td>\n",
              "      <td>0.0</td>\n",
              "      <td>...</td>\n",
              "      <td>0.0</td>\n",
              "      <td>0.00</td>\n",
              "      <td>0.000000</td>\n",
              "      <td>0.00</td>\n",
              "      <td>0.00</td>\n",
              "      <td>0.000000</td>\n",
              "      <td>0.000000</td>\n",
              "      <td>0.0</td>\n",
              "      <td>0.04</td>\n",
              "      <td>0.0</td>\n",
              "    </tr>\n",
              "    <tr>\n",
              "      <th>192-X-mast-X-192</th>\n",
              "      <td>0.0</td>\n",
              "      <td>0.0</td>\n",
              "      <td>0.0</td>\n",
              "      <td>0.00</td>\n",
              "      <td>0.0</td>\n",
              "      <td>0.0</td>\n",
              "      <td>0.0</td>\n",
              "      <td>0.0</td>\n",
              "      <td>0.00</td>\n",
              "      <td>0.0</td>\n",
              "      <td>...</td>\n",
              "      <td>0.0</td>\n",
              "      <td>0.04</td>\n",
              "      <td>0.000000</td>\n",
              "      <td>0.00</td>\n",
              "      <td>0.04</td>\n",
              "      <td>0.000000</td>\n",
              "      <td>0.000000</td>\n",
              "      <td>0.0</td>\n",
              "      <td>0.00</td>\n",
              "      <td>0.0</td>\n",
              "    </tr>\n",
              "    <tr>\n",
              "      <th>193-X-pDC-X-p-DC_CpG-TLR9_response</th>\n",
              "      <td>0.0</td>\n",
              "      <td>0.0</td>\n",
              "      <td>0.0</td>\n",
              "      <td>0.00</td>\n",
              "      <td>0.0</td>\n",
              "      <td>0.0</td>\n",
              "      <td>0.0</td>\n",
              "      <td>0.0</td>\n",
              "      <td>0.04</td>\n",
              "      <td>0.0</td>\n",
              "      <td>...</td>\n",
              "      <td>0.0</td>\n",
              "      <td>0.00</td>\n",
              "      <td>0.000000</td>\n",
              "      <td>0.00</td>\n",
              "      <td>0.00</td>\n",
              "      <td>0.000000</td>\n",
              "      <td>0.000000</td>\n",
              "      <td>0.0</td>\n",
              "      <td>0.00</td>\n",
              "      <td>0.0</td>\n",
              "    </tr>\n",
              "    <tr>\n",
              "      <th>194-X-pDC-X-194</th>\n",
              "      <td>0.0</td>\n",
              "      <td>0.0</td>\n",
              "      <td>0.0</td>\n",
              "      <td>0.00</td>\n",
              "      <td>0.0</td>\n",
              "      <td>0.0</td>\n",
              "      <td>0.0</td>\n",
              "      <td>0.0</td>\n",
              "      <td>0.04</td>\n",
              "      <td>0.0</td>\n",
              "      <td>...</td>\n",
              "      <td>0.0</td>\n",
              "      <td>0.00</td>\n",
              "      <td>0.000000</td>\n",
              "      <td>0.08</td>\n",
              "      <td>0.00</td>\n",
              "      <td>0.000000</td>\n",
              "      <td>0.000000</td>\n",
              "      <td>0.0</td>\n",
              "      <td>0.00</td>\n",
              "      <td>0.0</td>\n",
              "    </tr>\n",
              "    <tr>\n",
              "      <th>195-X-plasma-X-195</th>\n",
              "      <td>0.0</td>\n",
              "      <td>0.0</td>\n",
              "      <td>0.0</td>\n",
              "      <td>0.04</td>\n",
              "      <td>0.0</td>\n",
              "      <td>0.0</td>\n",
              "      <td>0.0</td>\n",
              "      <td>0.0</td>\n",
              "      <td>0.00</td>\n",
              "      <td>0.0</td>\n",
              "      <td>...</td>\n",
              "      <td>0.0</td>\n",
              "      <td>0.00</td>\n",
              "      <td>0.000000</td>\n",
              "      <td>0.00</td>\n",
              "      <td>0.00</td>\n",
              "      <td>0.000000</td>\n",
              "      <td>0.000000</td>\n",
              "      <td>0.0</td>\n",
              "      <td>0.00</td>\n",
              "      <td>0.0</td>\n",
              "    </tr>\n",
              "  </tbody>\n",
              "</table>\n",
              "<p>196 rows × 181 columns</p>\n",
              "</div>"
            ],
            "text/plain": [
              "                                                    B_Breg_UP   \n",
              "0-X-global-X-all_biotin_metabolism                        0.0  \\\n",
              "1-X-global-X-all_purine_synthesis                         0.0   \n",
              "2-X-global-X-all_ethanol_metabolism                       0.0   \n",
              "3-X-global-X-all_amino-sugar-nucleotide-sugar_m...        0.0   \n",
              "4-X-global-X-all_steroid_metabolism                       0.0   \n",
              "...                                                       ...   \n",
              "191-X-mast-X-mast_granule-exocytosis                      0.0   \n",
              "192-X-mast-X-192                                          0.0   \n",
              "193-X-pDC-X-p-DC_CpG-TLR9_response                        0.0   \n",
              "194-X-pDC-X-194                                           0.0   \n",
              "195-X-plasma-X-195                                        0.0   \n",
              "\n",
              "                                                    B_effector-2_UP   \n",
              "0-X-global-X-all_biotin_metabolism                              0.0  \\\n",
              "1-X-global-X-all_purine_synthesis                               0.0   \n",
              "2-X-global-X-all_ethanol_metabolism                             0.0   \n",
              "3-X-global-X-all_amino-sugar-nucleotide-sugar_m...              0.0   \n",
              "4-X-global-X-all_steroid_metabolism                             0.0   \n",
              "...                                                             ...   \n",
              "191-X-mast-X-mast_granule-exocytosis                            0.0   \n",
              "192-X-mast-X-192                                                0.0   \n",
              "193-X-pDC-X-p-DC_CpG-TLR9_response                              0.0   \n",
              "194-X-pDC-X-194                                                 0.0   \n",
              "195-X-plasma-X-195                                              0.0   \n",
              "\n",
              "                                                    B_effector-1_UP   \n",
              "0-X-global-X-all_biotin_metabolism                              0.0  \\\n",
              "1-X-global-X-all_purine_synthesis                               0.0   \n",
              "2-X-global-X-all_ethanol_metabolism                             0.0   \n",
              "3-X-global-X-all_amino-sugar-nucleotide-sugar_m...              0.0   \n",
              "4-X-global-X-all_steroid_metabolism                             0.0   \n",
              "...                                                             ...   \n",
              "191-X-mast-X-mast_granule-exocytosis                            0.0   \n",
              "192-X-mast-X-192                                                0.0   \n",
              "193-X-pDC-X-p-DC_CpG-TLR9_response                              0.0   \n",
              "194-X-pDC-X-194                                                 0.0   \n",
              "195-X-plasma-X-195                                              0.0   \n",
              "\n",
              "                                                    B_IgM-ligation_response   \n",
              "0-X-global-X-all_biotin_metabolism                                     0.00  \\\n",
              "1-X-global-X-all_purine_synthesis                                      0.00   \n",
              "2-X-global-X-all_ethanol_metabolism                                    0.04   \n",
              "3-X-global-X-all_amino-sugar-nucleotide-sugar_m...                     0.00   \n",
              "4-X-global-X-all_steroid_metabolism                                    0.00   \n",
              "...                                                                     ...   \n",
              "191-X-mast-X-mast_granule-exocytosis                                   0.00   \n",
              "192-X-mast-X-192                                                       0.00   \n",
              "193-X-pDC-X-p-DC_CpG-TLR9_response                                     0.00   \n",
              "194-X-pDC-X-194                                                        0.00   \n",
              "195-X-plasma-X-195                                                     0.04   \n",
              "\n",
              "                                                    CD4-T_IL12_response   \n",
              "0-X-global-X-all_biotin_metabolism                                  0.0  \\\n",
              "1-X-global-X-all_purine_synthesis                                   0.0   \n",
              "2-X-global-X-all_ethanol_metabolism                                 0.0   \n",
              "3-X-global-X-all_amino-sugar-nucleotide-sugar_m...                  0.0   \n",
              "4-X-global-X-all_steroid_metabolism                                 0.0   \n",
              "...                                                                 ...   \n",
              "191-X-mast-X-mast_granule-exocytosis                                0.0   \n",
              "192-X-mast-X-192                                                    0.0   \n",
              "193-X-pDC-X-p-DC_CpG-TLR9_response                                  0.0   \n",
              "194-X-pDC-X-194                                                     0.0   \n",
              "195-X-plasma-X-195                                                  0.0   \n",
              "\n",
              "                                                    TNK_IL2_response   \n",
              "0-X-global-X-all_biotin_metabolism                               0.0  \\\n",
              "1-X-global-X-all_purine_synthesis                                0.0   \n",
              "2-X-global-X-all_ethanol_metabolism                              0.0   \n",
              "3-X-global-X-all_amino-sugar-nucleotide-sugar_m...               0.0   \n",
              "4-X-global-X-all_steroid_metabolism                              0.0   \n",
              "...                                                              ...   \n",
              "191-X-mast-X-mast_granule-exocytosis                             0.0   \n",
              "192-X-mast-X-192                                                 0.0   \n",
              "193-X-pDC-X-p-DC_CpG-TLR9_response                               0.0   \n",
              "194-X-pDC-X-194                                                  0.0   \n",
              "195-X-plasma-X-195                                               0.0   \n",
              "\n",
              "                                                    CD4-T_TH22_UP   \n",
              "0-X-global-X-all_biotin_metabolism                            0.0  \\\n",
              "1-X-global-X-all_purine_synthesis                             0.0   \n",
              "2-X-global-X-all_ethanol_metabolism                           0.0   \n",
              "3-X-global-X-all_amino-sugar-nucleotide-sugar_m...            0.0   \n",
              "4-X-global-X-all_steroid_metabolism                           0.0   \n",
              "...                                                           ...   \n",
              "191-X-mast-X-mast_granule-exocytosis                          0.0   \n",
              "192-X-mast-X-192                                              0.0   \n",
              "193-X-pDC-X-p-DC_CpG-TLR9_response                            0.0   \n",
              "194-X-pDC-X-194                                               0.0   \n",
              "195-X-plasma-X-195                                            0.0   \n",
              "\n",
              "                                                    CD4-T_TH17_UP   \n",
              "0-X-global-X-all_biotin_metabolism                            0.0  \\\n",
              "1-X-global-X-all_purine_synthesis                             0.0   \n",
              "2-X-global-X-all_ethanol_metabolism                           0.0   \n",
              "3-X-global-X-all_amino-sugar-nucleotide-sugar_m...            0.0   \n",
              "4-X-global-X-all_steroid_metabolism                           0.0   \n",
              "...                                                           ...   \n",
              "191-X-mast-X-mast_granule-exocytosis                          0.0   \n",
              "192-X-mast-X-192                                              0.0   \n",
              "193-X-pDC-X-p-DC_CpG-TLR9_response                            0.0   \n",
              "194-X-pDC-X-194                                               0.0   \n",
              "195-X-plasma-X-195                                            0.0   \n",
              "\n",
              "                                                    TNK_IL2-STAT5-signaling   \n",
              "0-X-global-X-all_biotin_metabolism                                     0.00  \\\n",
              "1-X-global-X-all_purine_synthesis                                      0.08   \n",
              "2-X-global-X-all_ethanol_metabolism                                    0.00   \n",
              "3-X-global-X-all_amino-sugar-nucleotide-sugar_m...                     0.00   \n",
              "4-X-global-X-all_steroid_metabolism                                    0.00   \n",
              "...                                                                     ...   \n",
              "191-X-mast-X-mast_granule-exocytosis                                   0.00   \n",
              "192-X-mast-X-192                                                       0.00   \n",
              "193-X-pDC-X-p-DC_CpG-TLR9_response                                     0.04   \n",
              "194-X-pDC-X-194                                                        0.04   \n",
              "195-X-plasma-X-195                                                     0.00   \n",
              "\n",
              "                                                    T_IL21_response  ...   \n",
              "0-X-global-X-all_biotin_metabolism                              0.0  ...  \\\n",
              "1-X-global-X-all_purine_synthesis                               0.0  ...   \n",
              "2-X-global-X-all_ethanol_metabolism                             0.0  ...   \n",
              "3-X-global-X-all_amino-sugar-nucleotide-sugar_m...              0.0  ...   \n",
              "4-X-global-X-all_steroid_metabolism                             0.0  ...   \n",
              "...                                                             ...  ...   \n",
              "191-X-mast-X-mast_granule-exocytosis                            0.0  ...   \n",
              "192-X-mast-X-192                                                0.0  ...   \n",
              "193-X-pDC-X-p-DC_CpG-TLR9_response                              0.0  ...   \n",
              "194-X-pDC-X-194                                                 0.0  ...   \n",
              "195-X-plasma-X-195                                              0.0  ...   \n",
              "\n",
              "                                                    all_thiamin_metabolism   \n",
              "0-X-global-X-all_biotin_metabolism                                     0.0  \\\n",
              "1-X-global-X-all_purine_synthesis                                      0.0   \n",
              "2-X-global-X-all_ethanol_metabolism                                    0.0   \n",
              "3-X-global-X-all_amino-sugar-nucleotide-sugar_m...                     0.0   \n",
              "4-X-global-X-all_steroid_metabolism                                    0.0   \n",
              "...                                                                    ...   \n",
              "191-X-mast-X-mast_granule-exocytosis                                   0.0   \n",
              "192-X-mast-X-192                                                       0.0   \n",
              "193-X-pDC-X-p-DC_CpG-TLR9_response                                     0.0   \n",
              "194-X-pDC-X-194                                                        0.0   \n",
              "195-X-plasma-X-195                                                     0.0   \n",
              "\n",
              "                                                    all_NOTCH_signaling   \n",
              "0-X-global-X-all_biotin_metabolism                                 0.00  \\\n",
              "1-X-global-X-all_purine_synthesis                                  0.00   \n",
              "2-X-global-X-all_ethanol_metabolism                                0.00   \n",
              "3-X-global-X-all_amino-sugar-nucleotide-sugar_m...                 0.00   \n",
              "4-X-global-X-all_steroid_metabolism                                0.00   \n",
              "...                                                                 ...   \n",
              "191-X-mast-X-mast_granule-exocytosis                               0.00   \n",
              "192-X-mast-X-192                                                   0.04   \n",
              "193-X-pDC-X-p-DC_CpG-TLR9_response                                 0.00   \n",
              "194-X-pDC-X-194                                                    0.00   \n",
              "195-X-plasma-X-195                                                 0.00   \n",
              "\n",
              "                                                    all_galactose_metabolism   \n",
              "0-X-global-X-all_biotin_metabolism                                  0.000000  \\\n",
              "1-X-global-X-all_purine_synthesis                                   0.000000   \n",
              "2-X-global-X-all_ethanol_metabolism                                 0.000000   \n",
              "3-X-global-X-all_amino-sugar-nucleotide-sugar_m...                  0.055556   \n",
              "4-X-global-X-all_steroid_metabolism                                 0.000000   \n",
              "...                                                                      ...   \n",
              "191-X-mast-X-mast_granule-exocytosis                                0.000000   \n",
              "192-X-mast-X-192                                                    0.000000   \n",
              "193-X-pDC-X-p-DC_CpG-TLR9_response                                  0.000000   \n",
              "194-X-pDC-X-194                                                     0.000000   \n",
              "195-X-plasma-X-195                                                  0.000000   \n",
              "\n",
              "                                                    all_MYC_targets   \n",
              "0-X-global-X-all_biotin_metabolism                             0.04  \\\n",
              "1-X-global-X-all_purine_synthesis                              0.04   \n",
              "2-X-global-X-all_ethanol_metabolism                            0.04   \n",
              "3-X-global-X-all_amino-sugar-nucleotide-sugar_m...             0.00   \n",
              "4-X-global-X-all_steroid_metabolism                            0.00   \n",
              "...                                                             ...   \n",
              "191-X-mast-X-mast_granule-exocytosis                           0.00   \n",
              "192-X-mast-X-192                                               0.00   \n",
              "193-X-pDC-X-p-DC_CpG-TLR9_response                             0.00   \n",
              "194-X-pDC-X-194                                                0.08   \n",
              "195-X-plasma-X-195                                             0.00   \n",
              "\n",
              "                                                    all_GLU_metabolism   \n",
              "0-X-global-X-all_biotin_metabolism                                0.00  \\\n",
              "1-X-global-X-all_purine_synthesis                                 0.00   \n",
              "2-X-global-X-all_ethanol_metabolism                               0.00   \n",
              "3-X-global-X-all_amino-sugar-nucleotide-sugar_m...                0.00   \n",
              "4-X-global-X-all_steroid_metabolism                               0.00   \n",
              "...                                                                ...   \n",
              "191-X-mast-X-mast_granule-exocytosis                              0.00   \n",
              "192-X-mast-X-192                                                  0.04   \n",
              "193-X-pDC-X-p-DC_CpG-TLR9_response                                0.00   \n",
              "194-X-pDC-X-194                                                   0.00   \n",
              "195-X-plasma-X-195                                                0.00   \n",
              "\n",
              "                                                    all_fatty-acid_synthesis   \n",
              "0-X-global-X-all_biotin_metabolism                                  0.000000  \\\n",
              "1-X-global-X-all_purine_synthesis                                   0.000000   \n",
              "2-X-global-X-all_ethanol_metabolism                                 0.000000   \n",
              "3-X-global-X-all_amino-sugar-nucleotide-sugar_m...                  0.000000   \n",
              "4-X-global-X-all_steroid_metabolism                                 0.041667   \n",
              "...                                                                      ...   \n",
              "191-X-mast-X-mast_granule-exocytosis                                0.000000   \n",
              "192-X-mast-X-192                                                    0.000000   \n",
              "193-X-pDC-X-p-DC_CpG-TLR9_response                                  0.000000   \n",
              "194-X-pDC-X-194                                                     0.000000   \n",
              "195-X-plasma-X-195                                                  0.000000   \n",
              "\n",
              "                                                    all_glycolysis   \n",
              "0-X-global-X-all_biotin_metabolism                        0.000000  \\\n",
              "1-X-global-X-all_purine_synthesis                         0.000000   \n",
              "2-X-global-X-all_ethanol_metabolism                       0.000000   \n",
              "3-X-global-X-all_amino-sugar-nucleotide-sugar_m...        0.041667   \n",
              "4-X-global-X-all_steroid_metabolism                       0.000000   \n",
              "...                                                            ...   \n",
              "191-X-mast-X-mast_granule-exocytosis                      0.000000   \n",
              "192-X-mast-X-192                                          0.000000   \n",
              "193-X-pDC-X-p-DC_CpG-TLR9_response                        0.000000   \n",
              "194-X-pDC-X-194                                           0.000000   \n",
              "195-X-plasma-X-195                                        0.000000   \n",
              "\n",
              "                                                    all_glutathione_metabolism   \n",
              "0-X-global-X-all_biotin_metabolism                                         0.0  \\\n",
              "1-X-global-X-all_purine_synthesis                                          0.0   \n",
              "2-X-global-X-all_ethanol_metabolism                                        0.0   \n",
              "3-X-global-X-all_amino-sugar-nucleotide-sugar_m...                         0.0   \n",
              "4-X-global-X-all_steroid_metabolism                                        0.0   \n",
              "...                                                                        ...   \n",
              "191-X-mast-X-mast_granule-exocytosis                                       0.0   \n",
              "192-X-mast-X-192                                                           0.0   \n",
              "193-X-pDC-X-p-DC_CpG-TLR9_response                                         0.0   \n",
              "194-X-pDC-X-194                                                            0.0   \n",
              "195-X-plasma-X-195                                                         0.0   \n",
              "\n",
              "                                                    all_IL6-JAK-STAT3_signaling   \n",
              "0-X-global-X-all_biotin_metabolism                                         0.00  \\\n",
              "1-X-global-X-all_purine_synthesis                                          0.00   \n",
              "2-X-global-X-all_ethanol_metabolism                                        0.00   \n",
              "3-X-global-X-all_amino-sugar-nucleotide-sugar_m...                         0.00   \n",
              "4-X-global-X-all_steroid_metabolism                                        0.00   \n",
              "...                                                                         ...   \n",
              "191-X-mast-X-mast_granule-exocytosis                                       0.04   \n",
              "192-X-mast-X-192                                                           0.00   \n",
              "193-X-pDC-X-p-DC_CpG-TLR9_response                                         0.00   \n",
              "194-X-pDC-X-194                                                            0.00   \n",
              "195-X-plasma-X-195                                                         0.00   \n",
              "\n",
              "                                                    all_autophagy-chaperone-mediated  \n",
              "0-X-global-X-all_biotin_metabolism                                               0.0  \n",
              "1-X-global-X-all_purine_synthesis                                                0.0  \n",
              "2-X-global-X-all_ethanol_metabolism                                              0.0  \n",
              "3-X-global-X-all_amino-sugar-nucleotide-sugar_m...                               0.0  \n",
              "4-X-global-X-all_steroid_metabolism                                              0.0  \n",
              "...                                                                              ...  \n",
              "191-X-mast-X-mast_granule-exocytosis                                             0.0  \n",
              "192-X-mast-X-192                                                                 0.0  \n",
              "193-X-pDC-X-p-DC_CpG-TLR9_response                                               0.0  \n",
              "194-X-pDC-X-194                                                                  0.0  \n",
              "195-X-plasma-X-195                                                               0.0  \n",
              "\n",
              "[196 rows x 181 columns]"
            ]
          },
          "execution_count": 24,
          "metadata": {},
          "output_type": "execute_result"
        }
      ],
      "source": [
        "adata.uns['SPECTRA_overlap']"
      ]
    },
    {
      "attachments": {},
      "cell_type": "markdown",
      "metadata": {},
      "source": [
        "Examine the parameters of the underlying internal model:"
      ]
    },
    {
      "cell_type": "code",
      "execution_count": 25,
      "metadata": {},
      "outputs": [
        {
          "data": {
            "text/plain": [
              "SPECTRA(\n",
              "  (theta): ParameterDict(\n",
              "      (global): Parameter containing: [torch.FloatTensor of size 6392x151]\n",
              "      (B_GC): Parameter containing: [torch.FloatTensor of size 6392x1]\n",
              "      (B_memory): Parameter containing: [torch.FloatTensor of size 6392x5]\n",
              "      (B_naive): Parameter containing: [torch.FloatTensor of size 6392x1]\n",
              "      (CD4_T): Parameter containing: [torch.FloatTensor of size 6392x12]\n",
              "      (CD8_T): Parameter containing: [torch.FloatTensor of size 6392x7]\n",
              "      (DC): Parameter containing: [torch.FloatTensor of size 6392x3]\n",
              "      (ILC3): Parameter containing: [torch.FloatTensor of size 6392x1]\n",
              "      (MDC): Parameter containing: [torch.FloatTensor of size 6392x6]\n",
              "      (NK): Parameter containing: [torch.FloatTensor of size 6392x1]\n",
              "      (Treg): Parameter containing: [torch.FloatTensor of size 6392x2]\n",
              "      (gdT): Parameter containing: [torch.FloatTensor of size 6392x1]\n",
              "      (mast): Parameter containing: [torch.FloatTensor of size 6392x2]\n",
              "      (pDC): Parameter containing: [torch.FloatTensor of size 6392x2]\n",
              "      (plasma): Parameter containing: [torch.FloatTensor of size 6392x1]\n",
              "  )\n",
              "  (alpha): ParameterDict(\n",
              "      (B_GC): Parameter containing: [torch.FloatTensor of size 57x152]\n",
              "      (B_memory): Parameter containing: [torch.FloatTensor of size 522x156]\n",
              "      (B_naive): Parameter containing: [torch.FloatTensor of size 258x152]\n",
              "      (CD4_T): Parameter containing: [torch.FloatTensor of size 2643x163]\n",
              "      (CD8_T): Parameter containing: [torch.FloatTensor of size 3261x158]\n",
              "      (DC): Parameter containing: [torch.FloatTensor of size 275x154]\n",
              "      (ILC3): Parameter containing: [torch.FloatTensor of size 24x152]\n",
              "      (MDC): Parameter containing: [torch.FloatTensor of size 1214x157]\n",
              "      (NK): Parameter containing: [torch.FloatTensor of size 276x152]\n",
              "      (Treg): Parameter containing: [torch.FloatTensor of size 760x153]\n",
              "      (gdT): Parameter containing: [torch.FloatTensor of size 158x152]\n",
              "      (mast): Parameter containing: [torch.FloatTensor of size 98x153]\n",
              "      (pDC): Parameter containing: [torch.FloatTensor of size 86x153]\n",
              "      (plasma): Parameter containing: [torch.FloatTensor of size 368x152]\n",
              "  )\n",
              "  (eta): ParameterDict(\n",
              "      (global): Parameter containing: [torch.FloatTensor of size 151x151]\n",
              "      (B_GC): Parameter containing: [torch.FloatTensor of size 1x1]\n",
              "      (B_memory): Parameter containing: [torch.FloatTensor of size 5x5]\n",
              "      (B_naive): Parameter containing: [torch.FloatTensor of size 1x1]\n",
              "      (CD4_T): Parameter containing: [torch.FloatTensor of size 12x12]\n",
              "      (CD8_T): Parameter containing: [torch.FloatTensor of size 7x7]\n",
              "      (DC): Parameter containing: [torch.FloatTensor of size 3x3]\n",
              "      (ILC3): Parameter containing: [torch.FloatTensor of size 1x1]\n",
              "      (MDC): Parameter containing: [torch.FloatTensor of size 6x6]\n",
              "      (NK): Parameter containing: [torch.FloatTensor of size 1x1]\n",
              "      (Treg): Parameter containing: [torch.FloatTensor of size 2x2]\n",
              "      (gdT): Parameter containing: [torch.FloatTensor of size 1x1]\n",
              "      (mast): Parameter containing: [torch.FloatTensor of size 2x2]\n",
              "      (pDC): Parameter containing: [torch.FloatTensor of size 2x2]\n",
              "      (plasma): Parameter containing: [torch.FloatTensor of size 1x1]\n",
              "  )\n",
              "  (gene_scaling): ParameterDict(\n",
              "      (global): Parameter containing: [torch.FloatTensor of size 6392]\n",
              "      (B_GC): Parameter containing: [torch.FloatTensor of size 6392]\n",
              "      (B_memory): Parameter containing: [torch.FloatTensor of size 6392]\n",
              "      (B_naive): Parameter containing: [torch.FloatTensor of size 6392]\n",
              "      (CD4_T): Parameter containing: [torch.FloatTensor of size 6392]\n",
              "      (CD8_T): Parameter containing: [torch.FloatTensor of size 6392]\n",
              "      (DC): Parameter containing: [torch.FloatTensor of size 6392]\n",
              "      (ILC3): Parameter containing: [torch.FloatTensor of size 6392]\n",
              "      (MDC): Parameter containing: [torch.FloatTensor of size 6392]\n",
              "      (NK): Parameter containing: [torch.FloatTensor of size 6392]\n",
              "      (Treg): Parameter containing: [torch.FloatTensor of size 6392]\n",
              "      (gdT): Parameter containing: [torch.FloatTensor of size 6392]\n",
              "      (mast): Parameter containing: [torch.FloatTensor of size 6392]\n",
              "      (pDC): Parameter containing: [torch.FloatTensor of size 6392]\n",
              "      (plasma): Parameter containing: [torch.FloatTensor of size 6392]\n",
              "  )\n",
              "  (kappa): ParameterDict(\n",
              "      (B_GC): Parameter containing: [torch.DoubleTensor of size ]\n",
              "      (B_memory): Parameter containing: [torch.DoubleTensor of size ]\n",
              "      (B_naive): Parameter containing: [torch.DoubleTensor of size ]\n",
              "      (CD4_T): Parameter containing: [torch.DoubleTensor of size ]\n",
              "      (CD8_T): Parameter containing: [torch.DoubleTensor of size ]\n",
              "      (DC): Parameter containing: [torch.DoubleTensor of size ]\n",
              "      (ILC3): Parameter containing: [torch.DoubleTensor of size ]\n",
              "      (MDC): Parameter containing: [torch.DoubleTensor of size ]\n",
              "      (NK): Parameter containing: [torch.DoubleTensor of size ]\n",
              "      (Treg): Parameter containing: [torch.DoubleTensor of size ]\n",
              "      (gdT): Parameter containing: [torch.DoubleTensor of size ]\n",
              "      (global): Parameter containing: [torch.DoubleTensor of size ]\n",
              "      (mast): Parameter containing: [torch.DoubleTensor of size ]\n",
              "      (pDC): Parameter containing: [torch.DoubleTensor of size ]\n",
              "      (plasma): Parameter containing: [torch.DoubleTensor of size ]\n",
              "  )\n",
              "  (rho): ParameterDict(\n",
              "      (B_GC): Parameter containing: [torch.DoubleTensor of size ]\n",
              "      (B_memory): Parameter containing: [torch.DoubleTensor of size ]\n",
              "      (B_naive): Parameter containing: [torch.DoubleTensor of size ]\n",
              "      (CD4_T): Parameter containing: [torch.DoubleTensor of size ]\n",
              "      (CD8_T): Parameter containing: [torch.DoubleTensor of size ]\n",
              "      (DC): Parameter containing: [torch.DoubleTensor of size ]\n",
              "      (ILC3): Parameter containing: [torch.DoubleTensor of size ]\n",
              "      (MDC): Parameter containing: [torch.DoubleTensor of size ]\n",
              "      (NK): Parameter containing: [torch.DoubleTensor of size ]\n",
              "      (Treg): Parameter containing: [torch.DoubleTensor of size ]\n",
              "      (gdT): Parameter containing: [torch.DoubleTensor of size ]\n",
              "      (global): Parameter containing: [torch.DoubleTensor of size ]\n",
              "      (mast): Parameter containing: [torch.DoubleTensor of size ]\n",
              "      (pDC): Parameter containing: [torch.DoubleTensor of size ]\n",
              "      (plasma): Parameter containing: [torch.DoubleTensor of size ]\n",
              "  )\n",
              ")"
            ]
          },
          "execution_count": 25,
          "metadata": {},
          "output_type": "execute_result"
        }
      ],
      "source": [
        "model.internal_model"
      ]
    },
    {
      "cell_type": "code",
      "execution_count": 26,
      "metadata": {},
      "outputs": [],
      "source": [
        "#You can save the model like this (this way consumes a lot of storage but does not require the model parameters to load)\n",
        "import pickle\n",
        "with open('spectra_model.pickle', 'wb') as f:\n",
        "    pickle.dump(model, f, pickle.HIGHEST_PROTOCOL)"
      ]
    },
    {
      "cell_type": "code",
      "execution_count": 27,
      "metadata": {},
      "outputs": [],
      "source": [
        "#and load it like this:\n",
        "with open('spectra_model.pickle', 'rb') as f:\n",
        "    model = pickle.load(f)"
      ]
    },
    {
      "cell_type": "code",
      "execution_count": 28,
      "metadata": {},
      "outputs": [],
      "source": [
        "#this way needs less storage but requires the original adata, annotations and cell type annotations to load the model again\n",
        "model.save('spectra_model_compact')"
      ]
    },
    {
      "cell_type": "code",
      "execution_count": 29,
      "metadata": {},
      "outputs": [],
      "source": [
        "#load the model (you will need all the parameters indicated here)\n",
        "model = spc.load_from_pickle('spectra_model_compact',adata,gs_dict=annotations,cell_type_key='cell_type_annotations',\n",
        "                     )"
      ]
    },
    {
      "cell_type": "markdown",
      "metadata": {},
      "source": [
        "**fit model without cell type annotations**\n",
        "\n",
        "You can also fit the model without using the cell type annotations. In this case, instead of a nested gene set annotation dictionary, supply a regular dictionary with gene set names as keys (str) and the gene sets as values (list of gene names/IDs which match the gene names/IDs in the adata.var_names)"
      ]
    },
    {
      "cell_type": "code",
      "execution_count": 30,
      "metadata": {},
      "outputs": [
        {
          "name": "stderr",
          "output_type": "stream",
          "text": [
            "100%|██████████| 2/2 [00:08<00:00,  4.04s/it]\n"
          ]
        }
      ],
      "source": [
        "#fit the model (We will run this with only 2 epochs to decrease runtime in this tutorial)\n",
        "model_global = spc.est_spectra(adata = adata, gene_set_dictionary = annotations['global'], # because we do not use the cell types\n",
        "                                                                                    # we will supply a regular dict\n",
        "                                                                                    # instead of the nested dict above\n",
        "                        use_highly_variable = True, cell_type_key =None,# \"cell_type_annotations\" \n",
        "                        use_weights = True, lam = 0.1, \n",
        "                        delta=0.001,kappa = 0.00001, rho = 0.00001, \n",
        "                        use_cell_types = False, #set to False to not use the cell type annotations\n",
        "                        n_top_vals = 25, \n",
        "                        num_epochs=2 #for demonstration purposes we will only run 2 epochs, we recommend 10,000 epochs\n",
        "                       )\n",
        "\n"
      ]
    },
    {
      "cell_type": "code",
      "execution_count": 31,
      "metadata": {},
      "outputs": [
        {
          "data": {
            "text/plain": [
              "Index(['0-X-global-X-all_biotin_metabolism',\n",
              "       '1-X-global-X-all_purine_metabolism',\n",
              "       '2-X-global-X-all_ethanol_metabolism',\n",
              "       '3-X-global-X-all_amino-sugar-nucleotide-sugar_metabolism',\n",
              "       '4-X-global-X-all_steroid_metabolism',\n",
              "       '5-X-global-X-all_carnitine-shuttle', '6-X-global-X-all_TLR_signaling',\n",
              "       '7-X-global-X-all_phosphoinositide_signaling',\n",
              "       '8-X-global-X-all_microautophagy-lysosomal',\n",
              "       '9-X-global-X-all_TCA-cycle',\n",
              "       ...\n",
              "       '141-X-global-X-all_NOTCH_signaling',\n",
              "       '142-X-global-X-all_galactose_metabolism',\n",
              "       '143-X-global-X-all_MYC_targets', '144-X-global-X-all_GLU_metabolism',\n",
              "       '145-X-global-X-all_fatty-acid_synthesis',\n",
              "       '146-X-global-X-all_glycolysis',\n",
              "       '147-X-global-X-all_glutathione_metabolism',\n",
              "       '148-X-global-X-all_IL6-JAK-STAT3_signaling',\n",
              "       '149-X-global-X-all_autophagy-chaperone-mediated',\n",
              "       '150-X-global-X-150'],\n",
              "      dtype='object', length=151)"
            ]
          },
          "execution_count": 31,
          "metadata": {},
          "output_type": "execute_result"
        }
      ],
      "source": [
        "#show the labeled factors in the data:\n",
        "adata.uns['SPECTRA_overlap'].index"
      ]
    },
    {
      "cell_type": "code",
      "execution_count": 32,
      "metadata": {
        "colab": {
          "base_uri": "https://localhost:8080/",
          "height": 448
        },
        "id": "4vXRdI4SzOq9",
        "outputId": "4b1dc986-1453-4b19-bcc3-d4e18535be8f"
      },
      "outputs": [
        {
          "name": "stdout",
          "output_type": "stream",
          "text": [
            "plotting factor: 80-X-global-X-all_mTORC1_signaling\n"
          ]
        },
        {
          "data": {
            "image/png": "[encoded data removed]",
            "text/plain": [
              "<Figure size 640x480 with 2 Axes>"
            ]
          },
          "metadata": {},
          "output_type": "display_data"
        }
      ],
      "source": [
        "#visualize factor cell scores (this is poorly fitted bc we only ran 2 epochs)\n",
        "factor_of_interest = adata.uns['SPECTRA_overlap'].index[80]\n",
        "print('plotting factor:',adata.uns['SPECTRA_overlap'].index[80])\n",
        "\n",
        "#add cell scores to obs\n",
        "cell_scores = adata.obsm['SPECTRA_cell_scores'][:,0].astype(float)\n",
        "adata.obs[factor_of_interest] = cell_scores\n",
        "sc.pl.umap(adata,color=factor_of_interest,s=30,vmax=np.quantile(cell_scores,0.98))"
      ]
    },
    {
      "cell_type": "code",
      "execution_count": 33,
      "metadata": {
        "colab": {
          "base_uri": "https://localhost:8080/"
        },
        "id": "FOU3kk63zQ7x",
        "outputId": "158319b9-7622-42fd-bb1c-e84e8e04f218"
      },
      "outputs": [
        {
          "name": "stdout",
          "output_type": "stream",
          "text": [
            "Saved adata to: adata_spectra.h5ad\n"
          ]
        }
      ],
      "source": [
        "#save the adata\n",
        "adata_save_path = 'adata_spectra.h5ad'#where to save the adata to\n",
        "adata.write(adata_save_path)\n",
        "print('Saved adata to:',adata_save_path)"
      ]
    },
    {
      "attachments": {},
      "cell_type": "markdown",
      "metadata": {},
      "source": [
        "# Accessing the fitted gene-gene graph"
      ]
    },
    {
      "attachments": {},
      "cell_type": "markdown",
      "metadata": {},
      "source": [
        "One outcome of fitting spectra is to fit a gene-gene graph where edges represent similarities between latent variables associated with each gene (a smoothed version of transcriptional similarity) To access this for say, TNK cells; use the following"
      ]
    },
    {
      "cell_type": "code",
      "execution_count": 34,
      "metadata": {},
      "outputs": [
        {
          "data": {
            "text/plain": [
              "array([[6.45390630e-01, 1.53435498e-01, 1.08533162e-10, ...,\n",
              "        1.10661758e-10, 1.22895027e-10, 1.78572834e-01],\n",
              "       [1.53435498e-01, 9.58972633e-01, 9.18808848e-11, ...,\n",
              "        9.28180796e-11, 1.08566697e-10, 1.00385688e-01],\n",
              "       [1.08533162e-10, 9.18808848e-11, 2.10738284e-12, ...,\n",
              "        2.10738284e-12, 2.10738284e-12, 9.43645162e-11],\n",
              "       ...,\n",
              "       [1.10661758e-10, 9.28180796e-11, 2.10738284e-12, ...,\n",
              "        2.10738284e-12, 2.10738284e-12, 1.01764666e-10],\n",
              "       [1.22895027e-10, 1.08566697e-10, 2.10738284e-12, ...,\n",
              "        2.10738284e-12, 2.10738284e-12, 1.24791399e-10],\n",
              "       [1.78572834e-01, 1.00385688e-01, 9.43645162e-11, ...,\n",
              "        1.01764666e-10, 1.24791399e-10, 8.53426456e-01]], dtype=float32)"
            ]
          },
          "execution_count": 34,
          "metadata": {},
          "output_type": "execute_result"
        }
      ],
      "source": [
        "soft_graph = model_global.return_graph(ct = \"global\")\n",
        "soft_graph"
      ]
    },
    {
      "attachments": {},
      "cell_type": "markdown",
      "metadata": {},
      "source": [
        "for large numbers of genes its clumsy to visualize the whole graph - to visualize a subgraph formed around a particular list of genes, use:"
      ]
    },
    {
      "cell_type": "code",
      "execution_count": 35,
      "metadata": {},
      "outputs": [
        {
          "name": "stdout",
          "output_type": "stream",
          "text": [
            "Warning: When  cdn_resources is 'local' jupyter notebook has issues displaying graphics on chrome/safari. Use cdn_resources='in_line' or cdn_resources='remote' if you have issues viewing graphics in a notebook.\n",
            "test_graph.html\n"
          ]
        },
        {
          "data": {
            "text/html": [
              "\n",
              "        <iframe\n",
              "            width=\"100%\"\n",
              "            height=\"750px\"\n",
              "            src=\"test_graph.html\"\n",
              "            frameborder=\"0\"\n",
              "            allowfullscreen\n",
              "            \n",
              "        ></iframe>\n",
              "        "
            ],
            "text/plain": [
              "<IPython.lib.display.IFrame at 0x7fa9802fe5f0>"
            ]
          },
          "execution_count": 35,
          "metadata": {},
          "output_type": "execute_result"
        }
      ],
      "source": [
        "gene_set = list(adata.uns['SPECTRA_markers'][0])\n",
        "out = spc.graph_network(adata, soft_graph, gene_set)\n",
        "\n",
        "#this will not show in Google Colaboratory but you can open the file manually outside Google Colaboratory\n",
        "out.show(\"test_graph.html\")"
      ]
    },
    {
      "cell_type": "code",
      "execution_count": 36,
      "metadata": {},
      "outputs": [
        {
          "data": {
            "text/plain": [
              "(25,)"
            ]
          },
          "execution_count": 36,
          "metadata": {},
          "output_type": "execute_result"
        }
      ],
      "source": [
        "adata.uns['SPECTRA_markers'][0].shape"
      ]
    },
    {
      "attachments": {},
      "cell_type": "markdown",
      "metadata": {},
      "source": [
        "this will take N closest genes to your gene set and only visualize this subgraph. The interactive graph file gets saved as an html. To visualize multiple gene sets at the same time, we have a different version of the function that assigns a random color to each gene set:"
      ]
    },
    {
      "cell_type": "code",
      "execution_count": 37,
      "metadata": {},
      "outputs": [
        {
          "name": "stdout",
          "output_type": "stream",
          "text": [
            "Warning: When  cdn_resources is 'local' jupyter notebook has issues displaying graphics on chrome/safari. Use cdn_resources='in_line' or cdn_resources='remote' if you have issues viewing graphics in a notebook.\n",
            "test_graph.html\n"
          ]
        },
        {
          "data": {
            "text/html": [
              "\n",
              "        <iframe\n",
              "            width=\"100%\"\n",
              "            height=\"750px\"\n",
              "            src=\"test_graph.html\"\n",
              "            frameborder=\"0\"\n",
              "            allowfullscreen\n",
              "            \n",
              "        ></iframe>\n",
              "        "
            ],
            "text/plain": [
              "<IPython.lib.display.IFrame at 0x7fa98034a8f0>"
            ]
          },
          "execution_count": 37,
          "metadata": {},
          "output_type": "execute_result"
        }
      ],
      "source": [
        "#gene sets is a list of lists\n",
        "gene_set_2 = list(adata.uns['SPECTRA_markers'][1])\n",
        "gene_sets = [gene_set,gene_set_2]\n",
        "out = spc.graph_network_multiple(adata,soft_graph, gene_sets)\n",
        "out.show(\"test_graph.html\")"
      ]
    },
    {
      "attachments": {},
      "cell_type": "markdown",
      "metadata": {},
      "source": [
        "# Fitting the model without AnnData"
      ]
    },
    {
      "attachments": {},
      "cell_type": "markdown",
      "metadata": {},
      "source": [
        "Instead of passing an AnnData object to est_spectra one can pass np.ndarray objects directly. The **kwargs contains arguments to the training function, lr_schedule = [1.0,.5,.1,.01,.001,.0001],num_epochs = 10000, verbose = False. To do this, initialize a model:"
      ]
    },
    {
      "cell_type": "code",
      "execution_count": 38,
      "metadata": {},
      "outputs": [
        {
          "data": {
            "text/plain": [
              "AnnData object with n_obs × n_vars = 10000 × 6397\n",
              "    obs: 'cell_type_annotations', '80-X-global-X-all_mTORC1_signaling'\n",
              "    var: 'n_cells_by_counts', 'highly_variable', 'spectra_vocab'\n",
              "    uns: 'annotation_SPADE_1_colors', 'cell_type_annotations_colors', 'diffmap_evals', 'draw_graph', 'hvg', 'neighbors', 'pca', 'SPECTRA_factors', 'SPECTRA_markers', 'SPECTRA_L', 'SPECTRA_overlap'\n",
              "    obsm: 'X_diffmap', 'X_draw_graph_fa', 'X_pca', 'X_tsne', 'X_umap', 'SPECTRA_cell_scores'\n",
              "    varm: 'PCs'\n",
              "    obsp: 'connectivities', 'distances'"
            ]
          },
          "execution_count": 38,
          "metadata": {},
          "output_type": "execute_result"
        }
      ],
      "source": [
        "adata"
      ]
    },
    {
      "cell_type": "code",
      "execution_count": 39,
      "metadata": {},
      "outputs": [
        {
          "data": {
            "text/plain": [
              "{'B_GC': 1,\n",
              " 'B_memory': 5,\n",
              " 'B_naive': 1,\n",
              " 'CD4_T': 12,\n",
              " 'CD8_T': 7,\n",
              " 'DC': 3,\n",
              " 'ILC3': 1,\n",
              " 'MDC': 6,\n",
              " 'NK': 1,\n",
              " 'Treg': 2,\n",
              " 'gdT': 1,\n",
              " 'mast': 2,\n",
              " 'pDC': 2,\n",
              " 'plasma': 1,\n",
              " 'global': 151}"
            ]
          },
          "execution_count": 39,
          "metadata": {},
          "output_type": "execute_result"
        }
      ],
      "source": [
        "#define number of factors (only est_spectra has the option to automatically set the factor numbers per celltype)\n",
        "\n",
        "L = {}\n",
        "for key in annotations.keys():\n",
        "    length = len(list(annotations[key].values()))\n",
        "    L[key] = length + 1\n",
        "L"
      ]
    },
    {
      "cell_type": "code",
      "execution_count": 40,
      "metadata": {},
      "outputs": [],
      "source": [
        "#get the genes you want to use (for simplicity we will copy from the adata above)\n",
        "vocab = list(adata.var_names)"
      ]
    },
    {
      "cell_type": "code",
      "execution_count": 41,
      "metadata": {},
      "outputs": [
        {
          "data": {
            "text/plain": [
              "(10000, 6397)"
            ]
          },
          "execution_count": 41,
          "metadata": {},
          "output_type": "execute_result"
        }
      ],
      "source": [
        "adata.X.todense().shape"
      ]
    },
    {
      "cell_type": "code",
      "execution_count": 42,
      "metadata": {},
      "outputs": [
        {
          "data": {
            "text/plain": [
              "6397"
            ]
          },
          "execution_count": 42,
          "metadata": {},
          "output_type": "execute_result"
        }
      ],
      "source": [
        "len(vocab)"
      ]
    },
    {
      "cell_type": "code",
      "execution_count": 43,
      "metadata": {},
      "outputs": [
        {
          "name": "stderr",
          "output_type": "stream",
          "text": [
            "100%|██████████| 2/2 [01:06<00:00, 33.49s/it]\n"
          ]
        }
      ],
      "source": [
        "model = spc.SPECTRA_Model(X = adata.X.todense(), L=L, labels = np.array(adata.obs['cell_type_annotations']),  \n",
        "                          gs_dict = annotations,lam = 0.01, vocab=vocab, use_weights=True,\n",
        "                          delta=0.001,kappa = None, rho = 0.05,use_cell_types=True)\n",
        "model.train(X = adata.X.todense(), labels = np.array(adata.obs['cell_type_annotations']),\n",
        "            num_epochs=2) #we will only do 2 epochs here for demonstration purposes. We recommend 10,000 epochs for most datasets."
      ]
    },
    {
      "attachments": {},
      "cell_type": "markdown",
      "metadata": {},
      "source": [
        "It is also required to run the model this way if you want to input arbitrary adjacency matrices instead of a dictionary of gene sets. The gene set dictionary is used to create an adjacency matrix when it is not None."
      ]
    },
    {
      "cell_type": "code",
      "execution_count": 44,
      "metadata": {},
      "outputs": [
        {
          "name": "stderr",
          "output_type": "stream",
          "text": [
            "100%|██████████| 2/2 [01:07<00:00, 33.81s/it]\n"
          ]
        }
      ],
      "source": [
        "#you will need the cell type containing model and vocab again --> for this tutorial we will retrain\n",
        "model = spc.est_spectra(adata = adata, gene_set_dictionary = annotations, \n",
        "                        use_highly_variable = True, cell_type_key = \"cell_type_annotations\", \n",
        "                        use_weights = True, lam = 0.1, \n",
        "                        delta=0.001,kappa = 0.00001, rho = 0.00001, \n",
        "                        use_cell_types = True, n_top_vals = 25, \n",
        "                        label_factors = True, #whether to label the factors by their overlap coefficient with the input gene sets\n",
        "                        overlap_threshold = 0.2, #minimum overlap coefficient that has to be surpassed to assign a label to a factor\n",
        "                        num_epochs=2 #for demonstration purposes we will only run 2 epochs, we recommend 10,000 epochs\n",
        "                       )"
      ]
    },
    {
      "cell_type": "code",
      "execution_count": 45,
      "metadata": {},
      "outputs": [
        {
          "data": {
            "text/plain": [
              "{'B_memory': array([[0., 0., 0., ..., 0., 0., 0.],\n",
              "        [0., 0., 0., ..., 0., 0., 0.],\n",
              "        [0., 0., 0., ..., 0., 0., 0.],\n",
              "        ...,\n",
              "        [0., 0., 0., ..., 1., 0., 0.],\n",
              "        [0., 0., 0., ..., 0., 0., 0.],\n",
              "        [0., 0., 0., ..., 0., 0., 0.]]),\n",
              " 'MDC': array([[1., 0., 0., ..., 0., 0., 0.],\n",
              "        [0., 0., 0., ..., 0., 0., 0.],\n",
              "        [0., 0., 0., ..., 0., 0., 0.],\n",
              "        ...,\n",
              "        [0., 0., 0., ..., 0., 0., 0.],\n",
              "        [0., 0., 0., ..., 0., 0., 0.],\n",
              "        [0., 0., 0., ..., 0., 0., 0.]]),\n",
              " 'mast': array([[0., 0., 0., ..., 0., 0., 0.],\n",
              "        [0., 0., 0., ..., 0., 0., 0.],\n",
              "        [0., 0., 0., ..., 0., 0., 0.],\n",
              "        ...,\n",
              "        [0., 0., 0., ..., 0., 0., 0.],\n",
              "        [0., 0., 0., ..., 0., 0., 0.],\n",
              "        [0., 0., 0., ..., 0., 0., 0.]]),\n",
              " 'gdT': array([[1., 1., 1., ..., 1., 1., 1.],\n",
              "        [1., 1., 1., ..., 1., 1., 1.],\n",
              "        [1., 1., 1., ..., 1., 1., 1.],\n",
              "        ...,\n",
              "        [1., 1., 1., ..., 1., 1., 1.],\n",
              "        [1., 1., 1., ..., 1., 1., 1.],\n",
              "        [1., 1., 1., ..., 1., 1., 1.]]),\n",
              " 'plasma': array([[1., 1., 1., ..., 1., 1., 1.],\n",
              "        [1., 1., 1., ..., 1., 1., 1.],\n",
              "        [1., 1., 1., ..., 1., 1., 1.],\n",
              "        ...,\n",
              "        [1., 1., 1., ..., 1., 1., 1.],\n",
              "        [1., 1., 1., ..., 1., 1., 1.],\n",
              "        [1., 1., 1., ..., 1., 1., 1.]]),\n",
              " 'DC': array([[0., 0., 0., ..., 0., 0., 0.],\n",
              "        [0., 0., 0., ..., 0., 0., 0.],\n",
              "        [0., 0., 0., ..., 0., 0., 0.],\n",
              "        ...,\n",
              "        [0., 0., 0., ..., 0., 0., 0.],\n",
              "        [0., 0., 0., ..., 0., 0., 0.],\n",
              "        [0., 0., 0., ..., 0., 0., 0.]]),\n",
              " 'ILC3': array([[1., 1., 1., ..., 1., 1., 1.],\n",
              "        [1., 1., 1., ..., 1., 1., 1.],\n",
              "        [1., 1., 1., ..., 1., 1., 1.],\n",
              "        ...,\n",
              "        [1., 1., 1., ..., 1., 1., 1.],\n",
              "        [1., 1., 1., ..., 1., 1., 1.],\n",
              "        [1., 1., 1., ..., 1., 1., 1.]]),\n",
              " 'B_GC': array([[1., 1., 1., ..., 1., 1., 1.],\n",
              "        [1., 1., 1., ..., 1., 1., 1.],\n",
              "        [1., 1., 1., ..., 1., 1., 1.],\n",
              "        ...,\n",
              "        [1., 1., 1., ..., 1., 1., 1.],\n",
              "        [1., 1., 1., ..., 1., 1., 1.],\n",
              "        [1., 1., 1., ..., 1., 1., 1.]]),\n",
              " 'Treg': array([[0., 0., 0., ..., 0., 0., 0.],\n",
              "        [0., 0., 0., ..., 0., 0., 0.],\n",
              "        [0., 0., 0., ..., 0., 0., 0.],\n",
              "        ...,\n",
              "        [0., 0., 0., ..., 0., 0., 0.],\n",
              "        [0., 0., 0., ..., 0., 0., 0.],\n",
              "        [0., 0., 0., ..., 0., 0., 0.]]),\n",
              " 'pDC': array([[0., 0., 0., ..., 0., 0., 0.],\n",
              "        [0., 0., 0., ..., 0., 0., 0.],\n",
              "        [0., 0., 0., ..., 0., 0., 0.],\n",
              "        ...,\n",
              "        [0., 0., 0., ..., 0., 0., 0.],\n",
              "        [0., 0., 0., ..., 0., 0., 0.],\n",
              "        [0., 0., 0., ..., 0., 0., 0.]]),\n",
              " 'CD8_T': array([[0., 0., 0., ..., 0., 0., 0.],\n",
              "        [0., 0., 0., ..., 0., 0., 0.],\n",
              "        [0., 0., 0., ..., 0., 0., 0.],\n",
              "        ...,\n",
              "        [0., 0., 0., ..., 0., 0., 0.],\n",
              "        [0., 0., 0., ..., 0., 0., 0.],\n",
              "        [0., 0., 0., ..., 0., 0., 0.]]),\n",
              " 'B_naive': array([[1., 1., 1., ..., 1., 1., 1.],\n",
              "        [1., 1., 1., ..., 1., 1., 1.],\n",
              "        [1., 1., 1., ..., 1., 1., 1.],\n",
              "        ...,\n",
              "        [1., 1., 1., ..., 1., 1., 1.],\n",
              "        [1., 1., 1., ..., 1., 1., 1.],\n",
              "        [1., 1., 1., ..., 1., 1., 1.]]),\n",
              " 'CD4_T': array([[0., 0., 0., ..., 0., 0., 0.],\n",
              "        [0., 0., 0., ..., 0., 0., 0.],\n",
              "        [0., 0., 0., ..., 0., 0., 0.],\n",
              "        ...,\n",
              "        [0., 0., 0., ..., 0., 0., 0.],\n",
              "        [0., 0., 0., ..., 0., 0., 0.],\n",
              "        [0., 0., 0., ..., 0., 0., 0.]]),\n",
              " 'NK': array([[1., 1., 1., ..., 1., 1., 1.],\n",
              "        [1., 1., 1., ..., 1., 1., 1.],\n",
              "        [1., 1., 1., ..., 1., 1., 1.],\n",
              "        ...,\n",
              "        [1., 1., 1., ..., 1., 1., 1.],\n",
              "        [1., 1., 1., ..., 1., 1., 1.],\n",
              "        [1., 1., 1., ..., 1., 1., 1.]]),\n",
              " 'global': array([[0., 0., 0., ..., 0., 0., 0.],\n",
              "        [0., 1., 0., ..., 0., 0., 1.],\n",
              "        [0., 0., 1., ..., 0., 0., 1.],\n",
              "        ...,\n",
              "        [0., 0., 0., ..., 0., 0., 0.],\n",
              "        [0., 0., 0., ..., 0., 0., 0.],\n",
              "        [0., 1., 1., ..., 0., 0., 1.]])}"
            ]
          },
          "execution_count": 45,
          "metadata": {},
          "output_type": "execute_result"
        }
      ],
      "source": [
        "#get an example adjacency matrix (the threshold should be properly determined based on the question)\n",
        "threshold = 0.15\n",
        "cell_types = list(set(adata.obs['cell_type_annotations'])) + ['global']\n",
        "adj_matrix = {cell_type : (model.return_graph(ct = cell_type) > threshold).astype(float) for cell_type in cell_types}\n",
        "adj_matrix"
      ]
    },
    {
      "cell_type": "code",
      "execution_count": 46,
      "metadata": {},
      "outputs": [
        {
          "data": {
            "text/plain": [
              "['B_diag',\n",
              " 'L',\n",
              " '_SPECTRA_Model__B_diag',\n",
              " '_SPECTRA_Model__eta_matrices',\n",
              " '_SPECTRA_Model__store_parameters',\n",
              " '_SPECTRA_Model__store_parameters_no_celltypes',\n",
              " '__class__',\n",
              " '__delattr__',\n",
              " '__dict__',\n",
              " '__dir__',\n",
              " '__doc__',\n",
              " '__eq__',\n",
              " '__format__',\n",
              " '__ge__',\n",
              " '__getattribute__',\n",
              " '__gt__',\n",
              " '__hash__',\n",
              " '__init__',\n",
              " '__init_subclass__',\n",
              " '__le__',\n",
              " '__lt__',\n",
              " '__module__',\n",
              " '__ne__',\n",
              " '__new__',\n",
              " '__reduce__',\n",
              " '__reduce_ex__',\n",
              " '__repr__',\n",
              " '__setattr__',\n",
              " '__sizeof__',\n",
              " '__slotnames__',\n",
              " '__str__',\n",
              " '__subclasshook__',\n",
              " '__weakref__',\n",
              " 'cell_scores',\n",
              " 'delta',\n",
              " 'eta_matrices',\n",
              " 'factors',\n",
              " 'gene_scalings',\n",
              " 'initialize',\n",
              " 'internal_model',\n",
              " 'kappa',\n",
              " 'lam',\n",
              " 'load',\n",
              " 'matching',\n",
              " 'return_cell_scores',\n",
              " 'return_eta',\n",
              " 'return_eta_diag',\n",
              " 'return_factors',\n",
              " 'return_gene_scalings',\n",
              " 'return_graph',\n",
              " 'return_kappa',\n",
              " 'return_rho',\n",
              " 'rho',\n",
              " 'save',\n",
              " 'train',\n",
              " 'use_cell_types']"
            ]
          },
          "execution_count": 46,
          "metadata": {},
          "output_type": "execute_result"
        }
      ],
      "source": [
        "dir(model)"
      ]
    },
    {
      "cell_type": "code",
      "execution_count": 47,
      "metadata": {},
      "outputs": [
        {
          "data": {
            "text/plain": [
              "array([[6.45390630e-01, 1.53435498e-01, 1.08533162e-10, ...,\n",
              "        1.10661758e-10, 1.22895027e-10, 1.78572834e-01],\n",
              "       [1.53435498e-01, 9.58972633e-01, 9.18808848e-11, ...,\n",
              "        9.28180796e-11, 1.08566697e-10, 1.00385688e-01],\n",
              "       [1.08533162e-10, 9.18808848e-11, 2.10738284e-12, ...,\n",
              "        2.10738284e-12, 2.10738284e-12, 9.43645162e-11],\n",
              "       ...,\n",
              "       [1.10661758e-10, 9.28180796e-11, 2.10738284e-12, ...,\n",
              "        2.10738284e-12, 2.10738284e-12, 1.01764666e-10],\n",
              "       [1.22895027e-10, 1.08566697e-10, 2.10738284e-12, ...,\n",
              "        2.10738284e-12, 2.10738284e-12, 1.24791399e-10],\n",
              "       [1.78572834e-01, 1.00385688e-01, 9.43645162e-11, ...,\n",
              "        1.01764666e-10, 1.24791399e-10, 8.53426456e-01]], dtype=float32)"
            ]
          },
          "execution_count": 47,
          "metadata": {},
          "output_type": "execute_result"
        }
      ],
      "source": [
        "soft_graph"
      ]
    },
    {
      "cell_type": "code",
      "execution_count": 48,
      "metadata": {},
      "outputs": [
        {
          "data": {
            "text/plain": [
              "(10000, 6397)"
            ]
          },
          "execution_count": 48,
          "metadata": {},
          "output_type": "execute_result"
        }
      ],
      "source": [
        "adata.X.todense().shape"
      ]
    },
    {
      "cell_type": "code",
      "execution_count": 49,
      "metadata": {},
      "outputs": [
        {
          "data": {
            "text/plain": [
              "spectra_vocab\n",
              "True     6392\n",
              "False       5\n",
              "Name: count, dtype: int64"
            ]
          },
          "execution_count": 49,
          "metadata": {},
          "output_type": "execute_result"
        }
      ],
      "source": [
        "adata.var['spectra_vocab'].value_counts()"
      ]
    },
    {
      "cell_type": "code",
      "execution_count": 50,
      "metadata": {},
      "outputs": [
        {
          "name": "stderr",
          "output_type": "stream",
          "text": [
            "100%|██████████| 2/2 [01:56<00:00, 58.13s/it]\n"
          ]
        }
      ],
      "source": [
        "#train model with adjacency matrix\n",
        "vocab = np.array(adata.var['spectra_vocab'][adata.var['spectra_vocab']].index)\n",
        "X = adata.X.todense().T[adata.var['spectra_vocab']].T\n",
        "\n",
        "model = spc.SPECTRA_Model(X = X, labels =  np.array(adata.obs['cell_type_annotations']),  \n",
        "                          L = L, adj_matrix = adj_matrix, weights = None, lam = 0.01,  delta=0.001,kappa = None, rho = 0.05, \n",
        "                          use_cell_types = True)\n",
        "model.train(X = X, labels =  np.array(adata.obs['cell_type_annotations']),\n",
        "            num_epochs=2) #we will only do 2 epochs here for demonstration purposes. We recommend 10,000 epochs for most datasets.)\n",
        "\n"
      ]
    }
  ],
  "metadata": {
    "colab": {
      "authorship_tag": "ABX9TyOp78KuTpVxQFJQD84jrAv/",
      "include_colab_link": true,
      "provenance": []
    },
    "kernelspec": {
      "display_name": "Python 3",
      "name": "python3"
    },
    "language_info": {
      "codemirror_mode": {
        "name": "ipython",
        "version": 3
      },
      "file_extension": ".py",
      "mimetype": "text/x-python",
      "name": "python",
      "nbconvert_exporter": "python",
      "pygments_lexer": "ipython3",
      "version": "3.10.9"
    }
  },
  "nbformat": 4,
  "nbformat_minor": 0
}
