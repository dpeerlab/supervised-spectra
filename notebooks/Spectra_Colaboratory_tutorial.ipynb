{
  "nbformat": 4,
  "nbformat_minor": 0,
  "metadata": {
    "colab": {
      "provenance": [],
      "authorship_tag": "ABX9TyOp78KuTpVxQFJQD84jrAv/",
      "include_colab_link": true
    },
    "kernelspec": {
      "name": "python3",
      "display_name": "Python 3"
    },
    "language_info": {
      "name": "python"
    }
  },
  "cells": [
    {
      "cell_type": "markdown",
      "metadata": {
        "id": "view-in-github",
        "colab_type": "text"
      },
      "source": [
        "<a href=\"https://colab.research.google.com/github/wallet-maker/spectra/blob/main/notebooks/Spectra_Colaboratory_tutorial.ipynb\" target=\"_parent\"><img src=\"https://colab.research.google.com/assets/colab-badge.svg\" alt=\"Open In Colab\"/></a>"
      ]
    },
    {
      "cell_type": "code",
      "execution_count": 1,
      "metadata": {
        "colab": {
          "base_uri": "https://localhost:8080/"
        },
        "id": "xmWAliJ7G5Rj",
        "outputId": "3bdfd80b-70c8-4870-c337-fbd85b203c01"
      },
      "outputs": [
        {
          "output_type": "stream",
          "name": "stdout",
          "text": [
            "fatal: destination path 'spectra' already exists and is not an empty directory.\n"
          ]
        }
      ],
      "source": [
        "!git clone https://github.com/dpeerlab/spectra"
      ]
    },
    {
      "cell_type": "code",
      "source": [
        "!ls"
      ],
      "metadata": {
        "colab": {
          "base_uri": "https://localhost:8080/"
        },
        "id": "g6EVIHU7G-1P",
        "outputId": "37454025-6c07-4c99-fc13-5110dbf03bf0"
      },
      "execution_count": 2,
      "outputs": [
        {
          "output_type": "stream",
          "name": "stdout",
          "text": [
            "sample_data  spectra\n"
          ]
        }
      ]
    },
    {
      "cell_type": "code",
      "source": [
        "%cd spectra"
      ],
      "metadata": {
        "colab": {
          "base_uri": "https://localhost:8080/"
        },
        "id": "s5GFodIgG-3-",
        "outputId": "9de91d28-5311-40ac-9ef5-3afb6e3f6f3a"
      },
      "execution_count": 3,
      "outputs": [
        {
          "output_type": "stream",
          "name": "stdout",
          "text": [
            "/content/spectra\n"
          ]
        }
      ]
    },
    {
      "cell_type": "code",
      "source": [
        "!pip install ."
      ],
      "metadata": {
        "colab": {
          "base_uri": "https://localhost:8080/"
        },
        "id": "W9hy0-yiH6tQ",
        "outputId": "b908b41e-2baf-445f-d490-c02836449c7b"
      },
      "execution_count": 4,
      "outputs": [
        {
          "output_type": "stream",
          "name": "stdout",
          "text": [
            "Looking in indexes: https://pypi.org/simple, https://us-python.pkg.dev/colab-wheels/public/simple/\n",
            "Processing /content/spectra\n",
            "  Preparing metadata (setup.py) ... \u001b[?25l\u001b[?25hdone\n",
            "Requirement already satisfied: numpy>=1.20.3 in /usr/local/lib/python3.9/dist-packages (from spectra==0.1.0) (1.22.4)\n",
            "Requirement already satisfied: scipy>=1.7.3 in /usr/local/lib/python3.9/dist-packages (from spectra==0.1.0) (1.10.1)\n",
            "Requirement already satisfied: scanpy>=1.8.2 in /usr/local/lib/python3.9/dist-packages (from spectra==0.1.0) (1.9.3)\n",
            "Requirement already satisfied: torch>=1.10.1 in /usr/local/lib/python3.9/dist-packages (from spectra==0.1.0) (1.13.1+cu116)\n",
            "Requirement already satisfied: opt-einsum>=3.3.0 in /usr/local/lib/python3.9/dist-packages (from spectra==0.1.0) (3.3.0)\n",
            "Requirement already satisfied: pandas>=1.3.5 in /usr/local/lib/python3.9/dist-packages (from spectra==0.1.0) (1.4.4)\n",
            "Requirement already satisfied: tqdm>=4.62.3 in /usr/local/lib/python3.9/dist-packages (from spectra==0.1.0) (4.65.0)\n",
            "Requirement already satisfied: pyvis>=0.1.9 in /usr/local/lib/python3.9/dist-packages (from spectra==0.1.0) (0.3.2)\n",
            "Requirement already satisfied: python-dateutil>=2.8.1 in /usr/local/lib/python3.9/dist-packages (from pandas>=1.3.5->spectra==0.1.0) (2.8.2)\n",
            "Requirement already satisfied: pytz>=2020.1 in /usr/local/lib/python3.9/dist-packages (from pandas>=1.3.5->spectra==0.1.0) (2022.7.1)\n",
            "Requirement already satisfied: networkx>=1.11 in /usr/local/lib/python3.9/dist-packages (from pyvis>=0.1.9->spectra==0.1.0) (3.0)\n",
            "Requirement already satisfied: jsonpickle>=1.4.1 in /usr/local/lib/python3.9/dist-packages (from pyvis>=0.1.9->spectra==0.1.0) (3.0.1)\n",
            "Requirement already satisfied: ipython>=5.3.0 in /usr/local/lib/python3.9/dist-packages (from pyvis>=0.1.9->spectra==0.1.0) (7.34.0)\n",
            "Requirement already satisfied: jinja2>=2.9.6 in /usr/local/lib/python3.9/dist-packages (from pyvis>=0.1.9->spectra==0.1.0) (3.1.2)\n",
            "Requirement already satisfied: joblib in /usr/local/lib/python3.9/dist-packages (from scanpy>=1.8.2->spectra==0.1.0) (1.1.1)\n",
            "Requirement already satisfied: numba>=0.41.0 in /usr/local/lib/python3.9/dist-packages (from scanpy>=1.8.2->spectra==0.1.0) (0.56.4)\n",
            "Requirement already satisfied: matplotlib>=3.4 in /usr/local/lib/python3.9/dist-packages (from scanpy>=1.8.2->spectra==0.1.0) (3.5.0)\n",
            "Requirement already satisfied: h5py>=3 in /usr/local/lib/python3.9/dist-packages (from scanpy>=1.8.2->spectra==0.1.0) (3.8.0)\n",
            "Requirement already satisfied: natsort in /usr/local/lib/python3.9/dist-packages (from scanpy>=1.8.2->spectra==0.1.0) (8.3.1)\n",
            "Requirement already satisfied: seaborn in /usr/local/lib/python3.9/dist-packages (from scanpy>=1.8.2->spectra==0.1.0) (0.12.2)\n",
            "Requirement already satisfied: scikit-learn>=0.22 in /usr/local/lib/python3.9/dist-packages (from scanpy>=1.8.2->spectra==0.1.0) (1.2.2)\n",
            "Requirement already satisfied: session-info in /usr/local/lib/python3.9/dist-packages (from scanpy>=1.8.2->spectra==0.1.0) (1.0.0)\n",
            "Requirement already satisfied: packaging in /usr/local/lib/python3.9/dist-packages (from scanpy>=1.8.2->spectra==0.1.0) (23.0)\n",
            "Requirement already satisfied: anndata>=0.7.4 in /usr/local/lib/python3.9/dist-packages (from scanpy>=1.8.2->spectra==0.1.0) (0.8.0)\n",
            "Requirement already satisfied: statsmodels>=0.10.0rc2 in /usr/local/lib/python3.9/dist-packages (from scanpy>=1.8.2->spectra==0.1.0) (0.13.5)\n",
            "Requirement already satisfied: umap-learn>=0.3.10 in /usr/local/lib/python3.9/dist-packages (from scanpy>=1.8.2->spectra==0.1.0) (0.5.3)\n",
            "Requirement already satisfied: patsy in /usr/local/lib/python3.9/dist-packages (from scanpy>=1.8.2->spectra==0.1.0) (0.5.3)\n",
            "Requirement already satisfied: typing-extensions in /usr/local/lib/python3.9/dist-packages (from torch>=1.10.1->spectra==0.1.0) (4.5.0)\n",
            "Requirement already satisfied: pexpect>4.3 in /usr/local/lib/python3.9/dist-packages (from ipython>=5.3.0->pyvis>=0.1.9->spectra==0.1.0) (4.8.0)\n",
            "Requirement already satisfied: pygments in /usr/local/lib/python3.9/dist-packages (from ipython>=5.3.0->pyvis>=0.1.9->spectra==0.1.0) (2.14.0)\n",
            "Requirement already satisfied: setuptools>=18.5 in /usr/local/lib/python3.9/dist-packages (from ipython>=5.3.0->pyvis>=0.1.9->spectra==0.1.0) (67.6.1)\n",
            "Requirement already satisfied: traitlets>=4.2 in /usr/local/lib/python3.9/dist-packages (from ipython>=5.3.0->pyvis>=0.1.9->spectra==0.1.0) (5.7.1)\n",
            "Requirement already satisfied: backcall in /usr/local/lib/python3.9/dist-packages (from ipython>=5.3.0->pyvis>=0.1.9->spectra==0.1.0) (0.2.0)\n",
            "Requirement already satisfied: jedi>=0.16 in /usr/local/lib/python3.9/dist-packages (from ipython>=5.3.0->pyvis>=0.1.9->spectra==0.1.0) (0.18.2)\n",
            "Requirement already satisfied: pickleshare in /usr/local/lib/python3.9/dist-packages (from ipython>=5.3.0->pyvis>=0.1.9->spectra==0.1.0) (0.7.5)\n",
            "Requirement already satisfied: decorator in /usr/local/lib/python3.9/dist-packages (from ipython>=5.3.0->pyvis>=0.1.9->spectra==0.1.0) (4.4.2)\n",
            "Requirement already satisfied: prompt-toolkit!=3.0.0,!=3.0.1,<3.1.0,>=2.0.0 in /usr/local/lib/python3.9/dist-packages (from ipython>=5.3.0->pyvis>=0.1.9->spectra==0.1.0) (3.0.38)\n",
            "Requirement already satisfied: matplotlib-inline in /usr/local/lib/python3.9/dist-packages (from ipython>=5.3.0->pyvis>=0.1.9->spectra==0.1.0) (0.1.6)\n",
            "Requirement already satisfied: MarkupSafe>=2.0 in /usr/local/lib/python3.9/dist-packages (from jinja2>=2.9.6->pyvis>=0.1.9->spectra==0.1.0) (2.1.2)\n",
            "Requirement already satisfied: pyparsing>=2.2.1 in /usr/local/lib/python3.9/dist-packages (from matplotlib>=3.4->scanpy>=1.8.2->spectra==0.1.0) (3.0.9)\n",
            "Requirement already satisfied: pillow>=6.2.0 in /usr/local/lib/python3.9/dist-packages (from matplotlib>=3.4->scanpy>=1.8.2->spectra==0.1.0) (8.4.0)\n",
            "Requirement already satisfied: setuptools-scm>=4 in /usr/local/lib/python3.9/dist-packages (from matplotlib>=3.4->scanpy>=1.8.2->spectra==0.1.0) (7.1.0)\n",
            "Requirement already satisfied: cycler>=0.10 in /usr/local/lib/python3.9/dist-packages (from matplotlib>=3.4->scanpy>=1.8.2->spectra==0.1.0) (0.11.0)\n",
            "Requirement already satisfied: fonttools>=4.22.0 in /usr/local/lib/python3.9/dist-packages (from matplotlib>=3.4->scanpy>=1.8.2->spectra==0.1.0) (4.39.3)\n",
            "Requirement already satisfied: kiwisolver>=1.0.1 in /usr/local/lib/python3.9/dist-packages (from matplotlib>=3.4->scanpy>=1.8.2->spectra==0.1.0) (1.4.4)\n",
            "Requirement already satisfied: llvmlite<0.40,>=0.39.0dev0 in /usr/local/lib/python3.9/dist-packages (from numba>=0.41.0->scanpy>=1.8.2->spectra==0.1.0) (0.39.1)\n",
            "Requirement already satisfied: six>=1.5 in /usr/local/lib/python3.9/dist-packages (from python-dateutil>=2.8.1->pandas>=1.3.5->spectra==0.1.0) (1.16.0)\n",
            "Requirement already satisfied: threadpoolctl>=2.0.0 in /usr/local/lib/python3.9/dist-packages (from scikit-learn>=0.22->scanpy>=1.8.2->spectra==0.1.0) (3.1.0)\n",
            "Requirement already satisfied: pynndescent>=0.5 in /usr/local/lib/python3.9/dist-packages (from umap-learn>=0.3.10->scanpy>=1.8.2->spectra==0.1.0) (0.5.8)\n",
            "Requirement already satisfied: stdlib-list in /usr/local/lib/python3.9/dist-packages (from session-info->scanpy>=1.8.2->spectra==0.1.0) (0.8.0)\n",
            "Requirement already satisfied: parso<0.9.0,>=0.8.0 in /usr/local/lib/python3.9/dist-packages (from jedi>=0.16->ipython>=5.3.0->pyvis>=0.1.9->spectra==0.1.0) (0.8.3)\n",
            "Requirement already satisfied: ptyprocess>=0.5 in /usr/local/lib/python3.9/dist-packages (from pexpect>4.3->ipython>=5.3.0->pyvis>=0.1.9->spectra==0.1.0) (0.7.0)\n",
            "Requirement already satisfied: wcwidth in /usr/local/lib/python3.9/dist-packages (from prompt-toolkit!=3.0.0,!=3.0.1,<3.1.0,>=2.0.0->ipython>=5.3.0->pyvis>=0.1.9->spectra==0.1.0) (0.2.6)\n",
            "Requirement already satisfied: tomli>=1.0.0 in /usr/local/lib/python3.9/dist-packages (from setuptools-scm>=4->matplotlib>=3.4->scanpy>=1.8.2->spectra==0.1.0) (2.0.1)\n",
            "Building wheels for collected packages: spectra\n",
            "  Building wheel for spectra (setup.py) ... \u001b[?25l\u001b[?25hdone\n",
            "  Created wheel for spectra: filename=spectra-0.1.0-py3-none-any.whl size=41624 sha256=6d3a29d92c42ee0ad65599170444d98ce1dae57dcea99498e10406246a77645e\n",
            "  Stored in directory: /tmp/pip-ephem-wheel-cache-_rssk8p9/wheels/cc/c6/02/42e87286f1340154085ee1a861f5e5be788fe904df834c491c\n",
            "Successfully built spectra\n",
            "Installing collected packages: spectra\n",
            "  Attempting uninstall: spectra\n",
            "    Found existing installation: spectra 0.1.0\n",
            "    Uninstalling spectra-0.1.0:\n",
            "      Successfully uninstalled spectra-0.1.0\n",
            "Successfully installed spectra-0.1.0\n"
          ]
        }
      ]
    },
    {
      "cell_type": "code",
      "source": [
        "%pip install -U matplotlib==3.5.0"
      ],
      "metadata": {
        "colab": {
          "base_uri": "https://localhost:8080/"
        },
        "id": "GQFeb6lhIWR0",
        "outputId": "ce550b96-077f-4dc9-b000-41f8aae6bd6d"
      },
      "execution_count": 5,
      "outputs": [
        {
          "output_type": "stream",
          "name": "stdout",
          "text": [
            "Looking in indexes: https://pypi.org/simple, https://us-python.pkg.dev/colab-wheels/public/simple/\n",
            "Requirement already satisfied: matplotlib==3.5.0 in /usr/local/lib/python3.9/dist-packages (3.5.0)\n",
            "Requirement already satisfied: pillow>=6.2.0 in /usr/local/lib/python3.9/dist-packages (from matplotlib==3.5.0) (8.4.0)\n",
            "Requirement already satisfied: python-dateutil>=2.7 in /usr/local/lib/python3.9/dist-packages (from matplotlib==3.5.0) (2.8.2)\n",
            "Requirement already satisfied: pyparsing>=2.2.1 in /usr/local/lib/python3.9/dist-packages (from matplotlib==3.5.0) (3.0.9)\n",
            "Requirement already satisfied: fonttools>=4.22.0 in /usr/local/lib/python3.9/dist-packages (from matplotlib==3.5.0) (4.39.3)\n",
            "Requirement already satisfied: numpy>=1.17 in /usr/local/lib/python3.9/dist-packages (from matplotlib==3.5.0) (1.22.4)\n",
            "Requirement already satisfied: setuptools-scm>=4 in /usr/local/lib/python3.9/dist-packages (from matplotlib==3.5.0) (7.1.0)\n",
            "Requirement already satisfied: packaging>=20.0 in /usr/local/lib/python3.9/dist-packages (from matplotlib==3.5.0) (23.0)\n",
            "Requirement already satisfied: cycler>=0.10 in /usr/local/lib/python3.9/dist-packages (from matplotlib==3.5.0) (0.11.0)\n",
            "Requirement already satisfied: kiwisolver>=1.0.1 in /usr/local/lib/python3.9/dist-packages (from matplotlib==3.5.0) (1.4.4)\n",
            "Requirement already satisfied: six>=1.5 in /usr/local/lib/python3.9/dist-packages (from python-dateutil>=2.7->matplotlib==3.5.0) (1.16.0)\n",
            "Requirement already satisfied: typing-extensions in /usr/local/lib/python3.9/dist-packages (from setuptools-scm>=4->matplotlib==3.5.0) (4.5.0)\n",
            "Requirement already satisfied: tomli>=1.0.0 in /usr/local/lib/python3.9/dist-packages (from setuptools-scm>=4->matplotlib==3.5.0) (2.0.1)\n",
            "Requirement already satisfied: setuptools in /usr/local/lib/python3.9/dist-packages (from setuptools-scm>=4->matplotlib==3.5.0) (67.6.1)\n"
          ]
        }
      ]
    },
    {
      "cell_type": "code",
      "source": [
        "from spectra import spectra as spc"
      ],
      "metadata": {
        "id": "uUhGZevNHjzd"
      },
      "execution_count": 6,
      "outputs": []
    },
    {
      "cell_type": "code",
      "source": [
        "#import packages\n",
        "import numpy as np\n",
        "import json \n",
        "import scanpy as sc\n",
        "from collections import OrderedDict\n",
        "import scipy \n",
        "import pandas as pd\n",
        "\n",
        "#spectra imports \n",
        "from spectra import spectra as spc\n",
        "from spectra import spectra_util as util\n",
        "from spectra import K_est as kst\n",
        "\n"
      ],
      "metadata": {
        "id": "WEf_XV5Vxf-I"
      },
      "execution_count": 7,
      "outputs": []
    },
    {
      "cell_type": "code",
      "source": [
        "def get_factor_celltypes(adata, obs_key, cellscore_obsm_key = 'SPECTRA_cell_scores'):\n",
        "    '''\n",
        "    Assigns Spectra factors to cell types by analyzing the factor cell scores.\n",
        "    Cell type specific factors will have zero cell scores except in their respective cell type\n",
        "    \n",
        "    adata: AnnData , object containing the Spectra output\n",
        "    obs_key: str , column name in adata.obs containing the cell type annotations\n",
        "    cellscore_obsm_key: str , key for adata.obsm containing the Spectra cell scores\n",
        "    \n",
        "    returns: dict , dictionary of {factor index : 'cell type'}\n",
        "    '''\n",
        "    \n",
        "    #get cellscores\n",
        "    import pandas as pd\n",
        "    cell_scores_df = pd.DataFrame(adata.obsm[cellscore_obsm_key])\n",
        "    cell_scores_df['celltype'] = list(adata.obs[obs_key])\n",
        "    \n",
        "    #find global and cell type specific fators\n",
        "    global_factors_series = (cell_scores_df.groupby('celltype').mean() !=0).all()\n",
        "    global_factors = [factor for factor in global_factors_series.index if global_factors_series[factor]]\n",
        "    specific_cell_scores = (cell_scores_df.groupby('celltype').mean()).T[~global_factors_series].T\n",
        "    specific_factors = {}\n",
        "    \n",
        "    for i in set(cell_scores_df['celltype']):\n",
        "        specific_factors[i]=[factor for factor in specific_cell_scores.loc[i].index if specific_cell_scores.loc[i,factor]]\n",
        "    \n",
        "    #inverse dict factor:celltype\n",
        "    factors_inv = {}\n",
        "    for i,v in specific_factors.items():\n",
        "        for factor in v:\n",
        "            factors_inv[factor]=i\n",
        "    \n",
        "    #add global\n",
        "\n",
        "    for factor in global_factors:\n",
        "        factors_inv[factor]= 'global'\n",
        "            \n",
        "    return factors_inv"
      ],
      "metadata": {
        "id": "PJFA769rxySi"
      },
      "execution_count": 8,
      "outputs": []
    },
    {
      "cell_type": "code",
      "source": [
        "def check_gene_set_dictionary(adata, annotations, obs_key='cell_type_annotations',global_key='global', return_dict = True):\n",
        "    '''\n",
        "    Filters annotations dictionary contains only genes contained in the adata. \n",
        "    Checks that annotations dictionary cell type keys and adata cell types are identical.\n",
        "    Checks that all gene sets in annotations dictionary contain >2 genes after filtering.\n",
        "    \n",
        "    adata: AnnData , data to use with Spectra\n",
        "    annotations: dict , gene set annotations dictionary to use with Spectra\n",
        "    obs_key: str , column name for cell type annotations in adata.obs\n",
        "    global_key: str , key for global gene sests in gene set annotation dictionary\n",
        "    return_dict: bool , return filtered gene set annotation dictionary\n",
        "    \n",
        "    returns: dict , filtered gene set annotation dictionary\n",
        "    \n",
        "    '''\n",
        "    #test if keys match\n",
        "    adata_labels  = list(set(adata.obs[obs_key]))+['global']#cell type labels in adata object\n",
        "    annotation_labels = list(annotations.keys())\n",
        "    matching_celltype_labels = list(set(adata_labels).intersection(annotation_labels))\n",
        "    if set(annotation_labels)==set(adata_labels):\n",
        "        print('Cell type labels in gene set annotation dictionary and AnnData object are identical')\n",
        "        dict_keys_OK = True\n",
        "    if len(annotation_labels)<len(adata_labels):\n",
        "        print('The following labels are missing in the gene set annotation dictionary:',set(adata_labels)-set(annotation_labels))\n",
        "        dict_keys_OK = False\n",
        "    if len(adata_labels)<len(annotation_labels):\n",
        "        print('The following labels are missing in the AnnData object:',set(annotation_labels)-set(adata_labels))\n",
        "        dict_keys_OK = False\n",
        "        \n",
        "    #check that gene sets in dictionary have len >2\n",
        "    Counter = 0\n",
        "    annotations_new = {}\n",
        "    for k,v in annotations.items():\n",
        "        annotations_new[k] = {}\n",
        "        for k2,v2 in v.items():\n",
        "            annotations_new[k][k2]= [x for x in v2 if x in adata.var_names]\n",
        "            length = len(v2)\n",
        "            if length<3:\n",
        "                print('gene set',k2,'for cell type',k,'is of length',length)\n",
        "                Counter = Counter+1\n",
        "            \n",
        "    if Counter > 0:\n",
        "        print(Counter,'gene sets are too small. Gene sets must contain at least 3 genes')\n",
        "    elif Counter == 0 and dict_keys_OK:\n",
        "        print('Your gene set annotation dictionary is correctly formatted.')\n",
        "    if return_dict:\n",
        "        return annotations_new"
      ],
      "metadata": {
        "id": "6htuiSo0xz2w"
      },
      "execution_count": 9,
      "outputs": []
    },
    {
      "cell_type": "markdown",
      "source": [
        "# Load gene_set_dictionary"
      ],
      "metadata": {
        "id": "v4vTEyL6sDR4"
      }
    },
    {
      "cell_type": "markdown",
      "source": [
        "**load a nested dictionary containing global and cell type specific gene sets in the following format:**\n",
        "\n",
        "Gene set annotation dictionary with the keys being the celltypes (str) and values being dictionaries with gene set names as keys (str) and gene sets as values (lists of gene names/IDs which matches the gene names/IDs in adata.var_names).\n",
        "\n",
        "For example:\n",
        "\n",
        "gene_set_dictionary = {'celltype_1':{'gene_set_1':['gene_a', 'gene_b', 'gene_c'], 'gene_set_2':['gene_c','gene_a','gene_e','gene_f']},\n",
        "\n",
        "'celltype_2':{'gene_set_1':['gene_a', 'gene_b', 'gene_c'], 'gene_set_3':['gene_a', 'gene_e','gene_f','gene_d']},\n",
        "\n",
        "'celltype_3':{},\n",
        "\n",
        "'global':\"{'gene_set_4':['gene_m','gene_n']} #the global key must be supplied\n",
        "\n",
        "**Note that one key in the dictionary must be 'global' with the corresponding value being a dictionary of gene sets which apply to all cells**\n",
        "\n",
        "Spectra will use this dictionary to align factors to the input gene sets. Gene sets which apply to only one cell type in the data should be included in the dictionary of that cell type. If a gene sets applies to all cell types in the data, the gene set should be included in the dictionary for 'global'. If a gene set applies to more than one cell type but not all cell types in the data there are two options 1) Include this gene set in each cell type dictionary which will likely result in a separate factor for this gene set in each cell type. OR 2) include this gene set in the 'global' dictionary which will likely result in one factor for this gene set in all cell types. We give additional guidance on the advantages and disadvantages of either approach in the Supplementary Methods of the Spectra paper: https://doi.org/10.1101/2022.12.20.521311"
      ],
      "metadata": {
        "id": "oqLbpf3qsFWF"
      }
    },
    {
      "cell_type": "markdown",
      "source": [
        "**Load the default dictionary**\n",
        "We used this dictionary to generate the results in the paper: https://doi.org/10.1101/2022.12.20.521311"
      ],
      "metadata": {
        "id": "mU-oUalzsO-P"
      }
    },
    {
      "cell_type": "code",
      "source": [
        "#load the default gene set dictionary from the Spectra paper:\n",
        "import os\n",
        "dict_path ='/content/spectra/data/Spectra_dict.json'\n",
        "with open(dict_path, \"rb\") as file:\n",
        "    annotations = json.load(file)"
      ],
      "metadata": {
        "id": "X4QL5M0ax1rc"
      },
      "execution_count": 10,
      "outputs": []
    },
    {
      "cell_type": "code",
      "source": [
        "annotations[\"global\"][\"all_wnt-beta-catenin-signaling\"]"
      ],
      "metadata": {
        "colab": {
          "base_uri": "https://localhost:8080/"
        },
        "id": "GLttFF8Lx3_3",
        "outputId": "f1d3b4cb-733b-48e7-b540-fc1abf95a911"
      },
      "execution_count": 11,
      "outputs": [
        {
          "output_type": "execute_result",
          "data": {
            "text/plain": [
              "['HDAC2',\n",
              " 'LEF1',\n",
              " 'CUL1',\n",
              " 'TP53',\n",
              " 'GNAI1',\n",
              " 'DLL1',\n",
              " 'SKP2',\n",
              " 'AXIN1',\n",
              " 'KAT2A',\n",
              " 'CSNK1E',\n",
              " 'MAML1',\n",
              " 'FZD8',\n",
              " 'NOTCH1',\n",
              " 'MYC',\n",
              " 'RBPJ',\n",
              " 'JAG2',\n",
              " 'PTCH1',\n",
              " 'PPARD',\n",
              " 'HDAC5',\n",
              " 'AXIN2',\n",
              " 'NUMB',\n",
              " 'PSEN2',\n",
              " 'NKD1',\n",
              " 'WNT1',\n",
              " 'TCF7',\n",
              " 'FRAT1',\n",
              " 'HDAC11',\n",
              " 'ADAM17',\n",
              " 'CCND2',\n",
              " 'HEY1',\n",
              " 'NCSTN',\n",
              " 'JAG1',\n",
              " 'DVL2',\n",
              " 'NOTCH4',\n",
              " 'NCOR2',\n",
              " 'TPTEP2-CSNK1E',\n",
              " 'FZD1',\n",
              " 'CTNNB1',\n",
              " 'DKK4',\n",
              " 'HEY2',\n",
              " 'WNT6',\n",
              " 'DKK1',\n",
              " 'WNT5B']"
            ]
          },
          "metadata": {},
          "execution_count": 11
        }
      ]
    },
    {
      "cell_type": "markdown",
      "source": [
        "# Custom gene_set_dictionary"
      ],
      "metadata": {
        "id": "MMXT036ZsanA"
      }
    },
    {
      "cell_type": "markdown",
      "source": [
        "**Alternatively you can use Spectra with your custom gene set annotation dictionaries.**\n",
        "\n",
        "Cytopus Knowledge Base\n",
        "\n",
        "We supply the Cytopus knowledge base to construct custom input gene set dictionaries for Spectra. For a tutorial visit the github repository: https://github.com/wallet-maker/cytopus\n",
        "\n",
        "**External Databases**\n",
        "\n",
        "To obtain optimal results, we recommend using dedicated gene sets, like from the Cytopus database which are tailored to single cell RNA sequencing data (see Supplementary Methods for details https://doi.org/10.1101/2022.12.20.521311).\n",
        "\n",
        "However, Spectra can also use gene set annotation dictionaries from external databases if they can be provided in the format described above."
      ],
      "metadata": {
        "id": "k5IWVmNGsfH5"
      }
    },
    {
      "cell_type": "markdown",
      "source": [
        "# Load adata"
      ],
      "metadata": {
        "id": "ktOGTojasldB"
      }
    },
    {
      "cell_type": "markdown",
      "source": [
        "In the Spectra paper we use logged scran-normalized leukocyte single cell RNA sequencing data (https://doi.org/10.1101/2022.12.20.521311). We have also used the method with logged median library size normalized RNA sequencing data."
      ],
      "metadata": {
        "id": "0kHJZhUOsn2C"
      }
    },
    {
      "cell_type": "code",
      "source": [
        "#define data paths\n",
        "adata_path = '/content/spectra/data/sample_data.h5ad'#indicate where to find the gene expression AnnData object\n",
        "obs_key = 'cell_type_annotations' #indicat the column name for the dataframe in adata.obs where to find the cell type lab"
      ],
      "metadata": {
        "id": "75tKPam6yCoz"
      },
      "execution_count": 12,
      "outputs": []
    },
    {
      "cell_type": "code",
      "source": [
        "#load data\n",
        "adata = sc.read(adata_path)\n",
        "adata"
      ],
      "metadata": {
        "colab": {
          "base_uri": "https://localhost:8080/"
        },
        "id": "mdoNNI4XyHlk",
        "outputId": "e1f7d979-cf4b-4ae7-a89b-c3915a2bd671"
      },
      "execution_count": 13,
      "outputs": [
        {
          "output_type": "execute_result",
          "data": {
            "text/plain": [
              "AnnData object with n_obs × n_vars = 10000 × 6397\n",
              "    obs: 'cell_type_annotations'\n",
              "    var: 'n_cells_by_counts', 'highly_variable'\n",
              "    uns: 'annotation_SPADE_1_colors', 'cell_type_annotations_colors', 'diffmap_evals', 'draw_graph', 'hvg', 'neighbors', 'pca'\n",
              "    obsm: 'X_diffmap', 'X_draw_graph_fa', 'X_pca', 'X_tsne', 'X_umap'\n",
              "    varm: 'PCs'\n",
              "    obsp: 'connectivities', 'distances'"
            ]
          },
          "metadata": {},
          "execution_count": 13
        }
      ]
    },
    {
      "cell_type": "markdown",
      "source": [
        "**Important: The cell type labels have to match with the cell type labels in the gene set dictionary**"
      ],
      "metadata": {
        "id": "-oKda8X2sql-"
      }
    },
    {
      "cell_type": "code",
      "source": [
        "#filter gene set annotation dict for genes contained in adata\n",
        "annotations = check_gene_set_dictionary(adata, annotations, obs_key='cell_type_annotations',global_key='global')"
      ],
      "metadata": {
        "colab": {
          "base_uri": "https://localhost:8080/"
        },
        "id": "PDOrKMD8yI_i",
        "outputId": "9ac56721-264c-4cd1-f91d-f57be5973cb2"
      },
      "execution_count": 14,
      "outputs": [
        {
          "output_type": "stream",
          "name": "stdout",
          "text": [
            "Cell type labels in gene set annotation dictionary and AnnData object are identical\n",
            "Your gene set annotation dictionary is correctly formatted.\n"
          ]
        }
      ]
    },
    {
      "cell_type": "code",
      "source": [
        "#cell type labels in adata\n",
        "list(set(adata.obs[obs_key]))"
      ],
      "metadata": {
        "colab": {
          "base_uri": "https://localhost:8080/"
        },
        "id": "4FDWzBwXymHu",
        "outputId": "e1696f53-c9d0-4310-adf4-45bd9e5bdcea"
      },
      "execution_count": 15,
      "outputs": [
        {
          "output_type": "execute_result",
          "data": {
            "text/plain": [
              "['plasma',\n",
              " 'B_naive',\n",
              " 'MDC',\n",
              " 'B_GC',\n",
              " 'ILC3',\n",
              " 'gdT',\n",
              " 'CD4_T',\n",
              " 'DC',\n",
              " 'B_memory',\n",
              " 'mast',\n",
              " 'NK',\n",
              " 'Treg',\n",
              " 'pDC',\n",
              " 'CD8_T']"
            ]
          },
          "metadata": {},
          "execution_count": 15
        }
      ]
    },
    {
      "cell_type": "code",
      "source": [
        "#cell type in gene set annotation dictionary\n",
        "list(set(annotations.keys()))"
      ],
      "metadata": {
        "colab": {
          "base_uri": "https://localhost:8080/"
        },
        "id": "lH4on6YRynsN",
        "outputId": "636dfa9a-0705-4cfb-d99a-ec019672a26c"
      },
      "execution_count": 16,
      "outputs": [
        {
          "output_type": "execute_result",
          "data": {
            "text/plain": [
              "['plasma',\n",
              " 'B_naive',\n",
              " 'ILC3',\n",
              " 'B_GC',\n",
              " 'MDC',\n",
              " 'gdT',\n",
              " 'CD4_T',\n",
              " 'B_memory',\n",
              " 'DC',\n",
              " 'mast',\n",
              " 'global',\n",
              " 'NK',\n",
              " 'Treg',\n",
              " 'pDC',\n",
              " 'CD8_T']"
            ]
          },
          "metadata": {},
          "execution_count": 16
        }
      ]
    },
    {
      "cell_type": "markdown",
      "source": [
        "**if labels do not match adjust the labels either in adata or in annotations**"
      ],
      "metadata": {
        "id": "bSKFHS3rs8ae"
      }
    },
    {
      "cell_type": "markdown",
      "source": [
        "For example define and map a dictionary mapping the annotations in the adata object to the keys in the gene set annotations dictionary or vice versa. **Note that if you have a cell type in your adata for which you do not have any gene sets in your gene set annotation dictionary you must include an empty dictionary under that cell type key.** Afterwards confirm that the matching has worked:"
      ],
      "metadata": {
        "id": "D5EvurEfs2aL"
      }
    },
    {
      "cell_type": "code",
      "source": [
        "#filter gene set annotation dict for genes contained in adata\n",
        "annotations = check_gene_set_dictionary(adata, annotations, obs_key='cell_type_annotations',global_key='global')"
      ],
      "metadata": {
        "colab": {
          "base_uri": "https://localhost:8080/"
        },
        "id": "DNY50iPdyo_5",
        "outputId": "51c8d1f3-2587-4593-aff0-f13a55ed570a"
      },
      "execution_count": 17,
      "outputs": [
        {
          "output_type": "stream",
          "name": "stdout",
          "text": [
            "Cell type labels in gene set annotation dictionary and AnnData object are identical\n",
            "Your gene set annotation dictionary is correctly formatted.\n"
          ]
        }
      ]
    },
    {
      "cell_type": "markdown",
      "source": [
        "# Fit Spectra model"
      ],
      "metadata": {
        "id": "u3-E0Hsstt2L"
      }
    },
    {
      "cell_type": "markdown",
      "source": [
        "**General comments**\n",
        "\n",
        "Spectra is memory and cpu intensive.\n",
        "\n",
        "The here-provided dataset can be run on most computers. For bigger datasets you want to run this in non-interactive mode, as runtime can be 1-2 days for a dataset of ca 200,000 cells with 250 factors and 10 cell types. Run time scales linearly with the number of cell types in your data.\n",
        "\n",
        "An example hardware you could run a 200,000 cell, 10 cell type, 250 factor dataset on would be:\n",
        "\n",
        "16 cpus Intel Xeon Gold 256 GB RAM\n",
        "\n",
        "**Parameters**\n",
        "\n",
        "**adata** : AnnData object containing cell_type_key with log count data stored in .X\n",
        "\n",
        "**gene_set_dictionary**:dict or OrderedDict() maps cell types to gene set names to gene sets ; if use_cell_types == False then maps gene set names to gene sets ; must contain \"global\" key in addition to every unique cell type under .obs.<cell_type_key>\n",
        "\n",
        "**L**: dict, OrderedDict(), int , NoneType number of factors per cell type ; if use_cell_types == False then int. Else dictionary. If None then match factors to number of gene sets (recommended)\n",
        "\n",
        "**use_highly_variable** : bool if True, then uses highly_variable_genes\n",
        "\n",
        "**cell_type_key**: str cell type key, must be under adata.obs.<cell_type_key> . If use_cell_types == False, this is ignored\n",
        "\n",
        "**use_weights**: bool if True, edge weights are estimated based on graph structure and used throughout training\n",
        "\n",
        "**lam**: float lambda parameter of the model. weighs relative contribution of graph and expression loss functions\n",
        "\n",
        "**delta**: float delta parameter of the model. lower bounds possible gene scaling factors so that maximum ratio of gene scalings cannot be too large\n",
        "\n",
        "**kappa**: float or None if None, estimate background rate of 1s in the graph from data\n",
        "\n",
        "**rho**: float or None if None, estimate background rate of 0s in the graph from data\n",
        "\n",
        "**use_cell_types** : bool if True then cell type label is used to fit cell type specific factors. If false then cell types are ignored\n",
        "\n",
        "**n_top_vals** : int number of top markers to return in markers dataframe\n",
        "\n",
        "**determinant_penalty** : float determinant penalty of the attention mechanism. If set higher than 0 then sparse solutions of the attention weights and diverse attention weights are encouraged. However, tuning is crucial as setting too high reduces the selection accuracy because convergence to a hard selection occurs early during training [todo: annealing strategy]\n",
        "\n",
        "**filter_sets** : bool whether to filter the gene sets based on coherence\n",
        "\n",
        "**kwargs** : (num_epochs = 10000, lr_schedule = [...], verbose = False) arguments to .train(), maximum number of training epochs, learning rate schedule and whether to print changes in learning rate\n",
        "\n",
        "**Returns**: SPECTRA_Model object [after training]\n",
        "\n",
        "**In place**: adds 1. factors, 2. cell scores, 3. vocabulary, and 4. markers as attributes in .obsm, .var, .uns\n",
        "\n"
      ],
      "metadata": {
        "id": "q-G3dGLPtp8P"
      }
    },
    {
      "cell_type": "markdown",
      "source": [
        "**fit model with cell type annotations**\n",
        "\n",
        "Running Spectra with the cell type annotations will give you both global and cell type specific factors."
      ],
      "metadata": {
        "id": "zKETp-2LtmAs"
      }
    },
    {
      "cell_type": "code",
      "source": [
        "#fit the model (We will run this with only 2 epochs to decrease runtime in this tutorial)\n",
        "model = spc.est_spectra(adata = adata, gene_set_dictionary = annotations, \n",
        "                        use_highly_variable = True, cell_type_key = \"cell_type_annotations\", \n",
        "                        use_weights = True, lam = 0.1, \n",
        "                        delta=0.001,kappa = 0.00001, rho = 0.00001, \n",
        "                        use_cell_types = True, n_top_vals = 25, \n",
        "                        num_epochs=2 #for demonstration purposes we will only run 2 epochs, we recommend 10,000 epochs\n",
        "                       )"
      ],
      "metadata": {
        "colab": {
          "base_uri": "https://localhost:8080/"
        },
        "id": "6XDuS4eoopXS",
        "outputId": "c604731b-0517-4f60-927d-dab12bd8fdf7"
      },
      "execution_count": 18,
      "outputs": [
        {
          "output_type": "stream",
          "name": "stderr",
          "text": [
            "100%|██████████| 2/2 [00:44<00:00, 22.36s/it]\n"
          ]
        }
      ]
    },
    {
      "cell_type": "code",
      "source": [
        "#get factor celltype labels (the cell type will likely be provided directly by the model in future versions)\n",
        "celltype_dict = get_factor_celltypes(adata, obs_key= obs_key, cellscore_obsm_key = 'SPECTRA_cell_scores')\n",
        "set(celltype_dict.values())"
      ],
      "metadata": {
        "id": "rDaGMyvA6Lhr",
        "outputId": "29e7c779-61fd-421e-e7f6-c2b62044eaef",
        "colab": {
          "base_uri": "https://localhost:8080/"
        }
      },
      "execution_count": 19,
      "outputs": [
        {
          "output_type": "execute_result",
          "data": {
            "text/plain": [
              "{'B_GC',\n",
              " 'B_memory',\n",
              " 'B_naive',\n",
              " 'CD4_T',\n",
              " 'CD8_T',\n",
              " 'DC',\n",
              " 'ILC3',\n",
              " 'MDC',\n",
              " 'NK',\n",
              " 'Treg',\n",
              " 'gdT',\n",
              " 'global',\n",
              " 'mast',\n",
              " 'pDC',\n",
              " 'plasma'}"
            ]
          },
          "metadata": {},
          "execution_count": 19
        }
      ]
    },
    {
      "cell_type": "markdown",
      "source": [
        "**fit model without cell type annotations**\n",
        "\n",
        "You can also fit the model without using the cell type annotations. In this case, instead of a nested gene set annotation dictionary, supply a regular dictionary with gene set names as keys (str) and the gene sets as values (list of gene names/IDs which match the gene names/IDs in the adata.var_names)"
      ],
      "metadata": {
        "id": "p8GHPvfytfde"
      }
    },
    {
      "cell_type": "code",
      "source": [
        "#fit the model (We will run this with only 2 epochs to decrease runtime in this tutorial)\n",
        "model = spc.est_spectra(adata = adata, gene_set_dictionary = annotations['global'], # because we do not use the cell types\n",
        "                                                                                    # we will supply a regular dict\n",
        "                                                                                    # instead of the nested dict above\n",
        "                        use_highly_variable = True, cell_type_key =None,# \"cell_type_annotations\" \n",
        "                        use_weights = True, lam = 0.1, \n",
        "                        delta=0.001,kappa = 0.00001, rho = 0.00001, \n",
        "                        use_cell_types = False, #set to False to not use the cell type annotations\n",
        "                        n_top_vals = 25, \n",
        "                        num_epochs=2 #for demonstration purposes we will only run 2 epochs, we recommend 10,000 epochs\n",
        "                       )\n",
        "\n"
      ],
      "metadata": {
        "colab": {
          "base_uri": "https://localhost:8080/"
        },
        "id": "i539dhsFyrX3",
        "outputId": "e4cf4a4d-aa3c-4591-855f-4564e050c386"
      },
      "execution_count": 20,
      "outputs": [
        {
          "output_type": "stream",
          "name": "stderr",
          "text": [
            "100%|██████████| 2/2 [00:13<00:00,  6.95s/it]\n"
          ]
        }
      ]
    },
    {
      "cell_type": "code",
      "source": [
        "#this is the model file which includes all outputs\n",
        "dir(model)"
      ],
      "metadata": {
        "id": "Ar_34e8nyzFz",
        "colab": {
          "base_uri": "https://localhost:8080/"
        },
        "outputId": "55063535-9ece-4c5d-e05b-de97e99fa88e"
      },
      "execution_count": 21,
      "outputs": [
        {
          "output_type": "execute_result",
          "data": {
            "text/plain": [
              "['B_diag',\n",
              " 'L',\n",
              " '_SPECTRA_Model__B_diag',\n",
              " '_SPECTRA_Model__eta_matrices',\n",
              " '_SPECTRA_Model__store_parameters',\n",
              " '_SPECTRA_Model__store_parameters_no_celltypes',\n",
              " '__class__',\n",
              " '__delattr__',\n",
              " '__dict__',\n",
              " '__dir__',\n",
              " '__doc__',\n",
              " '__eq__',\n",
              " '__format__',\n",
              " '__ge__',\n",
              " '__getattribute__',\n",
              " '__gt__',\n",
              " '__hash__',\n",
              " '__init__',\n",
              " '__init_subclass__',\n",
              " '__le__',\n",
              " '__lt__',\n",
              " '__module__',\n",
              " '__ne__',\n",
              " '__new__',\n",
              " '__reduce__',\n",
              " '__reduce_ex__',\n",
              " '__repr__',\n",
              " '__setattr__',\n",
              " '__sizeof__',\n",
              " '__str__',\n",
              " '__subclasshook__',\n",
              " '__weakref__',\n",
              " 'cell_scores',\n",
              " 'delta',\n",
              " 'eta_matrices',\n",
              " 'factors',\n",
              " 'gene_scalings',\n",
              " 'initialize',\n",
              " 'internal_model',\n",
              " 'kappa',\n",
              " 'lam',\n",
              " 'load',\n",
              " 'matching',\n",
              " 'return_cell_scores',\n",
              " 'return_eta',\n",
              " 'return_eta_diag',\n",
              " 'return_factors',\n",
              " 'return_gene_scalings',\n",
              " 'return_graph',\n",
              " 'return_kappa',\n",
              " 'return_rho',\n",
              " 'rho',\n",
              " 'save',\n",
              " 'train',\n",
              " 'use_cell_types']"
            ]
          },
          "metadata": {},
          "execution_count": 21
        }
      ]
    },
    {
      "cell_type": "code",
      "source": [
        "#get factor celltype labels (the cell type will likely be provided directly by the model in future versions)\n",
        "celltype_dict = get_factor_celltypes(adata, obs_key= obs_key, cellscore_obsm_key = 'SPECTRA_cell_scores')\n",
        "set(celltype_dict.values())"
      ],
      "metadata": {
        "id": "Ol9KLYt-6i3z",
        "outputId": "a5f86df2-db68-457f-adaa-6d70d33f23f1",
        "colab": {
          "base_uri": "https://localhost:8080/"
        }
      },
      "execution_count": 22,
      "outputs": [
        {
          "output_type": "execute_result",
          "data": {
            "text/plain": [
              "{'global'}"
            ]
          },
          "metadata": {},
          "execution_count": 22
        }
      ]
    },
    {
      "cell_type": "code",
      "source": [
        "#save the model\n",
        "import pickle\n",
        "with open('spectra_model.pickle', 'wb') as f:\n",
        "    pickle.dump(model, f, pickle.HIGHEST_PROTOCOL)"
      ],
      "metadata": {
        "id": "V96MD2JNy1l9"
      },
      "execution_count": 23,
      "outputs": []
    },
    {
      "cell_type": "code",
      "source": [
        "#load the model\n",
        "with open('spectra_model.pickle', 'rb') as f:\n",
        "    model = pickle.load(f)"
      ],
      "metadata": {
        "id": "koPXcTN4pJz-"
      },
      "execution_count": 24,
      "outputs": []
    },
    {
      "cell_type": "code",
      "source": [
        "#the adata will contain the most important outputs from the Spectra model \n",
        "adata"
      ],
      "metadata": {
        "id": "DIwXb_1ty65g",
        "colab": {
          "base_uri": "https://localhost:8080/"
        },
        "outputId": "70e87bc0-0eb7-426a-87ed-e6c1e00d8069"
      },
      "execution_count": 25,
      "outputs": [
        {
          "output_type": "execute_result",
          "data": {
            "text/plain": [
              "AnnData object with n_obs × n_vars = 10000 × 6397\n",
              "    obs: 'cell_type_annotations'\n",
              "    var: 'n_cells_by_counts', 'highly_variable', 'spectra_vocab'\n",
              "    uns: 'annotation_SPADE_1_colors', 'cell_type_annotations_colors', 'diffmap_evals', 'draw_graph', 'hvg', 'neighbors', 'pca', 'SPECTRA_factors', 'SPECTRA_markers', 'SPECTRA_L'\n",
              "    obsm: 'X_diffmap', 'X_draw_graph_fa', 'X_pca', 'X_tsne', 'X_umap', 'SPECTRA_cell_scores'\n",
              "    varm: 'PCs'\n",
              "    obsp: 'connectivities', 'distances'"
            ]
          },
          "metadata": {},
          "execution_count": 25
        }
      ]
    },
    {
      "cell_type": "code",
      "source": [
        "#find the markers under adata.uns['SPECTRA_markers']\n",
        "adata.uns['SPECTRA_markers']"
      ],
      "metadata": {
        "id": "5k2f1CbZy68U",
        "colab": {
          "base_uri": "https://localhost:8080/"
        },
        "outputId": "264bad24-321d-4251-cb40-e16b351edf88"
      },
      "execution_count": 26,
      "outputs": [
        {
          "output_type": "execute_result",
          "data": {
            "text/plain": [
              "array([['HLCS', 'SLC5A6', 'BTD', ..., 'ERAP1', 'COX7A2', 'WNT1'],\n",
              "       ['AK4', 'NT5C2', 'AK2', ..., 'AK1', 'NR4A2', 'TMSB4X'],\n",
              "       ['ALDH3B2', 'ALDH3B1', 'ALDH1B1', ..., 'HLA-E', 'CORO1A',\n",
              "        'INPP4B'],\n",
              "       ...,\n",
              "       ['LTB', 'EBI3', 'PTPN1', ..., 'PIM1', 'IL10RB', 'MAP3K8'],\n",
              "       ['EEF1A1', 'HSPA8', 'HSP90AA1', ..., 'DOCK2', 'EIF1', 'HCLS1'],\n",
              "       ['NEAT1', 'IL32', 'RGS1', ..., 'CXCR3', 'PTPRCAP', 'ZAP70']],\n",
              "      dtype=object)"
            ]
          },
          "metadata": {},
          "execution_count": 26
        }
      ]
    },
    {
      "cell_type": "code",
      "source": [
        "#find the factors under adata.uns['SPECTRA_factors'] \n",
        "adata.uns['SPECTRA_factors']"
      ],
      "metadata": {
        "id": "aDKxRcpWy6_O",
        "colab": {
          "base_uri": "https://localhost:8080/"
        },
        "outputId": "bcfa51e5-4251-4f27-8f8f-8c1c0c1711a6"
      },
      "execution_count": 27,
      "outputs": [
        {
          "output_type": "execute_result",
          "data": {
            "text/plain": [
              "array([[6.02463121e-13, 9.55831768e-12, 9.77934503e-14, ...,\n",
              "        1.00223933e-13, 1.38107922e-13, 7.59893125e-13],\n",
              "       [2.10249509e-11, 1.78145194e-12, 4.26614202e-13, ...,\n",
              "        1.19262253e-13, 6.17387380e-13, 5.68620455e-13],\n",
              "       [9.10217648e-12, 1.94461912e-11, 5.00510041e-14, ...,\n",
              "        6.18797616e-14, 1.80758227e-13, 1.89782584e-13],\n",
              "       ...,\n",
              "       [2.80263963e-12, 3.14344926e-12, 9.55697991e-14, ...,\n",
              "        1.67626587e-13, 8.64856201e-13, 6.85489534e-13],\n",
              "       [1.97256903e-12, 3.89127099e-12, 8.59797327e-14, ...,\n",
              "        9.89003530e-14, 9.54589923e-13, 5.64996563e-13],\n",
              "       [4.58704378e-23, 4.01063037e-23, 5.23954257e-02, ...,\n",
              "        1.19713999e-01, 1.06461942e-01, 1.43258245e-23]], dtype=float32)"
            ]
          },
          "metadata": {},
          "execution_count": 27
        }
      ]
    },
    {
      "cell_type": "code",
      "source": [
        "#it also includes a dictionary of the factor numbers per cell type\n",
        "adata.uns['SPECTRA_L']"
      ],
      "metadata": {
        "id": "fYzI1tK3y7B6",
        "colab": {
          "base_uri": "https://localhost:8080/"
        },
        "outputId": "b675f4e6-4d93-428f-a195-6734964e10b8"
      },
      "execution_count": 28,
      "outputs": [
        {
          "output_type": "execute_result",
          "data": {
            "text/plain": [
              "151"
            ]
          },
          "metadata": {},
          "execution_count": 28
        }
      ]
    },
    {
      "cell_type": "code",
      "source": [
        "#so you can construct a dataframe for the factor gene weights\n",
        "\n",
        "#include cell type specificity as a prefix into the index\n",
        "index_labels = [celltype_dict[x]+'_'+str(x) for x in range(adata.uns['SPECTRA_factors'].shape[0])]\n",
        "gene_weights = pd.DataFrame(adata.uns['SPECTRA_factors'], \n",
        "                            index= index_labels,\n",
        "                            columns=adata.var[adata.var['spectra_vocab']].index)\n",
        "gene_weights"
      ],
      "metadata": {
        "id": "1l6It9epy7G7",
        "colab": {
          "base_uri": "https://localhost:8080/",
          "height": 424
        },
        "outputId": "cfbdafb3-6fd2-42e9-87f2-1ff243d0aa83"
      },
      "execution_count": 29,
      "outputs": [
        {
          "output_type": "execute_result",
          "data": {
            "text/plain": [
              "                  NDUFS3         HACD1       FAM214A          TBCD  \\\n",
              "global_0    6.024631e-13  9.558318e-12  9.779345e-14  2.487065e-11   \n",
              "global_1    2.102495e-11  1.781452e-12  4.266142e-13  3.499388e-13   \n",
              "global_2    9.102176e-12  1.944619e-11  5.005100e-14  3.609410e-13   \n",
              "global_3    4.107911e-12  1.013320e-11  1.443021e-13  1.766703e-12   \n",
              "global_4    2.862699e-10  1.433937e-12  2.146632e-13  6.629092e-13   \n",
              "...                  ...           ...           ...           ...   \n",
              "global_146  1.776994e-11  5.332204e-13  1.970184e-13  2.247578e-12   \n",
              "global_147  2.984147e-11  1.645279e-11  4.652180e-13  5.801719e-12   \n",
              "global_148  2.802640e-12  3.143449e-12  9.556980e-14  6.648238e-13   \n",
              "global_149  1.972569e-12  3.891271e-12  8.597973e-14  1.037502e-12   \n",
              "global_150  4.587044e-23  4.010630e-23  5.239543e-02  2.020484e-23   \n",
              "\n",
              "              AC124312.1        CD40LG    AC022182.1         USP53  \\\n",
              "global_0    6.426247e-13  1.900375e-12  8.016016e-15  1.066563e-12   \n",
              "global_1    7.605953e-14  3.411796e-13  5.436989e-15  3.433837e-13   \n",
              "global_2    2.591590e-13  6.011691e-13  7.058128e-14  8.573150e-13   \n",
              "global_3    4.807550e-13  4.835738e-13  7.197773e-15  6.828440e-13   \n",
              "global_4    1.907824e-12  2.972440e-13  1.909944e-14  1.445941e-13   \n",
              "...                  ...           ...           ...           ...   \n",
              "global_146  3.349541e-13  2.207933e-12  3.081175e-14  2.450443e-12   \n",
              "global_147  1.102022e-12  6.765059e-13  3.465168e-15  2.238204e-12   \n",
              "global_148  2.707450e-13  7.029277e-13  5.721308e-15  7.446849e-13   \n",
              "global_149  6.879002e-13  5.384725e-13  2.800415e-15  2.669418e-13   \n",
              "global_150  1.170479e-01  1.673618e-01  1.502617e-02  1.472746e-01   \n",
              "\n",
              "                    SPOP         PILRA  ...         ACVR1        CCL3L1  \\\n",
              "global_0    4.450934e-12  1.016419e-13  ...  5.242803e-12  7.039050e-14   \n",
              "global_1    3.191306e-12  4.736623e-14  ...  1.256100e-12  1.056125e-13   \n",
              "global_2    8.589060e-12  5.831696e-13  ...  2.805316e-13  2.906780e-13   \n",
              "global_3    1.310399e-12  1.336786e-13  ...  1.436946e-12  8.749908e-13   \n",
              "global_4    4.559086e-11  1.732515e-13  ...  1.648639e-12  1.648669e-13   \n",
              "...                  ...           ...  ...           ...           ...   \n",
              "global_146  2.689108e-12  1.081456e-13  ...  2.447993e-13  2.209616e-13   \n",
              "global_147  1.912699e-12  1.569059e-13  ...  4.415135e-12  8.463859e-14   \n",
              "global_148  2.152902e-12  8.159384e-14  ...  1.648459e-13  1.291242e-13   \n",
              "global_149  2.161254e-12  1.678645e-13  ...  4.953607e-13  1.728555e-13   \n",
              "global_150  2.225954e-23  1.111756e-01  ...  4.012793e-24  6.470127e-02   \n",
              "\n",
              "                    BAG3      CDC42EP3        RANBP1         FDFT1  \\\n",
              "global_0    1.917367e-14  3.147219e-13  2.838193e-11  4.195859e-13   \n",
              "global_1    5.997390e-14  9.438605e-14  2.113116e-11  2.392007e-12   \n",
              "global_2    5.046563e-14  5.629294e-13  7.690996e-12  1.709624e-12   \n",
              "global_3    2.264328e-13  2.082332e-13  7.616139e-12  2.556146e-12   \n",
              "global_4    6.644167e-14  5.778473e-13  1.054967e-11  1.712499e-01   \n",
              "...                  ...           ...           ...           ...   \n",
              "global_146  2.049106e-13  3.678328e-13  8.029361e-12  1.123998e-11   \n",
              "global_147  1.042755e-13  5.063440e-13  2.859629e-11  1.836284e-12   \n",
              "global_148  1.408552e-13  2.302353e-13  8.593881e-12  1.858641e-12   \n",
              "global_149  6.917248e-04  8.035678e-13  1.428650e-11  1.872919e-12   \n",
              "global_150  9.496623e-25  1.560315e-01  4.456390e-23  5.727364e-24   \n",
              "\n",
              "                   HACD4        FCGR3A         AZGP1       SLC35A1  \n",
              "global_0    2.562792e-13  1.002239e-13  1.381079e-13  7.598931e-13  \n",
              "global_1    1.103289e-12  1.192623e-13  6.173874e-13  5.686205e-13  \n",
              "global_2    1.190147e-12  6.187976e-14  1.807582e-13  1.897826e-13  \n",
              "global_3    2.476083e-12  4.574168e-14  5.359260e-13  1.272754e-11  \n",
              "global_4    3.034316e-12  5.108969e-14  1.390523e-13  3.892462e-12  \n",
              "...                  ...           ...           ...           ...  \n",
              "global_146  6.624483e-12  1.120485e-13  7.391528e-13  1.689789e-11  \n",
              "global_147  3.731430e-13  2.266898e-13  3.943321e-13  4.995866e-12  \n",
              "global_148  5.071518e-13  1.676266e-13  8.648562e-13  6.854895e-13  \n",
              "global_149  3.054982e-13  9.890035e-14  9.545899e-13  5.649966e-13  \n",
              "global_150  1.572979e-23  1.197140e-01  1.064619e-01  1.432582e-23  \n",
              "\n",
              "[151 rows x 6075 columns]"
            ],
            "text/html": [
              "\n",
              "  <div id=\"df-d7ee9268-8962-47d4-b939-7a733b84a092\">\n",
              "    <div class=\"colab-df-container\">\n",
              "      <div>\n",
              "<style scoped>\n",
              "    .dataframe tbody tr th:only-of-type {\n",
              "        vertical-align: middle;\n",
              "    }\n",
              "\n",
              "    .dataframe tbody tr th {\n",
              "        vertical-align: top;\n",
              "    }\n",
              "\n",
              "    .dataframe thead th {\n",
              "        text-align: right;\n",
              "    }\n",
              "</style>\n",
              "<table border=\"1\" class=\"dataframe\">\n",
              "  <thead>\n",
              "    <tr style=\"text-align: right;\">\n",
              "      <th></th>\n",
              "      <th>NDUFS3</th>\n",
              "      <th>HACD1</th>\n",
              "      <th>FAM214A</th>\n",
              "      <th>TBCD</th>\n",
              "      <th>AC124312.1</th>\n",
              "      <th>CD40LG</th>\n",
              "      <th>AC022182.1</th>\n",
              "      <th>USP53</th>\n",
              "      <th>SPOP</th>\n",
              "      <th>PILRA</th>\n",
              "      <th>...</th>\n",
              "      <th>ACVR1</th>\n",
              "      <th>CCL3L1</th>\n",
              "      <th>BAG3</th>\n",
              "      <th>CDC42EP3</th>\n",
              "      <th>RANBP1</th>\n",
              "      <th>FDFT1</th>\n",
              "      <th>HACD4</th>\n",
              "      <th>FCGR3A</th>\n",
              "      <th>AZGP1</th>\n",
              "      <th>SLC35A1</th>\n",
              "    </tr>\n",
              "  </thead>\n",
              "  <tbody>\n",
              "    <tr>\n",
              "      <th>global_0</th>\n",
              "      <td>6.024631e-13</td>\n",
              "      <td>9.558318e-12</td>\n",
              "      <td>9.779345e-14</td>\n",
              "      <td>2.487065e-11</td>\n",
              "      <td>6.426247e-13</td>\n",
              "      <td>1.900375e-12</td>\n",
              "      <td>8.016016e-15</td>\n",
              "      <td>1.066563e-12</td>\n",
              "      <td>4.450934e-12</td>\n",
              "      <td>1.016419e-13</td>\n",
              "      <td>...</td>\n",
              "      <td>5.242803e-12</td>\n",
              "      <td>7.039050e-14</td>\n",
              "      <td>1.917367e-14</td>\n",
              "      <td>3.147219e-13</td>\n",
              "      <td>2.838193e-11</td>\n",
              "      <td>4.195859e-13</td>\n",
              "      <td>2.562792e-13</td>\n",
              "      <td>1.002239e-13</td>\n",
              "      <td>1.381079e-13</td>\n",
              "      <td>7.598931e-13</td>\n",
              "    </tr>\n",
              "    <tr>\n",
              "      <th>global_1</th>\n",
              "      <td>2.102495e-11</td>\n",
              "      <td>1.781452e-12</td>\n",
              "      <td>4.266142e-13</td>\n",
              "      <td>3.499388e-13</td>\n",
              "      <td>7.605953e-14</td>\n",
              "      <td>3.411796e-13</td>\n",
              "      <td>5.436989e-15</td>\n",
              "      <td>3.433837e-13</td>\n",
              "      <td>3.191306e-12</td>\n",
              "      <td>4.736623e-14</td>\n",
              "      <td>...</td>\n",
              "      <td>1.256100e-12</td>\n",
              "      <td>1.056125e-13</td>\n",
              "      <td>5.997390e-14</td>\n",
              "      <td>9.438605e-14</td>\n",
              "      <td>2.113116e-11</td>\n",
              "      <td>2.392007e-12</td>\n",
              "      <td>1.103289e-12</td>\n",
              "      <td>1.192623e-13</td>\n",
              "      <td>6.173874e-13</td>\n",
              "      <td>5.686205e-13</td>\n",
              "    </tr>\n",
              "    <tr>\n",
              "      <th>global_2</th>\n",
              "      <td>9.102176e-12</td>\n",
              "      <td>1.944619e-11</td>\n",
              "      <td>5.005100e-14</td>\n",
              "      <td>3.609410e-13</td>\n",
              "      <td>2.591590e-13</td>\n",
              "      <td>6.011691e-13</td>\n",
              "      <td>7.058128e-14</td>\n",
              "      <td>8.573150e-13</td>\n",
              "      <td>8.589060e-12</td>\n",
              "      <td>5.831696e-13</td>\n",
              "      <td>...</td>\n",
              "      <td>2.805316e-13</td>\n",
              "      <td>2.906780e-13</td>\n",
              "      <td>5.046563e-14</td>\n",
              "      <td>5.629294e-13</td>\n",
              "      <td>7.690996e-12</td>\n",
              "      <td>1.709624e-12</td>\n",
              "      <td>1.190147e-12</td>\n",
              "      <td>6.187976e-14</td>\n",
              "      <td>1.807582e-13</td>\n",
              "      <td>1.897826e-13</td>\n",
              "    </tr>\n",
              "    <tr>\n",
              "      <th>global_3</th>\n",
              "      <td>4.107911e-12</td>\n",
              "      <td>1.013320e-11</td>\n",
              "      <td>1.443021e-13</td>\n",
              "      <td>1.766703e-12</td>\n",
              "      <td>4.807550e-13</td>\n",
              "      <td>4.835738e-13</td>\n",
              "      <td>7.197773e-15</td>\n",
              "      <td>6.828440e-13</td>\n",
              "      <td>1.310399e-12</td>\n",
              "      <td>1.336786e-13</td>\n",
              "      <td>...</td>\n",
              "      <td>1.436946e-12</td>\n",
              "      <td>8.749908e-13</td>\n",
              "      <td>2.264328e-13</td>\n",
              "      <td>2.082332e-13</td>\n",
              "      <td>7.616139e-12</td>\n",
              "      <td>2.556146e-12</td>\n",
              "      <td>2.476083e-12</td>\n",
              "      <td>4.574168e-14</td>\n",
              "      <td>5.359260e-13</td>\n",
              "      <td>1.272754e-11</td>\n",
              "    </tr>\n",
              "    <tr>\n",
              "      <th>global_4</th>\n",
              "      <td>2.862699e-10</td>\n",
              "      <td>1.433937e-12</td>\n",
              "      <td>2.146632e-13</td>\n",
              "      <td>6.629092e-13</td>\n",
              "      <td>1.907824e-12</td>\n",
              "      <td>2.972440e-13</td>\n",
              "      <td>1.909944e-14</td>\n",
              "      <td>1.445941e-13</td>\n",
              "      <td>4.559086e-11</td>\n",
              "      <td>1.732515e-13</td>\n",
              "      <td>...</td>\n",
              "      <td>1.648639e-12</td>\n",
              "      <td>1.648669e-13</td>\n",
              "      <td>6.644167e-14</td>\n",
              "      <td>5.778473e-13</td>\n",
              "      <td>1.054967e-11</td>\n",
              "      <td>1.712499e-01</td>\n",
              "      <td>3.034316e-12</td>\n",
              "      <td>5.108969e-14</td>\n",
              "      <td>1.390523e-13</td>\n",
              "      <td>3.892462e-12</td>\n",
              "    </tr>\n",
              "    <tr>\n",
              "      <th>...</th>\n",
              "      <td>...</td>\n",
              "      <td>...</td>\n",
              "      <td>...</td>\n",
              "      <td>...</td>\n",
              "      <td>...</td>\n",
              "      <td>...</td>\n",
              "      <td>...</td>\n",
              "      <td>...</td>\n",
              "      <td>...</td>\n",
              "      <td>...</td>\n",
              "      <td>...</td>\n",
              "      <td>...</td>\n",
              "      <td>...</td>\n",
              "      <td>...</td>\n",
              "      <td>...</td>\n",
              "      <td>...</td>\n",
              "      <td>...</td>\n",
              "      <td>...</td>\n",
              "      <td>...</td>\n",
              "      <td>...</td>\n",
              "      <td>...</td>\n",
              "    </tr>\n",
              "    <tr>\n",
              "      <th>global_146</th>\n",
              "      <td>1.776994e-11</td>\n",
              "      <td>5.332204e-13</td>\n",
              "      <td>1.970184e-13</td>\n",
              "      <td>2.247578e-12</td>\n",
              "      <td>3.349541e-13</td>\n",
              "      <td>2.207933e-12</td>\n",
              "      <td>3.081175e-14</td>\n",
              "      <td>2.450443e-12</td>\n",
              "      <td>2.689108e-12</td>\n",
              "      <td>1.081456e-13</td>\n",
              "      <td>...</td>\n",
              "      <td>2.447993e-13</td>\n",
              "      <td>2.209616e-13</td>\n",
              "      <td>2.049106e-13</td>\n",
              "      <td>3.678328e-13</td>\n",
              "      <td>8.029361e-12</td>\n",
              "      <td>1.123998e-11</td>\n",
              "      <td>6.624483e-12</td>\n",
              "      <td>1.120485e-13</td>\n",
              "      <td>7.391528e-13</td>\n",
              "      <td>1.689789e-11</td>\n",
              "    </tr>\n",
              "    <tr>\n",
              "      <th>global_147</th>\n",
              "      <td>2.984147e-11</td>\n",
              "      <td>1.645279e-11</td>\n",
              "      <td>4.652180e-13</td>\n",
              "      <td>5.801719e-12</td>\n",
              "      <td>1.102022e-12</td>\n",
              "      <td>6.765059e-13</td>\n",
              "      <td>3.465168e-15</td>\n",
              "      <td>2.238204e-12</td>\n",
              "      <td>1.912699e-12</td>\n",
              "      <td>1.569059e-13</td>\n",
              "      <td>...</td>\n",
              "      <td>4.415135e-12</td>\n",
              "      <td>8.463859e-14</td>\n",
              "      <td>1.042755e-13</td>\n",
              "      <td>5.063440e-13</td>\n",
              "      <td>2.859629e-11</td>\n",
              "      <td>1.836284e-12</td>\n",
              "      <td>3.731430e-13</td>\n",
              "      <td>2.266898e-13</td>\n",
              "      <td>3.943321e-13</td>\n",
              "      <td>4.995866e-12</td>\n",
              "    </tr>\n",
              "    <tr>\n",
              "      <th>global_148</th>\n",
              "      <td>2.802640e-12</td>\n",
              "      <td>3.143449e-12</td>\n",
              "      <td>9.556980e-14</td>\n",
              "      <td>6.648238e-13</td>\n",
              "      <td>2.707450e-13</td>\n",
              "      <td>7.029277e-13</td>\n",
              "      <td>5.721308e-15</td>\n",
              "      <td>7.446849e-13</td>\n",
              "      <td>2.152902e-12</td>\n",
              "      <td>8.159384e-14</td>\n",
              "      <td>...</td>\n",
              "      <td>1.648459e-13</td>\n",
              "      <td>1.291242e-13</td>\n",
              "      <td>1.408552e-13</td>\n",
              "      <td>2.302353e-13</td>\n",
              "      <td>8.593881e-12</td>\n",
              "      <td>1.858641e-12</td>\n",
              "      <td>5.071518e-13</td>\n",
              "      <td>1.676266e-13</td>\n",
              "      <td>8.648562e-13</td>\n",
              "      <td>6.854895e-13</td>\n",
              "    </tr>\n",
              "    <tr>\n",
              "      <th>global_149</th>\n",
              "      <td>1.972569e-12</td>\n",
              "      <td>3.891271e-12</td>\n",
              "      <td>8.597973e-14</td>\n",
              "      <td>1.037502e-12</td>\n",
              "      <td>6.879002e-13</td>\n",
              "      <td>5.384725e-13</td>\n",
              "      <td>2.800415e-15</td>\n",
              "      <td>2.669418e-13</td>\n",
              "      <td>2.161254e-12</td>\n",
              "      <td>1.678645e-13</td>\n",
              "      <td>...</td>\n",
              "      <td>4.953607e-13</td>\n",
              "      <td>1.728555e-13</td>\n",
              "      <td>6.917248e-04</td>\n",
              "      <td>8.035678e-13</td>\n",
              "      <td>1.428650e-11</td>\n",
              "      <td>1.872919e-12</td>\n",
              "      <td>3.054982e-13</td>\n",
              "      <td>9.890035e-14</td>\n",
              "      <td>9.545899e-13</td>\n",
              "      <td>5.649966e-13</td>\n",
              "    </tr>\n",
              "    <tr>\n",
              "      <th>global_150</th>\n",
              "      <td>4.587044e-23</td>\n",
              "      <td>4.010630e-23</td>\n",
              "      <td>5.239543e-02</td>\n",
              "      <td>2.020484e-23</td>\n",
              "      <td>1.170479e-01</td>\n",
              "      <td>1.673618e-01</td>\n",
              "      <td>1.502617e-02</td>\n",
              "      <td>1.472746e-01</td>\n",
              "      <td>2.225954e-23</td>\n",
              "      <td>1.111756e-01</td>\n",
              "      <td>...</td>\n",
              "      <td>4.012793e-24</td>\n",
              "      <td>6.470127e-02</td>\n",
              "      <td>9.496623e-25</td>\n",
              "      <td>1.560315e-01</td>\n",
              "      <td>4.456390e-23</td>\n",
              "      <td>5.727364e-24</td>\n",
              "      <td>1.572979e-23</td>\n",
              "      <td>1.197140e-01</td>\n",
              "      <td>1.064619e-01</td>\n",
              "      <td>1.432582e-23</td>\n",
              "    </tr>\n",
              "  </tbody>\n",
              "</table>\n",
              "<p>151 rows × 6075 columns</p>\n",
              "</div>\n",
              "      <button class=\"colab-df-convert\" onclick=\"convertToInteractive('df-d7ee9268-8962-47d4-b939-7a733b84a092')\"\n",
              "              title=\"Convert this dataframe to an interactive table.\"\n",
              "              style=\"display:none;\">\n",
              "        \n",
              "  <svg xmlns=\"http://www.w3.org/2000/svg\" height=\"24px\"viewBox=\"0 0 24 24\"\n",
              "       width=\"24px\">\n",
              "    <path d=\"M0 0h24v24H0V0z\" fill=\"none\"/>\n",
              "    <path d=\"M18.56 5.44l.94 2.06.94-2.06 2.06-.94-2.06-.94-.94-2.06-.94 2.06-2.06.94zm-11 1L8.5 8.5l.94-2.06 2.06-.94-2.06-.94L8.5 2.5l-.94 2.06-2.06.94zm10 10l.94 2.06.94-2.06 2.06-.94-2.06-.94-.94-2.06-.94 2.06-2.06.94z\"/><path d=\"M17.41 7.96l-1.37-1.37c-.4-.4-.92-.59-1.43-.59-.52 0-1.04.2-1.43.59L10.3 9.45l-7.72 7.72c-.78.78-.78 2.05 0 2.83L4 21.41c.39.39.9.59 1.41.59.51 0 1.02-.2 1.41-.59l7.78-7.78 2.81-2.81c.8-.78.8-2.07 0-2.86zM5.41 20L4 18.59l7.72-7.72 1.47 1.35L5.41 20z\"/>\n",
              "  </svg>\n",
              "      </button>\n",
              "      \n",
              "  <style>\n",
              "    .colab-df-container {\n",
              "      display:flex;\n",
              "      flex-wrap:wrap;\n",
              "      gap: 12px;\n",
              "    }\n",
              "\n",
              "    .colab-df-convert {\n",
              "      background-color: #E8F0FE;\n",
              "      border: none;\n",
              "      border-radius: 50%;\n",
              "      cursor: pointer;\n",
              "      display: none;\n",
              "      fill: #1967D2;\n",
              "      height: 32px;\n",
              "      padding: 0 0 0 0;\n",
              "      width: 32px;\n",
              "    }\n",
              "\n",
              "    .colab-df-convert:hover {\n",
              "      background-color: #E2EBFA;\n",
              "      box-shadow: 0px 1px 2px rgba(60, 64, 67, 0.3), 0px 1px 3px 1px rgba(60, 64, 67, 0.15);\n",
              "      fill: #174EA6;\n",
              "    }\n",
              "\n",
              "    [theme=dark] .colab-df-convert {\n",
              "      background-color: #3B4455;\n",
              "      fill: #D2E3FC;\n",
              "    }\n",
              "\n",
              "    [theme=dark] .colab-df-convert:hover {\n",
              "      background-color: #434B5C;\n",
              "      box-shadow: 0px 1px 3px 1px rgba(0, 0, 0, 0.15);\n",
              "      filter: drop-shadow(0px 1px 2px rgba(0, 0, 0, 0.3));\n",
              "      fill: #FFFFFF;\n",
              "    }\n",
              "  </style>\n",
              "\n",
              "      <script>\n",
              "        const buttonEl =\n",
              "          document.querySelector('#df-d7ee9268-8962-47d4-b939-7a733b84a092 button.colab-df-convert');\n",
              "        buttonEl.style.display =\n",
              "          google.colab.kernel.accessAllowed ? 'block' : 'none';\n",
              "\n",
              "        async function convertToInteractive(key) {\n",
              "          const element = document.querySelector('#df-d7ee9268-8962-47d4-b939-7a733b84a092');\n",
              "          const dataTable =\n",
              "            await google.colab.kernel.invokeFunction('convertToInteractive',\n",
              "                                                     [key], {});\n",
              "          if (!dataTable) return;\n",
              "\n",
              "          const docLinkHtml = 'Like what you see? Visit the ' +\n",
              "            '<a target=\"_blank\" href=https://colab.research.google.com/notebooks/data_table.ipynb>data table notebook</a>'\n",
              "            + ' to learn more about interactive tables.';\n",
              "          element.innerHTML = '';\n",
              "          dataTable['output_type'] = 'display_data';\n",
              "          await google.colab.output.renderOutput(dataTable, element);\n",
              "          const docLink = document.createElement('div');\n",
              "          docLink.innerHTML = docLinkHtml;\n",
              "          element.appendChild(docLink);\n",
              "        }\n",
              "      </script>\n",
              "    </div>\n",
              "  </div>\n",
              "  "
            ]
          },
          "metadata": {},
          "execution_count": 29
        }
      ]
    },
    {
      "cell_type": "code",
      "source": [
        "#find the cell scores under adata.obsm['SPECTRA_cellscores']\n",
        "adata.obsm['SPECTRA_cell_scores']"
      ],
      "metadata": {
        "id": "ON6rNbn0zMO6",
        "colab": {
          "base_uri": "https://localhost:8080/"
        },
        "outputId": "606b5448-a075-4c1a-917a-b0a3f3a2a571"
      },
      "execution_count": 30,
      "outputs": [
        {
          "output_type": "execute_result",
          "data": {
            "text/plain": [
              "array([[7.5909637e-05, 7.2074159e-05, 6.2802421e-05, ..., 1.2576664e-04,\n",
              "        1.4211377e-03, 1.2817322e-02],\n",
              "       [2.0795274e-05, 1.7304214e-05, 2.1588527e-05, ..., 3.5811489e-04,\n",
              "        1.0725266e-03, 9.4264802e-03],\n",
              "       [4.9966466e-06, 8.3214090e-06, 6.6579964e-06, ..., 9.3527378e-05,\n",
              "        2.6544166e-04, 9.6169095e-03],\n",
              "       ...,\n",
              "       [2.2435195e-05, 1.2372208e-05, 1.5813486e-05, ..., 1.7509545e-04,\n",
              "        2.9386755e-03, 1.3682915e-02],\n",
              "       [3.1257714e-05, 4.0324662e-06, 2.0780311e-05, ..., 6.2883616e-04,\n",
              "        9.8246313e-04, 2.2872005e-02],\n",
              "       [9.2449918e-06, 5.0904400e-06, 1.0684421e-05, ..., 1.0038869e-04,\n",
              "        9.0233074e-04, 6.8909815e-03]], dtype=float32)"
            ]
          },
          "metadata": {},
          "execution_count": 30
        }
      ]
    },
    {
      "cell_type": "code",
      "source": [
        "#construct a dataframe for the cell scores\n",
        "\n",
        "#include cell type specificity as a prefix into the column names\n",
        "column_labels = [celltype_dict[x]+'_'+str(x) for x in range(adata.obsm['SPECTRA_cell_scores'].shape[1])]\n",
        "cell_scores = pd.DataFrame(adata.obsm['SPECTRA_cell_scores'], \n",
        "                            index= adata.obs_names,\n",
        "                            columns=column_labels)\n",
        "cell_scores\n",
        "\n"
      ],
      "metadata": {
        "id": "Eo_evLBczNQj",
        "colab": {
          "base_uri": "https://localhost:8080/",
          "height": 424
        },
        "outputId": "af1612a1-305b-4000-b017-49528a125c6b"
      },
      "execution_count": 31,
      "outputs": [
        {
          "output_type": "execute_result",
          "data": {
            "text/plain": [
              "      global_0  global_1  global_2  global_3  global_4  global_5  global_6  \\\n",
              "0     0.000076  0.000072  0.000063  0.000137  0.000122  0.000010  0.001342   \n",
              "1     0.000021  0.000017  0.000022  0.000527  0.000131  0.000042  0.000400   \n",
              "2     0.000005  0.000008  0.000007  0.000040  0.001712  0.000015  0.000655   \n",
              "3     0.000097  0.000026  0.000006  0.000083  0.000352  0.000016  0.001492   \n",
              "4     0.000032  0.000003  0.000005  0.000185  0.000173  0.000004  0.000916   \n",
              "...        ...       ...       ...       ...       ...       ...       ...   \n",
              "9995  0.000005  0.000003  0.000003  0.000066  0.000751  0.000029  0.000278   \n",
              "9996  0.000034  0.000012  0.000033  0.000119  0.000092  0.000064  0.000778   \n",
              "9997  0.000022  0.000012  0.000016  0.000426  0.000084  0.000008  0.000271   \n",
              "9998  0.000031  0.000004  0.000021  0.000098  0.000071  0.000072  0.000820   \n",
              "9999  0.000009  0.000005  0.000011  0.000165  0.000215  0.000013  0.001623   \n",
              "\n",
              "      global_7  global_8  global_9  ...  global_141  global_142  global_143  \\\n",
              "0     0.000153  0.000032  0.000050  ...    0.000172    0.000099    0.004597   \n",
              "1     0.000144  0.000024  0.000161  ...    0.000112    0.000053    0.000435   \n",
              "2     0.000368  0.000006  0.000039  ...    0.000035    0.000041    0.001621   \n",
              "3     0.000180  0.000037  0.000101  ...    0.000048    0.000023    0.000404   \n",
              "4     0.000197  0.000005  0.000067  ...    0.000041    0.000023    0.000338   \n",
              "...        ...       ...       ...  ...         ...         ...         ...   \n",
              "9995  0.000468  0.000012  0.000223  ...    0.000091    0.000014    0.000353   \n",
              "9996  0.000267  0.000007  0.000143  ...    0.000186    0.000024    0.000486   \n",
              "9997  0.000748  0.000002  0.000079  ...    0.000200    0.000040    0.000471   \n",
              "9998  0.001065  0.000012  0.000097  ...    0.000085    0.000046    0.001827   \n",
              "9999  0.000329  0.000011  0.000029  ...    0.000200    0.000024    0.000580   \n",
              "\n",
              "      global_144  global_145  global_146  global_147  global_148  global_149  \\\n",
              "0       0.000104    0.000146    0.000682    0.000016    0.000126    0.001421   \n",
              "1       0.000009    0.000025    0.000067    0.000051    0.000358    0.001073   \n",
              "2       0.000120    0.000101    0.002785    0.000376    0.000094    0.000265   \n",
              "3       0.000133    0.000069    0.001212    0.000151    0.000127    0.002719   \n",
              "4       0.000095    0.000511    0.004252    0.000166    0.000218    0.000728   \n",
              "...          ...         ...         ...         ...         ...         ...   \n",
              "9995    0.000028    0.000193    0.001640    0.000162    0.000070    0.002026   \n",
              "9996    0.000208    0.000063    0.000297    0.000447    0.000091    0.001280   \n",
              "9997    0.000270    0.000110    0.002795    0.000072    0.000175    0.002939   \n",
              "9998    0.000133    0.000083    0.001234    0.000112    0.000629    0.000982   \n",
              "9999    0.000110    0.000216    0.002634    0.000061    0.000100    0.000902   \n",
              "\n",
              "      global_150  \n",
              "0       0.012817  \n",
              "1       0.009426  \n",
              "2       0.009617  \n",
              "3       0.009913  \n",
              "4       0.022670  \n",
              "...          ...  \n",
              "9995    0.024981  \n",
              "9996    0.014128  \n",
              "9997    0.013683  \n",
              "9998    0.022872  \n",
              "9999    0.006891  \n",
              "\n",
              "[10000 rows x 151 columns]"
            ],
            "text/html": [
              "\n",
              "  <div id=\"df-81d961df-cbf1-4edf-8b98-52dc91f7d83c\">\n",
              "    <div class=\"colab-df-container\">\n",
              "      <div>\n",
              "<style scoped>\n",
              "    .dataframe tbody tr th:only-of-type {\n",
              "        vertical-align: middle;\n",
              "    }\n",
              "\n",
              "    .dataframe tbody tr th {\n",
              "        vertical-align: top;\n",
              "    }\n",
              "\n",
              "    .dataframe thead th {\n",
              "        text-align: right;\n",
              "    }\n",
              "</style>\n",
              "<table border=\"1\" class=\"dataframe\">\n",
              "  <thead>\n",
              "    <tr style=\"text-align: right;\">\n",
              "      <th></th>\n",
              "      <th>global_0</th>\n",
              "      <th>global_1</th>\n",
              "      <th>global_2</th>\n",
              "      <th>global_3</th>\n",
              "      <th>global_4</th>\n",
              "      <th>global_5</th>\n",
              "      <th>global_6</th>\n",
              "      <th>global_7</th>\n",
              "      <th>global_8</th>\n",
              "      <th>global_9</th>\n",
              "      <th>...</th>\n",
              "      <th>global_141</th>\n",
              "      <th>global_142</th>\n",
              "      <th>global_143</th>\n",
              "      <th>global_144</th>\n",
              "      <th>global_145</th>\n",
              "      <th>global_146</th>\n",
              "      <th>global_147</th>\n",
              "      <th>global_148</th>\n",
              "      <th>global_149</th>\n",
              "      <th>global_150</th>\n",
              "    </tr>\n",
              "  </thead>\n",
              "  <tbody>\n",
              "    <tr>\n",
              "      <th>0</th>\n",
              "      <td>0.000076</td>\n",
              "      <td>0.000072</td>\n",
              "      <td>0.000063</td>\n",
              "      <td>0.000137</td>\n",
              "      <td>0.000122</td>\n",
              "      <td>0.000010</td>\n",
              "      <td>0.001342</td>\n",
              "      <td>0.000153</td>\n",
              "      <td>0.000032</td>\n",
              "      <td>0.000050</td>\n",
              "      <td>...</td>\n",
              "      <td>0.000172</td>\n",
              "      <td>0.000099</td>\n",
              "      <td>0.004597</td>\n",
              "      <td>0.000104</td>\n",
              "      <td>0.000146</td>\n",
              "      <td>0.000682</td>\n",
              "      <td>0.000016</td>\n",
              "      <td>0.000126</td>\n",
              "      <td>0.001421</td>\n",
              "      <td>0.012817</td>\n",
              "    </tr>\n",
              "    <tr>\n",
              "      <th>1</th>\n",
              "      <td>0.000021</td>\n",
              "      <td>0.000017</td>\n",
              "      <td>0.000022</td>\n",
              "      <td>0.000527</td>\n",
              "      <td>0.000131</td>\n",
              "      <td>0.000042</td>\n",
              "      <td>0.000400</td>\n",
              "      <td>0.000144</td>\n",
              "      <td>0.000024</td>\n",
              "      <td>0.000161</td>\n",
              "      <td>...</td>\n",
              "      <td>0.000112</td>\n",
              "      <td>0.000053</td>\n",
              "      <td>0.000435</td>\n",
              "      <td>0.000009</td>\n",
              "      <td>0.000025</td>\n",
              "      <td>0.000067</td>\n",
              "      <td>0.000051</td>\n",
              "      <td>0.000358</td>\n",
              "      <td>0.001073</td>\n",
              "      <td>0.009426</td>\n",
              "    </tr>\n",
              "    <tr>\n",
              "      <th>2</th>\n",
              "      <td>0.000005</td>\n",
              "      <td>0.000008</td>\n",
              "      <td>0.000007</td>\n",
              "      <td>0.000040</td>\n",
              "      <td>0.001712</td>\n",
              "      <td>0.000015</td>\n",
              "      <td>0.000655</td>\n",
              "      <td>0.000368</td>\n",
              "      <td>0.000006</td>\n",
              "      <td>0.000039</td>\n",
              "      <td>...</td>\n",
              "      <td>0.000035</td>\n",
              "      <td>0.000041</td>\n",
              "      <td>0.001621</td>\n",
              "      <td>0.000120</td>\n",
              "      <td>0.000101</td>\n",
              "      <td>0.002785</td>\n",
              "      <td>0.000376</td>\n",
              "      <td>0.000094</td>\n",
              "      <td>0.000265</td>\n",
              "      <td>0.009617</td>\n",
              "    </tr>\n",
              "    <tr>\n",
              "      <th>3</th>\n",
              "      <td>0.000097</td>\n",
              "      <td>0.000026</td>\n",
              "      <td>0.000006</td>\n",
              "      <td>0.000083</td>\n",
              "      <td>0.000352</td>\n",
              "      <td>0.000016</td>\n",
              "      <td>0.001492</td>\n",
              "      <td>0.000180</td>\n",
              "      <td>0.000037</td>\n",
              "      <td>0.000101</td>\n",
              "      <td>...</td>\n",
              "      <td>0.000048</td>\n",
              "      <td>0.000023</td>\n",
              "      <td>0.000404</td>\n",
              "      <td>0.000133</td>\n",
              "      <td>0.000069</td>\n",
              "      <td>0.001212</td>\n",
              "      <td>0.000151</td>\n",
              "      <td>0.000127</td>\n",
              "      <td>0.002719</td>\n",
              "      <td>0.009913</td>\n",
              "    </tr>\n",
              "    <tr>\n",
              "      <th>4</th>\n",
              "      <td>0.000032</td>\n",
              "      <td>0.000003</td>\n",
              "      <td>0.000005</td>\n",
              "      <td>0.000185</td>\n",
              "      <td>0.000173</td>\n",
              "      <td>0.000004</td>\n",
              "      <td>0.000916</td>\n",
              "      <td>0.000197</td>\n",
              "      <td>0.000005</td>\n",
              "      <td>0.000067</td>\n",
              "      <td>...</td>\n",
              "      <td>0.000041</td>\n",
              "      <td>0.000023</td>\n",
              "      <td>0.000338</td>\n",
              "      <td>0.000095</td>\n",
              "      <td>0.000511</td>\n",
              "      <td>0.004252</td>\n",
              "      <td>0.000166</td>\n",
              "      <td>0.000218</td>\n",
              "      <td>0.000728</td>\n",
              "      <td>0.022670</td>\n",
              "    </tr>\n",
              "    <tr>\n",
              "      <th>...</th>\n",
              "      <td>...</td>\n",
              "      <td>...</td>\n",
              "      <td>...</td>\n",
              "      <td>...</td>\n",
              "      <td>...</td>\n",
              "      <td>...</td>\n",
              "      <td>...</td>\n",
              "      <td>...</td>\n",
              "      <td>...</td>\n",
              "      <td>...</td>\n",
              "      <td>...</td>\n",
              "      <td>...</td>\n",
              "      <td>...</td>\n",
              "      <td>...</td>\n",
              "      <td>...</td>\n",
              "      <td>...</td>\n",
              "      <td>...</td>\n",
              "      <td>...</td>\n",
              "      <td>...</td>\n",
              "      <td>...</td>\n",
              "      <td>...</td>\n",
              "    </tr>\n",
              "    <tr>\n",
              "      <th>9995</th>\n",
              "      <td>0.000005</td>\n",
              "      <td>0.000003</td>\n",
              "      <td>0.000003</td>\n",
              "      <td>0.000066</td>\n",
              "      <td>0.000751</td>\n",
              "      <td>0.000029</td>\n",
              "      <td>0.000278</td>\n",
              "      <td>0.000468</td>\n",
              "      <td>0.000012</td>\n",
              "      <td>0.000223</td>\n",
              "      <td>...</td>\n",
              "      <td>0.000091</td>\n",
              "      <td>0.000014</td>\n",
              "      <td>0.000353</td>\n",
              "      <td>0.000028</td>\n",
              "      <td>0.000193</td>\n",
              "      <td>0.001640</td>\n",
              "      <td>0.000162</td>\n",
              "      <td>0.000070</td>\n",
              "      <td>0.002026</td>\n",
              "      <td>0.024981</td>\n",
              "    </tr>\n",
              "    <tr>\n",
              "      <th>9996</th>\n",
              "      <td>0.000034</td>\n",
              "      <td>0.000012</td>\n",
              "      <td>0.000033</td>\n",
              "      <td>0.000119</td>\n",
              "      <td>0.000092</td>\n",
              "      <td>0.000064</td>\n",
              "      <td>0.000778</td>\n",
              "      <td>0.000267</td>\n",
              "      <td>0.000007</td>\n",
              "      <td>0.000143</td>\n",
              "      <td>...</td>\n",
              "      <td>0.000186</td>\n",
              "      <td>0.000024</td>\n",
              "      <td>0.000486</td>\n",
              "      <td>0.000208</td>\n",
              "      <td>0.000063</td>\n",
              "      <td>0.000297</td>\n",
              "      <td>0.000447</td>\n",
              "      <td>0.000091</td>\n",
              "      <td>0.001280</td>\n",
              "      <td>0.014128</td>\n",
              "    </tr>\n",
              "    <tr>\n",
              "      <th>9997</th>\n",
              "      <td>0.000022</td>\n",
              "      <td>0.000012</td>\n",
              "      <td>0.000016</td>\n",
              "      <td>0.000426</td>\n",
              "      <td>0.000084</td>\n",
              "      <td>0.000008</td>\n",
              "      <td>0.000271</td>\n",
              "      <td>0.000748</td>\n",
              "      <td>0.000002</td>\n",
              "      <td>0.000079</td>\n",
              "      <td>...</td>\n",
              "      <td>0.000200</td>\n",
              "      <td>0.000040</td>\n",
              "      <td>0.000471</td>\n",
              "      <td>0.000270</td>\n",
              "      <td>0.000110</td>\n",
              "      <td>0.002795</td>\n",
              "      <td>0.000072</td>\n",
              "      <td>0.000175</td>\n",
              "      <td>0.002939</td>\n",
              "      <td>0.013683</td>\n",
              "    </tr>\n",
              "    <tr>\n",
              "      <th>9998</th>\n",
              "      <td>0.000031</td>\n",
              "      <td>0.000004</td>\n",
              "      <td>0.000021</td>\n",
              "      <td>0.000098</td>\n",
              "      <td>0.000071</td>\n",
              "      <td>0.000072</td>\n",
              "      <td>0.000820</td>\n",
              "      <td>0.001065</td>\n",
              "      <td>0.000012</td>\n",
              "      <td>0.000097</td>\n",
              "      <td>...</td>\n",
              "      <td>0.000085</td>\n",
              "      <td>0.000046</td>\n",
              "      <td>0.001827</td>\n",
              "      <td>0.000133</td>\n",
              "      <td>0.000083</td>\n",
              "      <td>0.001234</td>\n",
              "      <td>0.000112</td>\n",
              "      <td>0.000629</td>\n",
              "      <td>0.000982</td>\n",
              "      <td>0.022872</td>\n",
              "    </tr>\n",
              "    <tr>\n",
              "      <th>9999</th>\n",
              "      <td>0.000009</td>\n",
              "      <td>0.000005</td>\n",
              "      <td>0.000011</td>\n",
              "      <td>0.000165</td>\n",
              "      <td>0.000215</td>\n",
              "      <td>0.000013</td>\n",
              "      <td>0.001623</td>\n",
              "      <td>0.000329</td>\n",
              "      <td>0.000011</td>\n",
              "      <td>0.000029</td>\n",
              "      <td>...</td>\n",
              "      <td>0.000200</td>\n",
              "      <td>0.000024</td>\n",
              "      <td>0.000580</td>\n",
              "      <td>0.000110</td>\n",
              "      <td>0.000216</td>\n",
              "      <td>0.002634</td>\n",
              "      <td>0.000061</td>\n",
              "      <td>0.000100</td>\n",
              "      <td>0.000902</td>\n",
              "      <td>0.006891</td>\n",
              "    </tr>\n",
              "  </tbody>\n",
              "</table>\n",
              "<p>10000 rows × 151 columns</p>\n",
              "</div>\n",
              "      <button class=\"colab-df-convert\" onclick=\"convertToInteractive('df-81d961df-cbf1-4edf-8b98-52dc91f7d83c')\"\n",
              "              title=\"Convert this dataframe to an interactive table.\"\n",
              "              style=\"display:none;\">\n",
              "        \n",
              "  <svg xmlns=\"http://www.w3.org/2000/svg\" height=\"24px\"viewBox=\"0 0 24 24\"\n",
              "       width=\"24px\">\n",
              "    <path d=\"M0 0h24v24H0V0z\" fill=\"none\"/>\n",
              "    <path d=\"M18.56 5.44l.94 2.06.94-2.06 2.06-.94-2.06-.94-.94-2.06-.94 2.06-2.06.94zm-11 1L8.5 8.5l.94-2.06 2.06-.94-2.06-.94L8.5 2.5l-.94 2.06-2.06.94zm10 10l.94 2.06.94-2.06 2.06-.94-2.06-.94-.94-2.06-.94 2.06-2.06.94z\"/><path d=\"M17.41 7.96l-1.37-1.37c-.4-.4-.92-.59-1.43-.59-.52 0-1.04.2-1.43.59L10.3 9.45l-7.72 7.72c-.78.78-.78 2.05 0 2.83L4 21.41c.39.39.9.59 1.41.59.51 0 1.02-.2 1.41-.59l7.78-7.78 2.81-2.81c.8-.78.8-2.07 0-2.86zM5.41 20L4 18.59l7.72-7.72 1.47 1.35L5.41 20z\"/>\n",
              "  </svg>\n",
              "      </button>\n",
              "      \n",
              "  <style>\n",
              "    .colab-df-container {\n",
              "      display:flex;\n",
              "      flex-wrap:wrap;\n",
              "      gap: 12px;\n",
              "    }\n",
              "\n",
              "    .colab-df-convert {\n",
              "      background-color: #E8F0FE;\n",
              "      border: none;\n",
              "      border-radius: 50%;\n",
              "      cursor: pointer;\n",
              "      display: none;\n",
              "      fill: #1967D2;\n",
              "      height: 32px;\n",
              "      padding: 0 0 0 0;\n",
              "      width: 32px;\n",
              "    }\n",
              "\n",
              "    .colab-df-convert:hover {\n",
              "      background-color: #E2EBFA;\n",
              "      box-shadow: 0px 1px 2px rgba(60, 64, 67, 0.3), 0px 1px 3px 1px rgba(60, 64, 67, 0.15);\n",
              "      fill: #174EA6;\n",
              "    }\n",
              "\n",
              "    [theme=dark] .colab-df-convert {\n",
              "      background-color: #3B4455;\n",
              "      fill: #D2E3FC;\n",
              "    }\n",
              "\n",
              "    [theme=dark] .colab-df-convert:hover {\n",
              "      background-color: #434B5C;\n",
              "      box-shadow: 0px 1px 3px 1px rgba(0, 0, 0, 0.15);\n",
              "      filter: drop-shadow(0px 1px 2px rgba(0, 0, 0, 0.3));\n",
              "      fill: #FFFFFF;\n",
              "    }\n",
              "  </style>\n",
              "\n",
              "      <script>\n",
              "        const buttonEl =\n",
              "          document.querySelector('#df-81d961df-cbf1-4edf-8b98-52dc91f7d83c button.colab-df-convert');\n",
              "        buttonEl.style.display =\n",
              "          google.colab.kernel.accessAllowed ? 'block' : 'none';\n",
              "\n",
              "        async function convertToInteractive(key) {\n",
              "          const element = document.querySelector('#df-81d961df-cbf1-4edf-8b98-52dc91f7d83c');\n",
              "          const dataTable =\n",
              "            await google.colab.kernel.invokeFunction('convertToInteractive',\n",
              "                                                     [key], {});\n",
              "          if (!dataTable) return;\n",
              "\n",
              "          const docLinkHtml = 'Like what you see? Visit the ' +\n",
              "            '<a target=\"_blank\" href=https://colab.research.google.com/notebooks/data_table.ipynb>data table notebook</a>'\n",
              "            + ' to learn more about interactive tables.';\n",
              "          element.innerHTML = '';\n",
              "          dataTable['output_type'] = 'display_data';\n",
              "          await google.colab.output.renderOutput(dataTable, element);\n",
              "          const docLink = document.createElement('div');\n",
              "          docLink.innerHTML = docLinkHtml;\n",
              "          element.appendChild(docLink);\n",
              "        }\n",
              "      </script>\n",
              "    </div>\n",
              "  </div>\n",
              "  "
            ]
          },
          "metadata": {},
          "execution_count": 31
        }
      ]
    },
    {
      "cell_type": "code",
      "source": [
        "#visualize factor cell scores (this is poorly fitted bc we only ran 2 epochs)\n",
        "factor_of_interest = 'global_0'\n",
        "adata.obs[factor_of_interest] = cell_scores[factor_of_interest].astype(float)\n",
        "sc.pl.umap(adata,color=factor_of_interest,vmax=cell_scores[factor_of_interest].quantile(0.99))"
      ],
      "metadata": {
        "id": "4vXRdI4SzOq9",
        "colab": {
          "base_uri": "https://localhost:8080/",
          "height": 448
        },
        "outputId": "4b1dc986-1453-4b19-bcc3-d4e18535be8f"
      },
      "execution_count": 32,
      "outputs": [
        {
          "output_type": "display_data",
          "data": {
            "text/plain": [
              "<Figure size 640x480 with 2 Axes>"
            ],
            "image/png": "[encoded data removed]"
          },
          "metadata": {}
        }
      ]
    },
    {
      "cell_type": "code",
      "source": [
        "#save the adata\n",
        "adata_save_path = 'adata_spectra.h5ad'#where to save the adata to\n",
        "adata.write(adata_save_path)\n",
        "print('Saved adata to:',adata_save_path)"
      ],
      "metadata": {
        "id": "FOU3kk63zQ7x",
        "colab": {
          "base_uri": "https://localhost:8080/"
        },
        "outputId": "158319b9-7622-42fd-bb1c-e84e8e04f218"
      },
      "execution_count": 33,
      "outputs": [
        {
          "output_type": "stream",
          "name": "stdout",
          "text": [
            "Saved adata to: adata_spectra.h5ad\n"
          ]
        }
      ]
    },
    {
      "cell_type": "code",
      "source": [
        "#save the model\n",
        "import pickle\n",
        "with open('spectra_model.pickle', 'wb') as f:\n",
        "    pickle.dump(model, f, pickle.HIGHEST_PROTOCOL)"
      ],
      "metadata": {
        "id": "WBz7AZhkWrpk"
      },
      "execution_count": 34,
      "outputs": []
    }
  ]
}