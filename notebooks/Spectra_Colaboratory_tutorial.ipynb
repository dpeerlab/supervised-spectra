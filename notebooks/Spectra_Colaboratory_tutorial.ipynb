{
  "cells": [
    {
      "cell_type": "markdown",
      "metadata": {
        "colab_type": "text",
        "id": "view-in-github"
      },
      "source": [
        "<a href=\"https://colab.research.google.com/github/wallet-maker/spectra/blob/main/notebooks/Spectra_Colaboratory_tutorial.ipynb\" target=\"_parent\"><img src=\"https://colab.research.google.com/assets/colab-badge.svg\" alt=\"Open In Colab\"/></a>"
      ]
    },
    {
      "attachments": {},
      "cell_type": "markdown",
      "metadata": {},
      "source": [
        "# install packages"
      ]
    },
    {
      "cell_type": "code",
      "execution_count": null,
      "metadata": {},
      "outputs": [],
      "source": [
        "!git clone https://github.com/dpeerlab/spectra"
      ]
    },
    {
      "cell_type": "code",
      "execution_count": null,
      "metadata": {},
      "outputs": [],
      "source": [
        "!ls"
      ]
    },
    {
      "cell_type": "code",
      "execution_count": null,
      "metadata": {},
      "outputs": [],
      "source": [
        "%cd spectra"
      ]
    },
    {
      "cell_type": "code",
      "execution_count": null,
      "metadata": {},
      "outputs": [],
      "source": [
        "!pip install ."
      ]
    },
    {
      "cell_type": "code",
      "execution_count": 5,
      "metadata": {
        "colab": {
          "base_uri": "https://localhost:8080/"
        },
        "id": "GQFeb6lhIWR0",
        "outputId": "ce550b96-077f-4dc9-b000-41f8aae6bd6d"
      },
      "outputs": [
        {
          "name": "stdout",
          "output_type": "stream",
          "text": [
            "Looking in indexes: https://pypi.org/simple, https://us-python.pkg.dev/colab-wheels/public/simple/\n",
            "Requirement already satisfied: matplotlib==3.5.0 in /usr/local/lib/python3.9/dist-packages (3.5.0)\n",
            "Requirement already satisfied: pillow>=6.2.0 in /usr/local/lib/python3.9/dist-packages (from matplotlib==3.5.0) (8.4.0)\n",
            "Requirement already satisfied: python-dateutil>=2.7 in /usr/local/lib/python3.9/dist-packages (from matplotlib==3.5.0) (2.8.2)\n",
            "Requirement already satisfied: pyparsing>=2.2.1 in /usr/local/lib/python3.9/dist-packages (from matplotlib==3.5.0) (3.0.9)\n",
            "Requirement already satisfied: fonttools>=4.22.0 in /usr/local/lib/python3.9/dist-packages (from matplotlib==3.5.0) (4.39.3)\n",
            "Requirement already satisfied: numpy>=1.17 in /usr/local/lib/python3.9/dist-packages (from matplotlib==3.5.0) (1.22.4)\n",
            "Requirement already satisfied: setuptools-scm>=4 in /usr/local/lib/python3.9/dist-packages (from matplotlib==3.5.0) (7.1.0)\n",
            "Requirement already satisfied: packaging>=20.0 in /usr/local/lib/python3.9/dist-packages (from matplotlib==3.5.0) (23.0)\n",
            "Requirement already satisfied: cycler>=0.10 in /usr/local/lib/python3.9/dist-packages (from matplotlib==3.5.0) (0.11.0)\n",
            "Requirement already satisfied: kiwisolver>=1.0.1 in /usr/local/lib/python3.9/dist-packages (from matplotlib==3.5.0) (1.4.4)\n",
            "Requirement already satisfied: six>=1.5 in /usr/local/lib/python3.9/dist-packages (from python-dateutil>=2.7->matplotlib==3.5.0) (1.16.0)\n",
            "Requirement already satisfied: typing-extensions in /usr/local/lib/python3.9/dist-packages (from setuptools-scm>=4->matplotlib==3.5.0) (4.5.0)\n",
            "Requirement already satisfied: tomli>=1.0.0 in /usr/local/lib/python3.9/dist-packages (from setuptools-scm>=4->matplotlib==3.5.0) (2.0.1)\n",
            "Requirement already satisfied: setuptools in /usr/local/lib/python3.9/dist-packages (from setuptools-scm>=4->matplotlib==3.5.0) (67.6.1)\n"
          ]
        }
      ],
      "source": [
        "%pip install -U matplotlib==3.5.0"
      ]
    },
    {
      "attachments": {},
      "cell_type": "markdown",
      "metadata": {},
      "source": [
        "# import relevant packages"
      ]
    },
    {
      "cell_type": "code",
      "execution_count": 1,
      "metadata": {
        "id": "uUhGZevNHjzd"
      },
      "outputs": [],
      "source": [
        "from spectra import spectra as spc"
      ]
    },
    {
      "cell_type": "code",
      "execution_count": 2,
      "metadata": {},
      "outputs": [],
      "source": [
        "from spectra import spectra_util as spc_tl"
      ]
    },
    {
      "cell_type": "code",
      "execution_count": 3,
      "metadata": {
        "id": "WEf_XV5Vxf-I"
      },
      "outputs": [],
      "source": [
        "#import packages\n",
        "import numpy as np\n",
        "import json \n",
        "import scanpy as sc\n",
        "from collections import OrderedDict\n",
        "import scipy \n",
        "import pandas as pd\n",
        "\n",
        "#spectra imports \n",
        "from spectra import spectra as spc\n",
        "from spectra import spectra_util as util\n",
        "from spectra import K_est as kst\n",
        "\n"
      ]
    },
    {
      "cell_type": "code",
      "execution_count": 4,
      "metadata": {
        "id": "6htuiSo0xz2w"
      },
      "outputs": [],
      "source": [
        "def check_gene_set_dictionary(adata, annotations, obs_key='cell_type_annotations',global_key='global', return_dict = True):\n",
        "    '''\n",
        "    Filters annotations dictionary contains only genes contained in the adata. \n",
        "    Checks that annotations dictionary cell type keys and adata cell types are identical.\n",
        "    Checks that all gene sets in annotations dictionary contain >2 genes after filtering.\n",
        "    \n",
        "    adata: AnnData , data to use with Spectra\n",
        "    annotations: dict , gene set annotations dictionary to use with Spectra\n",
        "    obs_key: str , column name for cell type annotations in adata.obs\n",
        "    global_key: str , key for global gene sests in gene set annotation dictionary\n",
        "    return_dict: bool , return filtered gene set annotation dictionary\n",
        "    \n",
        "    returns: dict , filtered gene set annotation dictionary\n",
        "    \n",
        "    '''\n",
        "    #test if keys match\n",
        "    adata_labels  = list(set(adata.obs[obs_key]))+['global']#cell type labels in adata object\n",
        "    annotation_labels = list(annotations.keys())\n",
        "    matching_celltype_labels = list(set(adata_labels).intersection(annotation_labels))\n",
        "    if set(annotation_labels)==set(adata_labels):\n",
        "        print('Cell type labels in gene set annotation dictionary and AnnData object are identical')\n",
        "        dict_keys_OK = True\n",
        "    if len(annotation_labels)<len(adata_labels):\n",
        "        print('The following labels are missing in the gene set annotation dictionary:',set(adata_labels)-set(annotation_labels))\n",
        "        dict_keys_OK = False\n",
        "    if len(adata_labels)<len(annotation_labels):\n",
        "        print('The following labels are missing in the AnnData object:',set(annotation_labels)-set(adata_labels))\n",
        "        dict_keys_OK = False\n",
        "        \n",
        "    #check that gene sets in dictionary have len >2\n",
        "    Counter = 0\n",
        "    annotations_new = {}\n",
        "    for k,v in annotations.items():\n",
        "        annotations_new[k] = {}\n",
        "        for k2,v2 in v.items():\n",
        "            annotations_new[k][k2]= [x for x in v2 if x in adata.var_names]\n",
        "            length = len(v2)\n",
        "            if length<3:\n",
        "                print('gene set',k2,'for cell type',k,'is of length',length)\n",
        "                Counter = Counter+1\n",
        "            \n",
        "    if Counter > 0:\n",
        "        print(Counter,'gene sets are too small. Gene sets must contain at least 3 genes')\n",
        "    elif Counter == 0 and dict_keys_OK:\n",
        "        print('Your gene set annotation dictionary is correctly formatted.')\n",
        "    if return_dict:\n",
        "        return annotations_new"
      ]
    },
    {
      "cell_type": "markdown",
      "metadata": {
        "id": "v4vTEyL6sDR4"
      },
      "source": [
        "# Load gene_set_dictionary"
      ]
    },
    {
      "attachments": {},
      "cell_type": "markdown",
      "metadata": {
        "id": "oqLbpf3qsFWF"
      },
      "source": [
        "**load a nested dictionary containing global and cell type specific gene sets in the following format:**\n",
        "\n",
        "Gene set annotation dictionary with the keys being the celltypes (str) and values being dictionaries with gene set names as keys (str) and gene sets as values (lists of gene names/IDs which matches the gene names/IDs in adata.var_names).\n",
        "\n",
        "For example:\n",
        "\n",
        "```\n",
        "gene_set_dictionary = {'celltype_1':{'gene_set_1':['gene_a', 'gene_b', 'gene_c'], 'gene_set_2':['gene_c','gene_a','gene_e','gene_f']},\n",
        "\n",
        "'celltype_2':{'gene_set_1':['gene_a', 'gene_b', 'gene_c'], 'gene_set_3':['gene_a', 'gene_e','gene_f','gene_d']},\n",
        "\n",
        "'celltype_3':{},\n",
        "\n",
        "'global':\"{'gene_set_4':['gene_m','gene_n']} #the global key must be supplied\n",
        "\n",
        "```\n",
        "\n",
        "**Note that one key in the dictionary must be 'global' with the corresponding value being a dictionary of gene sets which apply to all cells**\n",
        "\n",
        "Spectra will use this dictionary to align factors to the input gene sets. Gene sets which apply to only one cell type in the data should be included in the dictionary of that cell type. If a gene sets applies to all cell types in the data, the gene set should be included in the dictionary for 'global'. If a gene set applies to more than one cell type but not all cell types in the data there are two options 1) Include this gene set in each cell type dictionary which will likely result in a separate factor for this gene set in each cell type. OR 2) include this gene set in the 'global' dictionary which will likely result in one factor for this gene set in all cell types. We give additional guidance on the advantages and disadvantages of either approach in the Supplementary Methods of the Spectra paper: https://doi.org/10.1101/2022.12.20.521311"
      ]
    },
    {
      "cell_type": "markdown",
      "metadata": {
        "id": "mU-oUalzsO-P"
      },
      "source": [
        "**Load the default dictionary**\n",
        "We used this dictionary to generate the results in the paper: https://doi.org/10.1101/2022.12.20.521311"
      ]
    },
    {
      "cell_type": "code",
      "execution_count": 5,
      "metadata": {
        "id": "X4QL5M0ax1rc"
      },
      "outputs": [],
      "source": [
        "#load the default gene set dictionary from the Spectra paper:\n",
        "annotations = spc_tl.get_default_dict()"
      ]
    },
    {
      "cell_type": "code",
      "execution_count": 6,
      "metadata": {
        "colab": {
          "base_uri": "https://localhost:8080/"
        },
        "id": "GLttFF8Lx3_3",
        "outputId": "f1d3b4cb-733b-48e7-b540-fc1abf95a911"
      },
      "outputs": [
        {
          "data": {
            "text/plain": [
              "['HDAC2',\n",
              " 'LEF1',\n",
              " 'CUL1',\n",
              " 'TP53',\n",
              " 'GNAI1',\n",
              " 'DLL1',\n",
              " 'SKP2',\n",
              " 'AXIN1',\n",
              " 'KAT2A',\n",
              " 'CSNK1E',\n",
              " 'MAML1',\n",
              " 'FZD8',\n",
              " 'NOTCH1',\n",
              " 'MYC',\n",
              " 'RBPJ',\n",
              " 'JAG2',\n",
              " 'PTCH1',\n",
              " 'PPARD',\n",
              " 'HDAC5',\n",
              " 'AXIN2',\n",
              " 'NUMB',\n",
              " 'PSEN2',\n",
              " 'NKD1',\n",
              " 'WNT1',\n",
              " 'TCF7',\n",
              " 'FRAT1',\n",
              " 'HDAC11',\n",
              " 'ADAM17',\n",
              " 'CCND2',\n",
              " 'HEY1',\n",
              " 'NCSTN',\n",
              " 'JAG1',\n",
              " 'DVL2',\n",
              " 'NOTCH4',\n",
              " 'NCOR2',\n",
              " 'TPTEP2-CSNK1E',\n",
              " 'FZD1',\n",
              " 'CTNNB1',\n",
              " 'DKK4',\n",
              " 'HEY2',\n",
              " 'WNT6',\n",
              " 'DKK1',\n",
              " 'WNT5B']"
            ]
          },
          "execution_count": 6,
          "metadata": {},
          "output_type": "execute_result"
        }
      ],
      "source": [
        "annotations[\"global\"][\"all_wnt-beta-catenin-signaling\"]"
      ]
    },
    {
      "cell_type": "markdown",
      "metadata": {
        "id": "MMXT036ZsanA"
      },
      "source": [
        "# Custom gene_set_dictionary"
      ]
    },
    {
      "cell_type": "markdown",
      "metadata": {
        "id": "k5IWVmNGsfH5"
      },
      "source": [
        "**Alternatively you can use Spectra with your custom gene set annotation dictionaries.**\n",
        "\n",
        "Cytopus Knowledge Base\n",
        "\n",
        "We supply the Cytopus knowledge base to construct custom input gene set dictionaries for Spectra. For a tutorial visit the github repository: https://github.com/wallet-maker/cytopus\n",
        "\n",
        "**External Databases**\n",
        "\n",
        "To obtain optimal results, we recommend using dedicated gene sets, like from the Cytopus database which are tailored to single cell RNA sequencing data (see Supplementary Methods for details https://doi.org/10.1101/2022.12.20.521311).\n",
        "\n",
        "However, Spectra can also use gene set annotation dictionaries from external databases if they can be provided in the format described above."
      ]
    },
    {
      "cell_type": "markdown",
      "metadata": {
        "id": "ktOGTojasldB"
      },
      "source": [
        "# Load adata"
      ]
    },
    {
      "attachments": {},
      "cell_type": "markdown",
      "metadata": {
        "id": "0kHJZhUOsn2C"
      },
      "source": [
        "In the Spectra paper we use a subsetted, anonymized, log1p-transformed (f(x) = ln(x+1), with x being the raw gene expression counts), and scran-normalized leukocyte single cell RNA sequencing data (https://doi.org/10.1101/2022.12.20.521311). While we recommend scran for leukocyte data, the method with log1p-transformed median library size normalized RNA sequencing data."
      ]
    },
    {
      "cell_type": "code",
      "execution_count": 7,
      "metadata": {
        "id": "75tKPam6yCoz"
      },
      "outputs": [],
      "source": [
        "#define data paths\n",
        "adata_path = '/content/spectra/data/sample_data.h5ad'#indicate where to find the gene expression AnnData object\n",
        "obs_key = 'cell_type_annotations' #indicat the column name for the dataframe in adata.obs where to find the cell type lab"
      ]
    },
    {
      "cell_type": "code",
      "execution_count": 8,
      "metadata": {
        "colab": {
          "base_uri": "https://localhost:8080/"
        },
        "id": "mdoNNI4XyHlk",
        "outputId": "e1f7d979-cf4b-4ae7-a89b-c3915a2bd671"
      },
      "outputs": [
        {
          "data": {
            "text/plain": [
              "AnnData object with n_obs × n_vars = 10000 × 6397\n",
              "    obs: 'cell_type_annotations'\n",
              "    var: 'n_cells_by_counts', 'highly_variable'\n",
              "    uns: 'annotation_SPADE_1_colors', 'cell_type_annotations_colors', 'diffmap_evals', 'draw_graph', 'hvg', 'neighbors', 'pca'\n",
              "    obsm: 'X_diffmap', 'X_draw_graph_fa', 'X_pca', 'X_tsne', 'X_umap'\n",
              "    varm: 'PCs'\n",
              "    obsp: 'connectivities', 'distances'"
            ]
          },
          "execution_count": 8,
          "metadata": {},
          "output_type": "execute_result"
        }
      ],
      "source": [
        "#load data\n",
        "adata = sc.read(adata_path)\n",
        "adata"
      ]
    },
    {
      "cell_type": "markdown",
      "metadata": {
        "id": "-oKda8X2sql-"
      },
      "source": [
        "**Important: The cell type labels have to match with the cell type labels in the gene set dictionary**"
      ]
    },
    {
      "cell_type": "code",
      "execution_count": 9,
      "metadata": {
        "colab": {
          "base_uri": "https://localhost:8080/"
        },
        "id": "PDOrKMD8yI_i",
        "outputId": "9ac56721-264c-4cd1-f91d-f57be5973cb2"
      },
      "outputs": [
        {
          "name": "stdout",
          "output_type": "stream",
          "text": [
            "Cell type labels in gene set annotation dictionary and AnnData object are identical\n",
            "Your gene set annotation dictionary is correctly formatted.\n"
          ]
        }
      ],
      "source": [
        "#filter gene set annotation dict for genes contained in adata\n",
        "annotations = check_gene_set_dictionary(adata, annotations, obs_key='cell_type_annotations',global_key='global')"
      ]
    },
    {
      "cell_type": "code",
      "execution_count": 10,
      "metadata": {
        "colab": {
          "base_uri": "https://localhost:8080/"
        },
        "id": "4FDWzBwXymHu",
        "outputId": "e1696f53-c9d0-4310-adf4-45bd9e5bdcea"
      },
      "outputs": [
        {
          "data": {
            "text/plain": [
              "['CD8_T',\n",
              " 'CD4_T',\n",
              " 'mast',\n",
              " 'pDC',\n",
              " 'gdT',\n",
              " 'MDC',\n",
              " 'DC',\n",
              " 'B_memory',\n",
              " 'B_GC',\n",
              " 'NK',\n",
              " 'Treg',\n",
              " 'B_naive',\n",
              " 'ILC3',\n",
              " 'plasma']"
            ]
          },
          "execution_count": 10,
          "metadata": {},
          "output_type": "execute_result"
        }
      ],
      "source": [
        "#cell type labels in adata\n",
        "list(set(adata.obs[obs_key]))"
      ]
    },
    {
      "cell_type": "code",
      "execution_count": 11,
      "metadata": {
        "colab": {
          "base_uri": "https://localhost:8080/"
        },
        "id": "lH4on6YRynsN",
        "outputId": "636dfa9a-0705-4cfb-d99a-ec019672a26c"
      },
      "outputs": [
        {
          "data": {
            "text/plain": [
              "['global',\n",
              " 'CD4_T',\n",
              " 'mast',\n",
              " 'pDC',\n",
              " 'gdT',\n",
              " 'B_naive',\n",
              " 'MDC',\n",
              " 'B_memory',\n",
              " 'B_GC',\n",
              " 'DC',\n",
              " 'NK',\n",
              " 'Treg',\n",
              " 'CD8_T',\n",
              " 'ILC3',\n",
              " 'plasma']"
            ]
          },
          "execution_count": 11,
          "metadata": {},
          "output_type": "execute_result"
        }
      ],
      "source": [
        "#cell type in gene set annotation dictionary\n",
        "list(set(annotations.keys()))"
      ]
    },
    {
      "cell_type": "markdown",
      "metadata": {
        "id": "bSKFHS3rs8ae"
      },
      "source": [
        "**if labels do not match adjust the labels either in adata or in annotations**"
      ]
    },
    {
      "cell_type": "markdown",
      "metadata": {
        "id": "D5EvurEfs2aL"
      },
      "source": [
        "For example define and map a dictionary mapping the annotations in the adata object to the keys in the gene set annotations dictionary or vice versa. **Note that if you have a cell type in your adata for which you do not have any gene sets in your gene set annotation dictionary you must include an empty dictionary under that cell type key.** Afterwards confirm that the matching has worked:"
      ]
    },
    {
      "cell_type": "code",
      "execution_count": 12,
      "metadata": {
        "colab": {
          "base_uri": "https://localhost:8080/"
        },
        "id": "DNY50iPdyo_5",
        "outputId": "51c8d1f3-2587-4593-aff0-f13a55ed570a"
      },
      "outputs": [
        {
          "name": "stdout",
          "output_type": "stream",
          "text": [
            "Cell type labels in gene set annotation dictionary and AnnData object are identical\n",
            "Your gene set annotation dictionary is correctly formatted.\n"
          ]
        }
      ],
      "source": [
        "#filter gene set annotation dict for genes contained in adata\n",
        "annotations = check_gene_set_dictionary(adata, annotations, obs_key='cell_type_annotations',global_key='global')"
      ]
    },
    {
      "cell_type": "markdown",
      "metadata": {
        "id": "u3-E0Hsstt2L"
      },
      "source": [
        "# Fit Spectra model"
      ]
    },
    {
      "attachments": {},
      "cell_type": "markdown",
      "metadata": {
        "id": "q-G3dGLPtp8P"
      },
      "source": [
        "**General comments**\n",
        "\n",
        "We start by importing spectra. The easiest way to run spectra is to use the `est_spectra` function in the `spectra` module, as shown below. The default behavior is to set the number of factors equal to the number of gene sets plus one. However, this can be modified by passing an integer e.g. `L = 20` as an argument to the function or a dictionary that maps cell type to an integer per cell type. We provide a method for estimating the number of factors directly from the data by bulk eigenvalue matching analysis, which is detailed further below. \n",
        "\n",
        "**Computational comments**\n",
        "\n",
        "Spectra is memory and cpu intensive.\n",
        "\n",
        "The here-provided dataset can be run on most computers. For bigger datasets you want to run this in non-interactive mode, as runtime can be 1-2 days for a dataset of ca 200,000 cells with 250 factors and 10 cell types. Run time scales linearly with the number of cell types in your data.\n",
        "\n",
        "An example hardware you could run a 200,000 cell, 10 cell type, 250 factor dataset on would be:\n",
        "\n",
        "16 cpus Intel Xeon Gold 256 GB RAM\n",
        "\n",
        "**Parameters**\n",
        "\n",
        "`adata` : AnnData object containing cell_type_key with log count data stored in .X\n",
        "\n",
        "`gene_set_dictionary`:dict or OrderedDict() maps cell types to gene set names to gene sets ; if use_cell_types == False then maps gene set names to gene sets ; must contain \"global\" key in addition to every unique cell type under .obs.<cell_type_key>\n",
        "\n",
        "`L`: dict, OrderedDict(), int , NoneType number of factors per cell type ; if use_cell_types == False then int. Else dictionary. If None then match factors to number of gene sets (recommended)\n",
        "\n",
        "`use_highly_variable` : bool if True, then uses highly_variable_genes\n",
        "\n",
        "`cell_type_key`: str cell type key, must be under adata.obs.<cell_type_key> . If use_cell_types == False, this is ignored\n",
        "\n",
        "`use_weights`: bool if True, edge weights are estimated based on graph structure and used throughout training\n",
        "\n",
        "`lam`: float lambda parameter of the model. weighs relative contribution of graph and expression loss functions\n",
        "\n",
        "`delta`: float delta parameter of the model. lower bounds possible gene scaling factors so that maximum ratio of gene scalings cannot be too large\n",
        "\n",
        "`kappa`: float or None if None, estimate background rate of 1s in the graph from data\n",
        "\n",
        "`rho`: float or None if None, estimate background rate of 0s in the graph from data\n",
        "\n",
        "`use_cell_types` : bool if True then cell type label is used to fit cell type specific factors. If false then cell types are ignored\n",
        "\n",
        "`n_top_vals` : int number of top markers to return in markers dataframe\n",
        "\n",
        "`determinant_penalty` : float determinant penalty of the attention mechanism. If set higher than 0 then sparse solutions of the attention weights and diverse attention weights are encouraged. However, tuning is crucial as setting too high reduces the selection accuracy because convergence to a hard selection occurs early during training [todo: annealing strategy]\n",
        "\n",
        "`filter_sets` : bool whether to filter the gene sets based on coherence\n",
        "\n",
        "`label_factors` : bool whether to label the factors by their cell type specificity and their Szymkiewicz–Simpson overlap coefficient with the input marker genes\n",
        "\n",
        "`overlap_threshold`: float minimum overlap coefficient to assign an input gene set label to a factor\n",
        "\n",
        "``**kwargs`` : (num_epochs = 10000, lr_schedule = [...], verbose = False) arguments to .train(), maximum number of training epochs, learning rate schedule and whether to print changes in learning rate\n",
        "\n",
        "**Returns**: SPECTRA_Model object [after training]\n",
        "\n",
        "**In place**: adds 1. factors, 2. cell scores, 3. vocabulary, and 4. markers as attributes in .obsm, .var, .uns\n",
        "\n",
        "**default parameters:** `est_spectra(adata, gene_set_dictionary, L = None,use_highly_variable = True, cell_type_key = None, use_weights = True, lam = 0.008, delta=0.001,kappa = None, rho = 0.05, use_cell_types = True, n_top_vals = 50, \n",
        "filter_sets = True, label_factors=True, overlap_threshold= 0.2, **kwargs)`\n",
        "\n"
      ]
    },
    {
      "cell_type": "markdown",
      "metadata": {
        "id": "zKETp-2LtmAs"
      },
      "source": [
        "**fit model with cell type annotations**\n",
        "\n",
        "Running Spectra with the cell type annotations will give you both global and cell type specific factors."
      ]
    },
    {
      "cell_type": "code",
      "execution_count": 13,
      "metadata": {
        "colab": {
          "base_uri": "https://localhost:8080/"
        },
        "id": "6XDuS4eoopXS",
        "outputId": "c604731b-0517-4f60-927d-dab12bd8fdf7"
      },
      "outputs": [
        {
          "name": "stderr",
          "output_type": "stream",
          "text": [
            "100%|██████████| 2/2 [00:41<00:00, 20.84s/it]\n"
          ]
        }
      ],
      "source": [
        "#fit the model (We will run this with only 2 epochs to decrease runtime in this tutorial)\n",
        "model = spc.est_spectra(adata = adata, gene_set_dictionary = annotations, \n",
        "                        use_highly_variable = True, cell_type_key = \"cell_type_annotations\", \n",
        "                        use_weights = True, lam = 0.1, \n",
        "                        delta=0.001,kappa = 0.00001, rho = 0.00001, \n",
        "                        use_cell_types = True, n_top_vals = 25, \n",
        "                        label_factors = True, #whether to label the factors by their overlap coefficient with the input gene sets\n",
        "                        overlap_threshold = 0.2, #minimum overlap coefficient that has to be surpassed to assign a label to a factor\n",
        "                        num_epochs=2 #for demonstration purposes we will only run 2 epochs, we recommend 10,000 epochs\n",
        "                       )"
      ]
    },
    {
      "attachments": {},
      "cell_type": "markdown",
      "metadata": {},
      "source": [
        "## Accessing quantities stored in AnnData"
      ]
    },
    {
      "cell_type": "markdown",
      "metadata": {},
      "source": [
        "This function stores four important quantities in the AnnData, in addition to returning a fitted model object. *Factors* are the scores that tell you how much each gene contributes to each factor:"
      ]
    },
    {
      "cell_type": "code",
      "execution_count": 14,
      "metadata": {},
      "outputs": [
        {
          "data": {
            "text/plain": [
              "array([[1.01952077e-13, 8.97959480e-13, 1.31090395e-10, ...,\n",
              "        5.33846168e-13, 2.26675937e-13, 2.72884516e-12],\n",
              "       [8.43138574e-14, 4.96568534e-13, 2.68330127e-11, ...,\n",
              "        2.47586255e-13, 4.22257184e-13, 2.14196056e-12],\n",
              "       [5.94603243e-13, 9.30277449e-14, 6.92304777e-13, ...,\n",
              "        3.03598910e-14, 2.02562194e-13, 3.21969031e-13],\n",
              "       ...,\n",
              "       [1.14639320e-12, 6.22618508e-13, 1.90147731e-13, ...,\n",
              "        1.00597374e-12, 1.67004642e-13, 2.14606143e-13],\n",
              "       [5.72288471e-02, 3.58410921e-02, 1.58343126e-02, ...,\n",
              "        4.53686484e-02, 2.99758937e-02, 1.17774242e-02],\n",
              "       [1.44063020e-02, 5.41533135e-02, 7.52344364e-02, ...,\n",
              "        1.60263803e-02, 1.78823138e-02, 4.23170811e-02]])"
            ]
          },
          "execution_count": 14,
          "metadata": {},
          "output_type": "execute_result"
        }
      ],
      "source": [
        "#find the factors under adata.uns['SPECTRA_factors'] \n",
        "adata.uns['SPECTRA_factors']"
      ]
    },
    {
      "cell_type": "code",
      "execution_count": 15,
      "metadata": {},
      "outputs": [
        {
          "data": {
            "text/html": [
              "<div>\n",
              "<style scoped>\n",
              "    .dataframe tbody tr th:only-of-type {\n",
              "        vertical-align: middle;\n",
              "    }\n",
              "\n",
              "    .dataframe tbody tr th {\n",
              "        vertical-align: top;\n",
              "    }\n",
              "\n",
              "    .dataframe thead th {\n",
              "        text-align: right;\n",
              "    }\n",
              "</style>\n",
              "<table border=\"1\" class=\"dataframe\">\n",
              "  <thead>\n",
              "    <tr style=\"text-align: right;\">\n",
              "      <th></th>\n",
              "      <th>KCNC3</th>\n",
              "      <th>NDUFS3</th>\n",
              "      <th>HACD1</th>\n",
              "      <th>FAM214A</th>\n",
              "      <th>TBCD</th>\n",
              "      <th>AC124312.1</th>\n",
              "      <th>PLAGL2</th>\n",
              "      <th>CD40LG</th>\n",
              "      <th>AC022182.1</th>\n",
              "      <th>USP53</th>\n",
              "      <th>...</th>\n",
              "      <th>CCL3L1</th>\n",
              "      <th>BAG3</th>\n",
              "      <th>CDC42EP3</th>\n",
              "      <th>TRAM1</th>\n",
              "      <th>RANBP1</th>\n",
              "      <th>FDFT1</th>\n",
              "      <th>HACD4</th>\n",
              "      <th>FCGR3A</th>\n",
              "      <th>AZGP1</th>\n",
              "      <th>SLC35A1</th>\n",
              "    </tr>\n",
              "  </thead>\n",
              "  <tbody>\n",
              "    <tr>\n",
              "      <th>0-X-global-X-all_biotin_metabolism</th>\n",
              "      <td>1.019521e-13</td>\n",
              "      <td>8.979595e-13</td>\n",
              "      <td>1.310904e-10</td>\n",
              "      <td>2.547532e-13</td>\n",
              "      <td>9.085525e-13</td>\n",
              "      <td>4.008029e-14</td>\n",
              "      <td>1.589056e-13</td>\n",
              "      <td>2.203110e-13</td>\n",
              "      <td>2.217382e-13</td>\n",
              "      <td>1.889707e-13</td>\n",
              "      <td>...</td>\n",
              "      <td>3.736822e-13</td>\n",
              "      <td>2.525224e-14</td>\n",
              "      <td>6.420412e-14</td>\n",
              "      <td>1.257606e-13</td>\n",
              "      <td>3.183342e-13</td>\n",
              "      <td>1.063368e-13</td>\n",
              "      <td>1.111356e-11</td>\n",
              "      <td>5.338462e-13</td>\n",
              "      <td>2.266759e-13</td>\n",
              "      <td>2.728845e-12</td>\n",
              "    </tr>\n",
              "    <tr>\n",
              "      <th>1-X-global-X-all_purine_metabolism</th>\n",
              "      <td>8.431386e-14</td>\n",
              "      <td>4.965685e-13</td>\n",
              "      <td>2.683301e-11</td>\n",
              "      <td>4.102521e-13</td>\n",
              "      <td>9.109332e-13</td>\n",
              "      <td>4.224804e-14</td>\n",
              "      <td>2.039922e-13</td>\n",
              "      <td>1.390370e-12</td>\n",
              "      <td>1.683786e-13</td>\n",
              "      <td>6.239896e-14</td>\n",
              "      <td>...</td>\n",
              "      <td>7.842134e-14</td>\n",
              "      <td>4.341330e-14</td>\n",
              "      <td>1.031329e-13</td>\n",
              "      <td>5.244501e-14</td>\n",
              "      <td>3.381896e-13</td>\n",
              "      <td>2.049011e-14</td>\n",
              "      <td>1.389543e-12</td>\n",
              "      <td>2.475863e-13</td>\n",
              "      <td>4.222572e-13</td>\n",
              "      <td>2.141961e-12</td>\n",
              "    </tr>\n",
              "    <tr>\n",
              "      <th>2-X-global-X-all_ethanol_metabolism</th>\n",
              "      <td>5.946032e-13</td>\n",
              "      <td>9.302774e-14</td>\n",
              "      <td>6.923048e-13</td>\n",
              "      <td>1.355415e-12</td>\n",
              "      <td>6.500617e-13</td>\n",
              "      <td>4.138976e-13</td>\n",
              "      <td>2.620176e-13</td>\n",
              "      <td>7.009067e-14</td>\n",
              "      <td>3.583896e-13</td>\n",
              "      <td>1.668698e-13</td>\n",
              "      <td>...</td>\n",
              "      <td>2.826669e-13</td>\n",
              "      <td>3.045629e-14</td>\n",
              "      <td>7.243738e-14</td>\n",
              "      <td>1.466853e-13</td>\n",
              "      <td>1.731920e-11</td>\n",
              "      <td>8.943040e-14</td>\n",
              "      <td>3.068909e-12</td>\n",
              "      <td>3.035989e-14</td>\n",
              "      <td>2.025622e-13</td>\n",
              "      <td>3.219690e-13</td>\n",
              "    </tr>\n",
              "    <tr>\n",
              "      <th>3-X-global-X-all_amino-sugar-nucleotide-sugar_metabolism</th>\n",
              "      <td>6.915549e-14</td>\n",
              "      <td>2.328453e-13</td>\n",
              "      <td>9.755118e-12</td>\n",
              "      <td>1.974187e-13</td>\n",
              "      <td>3.135373e-13</td>\n",
              "      <td>9.044852e-14</td>\n",
              "      <td>1.545131e-12</td>\n",
              "      <td>5.148703e-13</td>\n",
              "      <td>2.994160e-13</td>\n",
              "      <td>1.046089e-13</td>\n",
              "      <td>...</td>\n",
              "      <td>2.170915e-13</td>\n",
              "      <td>1.668231e-14</td>\n",
              "      <td>1.253127e-13</td>\n",
              "      <td>1.550030e-13</td>\n",
              "      <td>5.440317e-13</td>\n",
              "      <td>1.273326e-13</td>\n",
              "      <td>4.752835e-13</td>\n",
              "      <td>9.044793e-14</td>\n",
              "      <td>4.869225e-13</td>\n",
              "      <td>5.835212e-13</td>\n",
              "    </tr>\n",
              "    <tr>\n",
              "      <th>4-X-global-X-all_steroid_metabolism</th>\n",
              "      <td>1.168093e-13</td>\n",
              "      <td>1.049751e-12</td>\n",
              "      <td>1.138341e-13</td>\n",
              "      <td>9.175481e-14</td>\n",
              "      <td>7.327772e-12</td>\n",
              "      <td>6.671699e-14</td>\n",
              "      <td>2.927453e-13</td>\n",
              "      <td>1.508561e-13</td>\n",
              "      <td>7.508774e-14</td>\n",
              "      <td>8.718819e-14</td>\n",
              "      <td>...</td>\n",
              "      <td>3.963989e-13</td>\n",
              "      <td>5.047310e-14</td>\n",
              "      <td>6.865746e-14</td>\n",
              "      <td>1.597730e-13</td>\n",
              "      <td>1.631484e-12</td>\n",
              "      <td>9.798131e-03</td>\n",
              "      <td>1.778905e-11</td>\n",
              "      <td>1.547616e-13</td>\n",
              "      <td>1.066572e-12</td>\n",
              "      <td>1.360924e-12</td>\n",
              "    </tr>\n",
              "    <tr>\n",
              "      <th>...</th>\n",
              "      <td>...</td>\n",
              "      <td>...</td>\n",
              "      <td>...</td>\n",
              "      <td>...</td>\n",
              "      <td>...</td>\n",
              "      <td>...</td>\n",
              "      <td>...</td>\n",
              "      <td>...</td>\n",
              "      <td>...</td>\n",
              "      <td>...</td>\n",
              "      <td>...</td>\n",
              "      <td>...</td>\n",
              "      <td>...</td>\n",
              "      <td>...</td>\n",
              "      <td>...</td>\n",
              "      <td>...</td>\n",
              "      <td>...</td>\n",
              "      <td>...</td>\n",
              "      <td>...</td>\n",
              "      <td>...</td>\n",
              "      <td>...</td>\n",
              "    </tr>\n",
              "    <tr>\n",
              "      <th>191-X-mast-X-mast_granule-exocytosis</th>\n",
              "      <td>7.629531e-13</td>\n",
              "      <td>2.950352e-13</td>\n",
              "      <td>2.431925e-13</td>\n",
              "      <td>6.568557e-13</td>\n",
              "      <td>1.543720e-13</td>\n",
              "      <td>1.421330e-12</td>\n",
              "      <td>2.044804e-13</td>\n",
              "      <td>8.682784e-13</td>\n",
              "      <td>8.063580e-14</td>\n",
              "      <td>4.646314e-13</td>\n",
              "      <td>...</td>\n",
              "      <td>6.260223e-13</td>\n",
              "      <td>9.125140e-13</td>\n",
              "      <td>1.146099e-12</td>\n",
              "      <td>1.321496e-12</td>\n",
              "      <td>2.659339e-13</td>\n",
              "      <td>1.156242e-13</td>\n",
              "      <td>5.885805e-14</td>\n",
              "      <td>3.777096e-14</td>\n",
              "      <td>8.047818e-13</td>\n",
              "      <td>3.555064e-12</td>\n",
              "    </tr>\n",
              "    <tr>\n",
              "      <th>192-X-mast-X-192</th>\n",
              "      <td>5.110884e-02</td>\n",
              "      <td>3.463452e-02</td>\n",
              "      <td>2.816313e-02</td>\n",
              "      <td>2.893641e-02</td>\n",
              "      <td>2.139118e-02</td>\n",
              "      <td>1.214196e-01</td>\n",
              "      <td>1.377162e-02</td>\n",
              "      <td>6.753535e-02</td>\n",
              "      <td>3.779742e-03</td>\n",
              "      <td>6.038981e-02</td>\n",
              "      <td>...</td>\n",
              "      <td>6.069016e-02</td>\n",
              "      <td>4.744654e-02</td>\n",
              "      <td>7.116804e-02</td>\n",
              "      <td>7.484908e-02</td>\n",
              "      <td>1.157063e-01</td>\n",
              "      <td>1.137706e-02</td>\n",
              "      <td>2.788905e-02</td>\n",
              "      <td>1.297088e-02</td>\n",
              "      <td>6.385184e-02</td>\n",
              "      <td>5.408408e-02</td>\n",
              "    </tr>\n",
              "    <tr>\n",
              "      <th>193-X-pDC-X-p-DC_CpG-TLR9_response</th>\n",
              "      <td>1.146393e-12</td>\n",
              "      <td>6.226185e-13</td>\n",
              "      <td>1.901477e-13</td>\n",
              "      <td>1.069093e-13</td>\n",
              "      <td>3.552312e-12</td>\n",
              "      <td>2.931638e-12</td>\n",
              "      <td>1.090175e-12</td>\n",
              "      <td>2.517957e-13</td>\n",
              "      <td>3.727401e-13</td>\n",
              "      <td>2.937171e-13</td>\n",
              "      <td>...</td>\n",
              "      <td>1.147664e-12</td>\n",
              "      <td>1.251597e-12</td>\n",
              "      <td>2.034046e-13</td>\n",
              "      <td>1.618263e-11</td>\n",
              "      <td>1.071390e-12</td>\n",
              "      <td>2.887691e-13</td>\n",
              "      <td>2.310775e-12</td>\n",
              "      <td>1.005974e-12</td>\n",
              "      <td>1.670046e-13</td>\n",
              "      <td>2.146061e-13</td>\n",
              "    </tr>\n",
              "    <tr>\n",
              "      <th>194-X-pDC-X-194</th>\n",
              "      <td>5.722885e-02</td>\n",
              "      <td>3.584109e-02</td>\n",
              "      <td>1.583431e-02</td>\n",
              "      <td>1.165300e-02</td>\n",
              "      <td>1.455343e-01</td>\n",
              "      <td>8.029264e-02</td>\n",
              "      <td>3.457780e-02</td>\n",
              "      <td>4.028329e-02</td>\n",
              "      <td>4.329778e-02</td>\n",
              "      <td>2.320858e-02</td>\n",
              "      <td>...</td>\n",
              "      <td>7.000543e-02</td>\n",
              "      <td>6.859169e-02</td>\n",
              "      <td>7.916305e-03</td>\n",
              "      <td>1.017059e-01</td>\n",
              "      <td>1.049143e-01</td>\n",
              "      <td>7.855039e-02</td>\n",
              "      <td>5.525050e-02</td>\n",
              "      <td>4.536865e-02</td>\n",
              "      <td>2.997589e-02</td>\n",
              "      <td>1.177742e-02</td>\n",
              "    </tr>\n",
              "    <tr>\n",
              "      <th>195-X-plasma-X-195</th>\n",
              "      <td>1.440630e-02</td>\n",
              "      <td>5.415331e-02</td>\n",
              "      <td>7.523444e-02</td>\n",
              "      <td>2.440128e-02</td>\n",
              "      <td>1.324788e-01</td>\n",
              "      <td>3.279294e-02</td>\n",
              "      <td>1.748594e-02</td>\n",
              "      <td>3.859478e-02</td>\n",
              "      <td>1.145674e-01</td>\n",
              "      <td>3.337949e-02</td>\n",
              "      <td>...</td>\n",
              "      <td>7.824439e-02</td>\n",
              "      <td>9.920125e-02</td>\n",
              "      <td>2.361848e-02</td>\n",
              "      <td>1.486697e-01</td>\n",
              "      <td>2.325621e-02</td>\n",
              "      <td>1.248466e-01</td>\n",
              "      <td>2.006640e-02</td>\n",
              "      <td>1.602638e-02</td>\n",
              "      <td>1.788231e-02</td>\n",
              "      <td>4.231708e-02</td>\n",
              "    </tr>\n",
              "  </tbody>\n",
              "</table>\n",
              "<p>196 rows × 6392 columns</p>\n",
              "</div>"
            ],
            "text/plain": [
              "                                                           KCNC3   \n",
              "0-X-global-X-all_biotin_metabolism                  1.019521e-13  \\\n",
              "1-X-global-X-all_purine_metabolism                  8.431386e-14   \n",
              "2-X-global-X-all_ethanol_metabolism                 5.946032e-13   \n",
              "3-X-global-X-all_amino-sugar-nucleotide-sugar_m...  6.915549e-14   \n",
              "4-X-global-X-all_steroid_metabolism                 1.168093e-13   \n",
              "...                                                          ...   \n",
              "191-X-mast-X-mast_granule-exocytosis                7.629531e-13   \n",
              "192-X-mast-X-192                                    5.110884e-02   \n",
              "193-X-pDC-X-p-DC_CpG-TLR9_response                  1.146393e-12   \n",
              "194-X-pDC-X-194                                     5.722885e-02   \n",
              "195-X-plasma-X-195                                  1.440630e-02   \n",
              "\n",
              "                                                          NDUFS3   \n",
              "0-X-global-X-all_biotin_metabolism                  8.979595e-13  \\\n",
              "1-X-global-X-all_purine_metabolism                  4.965685e-13   \n",
              "2-X-global-X-all_ethanol_metabolism                 9.302774e-14   \n",
              "3-X-global-X-all_amino-sugar-nucleotide-sugar_m...  2.328453e-13   \n",
              "4-X-global-X-all_steroid_metabolism                 1.049751e-12   \n",
              "...                                                          ...   \n",
              "191-X-mast-X-mast_granule-exocytosis                2.950352e-13   \n",
              "192-X-mast-X-192                                    3.463452e-02   \n",
              "193-X-pDC-X-p-DC_CpG-TLR9_response                  6.226185e-13   \n",
              "194-X-pDC-X-194                                     3.584109e-02   \n",
              "195-X-plasma-X-195                                  5.415331e-02   \n",
              "\n",
              "                                                           HACD1   \n",
              "0-X-global-X-all_biotin_metabolism                  1.310904e-10  \\\n",
              "1-X-global-X-all_purine_metabolism                  2.683301e-11   \n",
              "2-X-global-X-all_ethanol_metabolism                 6.923048e-13   \n",
              "3-X-global-X-all_amino-sugar-nucleotide-sugar_m...  9.755118e-12   \n",
              "4-X-global-X-all_steroid_metabolism                 1.138341e-13   \n",
              "...                                                          ...   \n",
              "191-X-mast-X-mast_granule-exocytosis                2.431925e-13   \n",
              "192-X-mast-X-192                                    2.816313e-02   \n",
              "193-X-pDC-X-p-DC_CpG-TLR9_response                  1.901477e-13   \n",
              "194-X-pDC-X-194                                     1.583431e-02   \n",
              "195-X-plasma-X-195                                  7.523444e-02   \n",
              "\n",
              "                                                         FAM214A   \n",
              "0-X-global-X-all_biotin_metabolism                  2.547532e-13  \\\n",
              "1-X-global-X-all_purine_metabolism                  4.102521e-13   \n",
              "2-X-global-X-all_ethanol_metabolism                 1.355415e-12   \n",
              "3-X-global-X-all_amino-sugar-nucleotide-sugar_m...  1.974187e-13   \n",
              "4-X-global-X-all_steroid_metabolism                 9.175481e-14   \n",
              "...                                                          ...   \n",
              "191-X-mast-X-mast_granule-exocytosis                6.568557e-13   \n",
              "192-X-mast-X-192                                    2.893641e-02   \n",
              "193-X-pDC-X-p-DC_CpG-TLR9_response                  1.069093e-13   \n",
              "194-X-pDC-X-194                                     1.165300e-02   \n",
              "195-X-plasma-X-195                                  2.440128e-02   \n",
              "\n",
              "                                                            TBCD   \n",
              "0-X-global-X-all_biotin_metabolism                  9.085525e-13  \\\n",
              "1-X-global-X-all_purine_metabolism                  9.109332e-13   \n",
              "2-X-global-X-all_ethanol_metabolism                 6.500617e-13   \n",
              "3-X-global-X-all_amino-sugar-nucleotide-sugar_m...  3.135373e-13   \n",
              "4-X-global-X-all_steroid_metabolism                 7.327772e-12   \n",
              "...                                                          ...   \n",
              "191-X-mast-X-mast_granule-exocytosis                1.543720e-13   \n",
              "192-X-mast-X-192                                    2.139118e-02   \n",
              "193-X-pDC-X-p-DC_CpG-TLR9_response                  3.552312e-12   \n",
              "194-X-pDC-X-194                                     1.455343e-01   \n",
              "195-X-plasma-X-195                                  1.324788e-01   \n",
              "\n",
              "                                                      AC124312.1   \n",
              "0-X-global-X-all_biotin_metabolism                  4.008029e-14  \\\n",
              "1-X-global-X-all_purine_metabolism                  4.224804e-14   \n",
              "2-X-global-X-all_ethanol_metabolism                 4.138976e-13   \n",
              "3-X-global-X-all_amino-sugar-nucleotide-sugar_m...  9.044852e-14   \n",
              "4-X-global-X-all_steroid_metabolism                 6.671699e-14   \n",
              "...                                                          ...   \n",
              "191-X-mast-X-mast_granule-exocytosis                1.421330e-12   \n",
              "192-X-mast-X-192                                    1.214196e-01   \n",
              "193-X-pDC-X-p-DC_CpG-TLR9_response                  2.931638e-12   \n",
              "194-X-pDC-X-194                                     8.029264e-02   \n",
              "195-X-plasma-X-195                                  3.279294e-02   \n",
              "\n",
              "                                                          PLAGL2   \n",
              "0-X-global-X-all_biotin_metabolism                  1.589056e-13  \\\n",
              "1-X-global-X-all_purine_metabolism                  2.039922e-13   \n",
              "2-X-global-X-all_ethanol_metabolism                 2.620176e-13   \n",
              "3-X-global-X-all_amino-sugar-nucleotide-sugar_m...  1.545131e-12   \n",
              "4-X-global-X-all_steroid_metabolism                 2.927453e-13   \n",
              "...                                                          ...   \n",
              "191-X-mast-X-mast_granule-exocytosis                2.044804e-13   \n",
              "192-X-mast-X-192                                    1.377162e-02   \n",
              "193-X-pDC-X-p-DC_CpG-TLR9_response                  1.090175e-12   \n",
              "194-X-pDC-X-194                                     3.457780e-02   \n",
              "195-X-plasma-X-195                                  1.748594e-02   \n",
              "\n",
              "                                                          CD40LG   \n",
              "0-X-global-X-all_biotin_metabolism                  2.203110e-13  \\\n",
              "1-X-global-X-all_purine_metabolism                  1.390370e-12   \n",
              "2-X-global-X-all_ethanol_metabolism                 7.009067e-14   \n",
              "3-X-global-X-all_amino-sugar-nucleotide-sugar_m...  5.148703e-13   \n",
              "4-X-global-X-all_steroid_metabolism                 1.508561e-13   \n",
              "...                                                          ...   \n",
              "191-X-mast-X-mast_granule-exocytosis                8.682784e-13   \n",
              "192-X-mast-X-192                                    6.753535e-02   \n",
              "193-X-pDC-X-p-DC_CpG-TLR9_response                  2.517957e-13   \n",
              "194-X-pDC-X-194                                     4.028329e-02   \n",
              "195-X-plasma-X-195                                  3.859478e-02   \n",
              "\n",
              "                                                      AC022182.1   \n",
              "0-X-global-X-all_biotin_metabolism                  2.217382e-13  \\\n",
              "1-X-global-X-all_purine_metabolism                  1.683786e-13   \n",
              "2-X-global-X-all_ethanol_metabolism                 3.583896e-13   \n",
              "3-X-global-X-all_amino-sugar-nucleotide-sugar_m...  2.994160e-13   \n",
              "4-X-global-X-all_steroid_metabolism                 7.508774e-14   \n",
              "...                                                          ...   \n",
              "191-X-mast-X-mast_granule-exocytosis                8.063580e-14   \n",
              "192-X-mast-X-192                                    3.779742e-03   \n",
              "193-X-pDC-X-p-DC_CpG-TLR9_response                  3.727401e-13   \n",
              "194-X-pDC-X-194                                     4.329778e-02   \n",
              "195-X-plasma-X-195                                  1.145674e-01   \n",
              "\n",
              "                                                           USP53  ...   \n",
              "0-X-global-X-all_biotin_metabolism                  1.889707e-13  ...  \\\n",
              "1-X-global-X-all_purine_metabolism                  6.239896e-14  ...   \n",
              "2-X-global-X-all_ethanol_metabolism                 1.668698e-13  ...   \n",
              "3-X-global-X-all_amino-sugar-nucleotide-sugar_m...  1.046089e-13  ...   \n",
              "4-X-global-X-all_steroid_metabolism                 8.718819e-14  ...   \n",
              "...                                                          ...  ...   \n",
              "191-X-mast-X-mast_granule-exocytosis                4.646314e-13  ...   \n",
              "192-X-mast-X-192                                    6.038981e-02  ...   \n",
              "193-X-pDC-X-p-DC_CpG-TLR9_response                  2.937171e-13  ...   \n",
              "194-X-pDC-X-194                                     2.320858e-02  ...   \n",
              "195-X-plasma-X-195                                  3.337949e-02  ...   \n",
              "\n",
              "                                                          CCL3L1   \n",
              "0-X-global-X-all_biotin_metabolism                  3.736822e-13  \\\n",
              "1-X-global-X-all_purine_metabolism                  7.842134e-14   \n",
              "2-X-global-X-all_ethanol_metabolism                 2.826669e-13   \n",
              "3-X-global-X-all_amino-sugar-nucleotide-sugar_m...  2.170915e-13   \n",
              "4-X-global-X-all_steroid_metabolism                 3.963989e-13   \n",
              "...                                                          ...   \n",
              "191-X-mast-X-mast_granule-exocytosis                6.260223e-13   \n",
              "192-X-mast-X-192                                    6.069016e-02   \n",
              "193-X-pDC-X-p-DC_CpG-TLR9_response                  1.147664e-12   \n",
              "194-X-pDC-X-194                                     7.000543e-02   \n",
              "195-X-plasma-X-195                                  7.824439e-02   \n",
              "\n",
              "                                                            BAG3   \n",
              "0-X-global-X-all_biotin_metabolism                  2.525224e-14  \\\n",
              "1-X-global-X-all_purine_metabolism                  4.341330e-14   \n",
              "2-X-global-X-all_ethanol_metabolism                 3.045629e-14   \n",
              "3-X-global-X-all_amino-sugar-nucleotide-sugar_m...  1.668231e-14   \n",
              "4-X-global-X-all_steroid_metabolism                 5.047310e-14   \n",
              "...                                                          ...   \n",
              "191-X-mast-X-mast_granule-exocytosis                9.125140e-13   \n",
              "192-X-mast-X-192                                    4.744654e-02   \n",
              "193-X-pDC-X-p-DC_CpG-TLR9_response                  1.251597e-12   \n",
              "194-X-pDC-X-194                                     6.859169e-02   \n",
              "195-X-plasma-X-195                                  9.920125e-02   \n",
              "\n",
              "                                                        CDC42EP3   \n",
              "0-X-global-X-all_biotin_metabolism                  6.420412e-14  \\\n",
              "1-X-global-X-all_purine_metabolism                  1.031329e-13   \n",
              "2-X-global-X-all_ethanol_metabolism                 7.243738e-14   \n",
              "3-X-global-X-all_amino-sugar-nucleotide-sugar_m...  1.253127e-13   \n",
              "4-X-global-X-all_steroid_metabolism                 6.865746e-14   \n",
              "...                                                          ...   \n",
              "191-X-mast-X-mast_granule-exocytosis                1.146099e-12   \n",
              "192-X-mast-X-192                                    7.116804e-02   \n",
              "193-X-pDC-X-p-DC_CpG-TLR9_response                  2.034046e-13   \n",
              "194-X-pDC-X-194                                     7.916305e-03   \n",
              "195-X-plasma-X-195                                  2.361848e-02   \n",
              "\n",
              "                                                           TRAM1   \n",
              "0-X-global-X-all_biotin_metabolism                  1.257606e-13  \\\n",
              "1-X-global-X-all_purine_metabolism                  5.244501e-14   \n",
              "2-X-global-X-all_ethanol_metabolism                 1.466853e-13   \n",
              "3-X-global-X-all_amino-sugar-nucleotide-sugar_m...  1.550030e-13   \n",
              "4-X-global-X-all_steroid_metabolism                 1.597730e-13   \n",
              "...                                                          ...   \n",
              "191-X-mast-X-mast_granule-exocytosis                1.321496e-12   \n",
              "192-X-mast-X-192                                    7.484908e-02   \n",
              "193-X-pDC-X-p-DC_CpG-TLR9_response                  1.618263e-11   \n",
              "194-X-pDC-X-194                                     1.017059e-01   \n",
              "195-X-plasma-X-195                                  1.486697e-01   \n",
              "\n",
              "                                                          RANBP1   \n",
              "0-X-global-X-all_biotin_metabolism                  3.183342e-13  \\\n",
              "1-X-global-X-all_purine_metabolism                  3.381896e-13   \n",
              "2-X-global-X-all_ethanol_metabolism                 1.731920e-11   \n",
              "3-X-global-X-all_amino-sugar-nucleotide-sugar_m...  5.440317e-13   \n",
              "4-X-global-X-all_steroid_metabolism                 1.631484e-12   \n",
              "...                                                          ...   \n",
              "191-X-mast-X-mast_granule-exocytosis                2.659339e-13   \n",
              "192-X-mast-X-192                                    1.157063e-01   \n",
              "193-X-pDC-X-p-DC_CpG-TLR9_response                  1.071390e-12   \n",
              "194-X-pDC-X-194                                     1.049143e-01   \n",
              "195-X-plasma-X-195                                  2.325621e-02   \n",
              "\n",
              "                                                           FDFT1   \n",
              "0-X-global-X-all_biotin_metabolism                  1.063368e-13  \\\n",
              "1-X-global-X-all_purine_metabolism                  2.049011e-14   \n",
              "2-X-global-X-all_ethanol_metabolism                 8.943040e-14   \n",
              "3-X-global-X-all_amino-sugar-nucleotide-sugar_m...  1.273326e-13   \n",
              "4-X-global-X-all_steroid_metabolism                 9.798131e-03   \n",
              "...                                                          ...   \n",
              "191-X-mast-X-mast_granule-exocytosis                1.156242e-13   \n",
              "192-X-mast-X-192                                    1.137706e-02   \n",
              "193-X-pDC-X-p-DC_CpG-TLR9_response                  2.887691e-13   \n",
              "194-X-pDC-X-194                                     7.855039e-02   \n",
              "195-X-plasma-X-195                                  1.248466e-01   \n",
              "\n",
              "                                                           HACD4   \n",
              "0-X-global-X-all_biotin_metabolism                  1.111356e-11  \\\n",
              "1-X-global-X-all_purine_metabolism                  1.389543e-12   \n",
              "2-X-global-X-all_ethanol_metabolism                 3.068909e-12   \n",
              "3-X-global-X-all_amino-sugar-nucleotide-sugar_m...  4.752835e-13   \n",
              "4-X-global-X-all_steroid_metabolism                 1.778905e-11   \n",
              "...                                                          ...   \n",
              "191-X-mast-X-mast_granule-exocytosis                5.885805e-14   \n",
              "192-X-mast-X-192                                    2.788905e-02   \n",
              "193-X-pDC-X-p-DC_CpG-TLR9_response                  2.310775e-12   \n",
              "194-X-pDC-X-194                                     5.525050e-02   \n",
              "195-X-plasma-X-195                                  2.006640e-02   \n",
              "\n",
              "                                                          FCGR3A   \n",
              "0-X-global-X-all_biotin_metabolism                  5.338462e-13  \\\n",
              "1-X-global-X-all_purine_metabolism                  2.475863e-13   \n",
              "2-X-global-X-all_ethanol_metabolism                 3.035989e-14   \n",
              "3-X-global-X-all_amino-sugar-nucleotide-sugar_m...  9.044793e-14   \n",
              "4-X-global-X-all_steroid_metabolism                 1.547616e-13   \n",
              "...                                                          ...   \n",
              "191-X-mast-X-mast_granule-exocytosis                3.777096e-14   \n",
              "192-X-mast-X-192                                    1.297088e-02   \n",
              "193-X-pDC-X-p-DC_CpG-TLR9_response                  1.005974e-12   \n",
              "194-X-pDC-X-194                                     4.536865e-02   \n",
              "195-X-plasma-X-195                                  1.602638e-02   \n",
              "\n",
              "                                                           AZGP1       SLC35A1  \n",
              "0-X-global-X-all_biotin_metabolism                  2.266759e-13  2.728845e-12  \n",
              "1-X-global-X-all_purine_metabolism                  4.222572e-13  2.141961e-12  \n",
              "2-X-global-X-all_ethanol_metabolism                 2.025622e-13  3.219690e-13  \n",
              "3-X-global-X-all_amino-sugar-nucleotide-sugar_m...  4.869225e-13  5.835212e-13  \n",
              "4-X-global-X-all_steroid_metabolism                 1.066572e-12  1.360924e-12  \n",
              "...                                                          ...           ...  \n",
              "191-X-mast-X-mast_granule-exocytosis                8.047818e-13  3.555064e-12  \n",
              "192-X-mast-X-192                                    6.385184e-02  5.408408e-02  \n",
              "193-X-pDC-X-p-DC_CpG-TLR9_response                  1.670046e-13  2.146061e-13  \n",
              "194-X-pDC-X-194                                     2.997589e-02  1.177742e-02  \n",
              "195-X-plasma-X-195                                  1.788231e-02  4.231708e-02  \n",
              "\n",
              "[196 rows x 6392 columns]"
            ]
          },
          "execution_count": 15,
          "metadata": {},
          "output_type": "execute_result"
        }
      ],
      "source": [
        "#so you can construct a dataframe for the factor gene weights\n",
        "\n",
        "#include cell type specificity as a prefix into the index\n",
        "index_labels = adata.uns['SPECTRA_overlap'].index\n",
        "gene_weights = pd.DataFrame(adata.uns['SPECTRA_factors'], \n",
        "                            index= index_labels,\n",
        "                            columns=adata.var[adata.var['spectra_vocab']].index)\n",
        "gene_weights"
      ]
    },
    {
      "cell_type": "markdown",
      "metadata": {},
      "source": [
        "*Markers* is an array of genes with top scores for every factor:"
      ]
    },
    {
      "cell_type": "code",
      "execution_count": 16,
      "metadata": {},
      "outputs": [
        {
          "data": {
            "text/plain": [
              "array([['HLCS', 'BTD', 'SLC5A6', ..., 'SLC29A3', 'SCARA5', 'PC'],\n",
              "       ['NT5E', 'XDH', 'HPRT1', ..., 'GMPR', 'ARFGEF1', 'SLC13A3'],\n",
              "       ['ALDH3B2', 'ALDH1A1', 'ZADH2', ..., 'FECH', 'TUBGCP5', 'LAPTM5'],\n",
              "       ...,\n",
              "       ['ZAP70', 'RNF145', 'TCF7', ..., 'BRF2', 'AL034397.3', 'ITM2C'],\n",
              "       ['SLC5A3', 'PLD4', 'FKBP14', ..., 'AC007325.2', 'NOP2', 'CSF2RB'],\n",
              "       ['POU2AF1', 'NEU1', 'ERLEC1', ..., 'ACP2', 'NR1I2', 'FIGN']],\n",
              "      dtype=object)"
            ]
          },
          "execution_count": 16,
          "metadata": {},
          "output_type": "execute_result"
        }
      ],
      "source": [
        "#find an array of the marker genes per factor here:\n",
        "adata.uns['SPECTRA_markers']"
      ]
    },
    {
      "attachments": {},
      "cell_type": "markdown",
      "metadata": {},
      "source": [
        "We also provide an approach to label the factors by their Szymkiewicz–Simpson overlap coefficient with the input gene sets. Each factors receives the label of the input gene set with the highest overlap coefficient, given that it the overlap coefficient is greater than the threshold defined in 'overlap_threshold'. Ties in the overlap coefficient by gene set size, selecting the label of the bigger gene set (because smaller gene sets might get bigger overlap coefficients by chance).\n",
        "\n",
        "We provide a pandas.DataFrame indicating the overlap coefficients for each input gene set with each factor's marker genes. The index of this dataframe contains the *index* of each factor, *assigned label* as well as the *cell type specificity* for each factor in the format:\n",
        "\n",
        "`['index' + '-X-' + 'cell type specificity' + '-X-' + 'assigned label', ...]`\n",
        "\n",
        "We use `'-X-'` as a unique seperator to make string splitting and retrieval of the different components of the index easier."
      ]
    },
    {
      "cell_type": "code",
      "execution_count": 17,
      "metadata": {},
      "outputs": [
        {
          "data": {
            "text/html": [
              "<div>\n",
              "<style scoped>\n",
              "    .dataframe tbody tr th:only-of-type {\n",
              "        vertical-align: middle;\n",
              "    }\n",
              "\n",
              "    .dataframe tbody tr th {\n",
              "        vertical-align: top;\n",
              "    }\n",
              "\n",
              "    .dataframe thead th {\n",
              "        text-align: right;\n",
              "    }\n",
              "</style>\n",
              "<table border=\"1\" class=\"dataframe\">\n",
              "  <thead>\n",
              "    <tr style=\"text-align: right;\">\n",
              "      <th></th>\n",
              "      <th>B_Breg_UP</th>\n",
              "      <th>B_effector-2_UP</th>\n",
              "      <th>B_effector-1_UP</th>\n",
              "      <th>B_IgM-ligation_response</th>\n",
              "      <th>CD4-T_IL12_response</th>\n",
              "      <th>TNK_IL2_response</th>\n",
              "      <th>CD4-T_TH22_UP</th>\n",
              "      <th>CD4-T_TH17_UP</th>\n",
              "      <th>TNK_IL2-STAT5-signaling</th>\n",
              "      <th>T_IL21_response</th>\n",
              "      <th>...</th>\n",
              "      <th>all_thiamin_metabolism</th>\n",
              "      <th>all_NOTCH_signaling</th>\n",
              "      <th>all_galactose_metabolism</th>\n",
              "      <th>all_MYC_targets</th>\n",
              "      <th>all_GLU_metabolism</th>\n",
              "      <th>all_fatty-acid_synthesis</th>\n",
              "      <th>all_glycolysis</th>\n",
              "      <th>all_glutathione_metabolism</th>\n",
              "      <th>all_IL6-JAK-STAT3_signaling</th>\n",
              "      <th>all_autophagy-chaperone-mediated</th>\n",
              "    </tr>\n",
              "  </thead>\n",
              "  <tbody>\n",
              "    <tr>\n",
              "      <th>0-X-global-X-all_biotin_metabolism</th>\n",
              "      <td>0.0</td>\n",
              "      <td>0.0</td>\n",
              "      <td>0.0</td>\n",
              "      <td>0.00</td>\n",
              "      <td>0.0</td>\n",
              "      <td>0.000000</td>\n",
              "      <td>0.0</td>\n",
              "      <td>0.0</td>\n",
              "      <td>0.00</td>\n",
              "      <td>0.0</td>\n",
              "      <td>...</td>\n",
              "      <td>0.0</td>\n",
              "      <td>0.0</td>\n",
              "      <td>0.000000</td>\n",
              "      <td>0.04</td>\n",
              "      <td>0.0</td>\n",
              "      <td>0.041667</td>\n",
              "      <td>0.000000</td>\n",
              "      <td>0.0</td>\n",
              "      <td>0.00</td>\n",
              "      <td>0.000000</td>\n",
              "    </tr>\n",
              "    <tr>\n",
              "      <th>1-X-global-X-all_purine_metabolism</th>\n",
              "      <td>0.0</td>\n",
              "      <td>0.0</td>\n",
              "      <td>0.0</td>\n",
              "      <td>0.00</td>\n",
              "      <td>0.0</td>\n",
              "      <td>0.000000</td>\n",
              "      <td>0.0</td>\n",
              "      <td>0.0</td>\n",
              "      <td>0.08</td>\n",
              "      <td>0.0</td>\n",
              "      <td>...</td>\n",
              "      <td>0.0</td>\n",
              "      <td>0.0</td>\n",
              "      <td>0.000000</td>\n",
              "      <td>0.04</td>\n",
              "      <td>0.0</td>\n",
              "      <td>0.000000</td>\n",
              "      <td>0.000000</td>\n",
              "      <td>0.0</td>\n",
              "      <td>0.00</td>\n",
              "      <td>0.000000</td>\n",
              "    </tr>\n",
              "    <tr>\n",
              "      <th>2-X-global-X-all_ethanol_metabolism</th>\n",
              "      <td>0.0</td>\n",
              "      <td>0.0</td>\n",
              "      <td>0.0</td>\n",
              "      <td>0.00</td>\n",
              "      <td>0.0</td>\n",
              "      <td>0.055556</td>\n",
              "      <td>0.0</td>\n",
              "      <td>0.0</td>\n",
              "      <td>0.00</td>\n",
              "      <td>0.0</td>\n",
              "      <td>...</td>\n",
              "      <td>0.0</td>\n",
              "      <td>0.0</td>\n",
              "      <td>0.000000</td>\n",
              "      <td>0.00</td>\n",
              "      <td>0.0</td>\n",
              "      <td>0.000000</td>\n",
              "      <td>0.000000</td>\n",
              "      <td>0.0</td>\n",
              "      <td>0.00</td>\n",
              "      <td>0.000000</td>\n",
              "    </tr>\n",
              "    <tr>\n",
              "      <th>3-X-global-X-all_amino-sugar-nucleotide-sugar_metabolism</th>\n",
              "      <td>0.0</td>\n",
              "      <td>0.0</td>\n",
              "      <td>0.0</td>\n",
              "      <td>0.00</td>\n",
              "      <td>0.0</td>\n",
              "      <td>0.000000</td>\n",
              "      <td>0.0</td>\n",
              "      <td>0.0</td>\n",
              "      <td>0.00</td>\n",
              "      <td>0.0</td>\n",
              "      <td>...</td>\n",
              "      <td>0.0</td>\n",
              "      <td>0.0</td>\n",
              "      <td>0.055556</td>\n",
              "      <td>0.00</td>\n",
              "      <td>0.0</td>\n",
              "      <td>0.000000</td>\n",
              "      <td>0.041667</td>\n",
              "      <td>0.0</td>\n",
              "      <td>0.00</td>\n",
              "      <td>0.000000</td>\n",
              "    </tr>\n",
              "    <tr>\n",
              "      <th>4-X-global-X-all_steroid_metabolism</th>\n",
              "      <td>0.0</td>\n",
              "      <td>0.0</td>\n",
              "      <td>0.0</td>\n",
              "      <td>0.00</td>\n",
              "      <td>0.0</td>\n",
              "      <td>0.000000</td>\n",
              "      <td>0.0</td>\n",
              "      <td>0.0</td>\n",
              "      <td>0.00</td>\n",
              "      <td>0.0</td>\n",
              "      <td>...</td>\n",
              "      <td>0.0</td>\n",
              "      <td>0.0</td>\n",
              "      <td>0.000000</td>\n",
              "      <td>0.00</td>\n",
              "      <td>0.0</td>\n",
              "      <td>0.083333</td>\n",
              "      <td>0.000000</td>\n",
              "      <td>0.0</td>\n",
              "      <td>0.00</td>\n",
              "      <td>0.000000</td>\n",
              "    </tr>\n",
              "    <tr>\n",
              "      <th>...</th>\n",
              "      <td>...</td>\n",
              "      <td>...</td>\n",
              "      <td>...</td>\n",
              "      <td>...</td>\n",
              "      <td>...</td>\n",
              "      <td>...</td>\n",
              "      <td>...</td>\n",
              "      <td>...</td>\n",
              "      <td>...</td>\n",
              "      <td>...</td>\n",
              "      <td>...</td>\n",
              "      <td>...</td>\n",
              "      <td>...</td>\n",
              "      <td>...</td>\n",
              "      <td>...</td>\n",
              "      <td>...</td>\n",
              "      <td>...</td>\n",
              "      <td>...</td>\n",
              "      <td>...</td>\n",
              "      <td>...</td>\n",
              "      <td>...</td>\n",
              "    </tr>\n",
              "    <tr>\n",
              "      <th>191-X-mast-X-mast_granule-exocytosis</th>\n",
              "      <td>0.0</td>\n",
              "      <td>0.0</td>\n",
              "      <td>0.0</td>\n",
              "      <td>0.00</td>\n",
              "      <td>0.0</td>\n",
              "      <td>0.000000</td>\n",
              "      <td>0.0</td>\n",
              "      <td>0.0</td>\n",
              "      <td>0.00</td>\n",
              "      <td>0.0</td>\n",
              "      <td>...</td>\n",
              "      <td>0.0</td>\n",
              "      <td>0.0</td>\n",
              "      <td>0.000000</td>\n",
              "      <td>0.00</td>\n",
              "      <td>0.0</td>\n",
              "      <td>0.000000</td>\n",
              "      <td>0.000000</td>\n",
              "      <td>0.0</td>\n",
              "      <td>0.00</td>\n",
              "      <td>0.000000</td>\n",
              "    </tr>\n",
              "    <tr>\n",
              "      <th>192-X-mast-X-192</th>\n",
              "      <td>0.0</td>\n",
              "      <td>0.0</td>\n",
              "      <td>0.0</td>\n",
              "      <td>0.00</td>\n",
              "      <td>0.0</td>\n",
              "      <td>0.000000</td>\n",
              "      <td>0.0</td>\n",
              "      <td>0.0</td>\n",
              "      <td>0.00</td>\n",
              "      <td>0.0</td>\n",
              "      <td>...</td>\n",
              "      <td>0.0</td>\n",
              "      <td>0.0</td>\n",
              "      <td>0.000000</td>\n",
              "      <td>0.00</td>\n",
              "      <td>0.0</td>\n",
              "      <td>0.000000</td>\n",
              "      <td>0.000000</td>\n",
              "      <td>0.0</td>\n",
              "      <td>0.04</td>\n",
              "      <td>0.066667</td>\n",
              "    </tr>\n",
              "    <tr>\n",
              "      <th>193-X-pDC-X-p-DC_CpG-TLR9_response</th>\n",
              "      <td>0.0</td>\n",
              "      <td>0.0</td>\n",
              "      <td>0.0</td>\n",
              "      <td>0.04</td>\n",
              "      <td>0.0</td>\n",
              "      <td>0.000000</td>\n",
              "      <td>0.0</td>\n",
              "      <td>0.0</td>\n",
              "      <td>0.00</td>\n",
              "      <td>0.0</td>\n",
              "      <td>...</td>\n",
              "      <td>0.0</td>\n",
              "      <td>0.0</td>\n",
              "      <td>0.000000</td>\n",
              "      <td>0.00</td>\n",
              "      <td>0.0</td>\n",
              "      <td>0.000000</td>\n",
              "      <td>0.000000</td>\n",
              "      <td>0.0</td>\n",
              "      <td>0.00</td>\n",
              "      <td>0.000000</td>\n",
              "    </tr>\n",
              "    <tr>\n",
              "      <th>194-X-pDC-X-194</th>\n",
              "      <td>0.0</td>\n",
              "      <td>0.0</td>\n",
              "      <td>0.0</td>\n",
              "      <td>0.04</td>\n",
              "      <td>0.0</td>\n",
              "      <td>0.055556</td>\n",
              "      <td>0.0</td>\n",
              "      <td>0.0</td>\n",
              "      <td>0.04</td>\n",
              "      <td>0.0</td>\n",
              "      <td>...</td>\n",
              "      <td>0.0</td>\n",
              "      <td>0.0</td>\n",
              "      <td>0.000000</td>\n",
              "      <td>0.04</td>\n",
              "      <td>0.0</td>\n",
              "      <td>0.000000</td>\n",
              "      <td>0.000000</td>\n",
              "      <td>0.0</td>\n",
              "      <td>0.04</td>\n",
              "      <td>0.000000</td>\n",
              "    </tr>\n",
              "    <tr>\n",
              "      <th>195-X-plasma-X-195</th>\n",
              "      <td>0.0</td>\n",
              "      <td>0.0</td>\n",
              "      <td>0.0</td>\n",
              "      <td>0.00</td>\n",
              "      <td>0.0</td>\n",
              "      <td>0.000000</td>\n",
              "      <td>0.0</td>\n",
              "      <td>0.0</td>\n",
              "      <td>0.00</td>\n",
              "      <td>0.0</td>\n",
              "      <td>...</td>\n",
              "      <td>0.0</td>\n",
              "      <td>0.0</td>\n",
              "      <td>0.055556</td>\n",
              "      <td>0.00</td>\n",
              "      <td>0.0</td>\n",
              "      <td>0.000000</td>\n",
              "      <td>0.000000</td>\n",
              "      <td>0.0</td>\n",
              "      <td>0.00</td>\n",
              "      <td>0.000000</td>\n",
              "    </tr>\n",
              "  </tbody>\n",
              "</table>\n",
              "<p>196 rows × 181 columns</p>\n",
              "</div>"
            ],
            "text/plain": [
              "                                                    B_Breg_UP   \n",
              "0-X-global-X-all_biotin_metabolism                        0.0  \\\n",
              "1-X-global-X-all_purine_metabolism                        0.0   \n",
              "2-X-global-X-all_ethanol_metabolism                       0.0   \n",
              "3-X-global-X-all_amino-sugar-nucleotide-sugar_m...        0.0   \n",
              "4-X-global-X-all_steroid_metabolism                       0.0   \n",
              "...                                                       ...   \n",
              "191-X-mast-X-mast_granule-exocytosis                      0.0   \n",
              "192-X-mast-X-192                                          0.0   \n",
              "193-X-pDC-X-p-DC_CpG-TLR9_response                        0.0   \n",
              "194-X-pDC-X-194                                           0.0   \n",
              "195-X-plasma-X-195                                        0.0   \n",
              "\n",
              "                                                    B_effector-2_UP   \n",
              "0-X-global-X-all_biotin_metabolism                              0.0  \\\n",
              "1-X-global-X-all_purine_metabolism                              0.0   \n",
              "2-X-global-X-all_ethanol_metabolism                             0.0   \n",
              "3-X-global-X-all_amino-sugar-nucleotide-sugar_m...              0.0   \n",
              "4-X-global-X-all_steroid_metabolism                             0.0   \n",
              "...                                                             ...   \n",
              "191-X-mast-X-mast_granule-exocytosis                            0.0   \n",
              "192-X-mast-X-192                                                0.0   \n",
              "193-X-pDC-X-p-DC_CpG-TLR9_response                              0.0   \n",
              "194-X-pDC-X-194                                                 0.0   \n",
              "195-X-plasma-X-195                                              0.0   \n",
              "\n",
              "                                                    B_effector-1_UP   \n",
              "0-X-global-X-all_biotin_metabolism                              0.0  \\\n",
              "1-X-global-X-all_purine_metabolism                              0.0   \n",
              "2-X-global-X-all_ethanol_metabolism                             0.0   \n",
              "3-X-global-X-all_amino-sugar-nucleotide-sugar_m...              0.0   \n",
              "4-X-global-X-all_steroid_metabolism                             0.0   \n",
              "...                                                             ...   \n",
              "191-X-mast-X-mast_granule-exocytosis                            0.0   \n",
              "192-X-mast-X-192                                                0.0   \n",
              "193-X-pDC-X-p-DC_CpG-TLR9_response                              0.0   \n",
              "194-X-pDC-X-194                                                 0.0   \n",
              "195-X-plasma-X-195                                              0.0   \n",
              "\n",
              "                                                    B_IgM-ligation_response   \n",
              "0-X-global-X-all_biotin_metabolism                                     0.00  \\\n",
              "1-X-global-X-all_purine_metabolism                                     0.00   \n",
              "2-X-global-X-all_ethanol_metabolism                                    0.00   \n",
              "3-X-global-X-all_amino-sugar-nucleotide-sugar_m...                     0.00   \n",
              "4-X-global-X-all_steroid_metabolism                                    0.00   \n",
              "...                                                                     ...   \n",
              "191-X-mast-X-mast_granule-exocytosis                                   0.00   \n",
              "192-X-mast-X-192                                                       0.00   \n",
              "193-X-pDC-X-p-DC_CpG-TLR9_response                                     0.04   \n",
              "194-X-pDC-X-194                                                        0.04   \n",
              "195-X-plasma-X-195                                                     0.00   \n",
              "\n",
              "                                                    CD4-T_IL12_response   \n",
              "0-X-global-X-all_biotin_metabolism                                  0.0  \\\n",
              "1-X-global-X-all_purine_metabolism                                  0.0   \n",
              "2-X-global-X-all_ethanol_metabolism                                 0.0   \n",
              "3-X-global-X-all_amino-sugar-nucleotide-sugar_m...                  0.0   \n",
              "4-X-global-X-all_steroid_metabolism                                 0.0   \n",
              "...                                                                 ...   \n",
              "191-X-mast-X-mast_granule-exocytosis                                0.0   \n",
              "192-X-mast-X-192                                                    0.0   \n",
              "193-X-pDC-X-p-DC_CpG-TLR9_response                                  0.0   \n",
              "194-X-pDC-X-194                                                     0.0   \n",
              "195-X-plasma-X-195                                                  0.0   \n",
              "\n",
              "                                                    TNK_IL2_response   \n",
              "0-X-global-X-all_biotin_metabolism                          0.000000  \\\n",
              "1-X-global-X-all_purine_metabolism                          0.000000   \n",
              "2-X-global-X-all_ethanol_metabolism                         0.055556   \n",
              "3-X-global-X-all_amino-sugar-nucleotide-sugar_m...          0.000000   \n",
              "4-X-global-X-all_steroid_metabolism                         0.000000   \n",
              "...                                                              ...   \n",
              "191-X-mast-X-mast_granule-exocytosis                        0.000000   \n",
              "192-X-mast-X-192                                            0.000000   \n",
              "193-X-pDC-X-p-DC_CpG-TLR9_response                          0.000000   \n",
              "194-X-pDC-X-194                                             0.055556   \n",
              "195-X-plasma-X-195                                          0.000000   \n",
              "\n",
              "                                                    CD4-T_TH22_UP   \n",
              "0-X-global-X-all_biotin_metabolism                            0.0  \\\n",
              "1-X-global-X-all_purine_metabolism                            0.0   \n",
              "2-X-global-X-all_ethanol_metabolism                           0.0   \n",
              "3-X-global-X-all_amino-sugar-nucleotide-sugar_m...            0.0   \n",
              "4-X-global-X-all_steroid_metabolism                           0.0   \n",
              "...                                                           ...   \n",
              "191-X-mast-X-mast_granule-exocytosis                          0.0   \n",
              "192-X-mast-X-192                                              0.0   \n",
              "193-X-pDC-X-p-DC_CpG-TLR9_response                            0.0   \n",
              "194-X-pDC-X-194                                               0.0   \n",
              "195-X-plasma-X-195                                            0.0   \n",
              "\n",
              "                                                    CD4-T_TH17_UP   \n",
              "0-X-global-X-all_biotin_metabolism                            0.0  \\\n",
              "1-X-global-X-all_purine_metabolism                            0.0   \n",
              "2-X-global-X-all_ethanol_metabolism                           0.0   \n",
              "3-X-global-X-all_amino-sugar-nucleotide-sugar_m...            0.0   \n",
              "4-X-global-X-all_steroid_metabolism                           0.0   \n",
              "...                                                           ...   \n",
              "191-X-mast-X-mast_granule-exocytosis                          0.0   \n",
              "192-X-mast-X-192                                              0.0   \n",
              "193-X-pDC-X-p-DC_CpG-TLR9_response                            0.0   \n",
              "194-X-pDC-X-194                                               0.0   \n",
              "195-X-plasma-X-195                                            0.0   \n",
              "\n",
              "                                                    TNK_IL2-STAT5-signaling   \n",
              "0-X-global-X-all_biotin_metabolism                                     0.00  \\\n",
              "1-X-global-X-all_purine_metabolism                                     0.08   \n",
              "2-X-global-X-all_ethanol_metabolism                                    0.00   \n",
              "3-X-global-X-all_amino-sugar-nucleotide-sugar_m...                     0.00   \n",
              "4-X-global-X-all_steroid_metabolism                                    0.00   \n",
              "...                                                                     ...   \n",
              "191-X-mast-X-mast_granule-exocytosis                                   0.00   \n",
              "192-X-mast-X-192                                                       0.00   \n",
              "193-X-pDC-X-p-DC_CpG-TLR9_response                                     0.00   \n",
              "194-X-pDC-X-194                                                        0.04   \n",
              "195-X-plasma-X-195                                                     0.00   \n",
              "\n",
              "                                                    T_IL21_response  ...   \n",
              "0-X-global-X-all_biotin_metabolism                              0.0  ...  \\\n",
              "1-X-global-X-all_purine_metabolism                              0.0  ...   \n",
              "2-X-global-X-all_ethanol_metabolism                             0.0  ...   \n",
              "3-X-global-X-all_amino-sugar-nucleotide-sugar_m...              0.0  ...   \n",
              "4-X-global-X-all_steroid_metabolism                             0.0  ...   \n",
              "...                                                             ...  ...   \n",
              "191-X-mast-X-mast_granule-exocytosis                            0.0  ...   \n",
              "192-X-mast-X-192                                                0.0  ...   \n",
              "193-X-pDC-X-p-DC_CpG-TLR9_response                              0.0  ...   \n",
              "194-X-pDC-X-194                                                 0.0  ...   \n",
              "195-X-plasma-X-195                                              0.0  ...   \n",
              "\n",
              "                                                    all_thiamin_metabolism   \n",
              "0-X-global-X-all_biotin_metabolism                                     0.0  \\\n",
              "1-X-global-X-all_purine_metabolism                                     0.0   \n",
              "2-X-global-X-all_ethanol_metabolism                                    0.0   \n",
              "3-X-global-X-all_amino-sugar-nucleotide-sugar_m...                     0.0   \n",
              "4-X-global-X-all_steroid_metabolism                                    0.0   \n",
              "...                                                                    ...   \n",
              "191-X-mast-X-mast_granule-exocytosis                                   0.0   \n",
              "192-X-mast-X-192                                                       0.0   \n",
              "193-X-pDC-X-p-DC_CpG-TLR9_response                                     0.0   \n",
              "194-X-pDC-X-194                                                        0.0   \n",
              "195-X-plasma-X-195                                                     0.0   \n",
              "\n",
              "                                                    all_NOTCH_signaling   \n",
              "0-X-global-X-all_biotin_metabolism                                  0.0  \\\n",
              "1-X-global-X-all_purine_metabolism                                  0.0   \n",
              "2-X-global-X-all_ethanol_metabolism                                 0.0   \n",
              "3-X-global-X-all_amino-sugar-nucleotide-sugar_m...                  0.0   \n",
              "4-X-global-X-all_steroid_metabolism                                 0.0   \n",
              "...                                                                 ...   \n",
              "191-X-mast-X-mast_granule-exocytosis                                0.0   \n",
              "192-X-mast-X-192                                                    0.0   \n",
              "193-X-pDC-X-p-DC_CpG-TLR9_response                                  0.0   \n",
              "194-X-pDC-X-194                                                     0.0   \n",
              "195-X-plasma-X-195                                                  0.0   \n",
              "\n",
              "                                                    all_galactose_metabolism   \n",
              "0-X-global-X-all_biotin_metabolism                                  0.000000  \\\n",
              "1-X-global-X-all_purine_metabolism                                  0.000000   \n",
              "2-X-global-X-all_ethanol_metabolism                                 0.000000   \n",
              "3-X-global-X-all_amino-sugar-nucleotide-sugar_m...                  0.055556   \n",
              "4-X-global-X-all_steroid_metabolism                                 0.000000   \n",
              "...                                                                      ...   \n",
              "191-X-mast-X-mast_granule-exocytosis                                0.000000   \n",
              "192-X-mast-X-192                                                    0.000000   \n",
              "193-X-pDC-X-p-DC_CpG-TLR9_response                                  0.000000   \n",
              "194-X-pDC-X-194                                                     0.000000   \n",
              "195-X-plasma-X-195                                                  0.055556   \n",
              "\n",
              "                                                    all_MYC_targets   \n",
              "0-X-global-X-all_biotin_metabolism                             0.04  \\\n",
              "1-X-global-X-all_purine_metabolism                             0.04   \n",
              "2-X-global-X-all_ethanol_metabolism                            0.00   \n",
              "3-X-global-X-all_amino-sugar-nucleotide-sugar_m...             0.00   \n",
              "4-X-global-X-all_steroid_metabolism                            0.00   \n",
              "...                                                             ...   \n",
              "191-X-mast-X-mast_granule-exocytosis                           0.00   \n",
              "192-X-mast-X-192                                               0.00   \n",
              "193-X-pDC-X-p-DC_CpG-TLR9_response                             0.00   \n",
              "194-X-pDC-X-194                                                0.04   \n",
              "195-X-plasma-X-195                                             0.00   \n",
              "\n",
              "                                                    all_GLU_metabolism   \n",
              "0-X-global-X-all_biotin_metabolism                                 0.0  \\\n",
              "1-X-global-X-all_purine_metabolism                                 0.0   \n",
              "2-X-global-X-all_ethanol_metabolism                                0.0   \n",
              "3-X-global-X-all_amino-sugar-nucleotide-sugar_m...                 0.0   \n",
              "4-X-global-X-all_steroid_metabolism                                0.0   \n",
              "...                                                                ...   \n",
              "191-X-mast-X-mast_granule-exocytosis                               0.0   \n",
              "192-X-mast-X-192                                                   0.0   \n",
              "193-X-pDC-X-p-DC_CpG-TLR9_response                                 0.0   \n",
              "194-X-pDC-X-194                                                    0.0   \n",
              "195-X-plasma-X-195                                                 0.0   \n",
              "\n",
              "                                                    all_fatty-acid_synthesis   \n",
              "0-X-global-X-all_biotin_metabolism                                  0.041667  \\\n",
              "1-X-global-X-all_purine_metabolism                                  0.000000   \n",
              "2-X-global-X-all_ethanol_metabolism                                 0.000000   \n",
              "3-X-global-X-all_amino-sugar-nucleotide-sugar_m...                  0.000000   \n",
              "4-X-global-X-all_steroid_metabolism                                 0.083333   \n",
              "...                                                                      ...   \n",
              "191-X-mast-X-mast_granule-exocytosis                                0.000000   \n",
              "192-X-mast-X-192                                                    0.000000   \n",
              "193-X-pDC-X-p-DC_CpG-TLR9_response                                  0.000000   \n",
              "194-X-pDC-X-194                                                     0.000000   \n",
              "195-X-plasma-X-195                                                  0.000000   \n",
              "\n",
              "                                                    all_glycolysis   \n",
              "0-X-global-X-all_biotin_metabolism                        0.000000  \\\n",
              "1-X-global-X-all_purine_metabolism                        0.000000   \n",
              "2-X-global-X-all_ethanol_metabolism                       0.000000   \n",
              "3-X-global-X-all_amino-sugar-nucleotide-sugar_m...        0.041667   \n",
              "4-X-global-X-all_steroid_metabolism                       0.000000   \n",
              "...                                                            ...   \n",
              "191-X-mast-X-mast_granule-exocytosis                      0.000000   \n",
              "192-X-mast-X-192                                          0.000000   \n",
              "193-X-pDC-X-p-DC_CpG-TLR9_response                        0.000000   \n",
              "194-X-pDC-X-194                                           0.000000   \n",
              "195-X-plasma-X-195                                        0.000000   \n",
              "\n",
              "                                                    all_glutathione_metabolism   \n",
              "0-X-global-X-all_biotin_metabolism                                         0.0  \\\n",
              "1-X-global-X-all_purine_metabolism                                         0.0   \n",
              "2-X-global-X-all_ethanol_metabolism                                        0.0   \n",
              "3-X-global-X-all_amino-sugar-nucleotide-sugar_m...                         0.0   \n",
              "4-X-global-X-all_steroid_metabolism                                        0.0   \n",
              "...                                                                        ...   \n",
              "191-X-mast-X-mast_granule-exocytosis                                       0.0   \n",
              "192-X-mast-X-192                                                           0.0   \n",
              "193-X-pDC-X-p-DC_CpG-TLR9_response                                         0.0   \n",
              "194-X-pDC-X-194                                                            0.0   \n",
              "195-X-plasma-X-195                                                         0.0   \n",
              "\n",
              "                                                    all_IL6-JAK-STAT3_signaling   \n",
              "0-X-global-X-all_biotin_metabolism                                         0.00  \\\n",
              "1-X-global-X-all_purine_metabolism                                         0.00   \n",
              "2-X-global-X-all_ethanol_metabolism                                        0.00   \n",
              "3-X-global-X-all_amino-sugar-nucleotide-sugar_m...                         0.00   \n",
              "4-X-global-X-all_steroid_metabolism                                        0.00   \n",
              "...                                                                         ...   \n",
              "191-X-mast-X-mast_granule-exocytosis                                       0.00   \n",
              "192-X-mast-X-192                                                           0.04   \n",
              "193-X-pDC-X-p-DC_CpG-TLR9_response                                         0.00   \n",
              "194-X-pDC-X-194                                                            0.04   \n",
              "195-X-plasma-X-195                                                         0.00   \n",
              "\n",
              "                                                    all_autophagy-chaperone-mediated  \n",
              "0-X-global-X-all_biotin_metabolism                                          0.000000  \n",
              "1-X-global-X-all_purine_metabolism                                          0.000000  \n",
              "2-X-global-X-all_ethanol_metabolism                                         0.000000  \n",
              "3-X-global-X-all_amino-sugar-nucleotide-sugar_m...                          0.000000  \n",
              "4-X-global-X-all_steroid_metabolism                                         0.000000  \n",
              "...                                                                              ...  \n",
              "191-X-mast-X-mast_granule-exocytosis                                        0.000000  \n",
              "192-X-mast-X-192                                                            0.066667  \n",
              "193-X-pDC-X-p-DC_CpG-TLR9_response                                          0.000000  \n",
              "194-X-pDC-X-194                                                             0.000000  \n",
              "195-X-plasma-X-195                                                          0.000000  \n",
              "\n",
              "[196 rows x 181 columns]"
            ]
          },
          "execution_count": 17,
          "metadata": {},
          "output_type": "execute_result"
        }
      ],
      "source": [
        "adata.uns['SPECTRA_overlap']"
      ]
    },
    {
      "cell_type": "markdown",
      "metadata": {},
      "source": [
        "*Cell scores* are similarly the score of each factor for every cell:"
      ]
    },
    {
      "cell_type": "code",
      "execution_count": 18,
      "metadata": {},
      "outputs": [
        {
          "data": {
            "text/plain": [
              "array([[2.06597992e-05, 6.62666472e-05, 3.72832619e-07, ...,\n",
              "        0.00000000e+00, 0.00000000e+00, 0.00000000e+00],\n",
              "       [5.70606091e-06, 5.08436431e-05, 7.68943309e-07, ...,\n",
              "        0.00000000e+00, 0.00000000e+00, 0.00000000e+00],\n",
              "       [5.57586973e-05, 7.58790544e-05, 7.73772624e-06, ...,\n",
              "        0.00000000e+00, 0.00000000e+00, 0.00000000e+00],\n",
              "       ...,\n",
              "       [2.63968214e-06, 9.58252086e-05, 1.88625053e-07, ...,\n",
              "        0.00000000e+00, 0.00000000e+00, 0.00000000e+00],\n",
              "       [5.19867012e-06, 3.62449703e-05, 8.07153195e-07, ...,\n",
              "        0.00000000e+00, 0.00000000e+00, 0.00000000e+00],\n",
              "       [3.36759333e-06, 1.50352979e-04, 5.45329149e-07, ...,\n",
              "        0.00000000e+00, 0.00000000e+00, 0.00000000e+00]])"
            ]
          },
          "execution_count": 18,
          "metadata": {},
          "output_type": "execute_result"
        }
      ],
      "source": [
        "#find an array of cell scores per factor and cell here:\n",
        "adata.obsm['SPECTRA_cell_scores']"
      ]
    },
    {
      "cell_type": "markdown",
      "metadata": {},
      "source": [
        "Vocab is a boolean array that is `True` for genes that were used while fitting the model - note that this quantity is only added to the AnnData when `highly_variable` is set to `True`:"
      ]
    },
    {
      "cell_type": "code",
      "execution_count": 19,
      "metadata": {},
      "outputs": [
        {
          "data": {
            "text/plain": [
              "KCNC3      True\n",
              "NDUFS3     True\n",
              "HACD1      True\n",
              "FAM214A    True\n",
              "TBCD       True\n",
              "           ... \n",
              "FDFT1      True\n",
              "HACD4      True\n",
              "FCGR3A     True\n",
              "AZGP1      True\n",
              "SLC35A1    True\n",
              "Name: spectra_vocab, Length: 6397, dtype: bool"
            ]
          },
          "execution_count": 19,
          "metadata": {},
          "output_type": "execute_result"
        }
      ],
      "source": [
        "#find the vocab here:\n",
        "adata.var['spectra_vocab']"
      ]
    },
    {
      "cell_type": "markdown",
      "metadata": {},
      "source": [
        "It also includes a dictionary of the factor numbers per cell type:"
      ]
    },
    {
      "cell_type": "code",
      "execution_count": 20,
      "metadata": {},
      "outputs": [
        {
          "data": {
            "text/plain": [
              "{'B_GC': 1,\n",
              " 'B_memory': 5,\n",
              " 'B_naive': 1,\n",
              " 'CD4_T': 12,\n",
              " 'CD8_T': 7,\n",
              " 'DC': 3,\n",
              " 'ILC3': 1,\n",
              " 'MDC': 6,\n",
              " 'NK': 1,\n",
              " 'Treg': 2,\n",
              " 'gdT': 1,\n",
              " 'mast': 2,\n",
              " 'pDC': 2,\n",
              " 'plasma': 1,\n",
              " 'global': 151}"
            ]
          },
          "execution_count": 20,
          "metadata": {},
          "output_type": "execute_result"
        }
      ],
      "source": [
        "#find the factor numbere dict here:\n",
        "adata.uns['SPECTRA_L']"
      ]
    },
    {
      "attachments": {},
      "cell_type": "markdown",
      "metadata": {},
      "source": [
        "## Acessing model parameters"
      ]
    },
    {
      "attachments": {},
      "cell_type": "markdown",
      "metadata": {},
      "source": [
        "To access finer grained information about the model fit, we can look at the attributes of the model object directly. Model parameters can be accessed with functions associated with the model object"
      ]
    },
    {
      "cell_type": "code",
      "execution_count": 21,
      "metadata": {},
      "outputs": [
        {
          "data": {
            "text/plain": [
              "['B_diag',\n",
              " 'L',\n",
              " '_SPECTRA_Model__B_diag',\n",
              " '_SPECTRA_Model__eta_matrices',\n",
              " '_SPECTRA_Model__store_parameters',\n",
              " '_SPECTRA_Model__store_parameters_no_celltypes',\n",
              " '__class__',\n",
              " '__delattr__',\n",
              " '__dict__',\n",
              " '__dir__',\n",
              " '__doc__',\n",
              " '__eq__',\n",
              " '__format__',\n",
              " '__ge__',\n",
              " '__getattribute__',\n",
              " '__gt__',\n",
              " '__hash__',\n",
              " '__init__',\n",
              " '__init_subclass__',\n",
              " '__le__',\n",
              " '__lt__',\n",
              " '__module__',\n",
              " '__ne__',\n",
              " '__new__',\n",
              " '__reduce__',\n",
              " '__reduce_ex__',\n",
              " '__repr__',\n",
              " '__setattr__',\n",
              " '__sizeof__',\n",
              " '__str__',\n",
              " '__subclasshook__',\n",
              " '__weakref__',\n",
              " 'cell_scores',\n",
              " 'delta',\n",
              " 'eta_matrices',\n",
              " 'factors',\n",
              " 'gene_scalings',\n",
              " 'initialize',\n",
              " 'internal_model',\n",
              " 'kappa',\n",
              " 'lam',\n",
              " 'load',\n",
              " 'matching',\n",
              " 'return_cell_scores',\n",
              " 'return_eta',\n",
              " 'return_eta_diag',\n",
              " 'return_factors',\n",
              " 'return_gene_scalings',\n",
              " 'return_graph',\n",
              " 'return_kappa',\n",
              " 'return_rho',\n",
              " 'rho',\n",
              " 'save',\n",
              " 'train',\n",
              " 'use_cell_types']"
            ]
          },
          "execution_count": 21,
          "metadata": {},
          "output_type": "execute_result"
        }
      ],
      "source": [
        "#this is the model file\n",
        "dir(model)"
      ]
    },
    {
      "cell_type": "code",
      "execution_count": 22,
      "metadata": {},
      "outputs": [
        {
          "data": {
            "text/plain": [
              "0.1"
            ]
          },
          "execution_count": 22,
          "metadata": {},
          "output_type": "execute_result"
        }
      ],
      "source": [
        "#e.g. find the lambda parameter the model was trained with:\n",
        "model.lam"
      ]
    },
    {
      "attachments": {},
      "cell_type": "markdown",
      "metadata": {},
      "source": [
        "Apart from cell scores and factors, we can also retrive a number of other parameters this way that are not by default added to the AnnData. Eta diag is the diagonal of the fitted factor-factor interaction matrix; however, its interpretation is that it measures the extent to which each factor is influenced by the prior information. In practice many of these values are zero, indicating that they are estimated without bias introduced by the annotation set. Eta is the full set of factor-factor interaction matrices, whose off diagonals measure the extent to which factors share the same genes. Rho and kappa are parameters that control the background rate of non-edges and edges respectively. These can be fixed throughout training (default) or estimated from the data by providing rho = None or kappa = None to the est_spectra() function or to model.train(). Finally gene scalings are correction factors that normalize each gene based on its mean expression value."
      ]
    },
    {
      "cell_type": "code",
      "execution_count": 23,
      "metadata": {},
      "outputs": [
        {
          "data": {
            "text/plain": [
              "array([9.05557632e-01, 8.73475909e-01, 9.34204102e-01, 8.36982310e-01,\n",
              "       7.51966059e-01, 8.47091556e-01, 8.50196421e-01, 8.98620009e-01,\n",
              "       8.74223292e-01, 9.20405507e-01, 8.47123802e-01, 8.60374808e-01,\n",
              "       8.23568046e-01, 9.40389037e-01, 4.56327528e-01, 9.39716578e-01,\n",
              "       9.61075306e-01, 8.95393729e-01, 9.80055630e-01, 8.66351664e-01,\n",
              "       8.55875671e-01, 7.21452773e-01, 8.38550150e-01, 8.88165355e-01,\n",
              "       9.42794621e-01, 8.68348658e-01, 9.60409820e-01, 8.87261093e-01,\n",
              "       8.83236170e-01, 9.00512576e-01, 9.35557306e-01, 8.33562851e-01,\n",
              "       7.22450256e-01, 4.42761958e-01, 8.82393599e-01, 6.22764051e-01,\n",
              "       7.38689363e-01, 9.44237053e-01, 9.48746920e-01, 9.04000819e-01,\n",
              "       5.96231639e-01, 8.38538170e-01, 6.49636626e-01, 6.96311116e-01,\n",
              "       9.43198621e-01, 7.55496502e-01, 9.78019416e-01, 8.49526882e-01,\n",
              "       7.26657450e-01, 9.21577632e-01, 5.53827703e-01, 6.53994083e-01,\n",
              "       9.81315255e-01, 7.98503697e-01, 9.49841857e-01, 9.47475851e-01,\n",
              "       8.95987093e-01, 9.06809211e-01, 6.58883333e-01, 7.87883818e-01,\n",
              "       9.05363321e-01, 5.04317641e-01, 9.36347723e-01, 6.22740209e-01,\n",
              "       9.93274033e-01, 9.27061617e-01, 9.12306845e-01, 9.56073582e-01,\n",
              "       7.85611987e-01, 7.21619308e-01, 8.97125959e-01, 9.62225199e-01,\n",
              "       7.78823197e-01, 9.74638700e-01, 8.38244319e-01, 8.92573774e-01,\n",
              "       8.94926608e-01, 9.51617539e-01, 9.25403416e-01, 9.27112341e-01,\n",
              "       7.71623433e-01, 7.06224501e-01, 7.65834272e-01, 8.68371248e-01,\n",
              "       8.01867723e-01, 8.90506566e-01, 9.69994545e-01, 5.19855142e-01,\n",
              "       8.86475861e-01, 9.19303358e-01, 9.80522633e-01, 8.02544653e-01,\n",
              "       9.67718959e-01, 4.91983414e-01, 9.70395863e-01, 8.97502720e-01,\n",
              "       9.55505788e-01, 9.12390232e-01, 8.09379041e-01, 5.79067051e-01,\n",
              "       9.16468561e-01, 5.49999416e-01, 9.13907886e-01, 8.10880482e-01,\n",
              "       8.43635499e-01, 8.19057405e-01, 7.11595237e-01, 8.75707150e-01,\n",
              "       9.72107351e-01, 9.15626943e-01, 9.19926286e-01, 7.42807209e-01,\n",
              "       9.74418104e-01, 8.20149958e-01, 9.70046818e-01, 6.89642847e-01,\n",
              "       6.56860828e-01, 7.37710595e-01, 8.70447159e-01, 8.36904764e-01,\n",
              "       9.77569461e-01, 8.37994576e-01, 9.39600527e-01, 8.63878787e-01,\n",
              "       9.09464180e-01, 9.26194310e-01, 7.97864377e-01, 7.44722724e-01,\n",
              "       9.38935816e-01, 9.89865780e-01, 8.81361246e-01, 8.96519005e-01,\n",
              "       7.36564219e-01, 9.35194969e-01, 7.83318758e-01, 7.38519907e-01,\n",
              "       9.48296070e-01, 8.78274858e-01, 9.01228070e-01, 9.04773235e-01,\n",
              "       9.14474607e-01, 9.28500354e-01, 9.53216612e-01, 9.12147820e-01,\n",
              "       7.10022628e-01, 9.62472677e-01, 7.41941690e-01, 9.19189095e-01,\n",
              "       9.38236952e-01, 9.65367019e-01, 2.10725014e-12, 2.11655930e-01,\n",
              "       6.78323984e-01, 9.34207916e-01, 7.89253831e-01, 9.66769814e-01,\n",
              "       2.10829943e-12, 9.66159254e-02, 9.22423244e-01, 5.82860768e-01,\n",
              "       9.47671175e-01, 9.19001222e-01, 9.40887868e-01, 6.55361116e-01,\n",
              "       8.35021794e-01, 8.72160792e-01, 7.54586101e-01, 7.19996214e-01,\n",
              "       9.81872141e-01, 2.10711353e-12, 9.49668169e-01, 8.38494420e-01,\n",
              "       8.42403352e-01, 7.44065285e-01, 9.58132923e-01, 8.45565200e-01,\n",
              "       2.10705325e-12, 8.99790525e-01, 6.32889569e-01, 2.10959071e-12,\n",
              "       4.50830400e-01, 8.78686726e-01, 7.96757638e-01, 8.87373507e-01,\n",
              "       5.20536542e-01, 8.97344530e-01, 2.10745115e-12, 7.43297100e-01,\n",
              "       5.52585661e-01, 2.10779679e-12, 2.32486844e-01, 8.88727248e-01,\n",
              "       2.11448502e-12, 8.99250567e-01, 2.11556228e-12, 4.63443130e-01])"
            ]
          },
          "execution_count": 23,
          "metadata": {},
          "output_type": "execute_result"
        }
      ],
      "source": [
        "model.return_eta_diag()"
      ]
    },
    {
      "cell_type": "code",
      "execution_count": 24,
      "metadata": {},
      "outputs": [
        {
          "data": {
            "text/html": [
              "<div>\n",
              "<style scoped>\n",
              "    .dataframe tbody tr th:only-of-type {\n",
              "        vertical-align: middle;\n",
              "    }\n",
              "\n",
              "    .dataframe tbody tr th {\n",
              "        vertical-align: top;\n",
              "    }\n",
              "\n",
              "    .dataframe thead th {\n",
              "        text-align: right;\n",
              "    }\n",
              "</style>\n",
              "<table border=\"1\" class=\"dataframe\">\n",
              "  <thead>\n",
              "    <tr style=\"text-align: right;\">\n",
              "      <th></th>\n",
              "      <th>B_Breg_UP</th>\n",
              "      <th>B_effector-2_UP</th>\n",
              "      <th>B_effector-1_UP</th>\n",
              "      <th>B_IgM-ligation_response</th>\n",
              "      <th>CD4-T_IL12_response</th>\n",
              "      <th>TNK_IL2_response</th>\n",
              "      <th>CD4-T_TH22_UP</th>\n",
              "      <th>CD4-T_TH17_UP</th>\n",
              "      <th>TNK_IL2-STAT5-signaling</th>\n",
              "      <th>T_IL21_response</th>\n",
              "      <th>...</th>\n",
              "      <th>all_thiamin_metabolism</th>\n",
              "      <th>all_NOTCH_signaling</th>\n",
              "      <th>all_galactose_metabolism</th>\n",
              "      <th>all_MYC_targets</th>\n",
              "      <th>all_GLU_metabolism</th>\n",
              "      <th>all_fatty-acid_synthesis</th>\n",
              "      <th>all_glycolysis</th>\n",
              "      <th>all_glutathione_metabolism</th>\n",
              "      <th>all_IL6-JAK-STAT3_signaling</th>\n",
              "      <th>all_autophagy-chaperone-mediated</th>\n",
              "    </tr>\n",
              "  </thead>\n",
              "  <tbody>\n",
              "    <tr>\n",
              "      <th>0-X-global-X-all_biotin_metabolism</th>\n",
              "      <td>0.0</td>\n",
              "      <td>0.0</td>\n",
              "      <td>0.0</td>\n",
              "      <td>0.00</td>\n",
              "      <td>0.0</td>\n",
              "      <td>0.000000</td>\n",
              "      <td>0.0</td>\n",
              "      <td>0.0</td>\n",
              "      <td>0.00</td>\n",
              "      <td>0.0</td>\n",
              "      <td>...</td>\n",
              "      <td>0.0</td>\n",
              "      <td>0.0</td>\n",
              "      <td>0.000000</td>\n",
              "      <td>0.04</td>\n",
              "      <td>0.0</td>\n",
              "      <td>0.041667</td>\n",
              "      <td>0.000000</td>\n",
              "      <td>0.0</td>\n",
              "      <td>0.00</td>\n",
              "      <td>0.000000</td>\n",
              "    </tr>\n",
              "    <tr>\n",
              "      <th>1-X-global-X-all_purine_metabolism</th>\n",
              "      <td>0.0</td>\n",
              "      <td>0.0</td>\n",
              "      <td>0.0</td>\n",
              "      <td>0.00</td>\n",
              "      <td>0.0</td>\n",
              "      <td>0.000000</td>\n",
              "      <td>0.0</td>\n",
              "      <td>0.0</td>\n",
              "      <td>0.08</td>\n",
              "      <td>0.0</td>\n",
              "      <td>...</td>\n",
              "      <td>0.0</td>\n",
              "      <td>0.0</td>\n",
              "      <td>0.000000</td>\n",
              "      <td>0.04</td>\n",
              "      <td>0.0</td>\n",
              "      <td>0.000000</td>\n",
              "      <td>0.000000</td>\n",
              "      <td>0.0</td>\n",
              "      <td>0.00</td>\n",
              "      <td>0.000000</td>\n",
              "    </tr>\n",
              "    <tr>\n",
              "      <th>2-X-global-X-all_ethanol_metabolism</th>\n",
              "      <td>0.0</td>\n",
              "      <td>0.0</td>\n",
              "      <td>0.0</td>\n",
              "      <td>0.00</td>\n",
              "      <td>0.0</td>\n",
              "      <td>0.055556</td>\n",
              "      <td>0.0</td>\n",
              "      <td>0.0</td>\n",
              "      <td>0.00</td>\n",
              "      <td>0.0</td>\n",
              "      <td>...</td>\n",
              "      <td>0.0</td>\n",
              "      <td>0.0</td>\n",
              "      <td>0.000000</td>\n",
              "      <td>0.00</td>\n",
              "      <td>0.0</td>\n",
              "      <td>0.000000</td>\n",
              "      <td>0.000000</td>\n",
              "      <td>0.0</td>\n",
              "      <td>0.00</td>\n",
              "      <td>0.000000</td>\n",
              "    </tr>\n",
              "    <tr>\n",
              "      <th>3-X-global-X-all_amino-sugar-nucleotide-sugar_metabolism</th>\n",
              "      <td>0.0</td>\n",
              "      <td>0.0</td>\n",
              "      <td>0.0</td>\n",
              "      <td>0.00</td>\n",
              "      <td>0.0</td>\n",
              "      <td>0.000000</td>\n",
              "      <td>0.0</td>\n",
              "      <td>0.0</td>\n",
              "      <td>0.00</td>\n",
              "      <td>0.0</td>\n",
              "      <td>...</td>\n",
              "      <td>0.0</td>\n",
              "      <td>0.0</td>\n",
              "      <td>0.055556</td>\n",
              "      <td>0.00</td>\n",
              "      <td>0.0</td>\n",
              "      <td>0.000000</td>\n",
              "      <td>0.041667</td>\n",
              "      <td>0.0</td>\n",
              "      <td>0.00</td>\n",
              "      <td>0.000000</td>\n",
              "    </tr>\n",
              "    <tr>\n",
              "      <th>4-X-global-X-all_steroid_metabolism</th>\n",
              "      <td>0.0</td>\n",
              "      <td>0.0</td>\n",
              "      <td>0.0</td>\n",
              "      <td>0.00</td>\n",
              "      <td>0.0</td>\n",
              "      <td>0.000000</td>\n",
              "      <td>0.0</td>\n",
              "      <td>0.0</td>\n",
              "      <td>0.00</td>\n",
              "      <td>0.0</td>\n",
              "      <td>...</td>\n",
              "      <td>0.0</td>\n",
              "      <td>0.0</td>\n",
              "      <td>0.000000</td>\n",
              "      <td>0.00</td>\n",
              "      <td>0.0</td>\n",
              "      <td>0.083333</td>\n",
              "      <td>0.000000</td>\n",
              "      <td>0.0</td>\n",
              "      <td>0.00</td>\n",
              "      <td>0.000000</td>\n",
              "    </tr>\n",
              "    <tr>\n",
              "      <th>...</th>\n",
              "      <td>...</td>\n",
              "      <td>...</td>\n",
              "      <td>...</td>\n",
              "      <td>...</td>\n",
              "      <td>...</td>\n",
              "      <td>...</td>\n",
              "      <td>...</td>\n",
              "      <td>...</td>\n",
              "      <td>...</td>\n",
              "      <td>...</td>\n",
              "      <td>...</td>\n",
              "      <td>...</td>\n",
              "      <td>...</td>\n",
              "      <td>...</td>\n",
              "      <td>...</td>\n",
              "      <td>...</td>\n",
              "      <td>...</td>\n",
              "      <td>...</td>\n",
              "      <td>...</td>\n",
              "      <td>...</td>\n",
              "      <td>...</td>\n",
              "    </tr>\n",
              "    <tr>\n",
              "      <th>191-X-mast-X-mast_granule-exocytosis</th>\n",
              "      <td>0.0</td>\n",
              "      <td>0.0</td>\n",
              "      <td>0.0</td>\n",
              "      <td>0.00</td>\n",
              "      <td>0.0</td>\n",
              "      <td>0.000000</td>\n",
              "      <td>0.0</td>\n",
              "      <td>0.0</td>\n",
              "      <td>0.00</td>\n",
              "      <td>0.0</td>\n",
              "      <td>...</td>\n",
              "      <td>0.0</td>\n",
              "      <td>0.0</td>\n",
              "      <td>0.000000</td>\n",
              "      <td>0.00</td>\n",
              "      <td>0.0</td>\n",
              "      <td>0.000000</td>\n",
              "      <td>0.000000</td>\n",
              "      <td>0.0</td>\n",
              "      <td>0.00</td>\n",
              "      <td>0.000000</td>\n",
              "    </tr>\n",
              "    <tr>\n",
              "      <th>192-X-mast-X-192</th>\n",
              "      <td>0.0</td>\n",
              "      <td>0.0</td>\n",
              "      <td>0.0</td>\n",
              "      <td>0.00</td>\n",
              "      <td>0.0</td>\n",
              "      <td>0.000000</td>\n",
              "      <td>0.0</td>\n",
              "      <td>0.0</td>\n",
              "      <td>0.00</td>\n",
              "      <td>0.0</td>\n",
              "      <td>...</td>\n",
              "      <td>0.0</td>\n",
              "      <td>0.0</td>\n",
              "      <td>0.000000</td>\n",
              "      <td>0.00</td>\n",
              "      <td>0.0</td>\n",
              "      <td>0.000000</td>\n",
              "      <td>0.000000</td>\n",
              "      <td>0.0</td>\n",
              "      <td>0.04</td>\n",
              "      <td>0.066667</td>\n",
              "    </tr>\n",
              "    <tr>\n",
              "      <th>193-X-pDC-X-p-DC_CpG-TLR9_response</th>\n",
              "      <td>0.0</td>\n",
              "      <td>0.0</td>\n",
              "      <td>0.0</td>\n",
              "      <td>0.04</td>\n",
              "      <td>0.0</td>\n",
              "      <td>0.000000</td>\n",
              "      <td>0.0</td>\n",
              "      <td>0.0</td>\n",
              "      <td>0.00</td>\n",
              "      <td>0.0</td>\n",
              "      <td>...</td>\n",
              "      <td>0.0</td>\n",
              "      <td>0.0</td>\n",
              "      <td>0.000000</td>\n",
              "      <td>0.00</td>\n",
              "      <td>0.0</td>\n",
              "      <td>0.000000</td>\n",
              "      <td>0.000000</td>\n",
              "      <td>0.0</td>\n",
              "      <td>0.00</td>\n",
              "      <td>0.000000</td>\n",
              "    </tr>\n",
              "    <tr>\n",
              "      <th>194-X-pDC-X-194</th>\n",
              "      <td>0.0</td>\n",
              "      <td>0.0</td>\n",
              "      <td>0.0</td>\n",
              "      <td>0.04</td>\n",
              "      <td>0.0</td>\n",
              "      <td>0.055556</td>\n",
              "      <td>0.0</td>\n",
              "      <td>0.0</td>\n",
              "      <td>0.04</td>\n",
              "      <td>0.0</td>\n",
              "      <td>...</td>\n",
              "      <td>0.0</td>\n",
              "      <td>0.0</td>\n",
              "      <td>0.000000</td>\n",
              "      <td>0.04</td>\n",
              "      <td>0.0</td>\n",
              "      <td>0.000000</td>\n",
              "      <td>0.000000</td>\n",
              "      <td>0.0</td>\n",
              "      <td>0.04</td>\n",
              "      <td>0.000000</td>\n",
              "    </tr>\n",
              "    <tr>\n",
              "      <th>195-X-plasma-X-195</th>\n",
              "      <td>0.0</td>\n",
              "      <td>0.0</td>\n",
              "      <td>0.0</td>\n",
              "      <td>0.00</td>\n",
              "      <td>0.0</td>\n",
              "      <td>0.000000</td>\n",
              "      <td>0.0</td>\n",
              "      <td>0.0</td>\n",
              "      <td>0.00</td>\n",
              "      <td>0.0</td>\n",
              "      <td>...</td>\n",
              "      <td>0.0</td>\n",
              "      <td>0.0</td>\n",
              "      <td>0.055556</td>\n",
              "      <td>0.00</td>\n",
              "      <td>0.0</td>\n",
              "      <td>0.000000</td>\n",
              "      <td>0.000000</td>\n",
              "      <td>0.0</td>\n",
              "      <td>0.00</td>\n",
              "      <td>0.000000</td>\n",
              "    </tr>\n",
              "  </tbody>\n",
              "</table>\n",
              "<p>196 rows × 181 columns</p>\n",
              "</div>"
            ],
            "text/plain": [
              "                                                    B_Breg_UP   \n",
              "0-X-global-X-all_biotin_metabolism                        0.0  \\\n",
              "1-X-global-X-all_purine_metabolism                        0.0   \n",
              "2-X-global-X-all_ethanol_metabolism                       0.0   \n",
              "3-X-global-X-all_amino-sugar-nucleotide-sugar_m...        0.0   \n",
              "4-X-global-X-all_steroid_metabolism                       0.0   \n",
              "...                                                       ...   \n",
              "191-X-mast-X-mast_granule-exocytosis                      0.0   \n",
              "192-X-mast-X-192                                          0.0   \n",
              "193-X-pDC-X-p-DC_CpG-TLR9_response                        0.0   \n",
              "194-X-pDC-X-194                                           0.0   \n",
              "195-X-plasma-X-195                                        0.0   \n",
              "\n",
              "                                                    B_effector-2_UP   \n",
              "0-X-global-X-all_biotin_metabolism                              0.0  \\\n",
              "1-X-global-X-all_purine_metabolism                              0.0   \n",
              "2-X-global-X-all_ethanol_metabolism                             0.0   \n",
              "3-X-global-X-all_amino-sugar-nucleotide-sugar_m...              0.0   \n",
              "4-X-global-X-all_steroid_metabolism                             0.0   \n",
              "...                                                             ...   \n",
              "191-X-mast-X-mast_granule-exocytosis                            0.0   \n",
              "192-X-mast-X-192                                                0.0   \n",
              "193-X-pDC-X-p-DC_CpG-TLR9_response                              0.0   \n",
              "194-X-pDC-X-194                                                 0.0   \n",
              "195-X-plasma-X-195                                              0.0   \n",
              "\n",
              "                                                    B_effector-1_UP   \n",
              "0-X-global-X-all_biotin_metabolism                              0.0  \\\n",
              "1-X-global-X-all_purine_metabolism                              0.0   \n",
              "2-X-global-X-all_ethanol_metabolism                             0.0   \n",
              "3-X-global-X-all_amino-sugar-nucleotide-sugar_m...              0.0   \n",
              "4-X-global-X-all_steroid_metabolism                             0.0   \n",
              "...                                                             ...   \n",
              "191-X-mast-X-mast_granule-exocytosis                            0.0   \n",
              "192-X-mast-X-192                                                0.0   \n",
              "193-X-pDC-X-p-DC_CpG-TLR9_response                              0.0   \n",
              "194-X-pDC-X-194                                                 0.0   \n",
              "195-X-plasma-X-195                                              0.0   \n",
              "\n",
              "                                                    B_IgM-ligation_response   \n",
              "0-X-global-X-all_biotin_metabolism                                     0.00  \\\n",
              "1-X-global-X-all_purine_metabolism                                     0.00   \n",
              "2-X-global-X-all_ethanol_metabolism                                    0.00   \n",
              "3-X-global-X-all_amino-sugar-nucleotide-sugar_m...                     0.00   \n",
              "4-X-global-X-all_steroid_metabolism                                    0.00   \n",
              "...                                                                     ...   \n",
              "191-X-mast-X-mast_granule-exocytosis                                   0.00   \n",
              "192-X-mast-X-192                                                       0.00   \n",
              "193-X-pDC-X-p-DC_CpG-TLR9_response                                     0.04   \n",
              "194-X-pDC-X-194                                                        0.04   \n",
              "195-X-plasma-X-195                                                     0.00   \n",
              "\n",
              "                                                    CD4-T_IL12_response   \n",
              "0-X-global-X-all_biotin_metabolism                                  0.0  \\\n",
              "1-X-global-X-all_purine_metabolism                                  0.0   \n",
              "2-X-global-X-all_ethanol_metabolism                                 0.0   \n",
              "3-X-global-X-all_amino-sugar-nucleotide-sugar_m...                  0.0   \n",
              "4-X-global-X-all_steroid_metabolism                                 0.0   \n",
              "...                                                                 ...   \n",
              "191-X-mast-X-mast_granule-exocytosis                                0.0   \n",
              "192-X-mast-X-192                                                    0.0   \n",
              "193-X-pDC-X-p-DC_CpG-TLR9_response                                  0.0   \n",
              "194-X-pDC-X-194                                                     0.0   \n",
              "195-X-plasma-X-195                                                  0.0   \n",
              "\n",
              "                                                    TNK_IL2_response   \n",
              "0-X-global-X-all_biotin_metabolism                          0.000000  \\\n",
              "1-X-global-X-all_purine_metabolism                          0.000000   \n",
              "2-X-global-X-all_ethanol_metabolism                         0.055556   \n",
              "3-X-global-X-all_amino-sugar-nucleotide-sugar_m...          0.000000   \n",
              "4-X-global-X-all_steroid_metabolism                         0.000000   \n",
              "...                                                              ...   \n",
              "191-X-mast-X-mast_granule-exocytosis                        0.000000   \n",
              "192-X-mast-X-192                                            0.000000   \n",
              "193-X-pDC-X-p-DC_CpG-TLR9_response                          0.000000   \n",
              "194-X-pDC-X-194                                             0.055556   \n",
              "195-X-plasma-X-195                                          0.000000   \n",
              "\n",
              "                                                    CD4-T_TH22_UP   \n",
              "0-X-global-X-all_biotin_metabolism                            0.0  \\\n",
              "1-X-global-X-all_purine_metabolism                            0.0   \n",
              "2-X-global-X-all_ethanol_metabolism                           0.0   \n",
              "3-X-global-X-all_amino-sugar-nucleotide-sugar_m...            0.0   \n",
              "4-X-global-X-all_steroid_metabolism                           0.0   \n",
              "...                                                           ...   \n",
              "191-X-mast-X-mast_granule-exocytosis                          0.0   \n",
              "192-X-mast-X-192                                              0.0   \n",
              "193-X-pDC-X-p-DC_CpG-TLR9_response                            0.0   \n",
              "194-X-pDC-X-194                                               0.0   \n",
              "195-X-plasma-X-195                                            0.0   \n",
              "\n",
              "                                                    CD4-T_TH17_UP   \n",
              "0-X-global-X-all_biotin_metabolism                            0.0  \\\n",
              "1-X-global-X-all_purine_metabolism                            0.0   \n",
              "2-X-global-X-all_ethanol_metabolism                           0.0   \n",
              "3-X-global-X-all_amino-sugar-nucleotide-sugar_m...            0.0   \n",
              "4-X-global-X-all_steroid_metabolism                           0.0   \n",
              "...                                                           ...   \n",
              "191-X-mast-X-mast_granule-exocytosis                          0.0   \n",
              "192-X-mast-X-192                                              0.0   \n",
              "193-X-pDC-X-p-DC_CpG-TLR9_response                            0.0   \n",
              "194-X-pDC-X-194                                               0.0   \n",
              "195-X-plasma-X-195                                            0.0   \n",
              "\n",
              "                                                    TNK_IL2-STAT5-signaling   \n",
              "0-X-global-X-all_biotin_metabolism                                     0.00  \\\n",
              "1-X-global-X-all_purine_metabolism                                     0.08   \n",
              "2-X-global-X-all_ethanol_metabolism                                    0.00   \n",
              "3-X-global-X-all_amino-sugar-nucleotide-sugar_m...                     0.00   \n",
              "4-X-global-X-all_steroid_metabolism                                    0.00   \n",
              "...                                                                     ...   \n",
              "191-X-mast-X-mast_granule-exocytosis                                   0.00   \n",
              "192-X-mast-X-192                                                       0.00   \n",
              "193-X-pDC-X-p-DC_CpG-TLR9_response                                     0.00   \n",
              "194-X-pDC-X-194                                                        0.04   \n",
              "195-X-plasma-X-195                                                     0.00   \n",
              "\n",
              "                                                    T_IL21_response  ...   \n",
              "0-X-global-X-all_biotin_metabolism                              0.0  ...  \\\n",
              "1-X-global-X-all_purine_metabolism                              0.0  ...   \n",
              "2-X-global-X-all_ethanol_metabolism                             0.0  ...   \n",
              "3-X-global-X-all_amino-sugar-nucleotide-sugar_m...              0.0  ...   \n",
              "4-X-global-X-all_steroid_metabolism                             0.0  ...   \n",
              "...                                                             ...  ...   \n",
              "191-X-mast-X-mast_granule-exocytosis                            0.0  ...   \n",
              "192-X-mast-X-192                                                0.0  ...   \n",
              "193-X-pDC-X-p-DC_CpG-TLR9_response                              0.0  ...   \n",
              "194-X-pDC-X-194                                                 0.0  ...   \n",
              "195-X-plasma-X-195                                              0.0  ...   \n",
              "\n",
              "                                                    all_thiamin_metabolism   \n",
              "0-X-global-X-all_biotin_metabolism                                     0.0  \\\n",
              "1-X-global-X-all_purine_metabolism                                     0.0   \n",
              "2-X-global-X-all_ethanol_metabolism                                    0.0   \n",
              "3-X-global-X-all_amino-sugar-nucleotide-sugar_m...                     0.0   \n",
              "4-X-global-X-all_steroid_metabolism                                    0.0   \n",
              "...                                                                    ...   \n",
              "191-X-mast-X-mast_granule-exocytosis                                   0.0   \n",
              "192-X-mast-X-192                                                       0.0   \n",
              "193-X-pDC-X-p-DC_CpG-TLR9_response                                     0.0   \n",
              "194-X-pDC-X-194                                                        0.0   \n",
              "195-X-plasma-X-195                                                     0.0   \n",
              "\n",
              "                                                    all_NOTCH_signaling   \n",
              "0-X-global-X-all_biotin_metabolism                                  0.0  \\\n",
              "1-X-global-X-all_purine_metabolism                                  0.0   \n",
              "2-X-global-X-all_ethanol_metabolism                                 0.0   \n",
              "3-X-global-X-all_amino-sugar-nucleotide-sugar_m...                  0.0   \n",
              "4-X-global-X-all_steroid_metabolism                                 0.0   \n",
              "...                                                                 ...   \n",
              "191-X-mast-X-mast_granule-exocytosis                                0.0   \n",
              "192-X-mast-X-192                                                    0.0   \n",
              "193-X-pDC-X-p-DC_CpG-TLR9_response                                  0.0   \n",
              "194-X-pDC-X-194                                                     0.0   \n",
              "195-X-plasma-X-195                                                  0.0   \n",
              "\n",
              "                                                    all_galactose_metabolism   \n",
              "0-X-global-X-all_biotin_metabolism                                  0.000000  \\\n",
              "1-X-global-X-all_purine_metabolism                                  0.000000   \n",
              "2-X-global-X-all_ethanol_metabolism                                 0.000000   \n",
              "3-X-global-X-all_amino-sugar-nucleotide-sugar_m...                  0.055556   \n",
              "4-X-global-X-all_steroid_metabolism                                 0.000000   \n",
              "...                                                                      ...   \n",
              "191-X-mast-X-mast_granule-exocytosis                                0.000000   \n",
              "192-X-mast-X-192                                                    0.000000   \n",
              "193-X-pDC-X-p-DC_CpG-TLR9_response                                  0.000000   \n",
              "194-X-pDC-X-194                                                     0.000000   \n",
              "195-X-plasma-X-195                                                  0.055556   \n",
              "\n",
              "                                                    all_MYC_targets   \n",
              "0-X-global-X-all_biotin_metabolism                             0.04  \\\n",
              "1-X-global-X-all_purine_metabolism                             0.04   \n",
              "2-X-global-X-all_ethanol_metabolism                            0.00   \n",
              "3-X-global-X-all_amino-sugar-nucleotide-sugar_m...             0.00   \n",
              "4-X-global-X-all_steroid_metabolism                            0.00   \n",
              "...                                                             ...   \n",
              "191-X-mast-X-mast_granule-exocytosis                           0.00   \n",
              "192-X-mast-X-192                                               0.00   \n",
              "193-X-pDC-X-p-DC_CpG-TLR9_response                             0.00   \n",
              "194-X-pDC-X-194                                                0.04   \n",
              "195-X-plasma-X-195                                             0.00   \n",
              "\n",
              "                                                    all_GLU_metabolism   \n",
              "0-X-global-X-all_biotin_metabolism                                 0.0  \\\n",
              "1-X-global-X-all_purine_metabolism                                 0.0   \n",
              "2-X-global-X-all_ethanol_metabolism                                0.0   \n",
              "3-X-global-X-all_amino-sugar-nucleotide-sugar_m...                 0.0   \n",
              "4-X-global-X-all_steroid_metabolism                                0.0   \n",
              "...                                                                ...   \n",
              "191-X-mast-X-mast_granule-exocytosis                               0.0   \n",
              "192-X-mast-X-192                                                   0.0   \n",
              "193-X-pDC-X-p-DC_CpG-TLR9_response                                 0.0   \n",
              "194-X-pDC-X-194                                                    0.0   \n",
              "195-X-plasma-X-195                                                 0.0   \n",
              "\n",
              "                                                    all_fatty-acid_synthesis   \n",
              "0-X-global-X-all_biotin_metabolism                                  0.041667  \\\n",
              "1-X-global-X-all_purine_metabolism                                  0.000000   \n",
              "2-X-global-X-all_ethanol_metabolism                                 0.000000   \n",
              "3-X-global-X-all_amino-sugar-nucleotide-sugar_m...                  0.000000   \n",
              "4-X-global-X-all_steroid_metabolism                                 0.083333   \n",
              "...                                                                      ...   \n",
              "191-X-mast-X-mast_granule-exocytosis                                0.000000   \n",
              "192-X-mast-X-192                                                    0.000000   \n",
              "193-X-pDC-X-p-DC_CpG-TLR9_response                                  0.000000   \n",
              "194-X-pDC-X-194                                                     0.000000   \n",
              "195-X-plasma-X-195                                                  0.000000   \n",
              "\n",
              "                                                    all_glycolysis   \n",
              "0-X-global-X-all_biotin_metabolism                        0.000000  \\\n",
              "1-X-global-X-all_purine_metabolism                        0.000000   \n",
              "2-X-global-X-all_ethanol_metabolism                       0.000000   \n",
              "3-X-global-X-all_amino-sugar-nucleotide-sugar_m...        0.041667   \n",
              "4-X-global-X-all_steroid_metabolism                       0.000000   \n",
              "...                                                            ...   \n",
              "191-X-mast-X-mast_granule-exocytosis                      0.000000   \n",
              "192-X-mast-X-192                                          0.000000   \n",
              "193-X-pDC-X-p-DC_CpG-TLR9_response                        0.000000   \n",
              "194-X-pDC-X-194                                           0.000000   \n",
              "195-X-plasma-X-195                                        0.000000   \n",
              "\n",
              "                                                    all_glutathione_metabolism   \n",
              "0-X-global-X-all_biotin_metabolism                                         0.0  \\\n",
              "1-X-global-X-all_purine_metabolism                                         0.0   \n",
              "2-X-global-X-all_ethanol_metabolism                                        0.0   \n",
              "3-X-global-X-all_amino-sugar-nucleotide-sugar_m...                         0.0   \n",
              "4-X-global-X-all_steroid_metabolism                                        0.0   \n",
              "...                                                                        ...   \n",
              "191-X-mast-X-mast_granule-exocytosis                                       0.0   \n",
              "192-X-mast-X-192                                                           0.0   \n",
              "193-X-pDC-X-p-DC_CpG-TLR9_response                                         0.0   \n",
              "194-X-pDC-X-194                                                            0.0   \n",
              "195-X-plasma-X-195                                                         0.0   \n",
              "\n",
              "                                                    all_IL6-JAK-STAT3_signaling   \n",
              "0-X-global-X-all_biotin_metabolism                                         0.00  \\\n",
              "1-X-global-X-all_purine_metabolism                                         0.00   \n",
              "2-X-global-X-all_ethanol_metabolism                                        0.00   \n",
              "3-X-global-X-all_amino-sugar-nucleotide-sugar_m...                         0.00   \n",
              "4-X-global-X-all_steroid_metabolism                                        0.00   \n",
              "...                                                                         ...   \n",
              "191-X-mast-X-mast_granule-exocytosis                                       0.00   \n",
              "192-X-mast-X-192                                                           0.04   \n",
              "193-X-pDC-X-p-DC_CpG-TLR9_response                                         0.00   \n",
              "194-X-pDC-X-194                                                            0.04   \n",
              "195-X-plasma-X-195                                                         0.00   \n",
              "\n",
              "                                                    all_autophagy-chaperone-mediated  \n",
              "0-X-global-X-all_biotin_metabolism                                          0.000000  \n",
              "1-X-global-X-all_purine_metabolism                                          0.000000  \n",
              "2-X-global-X-all_ethanol_metabolism                                         0.000000  \n",
              "3-X-global-X-all_amino-sugar-nucleotide-sugar_m...                          0.000000  \n",
              "4-X-global-X-all_steroid_metabolism                                         0.000000  \n",
              "...                                                                              ...  \n",
              "191-X-mast-X-mast_granule-exocytosis                                        0.000000  \n",
              "192-X-mast-X-192                                                            0.066667  \n",
              "193-X-pDC-X-p-DC_CpG-TLR9_response                                          0.000000  \n",
              "194-X-pDC-X-194                                                             0.000000  \n",
              "195-X-plasma-X-195                                                          0.000000  \n",
              "\n",
              "[196 rows x 181 columns]"
            ]
          },
          "execution_count": 24,
          "metadata": {},
          "output_type": "execute_result"
        }
      ],
      "source": [
        "adata.uns['SPECTRA_overlap']"
      ]
    },
    {
      "attachments": {},
      "cell_type": "markdown",
      "metadata": {},
      "source": [
        "Examine the parameters of the underlying internal model:"
      ]
    },
    {
      "cell_type": "code",
      "execution_count": 25,
      "metadata": {},
      "outputs": [
        {
          "data": {
            "text/plain": [
              "SPECTRA(\n",
              "  (theta): ParameterDict(\n",
              "      (global): Parameter containing: [torch.FloatTensor of size 6392x151]\n",
              "      (B_GC): Parameter containing: [torch.FloatTensor of size 6392x1]\n",
              "      (B_memory): Parameter containing: [torch.FloatTensor of size 6392x5]\n",
              "      (B_naive): Parameter containing: [torch.FloatTensor of size 6392x1]\n",
              "      (CD4_T): Parameter containing: [torch.FloatTensor of size 6392x12]\n",
              "      (CD8_T): Parameter containing: [torch.FloatTensor of size 6392x7]\n",
              "      (DC): Parameter containing: [torch.FloatTensor of size 6392x3]\n",
              "      (ILC3): Parameter containing: [torch.FloatTensor of size 6392x1]\n",
              "      (MDC): Parameter containing: [torch.FloatTensor of size 6392x6]\n",
              "      (NK): Parameter containing: [torch.FloatTensor of size 6392x1]\n",
              "      (Treg): Parameter containing: [torch.FloatTensor of size 6392x2]\n",
              "      (gdT): Parameter containing: [torch.FloatTensor of size 6392x1]\n",
              "      (mast): Parameter containing: [torch.FloatTensor of size 6392x2]\n",
              "      (pDC): Parameter containing: [torch.FloatTensor of size 6392x2]\n",
              "      (plasma): Parameter containing: [torch.FloatTensor of size 6392x1]\n",
              "  )\n",
              "  (alpha): ParameterDict(\n",
              "      (B_GC): Parameter containing: [torch.FloatTensor of size 57x152]\n",
              "      (B_memory): Parameter containing: [torch.FloatTensor of size 522x156]\n",
              "      (B_naive): Parameter containing: [torch.FloatTensor of size 258x152]\n",
              "      (CD4_T): Parameter containing: [torch.FloatTensor of size 2643x163]\n",
              "      (CD8_T): Parameter containing: [torch.FloatTensor of size 3261x158]\n",
              "      (DC): Parameter containing: [torch.FloatTensor of size 275x154]\n",
              "      (ILC3): Parameter containing: [torch.FloatTensor of size 24x152]\n",
              "      (MDC): Parameter containing: [torch.FloatTensor of size 1214x157]\n",
              "      (NK): Parameter containing: [torch.FloatTensor of size 276x152]\n",
              "      (Treg): Parameter containing: [torch.FloatTensor of size 760x153]\n",
              "      (gdT): Parameter containing: [torch.FloatTensor of size 158x152]\n",
              "      (mast): Parameter containing: [torch.FloatTensor of size 98x153]\n",
              "      (pDC): Parameter containing: [torch.FloatTensor of size 86x153]\n",
              "      (plasma): Parameter containing: [torch.FloatTensor of size 368x152]\n",
              "  )\n",
              "  (eta): ParameterDict(\n",
              "      (global): Parameter containing: [torch.FloatTensor of size 151x151]\n",
              "      (B_GC): Parameter containing: [torch.FloatTensor of size 1x1]\n",
              "      (B_memory): Parameter containing: [torch.FloatTensor of size 5x5]\n",
              "      (B_naive): Parameter containing: [torch.FloatTensor of size 1x1]\n",
              "      (CD4_T): Parameter containing: [torch.FloatTensor of size 12x12]\n",
              "      (CD8_T): Parameter containing: [torch.FloatTensor of size 7x7]\n",
              "      (DC): Parameter containing: [torch.FloatTensor of size 3x3]\n",
              "      (ILC3): Parameter containing: [torch.FloatTensor of size 1x1]\n",
              "      (MDC): Parameter containing: [torch.FloatTensor of size 6x6]\n",
              "      (NK): Parameter containing: [torch.FloatTensor of size 1x1]\n",
              "      (Treg): Parameter containing: [torch.FloatTensor of size 2x2]\n",
              "      (gdT): Parameter containing: [torch.FloatTensor of size 1x1]\n",
              "      (mast): Parameter containing: [torch.FloatTensor of size 2x2]\n",
              "      (pDC): Parameter containing: [torch.FloatTensor of size 2x2]\n",
              "      (plasma): Parameter containing: [torch.FloatTensor of size 1x1]\n",
              "  )\n",
              "  (gene_scaling): ParameterDict(\n",
              "      (global): Parameter containing: [torch.FloatTensor of size 6392]\n",
              "      (B_GC): Parameter containing: [torch.FloatTensor of size 6392]\n",
              "      (B_memory): Parameter containing: [torch.FloatTensor of size 6392]\n",
              "      (B_naive): Parameter containing: [torch.FloatTensor of size 6392]\n",
              "      (CD4_T): Parameter containing: [torch.FloatTensor of size 6392]\n",
              "      (CD8_T): Parameter containing: [torch.FloatTensor of size 6392]\n",
              "      (DC): Parameter containing: [torch.FloatTensor of size 6392]\n",
              "      (ILC3): Parameter containing: [torch.FloatTensor of size 6392]\n",
              "      (MDC): Parameter containing: [torch.FloatTensor of size 6392]\n",
              "      (NK): Parameter containing: [torch.FloatTensor of size 6392]\n",
              "      (Treg): Parameter containing: [torch.FloatTensor of size 6392]\n",
              "      (gdT): Parameter containing: [torch.FloatTensor of size 6392]\n",
              "      (mast): Parameter containing: [torch.FloatTensor of size 6392]\n",
              "      (pDC): Parameter containing: [torch.FloatTensor of size 6392]\n",
              "      (plasma): Parameter containing: [torch.FloatTensor of size 6392]\n",
              "  )\n",
              ")"
            ]
          },
          "execution_count": 25,
          "metadata": {},
          "output_type": "execute_result"
        }
      ],
      "source": [
        "model.internal_model"
      ]
    },
    {
      "cell_type": "code",
      "execution_count": 26,
      "metadata": {},
      "outputs": [],
      "source": [
        "#You can save the model like this (this way consumes a lot of storage but does not require the model parameters to load)\n",
        "import pickle\n",
        "with open('spectra_model.pickle', 'wb') as f:\n",
        "    pickle.dump(model, f, pickle.HIGHEST_PROTOCOL)"
      ]
    },
    {
      "cell_type": "code",
      "execution_count": 27,
      "metadata": {},
      "outputs": [],
      "source": [
        "#and load it like this:\n",
        "with open('spectra_model.pickle', 'rb') as f:\n",
        "    model = pickle.load(f)"
      ]
    },
    {
      "cell_type": "code",
      "execution_count": 28,
      "metadata": {},
      "outputs": [],
      "source": [
        "#this way needs less storage but requires all the model parameters to load the model again\n",
        "model.save('spectra_model_compact')"
      ]
    },
    {
      "cell_type": "code",
      "execution_count": 98,
      "metadata": {},
      "outputs": [
        {
          "ename": "RuntimeError",
          "evalue": "Error(s) in loading state_dict for SPECTRA:\n\tMissing key(s) in state_dict: \"kappa.global\", \"kappa.B_GC\", \"kappa.B_memory\", \"kappa.B_naive\", \"kappa.CD4_T\", \"kappa.CD8_T\", \"kappa.DC\", \"kappa.ILC3\", \"kappa.MDC\", \"kappa.NK\", \"kappa.Treg\", \"kappa.gdT\", \"kappa.mast\", \"kappa.pDC\", \"kappa.plasma\", \"rho.global\", \"rho.B_GC\", \"rho.B_memory\", \"rho.B_naive\", \"rho.CD4_T\", \"rho.CD8_T\", \"rho.DC\", \"rho.ILC3\", \"rho.MDC\", \"rho.NK\", \"rho.Treg\", \"rho.gdT\", \"rho.mast\", \"rho.pDC\", \"rho.plasma\". ",
          "output_type": "error",
          "traceback": [
            "\u001b[0;31m---------------------------------------------------------------------------\u001b[0m",
            "\u001b[0;31mRuntimeError\u001b[0m                              Traceback (most recent call last)",
            "Cell \u001b[0;32mIn[98], line 2\u001b[0m\n\u001b[1;32m      1\u001b[0m \u001b[39m#load the model (you will need all the parameters indicated here)\u001b[39;00m\n\u001b[0;32m----> 2\u001b[0m model \u001b[39m=\u001b[39m spc\u001b[39m.\u001b[39;49mload_from_pickle(\u001b[39m'\u001b[39;49m\u001b[39mspectra_model_compact\u001b[39;49m\u001b[39m'\u001b[39;49m,adata,gs_dict\u001b[39m=\u001b[39;49mannotations,cell_type_key\u001b[39m=\u001b[39;49m\u001b[39m'\u001b[39;49m\u001b[39mcell_type_annotations\u001b[39;49m\u001b[39m'\u001b[39;49m,\n\u001b[1;32m      3\u001b[0m                      )\n",
            "File \u001b[0;32m~/miniconda3/envs/2023_spectra_test_branch/lib/python3.10/site-packages/spectra/spectra.py:1334\u001b[0m, in \u001b[0;36mload_from_pickle\u001b[0;34m(fp, adata, gs_dict, cell_type_key)\u001b[0m\n\u001b[1;32m   1331\u001b[0m \u001b[39mdef\u001b[39;00m \u001b[39mload_from_pickle\u001b[39m(fp, adata, gs_dict, cell_type_key):\n\u001b[1;32m   1332\u001b[0m     model \u001b[39m=\u001b[39m SPECTRA_Model(X \u001b[39m=\u001b[39m adata[:,adata\u001b[39m.\u001b[39mvar[\u001b[39m\"\u001b[39m\u001b[39mspectra_vocab\u001b[39m\u001b[39m\"\u001b[39m]]\u001b[39m.\u001b[39mX, labels \u001b[39m=\u001b[39m np\u001b[39m.\u001b[39marray(adata\u001b[39m.\u001b[39mobs[cell_type_key]),  L \u001b[39m=\u001b[39m adata\u001b[39m.\u001b[39muns[\u001b[39m\"\u001b[39m\u001b[39mSPECTRA_L\u001b[39m\u001b[39m\"\u001b[39m], \n\u001b[1;32m   1333\u001b[0m                           vocab \u001b[39m=\u001b[39m adata\u001b[39m.\u001b[39mvar_names[adata\u001b[39m.\u001b[39mvar[\u001b[39m\"\u001b[39m\u001b[39mspectra_vocab\u001b[39m\u001b[39m\"\u001b[39m]], gs_dict \u001b[39m=\u001b[39m gs_dict)\n\u001b[0;32m-> 1334\u001b[0m     model\u001b[39m.\u001b[39;49mload(fp, labels \u001b[39m=\u001b[39;49m np\u001b[39m.\u001b[39;49marray(adata\u001b[39m.\u001b[39;49mobs[cell_type_key]))\n\u001b[1;32m   1335\u001b[0m     \u001b[39mreturn\u001b[39;00m(model)\n",
            "File \u001b[0;32m~/miniconda3/envs/2023_spectra_test_branch/lib/python3.10/site-packages/spectra/spectra.py:589\u001b[0m, in \u001b[0;36mSPECTRA_Model.load\u001b[0;34m(self, fp, labels)\u001b[0m\n\u001b[1;32m    588\u001b[0m \u001b[39mdef\u001b[39;00m \u001b[39mload\u001b[39m(\u001b[39mself\u001b[39m,fp,labels \u001b[39m=\u001b[39m \u001b[39mNone\u001b[39;00m):\n\u001b[0;32m--> 589\u001b[0m     \u001b[39mself\u001b[39;49m\u001b[39m.\u001b[39;49minternal_model\u001b[39m.\u001b[39;49mload_state_dict(torch\u001b[39m.\u001b[39;49mload(fp))\n\u001b[1;32m    590\u001b[0m     \u001b[39mif\u001b[39;00m \u001b[39mself\u001b[39m\u001b[39m.\u001b[39muse_cell_types:\n\u001b[1;32m    591\u001b[0m         \u001b[39massert\u001b[39;00m(labels \u001b[39mis\u001b[39;00m \u001b[39mnot\u001b[39;00m \u001b[39mNone\u001b[39;00m)\n",
            "File \u001b[0;32m~/miniconda3/envs/2023_spectra_test_branch/lib/python3.10/site-packages/torch/nn/modules/module.py:2041\u001b[0m, in \u001b[0;36mModule.load_state_dict\u001b[0;34m(self, state_dict, strict)\u001b[0m\n\u001b[1;32m   2036\u001b[0m         error_msgs\u001b[39m.\u001b[39minsert(\n\u001b[1;32m   2037\u001b[0m             \u001b[39m0\u001b[39m, \u001b[39m'\u001b[39m\u001b[39mMissing key(s) in state_dict: \u001b[39m\u001b[39m{}\u001b[39;00m\u001b[39m. \u001b[39m\u001b[39m'\u001b[39m\u001b[39m.\u001b[39mformat(\n\u001b[1;32m   2038\u001b[0m                 \u001b[39m'\u001b[39m\u001b[39m, \u001b[39m\u001b[39m'\u001b[39m\u001b[39m.\u001b[39mjoin(\u001b[39m'\u001b[39m\u001b[39m\"\u001b[39m\u001b[39m{}\u001b[39;00m\u001b[39m\"\u001b[39m\u001b[39m'\u001b[39m\u001b[39m.\u001b[39mformat(k) \u001b[39mfor\u001b[39;00m k \u001b[39min\u001b[39;00m missing_keys)))\n\u001b[1;32m   2040\u001b[0m \u001b[39mif\u001b[39;00m \u001b[39mlen\u001b[39m(error_msgs) \u001b[39m>\u001b[39m \u001b[39m0\u001b[39m:\n\u001b[0;32m-> 2041\u001b[0m     \u001b[39mraise\u001b[39;00m \u001b[39mRuntimeError\u001b[39;00m(\u001b[39m'\u001b[39m\u001b[39mError(s) in loading state_dict for \u001b[39m\u001b[39m{}\u001b[39;00m\u001b[39m:\u001b[39m\u001b[39m\\n\u001b[39;00m\u001b[39m\\t\u001b[39;00m\u001b[39m{}\u001b[39;00m\u001b[39m'\u001b[39m\u001b[39m.\u001b[39mformat(\n\u001b[1;32m   2042\u001b[0m                        \u001b[39mself\u001b[39m\u001b[39m.\u001b[39m\u001b[39m__class__\u001b[39m\u001b[39m.\u001b[39m\u001b[39m__name__\u001b[39m, \u001b[39m\"\u001b[39m\u001b[39m\\n\u001b[39;00m\u001b[39m\\t\u001b[39;00m\u001b[39m\"\u001b[39m\u001b[39m.\u001b[39mjoin(error_msgs)))\n\u001b[1;32m   2043\u001b[0m \u001b[39mreturn\u001b[39;00m _IncompatibleKeys(missing_keys, unexpected_keys)\n",
            "\u001b[0;31mRuntimeError\u001b[0m: Error(s) in loading state_dict for SPECTRA:\n\tMissing key(s) in state_dict: \"kappa.global\", \"kappa.B_GC\", \"kappa.B_memory\", \"kappa.B_naive\", \"kappa.CD4_T\", \"kappa.CD8_T\", \"kappa.DC\", \"kappa.ILC3\", \"kappa.MDC\", \"kappa.NK\", \"kappa.Treg\", \"kappa.gdT\", \"kappa.mast\", \"kappa.pDC\", \"kappa.plasma\", \"rho.global\", \"rho.B_GC\", \"rho.B_memory\", \"rho.B_naive\", \"rho.CD4_T\", \"rho.CD8_T\", \"rho.DC\", \"rho.ILC3\", \"rho.MDC\", \"rho.NK\", \"rho.Treg\", \"rho.gdT\", \"rho.mast\", \"rho.pDC\", \"rho.plasma\". "
          ]
        }
      ],
      "source": [
        "#load the model (you will need all the parameters indicated here)\n",
        "model = spc.load_from_pickle('spectra_model_compact',adata,gs_dict=annotations,cell_type_key='cell_type_annotations',\n",
        "                     )"
      ]
    },
    {
      "cell_type": "markdown",
      "metadata": {},
      "source": [
        "**fit model without cell type annotations**\n",
        "\n",
        "You can also fit the model without using the cell type annotations. In this case, instead of a nested gene set annotation dictionary, supply a regular dictionary with gene set names as keys (str) and the gene sets as values (list of gene names/IDs which match the gene names/IDs in the adata.var_names)"
      ]
    },
    {
      "cell_type": "code",
      "execution_count": 37,
      "metadata": {},
      "outputs": [
        {
          "name": "stderr",
          "output_type": "stream",
          "text": [
            "100%|██████████| 2/2 [00:08<00:00,  4.08s/it]\n"
          ]
        }
      ],
      "source": [
        "#fit the model (We will run this with only 2 epochs to decrease runtime in this tutorial)\n",
        "model_global = spc.est_spectra(adata = adata, gene_set_dictionary = annotations['global'], # because we do not use the cell types\n",
        "                                                                                    # we will supply a regular dict\n",
        "                                                                                    # instead of the nested dict above\n",
        "                        use_highly_variable = True, cell_type_key =None,# \"cell_type_annotations\" \n",
        "                        use_weights = True, lam = 0.1, \n",
        "                        delta=0.001,kappa = 0.00001, rho = 0.00001, \n",
        "                        use_cell_types = False, #set to False to not use the cell type annotations\n",
        "                        n_top_vals = 25, \n",
        "                        num_epochs=2 #for demonstration purposes we will only run 2 epochs, we recommend 10,000 epochs\n",
        "                       )\n",
        "\n"
      ]
    },
    {
      "cell_type": "code",
      "execution_count": 38,
      "metadata": {},
      "outputs": [
        {
          "data": {
            "text/plain": [
              "Index(['0-X-global-X-all_biotin_metabolism',\n",
              "       '1-X-global-X-all_purine_metabolism',\n",
              "       '2-X-global-X-all_ethanol_metabolism',\n",
              "       '3-X-global-X-all_amino-sugar-nucleotide-sugar_metabolism',\n",
              "       '4-X-global-X-all_steroid_metabolism',\n",
              "       '5-X-global-X-all_carnitine-shuttle', '6-X-global-X-all_TLR_signaling',\n",
              "       '7-X-global-X-all_phosphoinositide_signaling',\n",
              "       '8-X-global-X-all_microautophagy-lysosomal',\n",
              "       '9-X-global-X-all_TCA-cycle',\n",
              "       ...\n",
              "       '141-X-global-X-all_NOTCH_signaling',\n",
              "       '142-X-global-X-all_galactose_metabolism',\n",
              "       '143-X-global-X-all_MYC_targets', '144-X-global-X-all_GLU_metabolism',\n",
              "       '145-X-global-X-all_fatty-acid_synthesis',\n",
              "       '146-X-global-X-all_glycolysis',\n",
              "       '147-X-global-X-all_glutathione_metabolism',\n",
              "       '148-X-global-X-all_IL6-JAK-STAT3_signaling',\n",
              "       '149-X-global-X-all_autophagy-chaperone-mediated',\n",
              "       '150-X-global-X-150'],\n",
              "      dtype='object', length=151)"
            ]
          },
          "execution_count": 38,
          "metadata": {},
          "output_type": "execute_result"
        }
      ],
      "source": [
        "#show the labeled factors in the data:\n",
        "adata.uns['SPECTRA_overlap'].index"
      ]
    },
    {
      "cell_type": "code",
      "execution_count": 39,
      "metadata": {
        "colab": {
          "base_uri": "https://localhost:8080/",
          "height": 448
        },
        "id": "4vXRdI4SzOq9",
        "outputId": "4b1dc986-1453-4b19-bcc3-d4e18535be8f"
      },
      "outputs": [
        {
          "name": "stdout",
          "output_type": "stream",
          "text": [
            "plotting factor: 80-X-global-X-all_mTORC1_signaling\n"
          ]
        },
        {
          "data": {
            "image/png": "[encoded data removed]",
            "text/plain": [
              "<Figure size 640x480 with 2 Axes>"
            ]
          },
          "metadata": {},
          "output_type": "display_data"
        }
      ],
      "source": [
        "#visualize factor cell scores (this is poorly fitted bc we only ran 2 epochs)\n",
        "factor_of_interest = adata.uns['SPECTRA_overlap'].index[80]\n",
        "print('plotting factor:',adata.uns['SPECTRA_overlap'].index[80])\n",
        "\n",
        "#add cell scores to obs\n",
        "cell_scores = adata.obsm['SPECTRA_cell_scores'][:,0].astype(float)\n",
        "adata.obs[factor_of_interest] = cell_scores\n",
        "sc.pl.umap(adata,color=factor_of_interest,s=30,vmax=np.quantile(cell_scores,0.98))"
      ]
    },
    {
      "cell_type": "code",
      "execution_count": 40,
      "metadata": {
        "colab": {
          "base_uri": "https://localhost:8080/"
        },
        "id": "FOU3kk63zQ7x",
        "outputId": "158319b9-7622-42fd-bb1c-e84e8e04f218"
      },
      "outputs": [
        {
          "name": "stdout",
          "output_type": "stream",
          "text": [
            "Saved adata to: adata_spectra.h5ad\n"
          ]
        }
      ],
      "source": [
        "#save the adata\n",
        "adata_save_path = 'adata_spectra.h5ad'#where to save the adata to\n",
        "adata.write(adata_save_path)\n",
        "print('Saved adata to:',adata_save_path)"
      ]
    },
    {
      "attachments": {},
      "cell_type": "markdown",
      "metadata": {},
      "source": [
        "# Accessing the fitted gene-gene graph"
      ]
    },
    {
      "attachments": {},
      "cell_type": "markdown",
      "metadata": {},
      "source": [
        "One outcome of fitting spectra is to fit a gene-gene graph where edges represent similarities between latent variables associated with each gene (a smoothed version of transcriptional similarity) To access this for say, TNK cells; use the following"
      ]
    },
    {
      "cell_type": "code",
      "execution_count": 41,
      "metadata": {},
      "outputs": [
        {
          "data": {
            "text/plain": [
              "array([[2.10725014e-12, 9.76643419e-11, 1.02189729e-10, ...,\n",
              "        2.10725014e-12, 2.10725014e-12, 1.12439578e-10],\n",
              "       [9.76643419e-11, 9.80055630e-01, 2.23705381e-01, ...,\n",
              "        1.08910055e-10, 1.13934917e-10, 5.97807653e-02],\n",
              "       [1.02189729e-10, 2.23705381e-01, 9.62472677e-01, ...,\n",
              "        1.10985721e-10, 1.13820210e-10, 2.15384096e-01],\n",
              "       ...,\n",
              "       [2.10725014e-12, 1.08910055e-10, 1.10985721e-10, ...,\n",
              "        2.10725014e-12, 2.10725014e-12, 1.17737292e-10],\n",
              "       [2.10725014e-12, 1.13934917e-10, 1.13820210e-10, ...,\n",
              "        2.10725014e-12, 2.10725014e-12, 1.21114410e-10],\n",
              "       [1.12439578e-10, 5.97807653e-02, 2.15384096e-01, ...,\n",
              "        1.17737292e-10, 1.21114410e-10, 8.90506566e-01]], dtype=float32)"
            ]
          },
          "execution_count": 41,
          "metadata": {},
          "output_type": "execute_result"
        }
      ],
      "source": [
        "soft_graph = model.return_graph(ct = \"global\")\n",
        "soft_graph"
      ]
    },
    {
      "attachments": {},
      "cell_type": "markdown",
      "metadata": {},
      "source": [
        "for large numbers of genes its clumsy to visualize the whole graph - to visualize a subgraph formed around a particular list of genes, use:"
      ]
    },
    {
      "cell_type": "code",
      "execution_count": 42,
      "metadata": {},
      "outputs": [
        {
          "name": "stdout",
          "output_type": "stream",
          "text": [
            "Warning: When  cdn_resources is 'local' jupyter notebook has issues displaying graphics on chrome/safari. Use cdn_resources='in_line' or cdn_resources='remote' if you have issues viewing graphics in a notebook.\n",
            "test_graph.html\n"
          ]
        },
        {
          "data": {
            "text/html": [
              "\n",
              "        <iframe\n",
              "            width=\"100%\"\n",
              "            height=\"750px\"\n",
              "            src=\"test_graph.html\"\n",
              "            frameborder=\"0\"\n",
              "            allowfullscreen\n",
              "            \n",
              "        ></iframe>\n",
              "        "
            ],
            "text/plain": [
              "<IPython.lib.display.IFrame at 0x7f2b7945a710>"
            ]
          },
          "execution_count": 42,
          "metadata": {},
          "output_type": "execute_result"
        }
      ],
      "source": [
        "gene_set = list(annotations['global']['all_mTORC1_signaling'])\n",
        "out = spc.graph_network(adata, soft_graph, gene_set)\n",
        "\n",
        "#this will not show in Google Colaboratory but you can open the file manually outside Google Colaboratory\n",
        "out.show(\"test_graph.html\")"
      ]
    },
    {
      "attachments": {},
      "cell_type": "markdown",
      "metadata": {},
      "source": [
        "this will take N closest genes to your gene set and only visualize this subgraph. The interactive graph file gets saved as an html. To visualize multiple gene sets at the same time, we have a different version of the function that assigns a random color to each gene set:"
      ]
    },
    {
      "cell_type": "code",
      "execution_count": 43,
      "metadata": {},
      "outputs": [
        {
          "name": "stdout",
          "output_type": "stream",
          "text": [
            "Warning: When  cdn_resources is 'local' jupyter notebook has issues displaying graphics on chrome/safari. Use cdn_resources='in_line' or cdn_resources='remote' if you have issues viewing graphics in a notebook.\n"
          ]
        },
        {
          "ename": "KeyError",
          "evalue": "6165",
          "output_type": "error",
          "traceback": [
            "\u001b[0;31m---------------------------------------------------------------------------\u001b[0m",
            "\u001b[0;31mKeyError\u001b[0m                                  Traceback (most recent call last)",
            "Cell \u001b[0;32mIn[43], line 4\u001b[0m\n\u001b[1;32m      2\u001b[0m gene_set_2 \u001b[39m=\u001b[39m \u001b[39mlist\u001b[39m(annotations[\u001b[39m'\u001b[39m\u001b[39mglobal\u001b[39m\u001b[39m'\u001b[39m][\u001b[39m'\u001b[39m\u001b[39mall_transmembrane-transport-golgi\u001b[39m\u001b[39m'\u001b[39m])\n\u001b[1;32m      3\u001b[0m gene_sets \u001b[39m=\u001b[39m [gene_set,gene_set_2]\n\u001b[0;32m----> 4\u001b[0m out \u001b[39m=\u001b[39m spc\u001b[39m.\u001b[39;49mgraph_network_multiple(adata,soft_graph, gene_sets)\n\u001b[1;32m      5\u001b[0m out\u001b[39m.\u001b[39mshow(\u001b[39m\"\u001b[39m\u001b[39mtest_graph.html\u001b[39m\u001b[39m\"\u001b[39m)\n",
            "File \u001b[0;32m~/miniconda3/envs/2023_spectra_test_branch/lib/python3.10/site-packages/spectra/spectra.py:1395\u001b[0m, in \u001b[0;36mgraph_network_multiple\u001b[0;34m(adata, mat, gene_sets, thres, N)\u001b[0m\n\u001b[1;32m   1392\u001b[0m     color_map\u001b[39m.\u001b[39mappend(random_color[\u001b[39m0\u001b[39m])\n\u001b[1;32m   1394\u001b[0m \u001b[39mfor\u001b[39;00m est \u001b[39min\u001b[39;00m ests:\n\u001b[0;32m-> 1395\u001b[0m     ests_names\u001b[39m.\u001b[39mappend(id2word[est])\n\u001b[1;32m   1396\u001b[0m     \u001b[39mif\u001b[39;00m est \u001b[39mnot\u001b[39;00m \u001b[39min\u001b[39;00m idxs:\n\u001b[1;32m   1397\u001b[0m         net\u001b[39m.\u001b[39madd_node(count, label \u001b[39m=\u001b[39m id2word[est], color \u001b[39m=\u001b[39m \u001b[39m'\u001b[39m\u001b[39m#00ff1e\u001b[39m\u001b[39m'\u001b[39m)\n",
            "\u001b[0;31mKeyError\u001b[0m: 6165"
          ]
        }
      ],
      "source": [
        "#gene sets is a list of lists\n",
        "gene_set_2 = list(annotations['global']['all_transmembrane-transport-golgi'])\n",
        "gene_sets = [gene_set,gene_set_2]\n",
        "out = spc.graph_network_multiple(adata,soft_graph, gene_sets)\n",
        "out.show(\"test_graph.html\")"
      ]
    },
    {
      "attachments": {},
      "cell_type": "markdown",
      "metadata": {},
      "source": [
        "# Fitting the model without AnnData"
      ]
    },
    {
      "attachments": {},
      "cell_type": "markdown",
      "metadata": {},
      "source": [
        "Instead of passing an AnnData object to est_spectra one can pass np.ndarray objects directly. The **kwargs contains arguments to the training function, lr_schedule = [1.0,.5,.1,.01,.001,.0001],num_epochs = 10000, verbose = False. To do this, initialize a model:"
      ]
    },
    {
      "cell_type": "code",
      "execution_count": 44,
      "metadata": {},
      "outputs": [
        {
          "data": {
            "text/plain": [
              "AnnData object with n_obs × n_vars = 10000 × 6397\n",
              "    obs: 'cell_type_annotations', '80-X-global-X-all_mTORC1_signaling'\n",
              "    var: 'n_cells_by_counts', 'highly_variable', 'spectra_vocab'\n",
              "    uns: 'annotation_SPADE_1_colors', 'cell_type_annotations_colors', 'diffmap_evals', 'draw_graph', 'hvg', 'neighbors', 'pca', 'SPECTRA_factors', 'SPECTRA_markers', 'SPECTRA_L', 'SPECTRA_overlap'\n",
              "    obsm: 'X_diffmap', 'X_draw_graph_fa', 'X_pca', 'X_tsne', 'X_umap', 'SPECTRA_cell_scores'\n",
              "    varm: 'PCs'\n",
              "    obsp: 'connectivities', 'distances'"
            ]
          },
          "execution_count": 44,
          "metadata": {},
          "output_type": "execute_result"
        }
      ],
      "source": [
        "adata"
      ]
    },
    {
      "cell_type": "code",
      "execution_count": 45,
      "metadata": {},
      "outputs": [
        {
          "data": {
            "text/plain": [
              "{'B_GC': 1,\n",
              " 'B_memory': 5,\n",
              " 'B_naive': 1,\n",
              " 'CD4_T': 12,\n",
              " 'CD8_T': 7,\n",
              " 'DC': 3,\n",
              " 'ILC3': 1,\n",
              " 'MDC': 6,\n",
              " 'NK': 1,\n",
              " 'Treg': 2,\n",
              " 'gdT': 1,\n",
              " 'mast': 2,\n",
              " 'pDC': 2,\n",
              " 'plasma': 1,\n",
              " 'global': 151}"
            ]
          },
          "execution_count": 45,
          "metadata": {},
          "output_type": "execute_result"
        }
      ],
      "source": [
        "#define number of factors (only est_spectra has the option to automatically set the factor numbers per celltype)\n",
        "\n",
        "L = {}\n",
        "for key in annotations.keys():\n",
        "    length = len(list(annotations[key].values()))\n",
        "    L[key] = length + 1\n",
        "L"
      ]
    },
    {
      "cell_type": "code",
      "execution_count": 46,
      "metadata": {},
      "outputs": [],
      "source": [
        "#get the genes you want to use (for simplicity we will copy from the adata above)\n",
        "vocab = list(adata.var_names)"
      ]
    },
    {
      "cell_type": "code",
      "execution_count": 47,
      "metadata": {},
      "outputs": [
        {
          "data": {
            "text/plain": [
              "(10000, 6397)"
            ]
          },
          "execution_count": 47,
          "metadata": {},
          "output_type": "execute_result"
        }
      ],
      "source": [
        "adata.X.todense().shape"
      ]
    },
    {
      "cell_type": "code",
      "execution_count": 48,
      "metadata": {},
      "outputs": [
        {
          "data": {
            "text/plain": [
              "6397"
            ]
          },
          "execution_count": 48,
          "metadata": {},
          "output_type": "execute_result"
        }
      ],
      "source": [
        "len(vocab)"
      ]
    },
    {
      "cell_type": "code",
      "execution_count": 49,
      "metadata": {},
      "outputs": [
        {
          "name": "stderr",
          "output_type": "stream",
          "text": [
            "100%|██████████| 2/2 [00:46<00:00, 23.48s/it]\n"
          ]
        }
      ],
      "source": [
        "model = spc.SPECTRA_Model(X = adata.X.todense(), L=L, labels = np.array(adata.obs['cell_type_annotations']),  \n",
        "                          gs_dict = annotations,lam = 0.01, vocab=vocab, use_weights=True,\n",
        "                          delta=0.001,kappa = None, rho = 0.05,use_cell_types=True)\n",
        "model.train(X = adata.X.todense(), labels = np.array(adata.obs['cell_type_annotations']),\n",
        "            num_epochs=2) #we will only do 2 epochs here for demonstration purposes. We recommend 10,000 epochs for most datasets."
      ]
    },
    {
      "attachments": {},
      "cell_type": "markdown",
      "metadata": {},
      "source": [
        "It is also required to run the model this way if you want to input arbitrary adjacency matrices instead of a dictionary of gene sets. The gene set dictionary is used to create an adjacency matrix when it is not None."
      ]
    },
    {
      "cell_type": "code",
      "execution_count": 75,
      "metadata": {},
      "outputs": [
        {
          "name": "stderr",
          "output_type": "stream",
          "text": [
            "100%|██████████| 2/2 [00:48<00:00, 24.24s/it]\n"
          ]
        }
      ],
      "source": [
        "#you will need the cell type containing model and vocab again --> for this tutorial we will retrain\n",
        "model = spc.est_spectra(adata = adata, gene_set_dictionary = annotations, \n",
        "                        use_highly_variable = True, cell_type_key = \"cell_type_annotations\", \n",
        "                        use_weights = True, lam = 0.1, \n",
        "                        delta=0.001,kappa = 0.00001, rho = 0.00001, \n",
        "                        use_cell_types = True, n_top_vals = 25, \n",
        "                        label_factors = True, #whether to label the factors by their overlap coefficient with the input gene sets\n",
        "                        overlap_threshold = 0.2, #minimum overlap coefficient that has to be surpassed to assign a label to a factor\n",
        "                        num_epochs=2 #for demonstration purposes we will only run 2 epochs, we recommend 10,000 epochs\n",
        "                       )"
      ]
    },
    {
      "cell_type": "code",
      "execution_count": 76,
      "metadata": {},
      "outputs": [
        {
          "data": {
            "text/plain": [
              "{'CD8_T': array([[0., 0., 0., ..., 0., 0., 0.],\n",
              "        [0., 0., 0., ..., 0., 0., 0.],\n",
              "        [0., 0., 0., ..., 0., 0., 0.],\n",
              "        ...,\n",
              "        [0., 0., 0., ..., 0., 0., 0.],\n",
              "        [0., 0., 0., ..., 0., 0., 0.],\n",
              "        [0., 0., 0., ..., 0., 0., 0.]]),\n",
              " 'CD4_T': array([[0., 0., 0., ..., 0., 0., 0.],\n",
              "        [0., 0., 0., ..., 0., 0., 0.],\n",
              "        [0., 0., 0., ..., 0., 0., 0.],\n",
              "        ...,\n",
              "        [0., 0., 0., ..., 0., 0., 0.],\n",
              "        [0., 0., 0., ..., 0., 0., 0.],\n",
              "        [0., 0., 0., ..., 0., 0., 0.]]),\n",
              " 'mast': array([[0., 0., 0., ..., 0., 0., 0.],\n",
              "        [0., 0., 0., ..., 0., 0., 0.],\n",
              "        [0., 0., 0., ..., 0., 0., 0.],\n",
              "        ...,\n",
              "        [0., 0., 0., ..., 0., 0., 0.],\n",
              "        [0., 0., 0., ..., 0., 0., 0.],\n",
              "        [0., 0., 0., ..., 0., 0., 0.]]),\n",
              " 'pDC': array([[0., 0., 0., ..., 0., 0., 0.],\n",
              "        [0., 0., 0., ..., 0., 0., 0.],\n",
              "        [0., 0., 0., ..., 0., 0., 0.],\n",
              "        ...,\n",
              "        [0., 0., 0., ..., 0., 0., 0.],\n",
              "        [0., 0., 0., ..., 0., 0., 0.],\n",
              "        [0., 0., 0., ..., 0., 0., 0.]]),\n",
              " 'gdT': array([[1., 1., 1., ..., 1., 1., 1.],\n",
              "        [1., 1., 1., ..., 1., 1., 1.],\n",
              "        [1., 1., 1., ..., 1., 1., 1.],\n",
              "        ...,\n",
              "        [1., 1., 1., ..., 1., 1., 1.],\n",
              "        [1., 1., 1., ..., 1., 1., 1.],\n",
              "        [1., 1., 1., ..., 1., 1., 1.]]),\n",
              " 'MDC': array([[1., 0., 0., ..., 0., 0., 0.],\n",
              "        [0., 0., 0., ..., 0., 0., 0.],\n",
              "        [0., 0., 0., ..., 0., 0., 0.],\n",
              "        ...,\n",
              "        [0., 0., 0., ..., 0., 0., 0.],\n",
              "        [0., 0., 0., ..., 0., 0., 0.],\n",
              "        [0., 0., 0., ..., 0., 0., 0.]]),\n",
              " 'DC': array([[0., 0., 0., ..., 0., 0., 0.],\n",
              "        [0., 0., 0., ..., 0., 0., 0.],\n",
              "        [0., 0., 0., ..., 0., 0., 0.],\n",
              "        ...,\n",
              "        [0., 0., 0., ..., 0., 0., 0.],\n",
              "        [0., 0., 0., ..., 0., 0., 0.],\n",
              "        [0., 0., 0., ..., 0., 0., 0.]]),\n",
              " 'B_memory': array([[0., 0., 0., ..., 0., 0., 0.],\n",
              "        [0., 0., 0., ..., 0., 0., 0.],\n",
              "        [0., 0., 0., ..., 0., 0., 0.],\n",
              "        ...,\n",
              "        [0., 0., 0., ..., 1., 0., 0.],\n",
              "        [0., 0., 0., ..., 0., 0., 0.],\n",
              "        [0., 0., 0., ..., 0., 0., 0.]]),\n",
              " 'B_GC': array([[1., 1., 1., ..., 1., 1., 1.],\n",
              "        [1., 1., 1., ..., 1., 1., 1.],\n",
              "        [1., 1., 1., ..., 1., 1., 1.],\n",
              "        ...,\n",
              "        [1., 1., 1., ..., 1., 1., 1.],\n",
              "        [1., 1., 1., ..., 1., 1., 1.],\n",
              "        [1., 1., 1., ..., 1., 1., 1.]]),\n",
              " 'NK': array([[1., 1., 1., ..., 1., 1., 1.],\n",
              "        [1., 1., 1., ..., 1., 1., 1.],\n",
              "        [1., 1., 1., ..., 1., 1., 1.],\n",
              "        ...,\n",
              "        [1., 1., 1., ..., 1., 1., 1.],\n",
              "        [1., 1., 1., ..., 1., 1., 1.],\n",
              "        [1., 1., 1., ..., 1., 1., 1.]]),\n",
              " 'Treg': array([[0., 0., 0., ..., 0., 0., 0.],\n",
              "        [0., 0., 0., ..., 0., 0., 0.],\n",
              "        [0., 0., 0., ..., 0., 0., 0.],\n",
              "        ...,\n",
              "        [0., 0., 0., ..., 0., 0., 0.],\n",
              "        [0., 0., 0., ..., 0., 0., 0.],\n",
              "        [0., 0., 0., ..., 0., 0., 0.]]),\n",
              " 'B_naive': array([[1., 1., 1., ..., 1., 1., 1.],\n",
              "        [1., 1., 1., ..., 1., 1., 1.],\n",
              "        [1., 1., 1., ..., 1., 1., 1.],\n",
              "        ...,\n",
              "        [1., 1., 1., ..., 1., 1., 1.],\n",
              "        [1., 1., 1., ..., 1., 1., 1.],\n",
              "        [1., 1., 1., ..., 1., 1., 1.]]),\n",
              " 'ILC3': array([[1., 1., 1., ..., 1., 1., 1.],\n",
              "        [1., 1., 1., ..., 1., 1., 1.],\n",
              "        [1., 1., 1., ..., 1., 1., 1.],\n",
              "        ...,\n",
              "        [1., 1., 1., ..., 1., 1., 1.],\n",
              "        [1., 1., 1., ..., 1., 1., 1.],\n",
              "        [1., 1., 1., ..., 1., 1., 1.]]),\n",
              " 'plasma': array([[1., 1., 1., ..., 1., 1., 1.],\n",
              "        [1., 1., 1., ..., 1., 1., 1.],\n",
              "        [1., 1., 1., ..., 1., 1., 1.],\n",
              "        ...,\n",
              "        [1., 1., 1., ..., 1., 1., 1.],\n",
              "        [1., 1., 1., ..., 1., 1., 1.],\n",
              "        [1., 1., 1., ..., 1., 1., 1.]]),\n",
              " 'global': array([[0., 0., 0., ..., 0., 0., 0.],\n",
              "        [0., 1., 0., ..., 0., 0., 0.],\n",
              "        [0., 0., 1., ..., 0., 0., 1.],\n",
              "        ...,\n",
              "        [0., 0., 0., ..., 0., 0., 0.],\n",
              "        [0., 0., 0., ..., 0., 0., 0.],\n",
              "        [0., 0., 1., ..., 0., 0., 1.]])}"
            ]
          },
          "execution_count": 76,
          "metadata": {},
          "output_type": "execute_result"
        }
      ],
      "source": [
        "#get an example adjacency matrix (the threshold should be properly determined based on the question)\n",
        "threshold = 0.15\n",
        "cell_types = list(set(adata.obs['cell_type_annotations'])) + ['global']\n",
        "adj_matrix = {cell_type : (model.return_graph(ct = cell_type) > threshold).astype(float) for cell_type in cell_types}\n",
        "adj_matrix"
      ]
    },
    {
      "cell_type": "code",
      "execution_count": 77,
      "metadata": {},
      "outputs": [
        {
          "data": {
            "text/plain": [
              "['B_diag',\n",
              " 'L',\n",
              " '_SPECTRA_Model__B_diag',\n",
              " '_SPECTRA_Model__eta_matrices',\n",
              " '_SPECTRA_Model__store_parameters',\n",
              " '_SPECTRA_Model__store_parameters_no_celltypes',\n",
              " '__class__',\n",
              " '__delattr__',\n",
              " '__dict__',\n",
              " '__dir__',\n",
              " '__doc__',\n",
              " '__eq__',\n",
              " '__format__',\n",
              " '__ge__',\n",
              " '__getattribute__',\n",
              " '__gt__',\n",
              " '__hash__',\n",
              " '__init__',\n",
              " '__init_subclass__',\n",
              " '__le__',\n",
              " '__lt__',\n",
              " '__module__',\n",
              " '__ne__',\n",
              " '__new__',\n",
              " '__reduce__',\n",
              " '__reduce_ex__',\n",
              " '__repr__',\n",
              " '__setattr__',\n",
              " '__sizeof__',\n",
              " '__slotnames__',\n",
              " '__str__',\n",
              " '__subclasshook__',\n",
              " '__weakref__',\n",
              " 'cell_scores',\n",
              " 'delta',\n",
              " 'eta_matrices',\n",
              " 'factors',\n",
              " 'gene_scalings',\n",
              " 'initialize',\n",
              " 'internal_model',\n",
              " 'kappa',\n",
              " 'lam',\n",
              " 'load',\n",
              " 'matching',\n",
              " 'return_cell_scores',\n",
              " 'return_eta',\n",
              " 'return_eta_diag',\n",
              " 'return_factors',\n",
              " 'return_gene_scalings',\n",
              " 'return_graph',\n",
              " 'return_kappa',\n",
              " 'return_rho',\n",
              " 'rho',\n",
              " 'save',\n",
              " 'train',\n",
              " 'use_cell_types']"
            ]
          },
          "execution_count": 77,
          "metadata": {},
          "output_type": "execute_result"
        }
      ],
      "source": [
        "dir(model)"
      ]
    },
    {
      "cell_type": "code",
      "execution_count": 78,
      "metadata": {},
      "outputs": [
        {
          "data": {
            "text/plain": [
              "array([[2.10725014e-12, 9.76643419e-11, 1.02189729e-10, ...,\n",
              "        2.10725014e-12, 2.10725014e-12, 1.12439578e-10],\n",
              "       [9.76643419e-11, 9.80055630e-01, 2.23705381e-01, ...,\n",
              "        1.08910055e-10, 1.13934917e-10, 5.97807653e-02],\n",
              "       [1.02189729e-10, 2.23705381e-01, 9.62472677e-01, ...,\n",
              "        1.10985721e-10, 1.13820210e-10, 2.15384096e-01],\n",
              "       ...,\n",
              "       [2.10725014e-12, 1.08910055e-10, 1.10985721e-10, ...,\n",
              "        2.10725014e-12, 2.10725014e-12, 1.17737292e-10],\n",
              "       [2.10725014e-12, 1.13934917e-10, 1.13820210e-10, ...,\n",
              "        2.10725014e-12, 2.10725014e-12, 1.21114410e-10],\n",
              "       [1.12439578e-10, 5.97807653e-02, 2.15384096e-01, ...,\n",
              "        1.17737292e-10, 1.21114410e-10, 8.90506566e-01]], dtype=float32)"
            ]
          },
          "execution_count": 78,
          "metadata": {},
          "output_type": "execute_result"
        }
      ],
      "source": [
        "soft_graph"
      ]
    },
    {
      "cell_type": "code",
      "execution_count": 79,
      "metadata": {},
      "outputs": [
        {
          "data": {
            "text/plain": [
              "(10000, 6397)"
            ]
          },
          "execution_count": 79,
          "metadata": {},
          "output_type": "execute_result"
        }
      ],
      "source": [
        "adata.X.todense().shape"
      ]
    },
    {
      "cell_type": "code",
      "execution_count": 80,
      "metadata": {},
      "outputs": [
        {
          "data": {
            "text/plain": [
              "spectra_vocab\n",
              "True     6392\n",
              "False       5\n",
              "Name: count, dtype: int64"
            ]
          },
          "execution_count": 80,
          "metadata": {},
          "output_type": "execute_result"
        }
      ],
      "source": [
        "adata.var['spectra_vocab'].value_counts()"
      ]
    },
    {
      "cell_type": "code",
      "execution_count": 87,
      "metadata": {},
      "outputs": [
        {
          "name": "stderr",
          "output_type": "stream",
          "text": [
            "100%|██████████| 2/2 [01:22<00:00, 41.03s/it]\n"
          ]
        }
      ],
      "source": [
        "#train model with adjacency matrix\n",
        "vocab = np.array(adata.var['spectra_vocab'][adata.var['spectra_vocab']].index)\n",
        "X = adata.X.todense().T[adata.var['spectra_vocab']].T\n",
        "\n",
        "model = spc.SPECTRA_Model(X = X, labels =  np.array(adata.obs['cell_type_annotations']),  \n",
        "                          L = L, adj_matrix = adj_matrix, weights = None, lam = 0.01,  delta=0.001,kappa = None, rho = 0.05, \n",
        "                          use_cell_types = True)\n",
        "model.train(X = X, labels =  np.array(adata.obs['cell_type_annotations']),\n",
        "            num_epochs=2) #we will only do 2 epochs here for demonstration purposes. We recommend 10,000 epochs for most datasets.)\n",
        "\n"
      ]
    }
  ],
  "metadata": {
    "colab": {
      "authorship_tag": "ABX9TyOp78KuTpVxQFJQD84jrAv/",
      "include_colab_link": true,
      "provenance": []
    },
    "kernelspec": {
      "display_name": "Python 3",
      "name": "python3"
    },
    "language_info": {
      "codemirror_mode": {
        "name": "ipython",
        "version": 3
      },
      "file_extension": ".py",
      "mimetype": "text/x-python",
      "name": "python",
      "nbconvert_exporter": "python",
      "pygments_lexer": "ipython3",
      "version": "3.10.9"
    }
  },
  "nbformat": 4,
  "nbformat_minor": 0
}
