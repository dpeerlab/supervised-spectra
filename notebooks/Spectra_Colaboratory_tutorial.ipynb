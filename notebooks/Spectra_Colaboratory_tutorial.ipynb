{
  "cells": [
    {
      "cell_type": "markdown",
      "metadata": {
        "colab_type": "text",
        "id": "view-in-github"
      },
      "source": [
        "<a href=\"https://colab.research.google.com/github/wallet-maker/spectra/blob/main/notebooks/Spectra_Colaboratory_tutorial.ipynb\" target=\"_parent\"><img src=\"https://colab.research.google.com/assets/colab-badge.svg\" alt=\"Open In Colab\"/></a>"
      ]
    },
    {
      "attachments": {},
      "cell_type": "markdown",
      "metadata": {},
      "source": [
        "# install packages"
      ]
    },
    {
      "cell_type": "code",
      "execution_count": null,
      "metadata": {},
      "outputs": [],
      "source": [
        "!pip install git+https://github.com/dpeerlab/spectra@label_spectra_output"
      ]
    },
    {
      "cell_type": "code",
      "execution_count": null,
      "metadata": {},
      "outputs": [],
      "source": [
        "!ls"
      ]
    },
    {
      "cell_type": "code",
      "execution_count": 5,
      "metadata": {
        "colab": {
          "base_uri": "https://localhost:8080/"
        },
        "id": "GQFeb6lhIWR0",
        "outputId": "ce550b96-077f-4dc9-b000-41f8aae6bd6d"
      },
      "outputs": [
        {
          "name": "stdout",
          "output_type": "stream",
          "text": [
            "Looking in indexes: https://pypi.org/simple, https://us-python.pkg.dev/colab-wheels/public/simple/\n",
            "Requirement already satisfied: matplotlib==3.5.0 in /usr/local/lib/python3.9/dist-packages (3.5.0)\n",
            "Requirement already satisfied: pillow>=6.2.0 in /usr/local/lib/python3.9/dist-packages (from matplotlib==3.5.0) (8.4.0)\n",
            "Requirement already satisfied: python-dateutil>=2.7 in /usr/local/lib/python3.9/dist-packages (from matplotlib==3.5.0) (2.8.2)\n",
            "Requirement already satisfied: pyparsing>=2.2.1 in /usr/local/lib/python3.9/dist-packages (from matplotlib==3.5.0) (3.0.9)\n",
            "Requirement already satisfied: fonttools>=4.22.0 in /usr/local/lib/python3.9/dist-packages (from matplotlib==3.5.0) (4.39.3)\n",
            "Requirement already satisfied: numpy>=1.17 in /usr/local/lib/python3.9/dist-packages (from matplotlib==3.5.0) (1.22.4)\n",
            "Requirement already satisfied: setuptools-scm>=4 in /usr/local/lib/python3.9/dist-packages (from matplotlib==3.5.0) (7.1.0)\n",
            "Requirement already satisfied: packaging>=20.0 in /usr/local/lib/python3.9/dist-packages (from matplotlib==3.5.0) (23.0)\n",
            "Requirement already satisfied: cycler>=0.10 in /usr/local/lib/python3.9/dist-packages (from matplotlib==3.5.0) (0.11.0)\n",
            "Requirement already satisfied: kiwisolver>=1.0.1 in /usr/local/lib/python3.9/dist-packages (from matplotlib==3.5.0) (1.4.4)\n",
            "Requirement already satisfied: six>=1.5 in /usr/local/lib/python3.9/dist-packages (from python-dateutil>=2.7->matplotlib==3.5.0) (1.16.0)\n",
            "Requirement already satisfied: typing-extensions in /usr/local/lib/python3.9/dist-packages (from setuptools-scm>=4->matplotlib==3.5.0) (4.5.0)\n",
            "Requirement already satisfied: tomli>=1.0.0 in /usr/local/lib/python3.9/dist-packages (from setuptools-scm>=4->matplotlib==3.5.0) (2.0.1)\n",
            "Requirement already satisfied: setuptools in /usr/local/lib/python3.9/dist-packages (from setuptools-scm>=4->matplotlib==3.5.0) (67.6.1)\n"
          ]
        }
      ],
      "source": [
        "%pip install -U matplotlib==3.5.0"
      ]
    },
    {
      "attachments": {},
      "cell_type": "markdown",
      "metadata": {},
      "source": [
        "# import relevant packages"
      ]
    },
    {
      "cell_type": "code",
      "execution_count": 2,
      "metadata": {
        "id": "uUhGZevNHjzd"
      },
      "outputs": [],
      "source": [
        "from spectra import spectra as spc"
      ]
    },
    {
      "cell_type": "code",
      "execution_count": 3,
      "metadata": {},
      "outputs": [],
      "source": [
        "from spectra import spectra_util as spc_tl"
      ]
    },
    {
      "cell_type": "code",
      "execution_count": 4,
      "metadata": {
        "id": "WEf_XV5Vxf-I"
      },
      "outputs": [],
      "source": [
        "#import packages\n",
        "import numpy as np\n",
        "import json \n",
        "import scanpy as sc\n",
        "from collections import OrderedDict\n",
        "import scipy \n",
        "import pandas as pd\n",
        "\n",
        "#spectra imports \n",
        "from spectra import spectra as spc\n",
        "from spectra import spectra_util as util\n",
        "from spectra import K_est as kst\n",
        "\n"
      ]
    },
    {
      "cell_type": "code",
      "execution_count": 5,
      "metadata": {
        "id": "6htuiSo0xz2w"
      },
      "outputs": [],
      "source": [
        "def check_gene_set_dictionary(adata, annotations, obs_key='cell_type_annotations',global_key='global', return_dict = True):\n",
        "    '''\n",
        "    Filters annotations dictionary contains only genes contained in the adata. \n",
        "    Checks that annotations dictionary cell type keys and adata cell types are identical.\n",
        "    Checks that all gene sets in annotations dictionary contain >2 genes after filtering.\n",
        "    \n",
        "    adata: AnnData , data to use with Spectra\n",
        "    annotations: dict , gene set annotations dictionary to use with Spectra\n",
        "    obs_key: str , column name for cell type annotations in adata.obs\n",
        "    global_key: str , key for global gene sests in gene set annotation dictionary\n",
        "    return_dict: bool , return filtered gene set annotation dictionary\n",
        "    \n",
        "    returns: dict , filtered gene set annotation dictionary\n",
        "    \n",
        "    '''\n",
        "    #test if keys match\n",
        "    adata_labels  = list(set(adata.obs[obs_key]))+['global']#cell type labels in adata object\n",
        "    annotation_labels = list(annotations.keys())\n",
        "    matching_celltype_labels = list(set(adata_labels).intersection(annotation_labels))\n",
        "    if set(annotation_labels)==set(adata_labels):\n",
        "        print('Cell type labels in gene set annotation dictionary and AnnData object are identical')\n",
        "        dict_keys_OK = True\n",
        "    if len(annotation_labels)<len(adata_labels):\n",
        "        print('The following labels are missing in the gene set annotation dictionary:',set(adata_labels)-set(annotation_labels))\n",
        "        dict_keys_OK = False\n",
        "    if len(adata_labels)<len(annotation_labels):\n",
        "        print('The following labels are missing in the AnnData object:',set(annotation_labels)-set(adata_labels))\n",
        "        dict_keys_OK = False\n",
        "        \n",
        "    #check that gene sets in dictionary have len >2\n",
        "    Counter = 0\n",
        "    annotations_new = {}\n",
        "    for k,v in annotations.items():\n",
        "        annotations_new[k] = {}\n",
        "        for k2,v2 in v.items():\n",
        "            annotations_new[k][k2]= [x for x in v2 if x in adata.var_names]\n",
        "            length = len(v2)\n",
        "            if length<3:\n",
        "                print('gene set',k2,'for cell type',k,'is of length',length)\n",
        "                Counter = Counter+1\n",
        "            \n",
        "    if Counter > 0:\n",
        "        print(Counter,'gene sets are too small. Gene sets must contain at least 3 genes')\n",
        "    elif Counter == 0 and dict_keys_OK:\n",
        "        print('Your gene set annotation dictionary is correctly formatted.')\n",
        "    if return_dict:\n",
        "        return annotations_new"
      ]
    },
    {
      "cell_type": "markdown",
      "metadata": {
        "id": "v4vTEyL6sDR4"
      },
      "source": [
        "# Load gene_set_dictionary"
      ]
    },
    {
      "attachments": {},
      "cell_type": "markdown",
      "metadata": {
        "id": "oqLbpf3qsFWF"
      },
      "source": [
        "**load a nested dictionary containing global and cell type specific gene sets in the following format:**\n",
        "\n",
        "Gene set annotation dictionary with the keys being the celltypes (str) and values being dictionaries with gene set names as keys (str) and gene sets as values (lists of gene names/IDs which matches the gene names/IDs in adata.var_names).\n",
        "\n",
        "For example:\n",
        "\n",
        "```\n",
        "gene_set_dictionary = {'celltype_1':{'gene_set_1':['gene_a', 'gene_b', 'gene_c'], 'gene_set_2':['gene_c','gene_a','gene_e','gene_f']},\n",
        "\n",
        "'celltype_2':{'gene_set_1':['gene_a', 'gene_b', 'gene_c'], 'gene_set_3':['gene_a', 'gene_e','gene_f','gene_d']},\n",
        "\n",
        "'celltype_3':{},\n",
        "\n",
        "'global':\"{'gene_set_4':['gene_m','gene_n']} #the global key must be supplied\n",
        "\n",
        "```\n",
        "\n",
        "**Note that one key in the dictionary must be 'global' with the corresponding value being a dictionary of gene sets which apply to all cells**\n",
        "\n",
        "Spectra will use this dictionary to align factors to the input gene sets. Gene sets which apply to only one cell type in the data should be included in the dictionary of that cell type. If a gene sets applies to all cell types in the data, the gene set should be included in the dictionary for 'global'. If a gene set applies to more than one cell type but not all cell types in the data there are two options 1) Include this gene set in each cell type dictionary which will likely result in a separate factor for this gene set in each cell type. OR 2) include this gene set in the 'global' dictionary which will likely result in one factor for this gene set in all cell types. We give additional guidance on the advantages and disadvantages of either approach in the Supplementary Methods of the Spectra paper: https://doi.org/10.1101/2022.12.20.521311"
      ]
    },
    {
      "cell_type": "markdown",
      "metadata": {
        "id": "mU-oUalzsO-P"
      },
      "source": [
        "**Load the default dictionary**\n",
        "We used this dictionary to generate the results in the paper: https://doi.org/10.1101/2022.12.20.521311"
      ]
    },
    {
      "cell_type": "code",
      "execution_count": 7,
      "metadata": {
        "id": "X4QL5M0ax1rc"
      },
      "outputs": [],
      "source": [
        "#load the default gene set dictionary from the Spectra paper:\n",
        "annotations = spc_tl.get_default_dict()"
      ]
    },
    {
      "cell_type": "code",
      "execution_count": 8,
      "metadata": {
        "colab": {
          "base_uri": "https://localhost:8080/"
        },
        "id": "GLttFF8Lx3_3",
        "outputId": "f1d3b4cb-733b-48e7-b540-fc1abf95a911"
      },
      "outputs": [
        {
          "data": {
            "text/plain": [
              "['HDAC2',\n",
              " 'LEF1',\n",
              " 'CUL1',\n",
              " 'TP53',\n",
              " 'GNAI1',\n",
              " 'DLL1',\n",
              " 'SKP2',\n",
              " 'AXIN1',\n",
              " 'KAT2A',\n",
              " 'CSNK1E',\n",
              " 'MAML1',\n",
              " 'FZD8',\n",
              " 'NOTCH1',\n",
              " 'MYC',\n",
              " 'RBPJ',\n",
              " 'JAG2',\n",
              " 'PTCH1',\n",
              " 'PPARD',\n",
              " 'HDAC5',\n",
              " 'AXIN2',\n",
              " 'NUMB',\n",
              " 'PSEN2',\n",
              " 'NKD1',\n",
              " 'WNT1',\n",
              " 'TCF7',\n",
              " 'FRAT1',\n",
              " 'HDAC11',\n",
              " 'ADAM17',\n",
              " 'CCND2',\n",
              " 'HEY1',\n",
              " 'NCSTN',\n",
              " 'JAG1',\n",
              " 'DVL2',\n",
              " 'NOTCH4',\n",
              " 'NCOR2',\n",
              " 'TPTEP2-CSNK1E',\n",
              " 'FZD1',\n",
              " 'CTNNB1',\n",
              " 'DKK4',\n",
              " 'HEY2',\n",
              " 'WNT6',\n",
              " 'DKK1',\n",
              " 'WNT5B']"
            ]
          },
          "execution_count": 8,
          "metadata": {},
          "output_type": "execute_result"
        }
      ],
      "source": [
        "annotations[\"global\"][\"all_wnt-beta-catenin-signaling\"]"
      ]
    },
    {
      "cell_type": "markdown",
      "metadata": {
        "id": "MMXT036ZsanA"
      },
      "source": [
        "# Custom gene_set_dictionary"
      ]
    },
    {
      "cell_type": "markdown",
      "metadata": {
        "id": "k5IWVmNGsfH5"
      },
      "source": [
        "**Alternatively you can use Spectra with your custom gene set annotation dictionaries.**\n",
        "\n",
        "Cytopus Knowledge Base\n",
        "\n",
        "We supply the Cytopus knowledge base to construct custom input gene set dictionaries for Spectra. For a tutorial visit the github repository: https://github.com/wallet-maker/cytopus\n",
        "\n",
        "**External Databases**\n",
        "\n",
        "To obtain optimal results, we recommend using dedicated gene sets, like from the Cytopus database which are tailored to single cell RNA sequencing data (see Supplementary Methods for details https://doi.org/10.1101/2022.12.20.521311).\n",
        "\n",
        "However, Spectra can also use gene set annotation dictionaries from external databases if they can be provided in the format described above."
      ]
    },
    {
      "cell_type": "markdown",
      "metadata": {
        "id": "ktOGTojasldB"
      },
      "source": [
        "# Load adata"
      ]
    },
    {
      "attachments": {},
      "cell_type": "markdown",
      "metadata": {
        "id": "0kHJZhUOsn2C"
      },
      "source": [
        "In the Spectra paper we use a subsetted, anonymized, log1p-transformed (f(x) = ln(x+1), with x being the raw gene expression counts), and scran-normalized leukocyte single cell RNA sequencing data (https://doi.org/10.1101/2022.12.20.521311). While we recommend scran for leukocyte data, the method with log1p-transformed median library size normalized RNA sequencing data."
      ]
    },
    {
      "cell_type": "code",
      "execution_count": 10,
      "metadata": {
        "id": "75tKPam6yCoz"
      },
      "outputs": [],
      "source": [
        "#define data paths\n",
        "adata_path = '/content/spectra/data/sample_data.h5ad'#indicate where to find the gene expression AnnData object\n",
        "obs_key = 'cell_type_annotations' #indicat the column name for the dataframe in adata.obs where to find the cell type lab"
      ]
    },
    {
      "cell_type": "code",
      "execution_count": 11,
      "metadata": {
        "colab": {
          "base_uri": "https://localhost:8080/"
        },
        "id": "mdoNNI4XyHlk",
        "outputId": "e1f7d979-cf4b-4ae7-a89b-c3915a2bd671"
      },
      "outputs": [
        {
          "data": {
            "text/plain": [
              "AnnData object with n_obs × n_vars = 10000 × 6397\n",
              "    obs: 'cell_type_annotations'\n",
              "    var: 'n_cells_by_counts', 'highly_variable'\n",
              "    uns: 'annotation_SPADE_1_colors', 'cell_type_annotations_colors', 'diffmap_evals', 'draw_graph', 'hvg', 'neighbors', 'pca'\n",
              "    obsm: 'X_diffmap', 'X_draw_graph_fa', 'X_pca', 'X_tsne', 'X_umap'\n",
              "    varm: 'PCs'\n",
              "    obsp: 'connectivities', 'distances'"
            ]
          },
          "execution_count": 11,
          "metadata": {},
          "output_type": "execute_result"
        }
      ],
      "source": [
        "#load data\n",
        "adata = sc.read(adata_path)\n",
        "adata"
      ]
    },
    {
      "cell_type": "markdown",
      "metadata": {
        "id": "-oKda8X2sql-"
      },
      "source": [
        "**Important: The cell type labels have to match with the cell type labels in the gene set dictionary**"
      ]
    },
    {
      "cell_type": "code",
      "execution_count": 12,
      "metadata": {
        "colab": {
          "base_uri": "https://localhost:8080/"
        },
        "id": "PDOrKMD8yI_i",
        "outputId": "9ac56721-264c-4cd1-f91d-f57be5973cb2"
      },
      "outputs": [
        {
          "name": "stdout",
          "output_type": "stream",
          "text": [
            "Cell type labels in gene set annotation dictionary and AnnData object are identical\n",
            "Your gene set annotation dictionary is correctly formatted.\n"
          ]
        }
      ],
      "source": [
        "#filter gene set annotation dict for genes contained in adata\n",
        "annotations = check_gene_set_dictionary(adata, annotations, obs_key='cell_type_annotations',global_key='global')"
      ]
    },
    {
      "cell_type": "code",
      "execution_count": 13,
      "metadata": {
        "colab": {
          "base_uri": "https://localhost:8080/"
        },
        "id": "4FDWzBwXymHu",
        "outputId": "e1696f53-c9d0-4310-adf4-45bd9e5bdcea"
      },
      "outputs": [
        {
          "data": {
            "text/plain": [
              "['gdT',\n",
              " 'CD8_T',\n",
              " 'plasma',\n",
              " 'MDC',\n",
              " 'mast',\n",
              " 'ILC3',\n",
              " 'CD4_T',\n",
              " 'pDC',\n",
              " 'B_memory',\n",
              " 'Treg',\n",
              " 'DC',\n",
              " 'NK',\n",
              " 'B_naive',\n",
              " 'B_GC']"
            ]
          },
          "execution_count": 13,
          "metadata": {},
          "output_type": "execute_result"
        }
      ],
      "source": [
        "#cell type labels in adata\n",
        "list(set(adata.obs[obs_key]))"
      ]
    },
    {
      "cell_type": "code",
      "execution_count": 14,
      "metadata": {
        "colab": {
          "base_uri": "https://localhost:8080/"
        },
        "id": "lH4on6YRynsN",
        "outputId": "636dfa9a-0705-4cfb-d99a-ec019672a26c"
      },
      "outputs": [
        {
          "data": {
            "text/plain": [
              "['gdT',\n",
              " 'CD8_T',\n",
              " 'plasma',\n",
              " 'MDC',\n",
              " 'mast',\n",
              " 'ILC3',\n",
              " 'CD4_T',\n",
              " 'pDC',\n",
              " 'global',\n",
              " 'B_memory',\n",
              " 'Treg',\n",
              " 'DC',\n",
              " 'NK',\n",
              " 'B_naive',\n",
              " 'B_GC']"
            ]
          },
          "execution_count": 14,
          "metadata": {},
          "output_type": "execute_result"
        }
      ],
      "source": [
        "#cell type in gene set annotation dictionary\n",
        "list(set(annotations.keys()))"
      ]
    },
    {
      "cell_type": "markdown",
      "metadata": {
        "id": "bSKFHS3rs8ae"
      },
      "source": [
        "**if labels do not match adjust the labels either in adata or in annotations**"
      ]
    },
    {
      "cell_type": "markdown",
      "metadata": {
        "id": "D5EvurEfs2aL"
      },
      "source": [
        "For example define and map a dictionary mapping the annotations in the adata object to the keys in the gene set annotations dictionary or vice versa. **Note that if you have a cell type in your adata for which you do not have any gene sets in your gene set annotation dictionary you must include an empty dictionary under that cell type key.** Afterwards confirm that the matching has worked:"
      ]
    },
    {
      "cell_type": "code",
      "execution_count": 15,
      "metadata": {
        "colab": {
          "base_uri": "https://localhost:8080/"
        },
        "id": "DNY50iPdyo_5",
        "outputId": "51c8d1f3-2587-4593-aff0-f13a55ed570a"
      },
      "outputs": [
        {
          "name": "stdout",
          "output_type": "stream",
          "text": [
            "Cell type labels in gene set annotation dictionary and AnnData object are identical\n",
            "Your gene set annotation dictionary is correctly formatted.\n"
          ]
        }
      ],
      "source": [
        "#filter gene set annotation dict for genes contained in adata\n",
        "annotations = check_gene_set_dictionary(adata, annotations, obs_key='cell_type_annotations',global_key='global')"
      ]
    },
    {
      "cell_type": "markdown",
      "metadata": {
        "id": "u3-E0Hsstt2L"
      },
      "source": [
        "# Fit Spectra model"
      ]
    },
    {
      "attachments": {},
      "cell_type": "markdown",
      "metadata": {
        "id": "q-G3dGLPtp8P"
      },
      "source": [
        "**General comments**\n",
        "\n",
        "We start by importing spectra. The easiest way to run spectra is to use the `est_spectra` function in the `spectra` module, as shown below. The default behavior is to set the number of factors equal to the number of gene sets plus one. However, this can be modified by passing an integer e.g. `L = 20` as an argument to the function or a dictionary that maps cell type to an integer per cell type. We provide a method for estimating the number of factors directly from the data by bulk eigenvalue matching analysis, which is detailed further below. \n",
        "\n",
        "**Computational comments**\n",
        "\n",
        "Spectra is memory and cpu intensive.\n",
        "\n",
        "The here-provided dataset can be run on most computers. For bigger datasets you want to run this in non-interactive mode, as runtime can be 1-2 days for a dataset of ca 200,000 cells with 250 factors and 10 cell types. Run time scales linearly with the number of cell types in your data.\n",
        "\n",
        "An example hardware you could run a 200,000 cell, 10 cell type, 250 factor dataset on would be:\n",
        "\n",
        "16 cpus Intel Xeon Gold 256 GB RAM\n",
        "\n",
        "**Parameters**\n",
        "\n",
        "`adata` : AnnData object containing cell_type_key with log count data stored in .X\n",
        "\n",
        "`gene_set_dictionary`:dict or OrderedDict() maps cell types to gene set names to gene sets ; if use_cell_types == False then maps gene set names to gene sets ; must contain \"global\" key in addition to every unique cell type under .obs.<cell_type_key>\n",
        "\n",
        "`L`: dict, OrderedDict(), int , NoneType number of factors per cell type ; if use_cell_types == False then int. Else dictionary. If None then match factors to number of gene sets (recommended)\n",
        "\n",
        "`use_highly_variable` : bool if True, then uses highly_variable_genes\n",
        "\n",
        "`cell_type_key`: str cell type key, must be under adata.obs.<cell_type_key> . If use_cell_types == False, this is ignored\n",
        "\n",
        "`use_weights`: bool if True, edge weights are estimated based on graph structure and used throughout training\n",
        "\n",
        "`lam`: float lambda parameter of the model. weighs relative contribution of graph and expression loss functions\n",
        "\n",
        "`delta`: float delta parameter of the model. lower bounds possible gene scaling factors so that maximum ratio of gene scalings cannot be too large\n",
        "\n",
        "`kappa`: float or None if None, estimate background rate of 1s in the graph from data\n",
        "\n",
        "`rho`: float or None if None, estimate background rate of 0s in the graph from data\n",
        "\n",
        "`use_cell_types` : bool if True then cell type label is used to fit cell type specific factors. If false then cell types are ignored\n",
        "\n",
        "`n_top_vals` : int number of top markers to return in markers dataframe\n",
        "\n",
        "`determinant_penalty` : float determinant penalty of the attention mechanism. If set higher than 0 then sparse solutions of the attention weights and diverse attention weights are encouraged. However, tuning is crucial as setting too high reduces the selection accuracy because convergence to a hard selection occurs early during training [todo: annealing strategy]\n",
        "\n",
        "`filter_sets` : bool whether to filter the gene sets based on coherence\n",
        "\n",
        "`label_factors` : bool whether to label the factors by their cell type specificity and their Szymkiewicz–Simpson overlap coefficient with the input marker genes\n",
        "\n",
        "`overlap_threshold`: float minimum overlap coefficient to assign an input gene set label to a factor\n",
        "\n",
        "``**kwargs`` : (num_epochs = 10000, lr_schedule = [...], verbose = False) arguments to .train(), maximum number of training epochs, learning rate schedule and whether to print changes in learning rate\n",
        "\n",
        "**Returns**: SPECTRA_Model object [after training]\n",
        "\n",
        "**In place**: adds 1. factors, 2. cell scores, 3. vocabulary, and 4. markers as attributes in .obsm, .var, .uns\n",
        "\n",
        "**default parameters:** `est_spectra(adata, gene_set_dictionary, L = None,use_highly_variable = True, cell_type_key = None, use_weights = True, lam = 0.008, delta=0.001,kappa = None, rho = 0.05, use_cell_types = True, n_top_vals = 50, \n",
        "filter_sets = True, label_factors=True, overlap_threshold= 0.2, **kwargs)`\n",
        "\n"
      ]
    },
    {
      "cell_type": "markdown",
      "metadata": {
        "id": "zKETp-2LtmAs"
      },
      "source": [
        "**fit model with cell type annotations**\n",
        "\n",
        "Running Spectra with the cell type annotations will give you both global and cell type specific factors."
      ]
    },
    {
      "cell_type": "code",
      "execution_count": 21,
      "metadata": {
        "colab": {
          "base_uri": "https://localhost:8080/"
        },
        "id": "6XDuS4eoopXS",
        "outputId": "c604731b-0517-4f60-927d-dab12bd8fdf7"
      },
      "outputs": [
        {
          "name": "stderr",
          "output_type": "stream",
          "text": [
            "100%|██████████| 2/2 [00:43<00:00, 21.93s/it]\n"
          ]
        }
      ],
      "source": [
        "#fit the model (We will run this with only 2 epochs to decrease runtime in this tutorial)\n",
        "model = spc.est_spectra(adata = adata, gene_set_dictionary = annotations, \n",
        "                        use_highly_variable = True, cell_type_key = \"cell_type_annotations\", \n",
        "                        use_weights = True, lam = 0.1, \n",
        "                        delta=0.001,kappa = 0.00001, rho = 0.00001, \n",
        "                        use_cell_types = True, n_top_vals = 25, \n",
        "                        label_factors = True, #whether to label the factors by their overlap coefficient with the input gene sets\n",
        "                        overlap_threshold = 0.2, #minimum overlap coefficient that has to be surpassed to assign a label to a factor\n",
        "                        num_epochs=2 #for demonstration purposes we will only run 2 epochs, we recommend 10,000 epochs\n",
        "                       )"
      ]
    },
    {
      "attachments": {},
      "cell_type": "markdown",
      "metadata": {},
      "source": [
        "## Accessing quantities stored in AnnData"
      ]
    },
    {
      "cell_type": "markdown",
      "metadata": {},
      "source": [
        "This function stores four important quantities in the AnnData, in addition to returning a fitted model object. *Factors* are the scores that tell you how much each gene contributes to each factor:"
      ]
    },
    {
      "cell_type": "code",
      "execution_count": null,
      "metadata": {},
      "outputs": [],
      "source": [
        "#find the factors under adata.uns['SPECTRA_factors'] \n",
        "adata.uns['SPECTRA_factors']"
      ]
    },
    {
      "cell_type": "code",
      "execution_count": null,
      "metadata": {},
      "outputs": [],
      "source": [
        "#so you can construct a dataframe for the factor gene weights\n",
        "\n",
        "#include cell type specificity as a prefix into the index\n",
        "index_labels = [celltype_dict[x]+'_'+str(x) for x in range(adata.uns['SPECTRA_factors'].shape[0])]\n",
        "gene_weights = pd.DataFrame(adata.uns['SPECTRA_factors'], \n",
        "                            index= index_labels,\n",
        "                            columns=adata.var[adata.var['spectra_vocab']].index)\n",
        "gene_weights"
      ]
    },
    {
      "cell_type": "markdown",
      "metadata": {},
      "source": [
        "*Markers* is an array of genes with top scores for every factor:"
      ]
    },
    {
      "cell_type": "code",
      "execution_count": null,
      "metadata": {},
      "outputs": [
        {
          "data": {
            "text/plain": [
              "array([['HLCS', 'BTD', 'SLC16A1', ..., 'CDKN2C', 'TPRKB', 'MAN1A2'],\n",
              "       ['ADA', 'HPRT1', 'AK3', ..., 'SLC28A3', 'PRLR', 'RRAD'],\n",
              "       ['ALDH1B1', 'ALDH3B2', 'ALDH3B1', ..., 'ENTPD1', 'PSMC3', 'SYNJ2'],\n",
              "       ...,\n",
              "       ['HMGB2', 'OTULINL', 'ZAP70', ..., 'CST3', 'COL15A1', 'GPX4'],\n",
              "       ['RGS22', 'MT1H', 'IRF8', ..., 'CYP4F11', 'ACSS2', 'PTGDS'],\n",
              "       ['IGLL5', 'FKBP11', 'SLC4A2', ..., 'DERL3', 'COL16A1', 'PDIA6']],\n",
              "      dtype=object)"
            ]
          },
          "metadata": {},
          "output_type": "display_data"
        }
      ],
      "source": [
        "#find an array of the marker genes per factor here:\n",
        "adata.uns['SPECTRA_markers']"
      ]
    },
    {
      "cell_type": "markdown",
      "metadata": {},
      "source": [
        "We also provide an approach to label the factors by their Szymkiewicz–Simpson overlap coefficient with the input gene sets. Each factors receives the label of the input gene set with the highest overlap coefficient, given that it the overlap coefficient is greater than the threshold defined in 'overlap_threshold'.\n",
        "\n",
        "We provide a pandas.DataFrame indicating the overlap coefficients for each input gene set with each factor's marker genes. The index of this dataframe contains the *index* of each factor, *assigned label* as well as the *cell type specificity* for each factor in the format:\n",
        "\n",
        "`['index' + '-X-' + 'cell type specificity' + '-X-' + 'assigned label', ...]`"
      ]
    },
    {
      "cell_type": "code",
      "execution_count": null,
      "metadata": {},
      "outputs": [
        {
          "data": {
            "text/html": [
              "<div>\n",
              "<style scoped>\n",
              "    .dataframe tbody tr th:only-of-type {\n",
              "        vertical-align: middle;\n",
              "    }\n",
              "\n",
              "    .dataframe tbody tr th {\n",
              "        vertical-align: top;\n",
              "    }\n",
              "\n",
              "    .dataframe thead th {\n",
              "        text-align: right;\n",
              "    }\n",
              "</style>\n",
              "<table border=\"1\" class=\"dataframe\">\n",
              "  <thead>\n",
              "    <tr style=\"text-align: right;\">\n",
              "      <th></th>\n",
              "      <th>B_Breg_UP</th>\n",
              "      <th>B_effector-2_UP</th>\n",
              "      <th>B_effector-1_UP</th>\n",
              "      <th>B_IgM-ligation_response</th>\n",
              "      <th>CD4-T_IL12_response</th>\n",
              "      <th>TNK_IL2_response</th>\n",
              "      <th>CD4-T_TH22_UP</th>\n",
              "      <th>CD4-T_TH17_UP</th>\n",
              "      <th>TNK_IL2-STAT5-signaling</th>\n",
              "      <th>T_IL21_response</th>\n",
              "      <th>...</th>\n",
              "      <th>all_thiamin_metabolism</th>\n",
              "      <th>all_NOTCH_signaling</th>\n",
              "      <th>all_galactose_metabolism</th>\n",
              "      <th>all_MYC_targets</th>\n",
              "      <th>all_GLU_metabolism</th>\n",
              "      <th>all_fatty-acid_synthesis</th>\n",
              "      <th>all_glycolysis</th>\n",
              "      <th>all_glutathione_metabolism</th>\n",
              "      <th>all_IL6-JAK-STAT3_signaling</th>\n",
              "      <th>all_autophagy-chaperone-mediated</th>\n",
              "    </tr>\n",
              "  </thead>\n",
              "  <tbody>\n",
              "    <tr>\n",
              "      <th>0-X-global-X-all_biotin_metabolism</th>\n",
              "      <td>0.0</td>\n",
              "      <td>0.0</td>\n",
              "      <td>0.0</td>\n",
              "      <td>0.00</td>\n",
              "      <td>0.0</td>\n",
              "      <td>0.000000</td>\n",
              "      <td>0.0</td>\n",
              "      <td>0.000000</td>\n",
              "      <td>0.04</td>\n",
              "      <td>0.0</td>\n",
              "      <td>...</td>\n",
              "      <td>0.0</td>\n",
              "      <td>0.00</td>\n",
              "      <td>0.000000</td>\n",
              "      <td>0.04</td>\n",
              "      <td>0.0</td>\n",
              "      <td>0.0</td>\n",
              "      <td>0.000000</td>\n",
              "      <td>0.000000</td>\n",
              "      <td>0.00</td>\n",
              "      <td>0.000000</td>\n",
              "    </tr>\n",
              "    <tr>\n",
              "      <th>1-X-global-X-all_purine_synthesis</th>\n",
              "      <td>0.0</td>\n",
              "      <td>0.0</td>\n",
              "      <td>0.0</td>\n",
              "      <td>0.00</td>\n",
              "      <td>0.0</td>\n",
              "      <td>0.000000</td>\n",
              "      <td>0.0</td>\n",
              "      <td>0.000000</td>\n",
              "      <td>0.08</td>\n",
              "      <td>0.0</td>\n",
              "      <td>...</td>\n",
              "      <td>0.0</td>\n",
              "      <td>0.00</td>\n",
              "      <td>0.000000</td>\n",
              "      <td>0.04</td>\n",
              "      <td>0.0</td>\n",
              "      <td>0.0</td>\n",
              "      <td>0.000000</td>\n",
              "      <td>0.000000</td>\n",
              "      <td>0.00</td>\n",
              "      <td>0.000000</td>\n",
              "    </tr>\n",
              "    <tr>\n",
              "      <th>2-X-global-X-all_ethanol_metabolism</th>\n",
              "      <td>0.0</td>\n",
              "      <td>0.0</td>\n",
              "      <td>0.0</td>\n",
              "      <td>0.00</td>\n",
              "      <td>0.0</td>\n",
              "      <td>0.000000</td>\n",
              "      <td>0.0</td>\n",
              "      <td>0.000000</td>\n",
              "      <td>0.04</td>\n",
              "      <td>0.0</td>\n",
              "      <td>...</td>\n",
              "      <td>0.0</td>\n",
              "      <td>0.04</td>\n",
              "      <td>0.000000</td>\n",
              "      <td>0.00</td>\n",
              "      <td>0.0</td>\n",
              "      <td>0.0</td>\n",
              "      <td>0.000000</td>\n",
              "      <td>0.000000</td>\n",
              "      <td>0.00</td>\n",
              "      <td>0.066667</td>\n",
              "    </tr>\n",
              "    <tr>\n",
              "      <th>3-X-global-X-all_amino-sugar-nucleotide-sugar_metabolism</th>\n",
              "      <td>0.0</td>\n",
              "      <td>0.0</td>\n",
              "      <td>0.0</td>\n",
              "      <td>0.00</td>\n",
              "      <td>0.0</td>\n",
              "      <td>0.000000</td>\n",
              "      <td>0.0</td>\n",
              "      <td>0.000000</td>\n",
              "      <td>0.00</td>\n",
              "      <td>0.0</td>\n",
              "      <td>...</td>\n",
              "      <td>0.0</td>\n",
              "      <td>0.00</td>\n",
              "      <td>0.055556</td>\n",
              "      <td>0.00</td>\n",
              "      <td>0.0</td>\n",
              "      <td>0.0</td>\n",
              "      <td>0.041667</td>\n",
              "      <td>0.000000</td>\n",
              "      <td>0.00</td>\n",
              "      <td>0.000000</td>\n",
              "    </tr>\n",
              "    <tr>\n",
              "      <th>4-X-global-X-all_steroid_metabolism</th>\n",
              "      <td>0.0</td>\n",
              "      <td>0.0</td>\n",
              "      <td>0.0</td>\n",
              "      <td>0.00</td>\n",
              "      <td>0.0</td>\n",
              "      <td>0.000000</td>\n",
              "      <td>0.0</td>\n",
              "      <td>0.000000</td>\n",
              "      <td>0.00</td>\n",
              "      <td>0.0</td>\n",
              "      <td>...</td>\n",
              "      <td>0.0</td>\n",
              "      <td>0.00</td>\n",
              "      <td>0.000000</td>\n",
              "      <td>0.00</td>\n",
              "      <td>0.0</td>\n",
              "      <td>0.0</td>\n",
              "      <td>0.000000</td>\n",
              "      <td>0.000000</td>\n",
              "      <td>0.00</td>\n",
              "      <td>0.000000</td>\n",
              "    </tr>\n",
              "    <tr>\n",
              "      <th>...</th>\n",
              "      <td>...</td>\n",
              "      <td>...</td>\n",
              "      <td>...</td>\n",
              "      <td>...</td>\n",
              "      <td>...</td>\n",
              "      <td>...</td>\n",
              "      <td>...</td>\n",
              "      <td>...</td>\n",
              "      <td>...</td>\n",
              "      <td>...</td>\n",
              "      <td>...</td>\n",
              "      <td>...</td>\n",
              "      <td>...</td>\n",
              "      <td>...</td>\n",
              "      <td>...</td>\n",
              "      <td>...</td>\n",
              "      <td>...</td>\n",
              "      <td>...</td>\n",
              "      <td>...</td>\n",
              "      <td>...</td>\n",
              "      <td>...</td>\n",
              "    </tr>\n",
              "    <tr>\n",
              "      <th>191-X-mast-X-mast_granule-exocytosis</th>\n",
              "      <td>0.0</td>\n",
              "      <td>0.0</td>\n",
              "      <td>0.0</td>\n",
              "      <td>0.00</td>\n",
              "      <td>0.0</td>\n",
              "      <td>0.000000</td>\n",
              "      <td>0.0</td>\n",
              "      <td>0.000000</td>\n",
              "      <td>0.00</td>\n",
              "      <td>0.0</td>\n",
              "      <td>...</td>\n",
              "      <td>0.0</td>\n",
              "      <td>0.00</td>\n",
              "      <td>0.000000</td>\n",
              "      <td>0.00</td>\n",
              "      <td>0.0</td>\n",
              "      <td>0.0</td>\n",
              "      <td>0.000000</td>\n",
              "      <td>0.047619</td>\n",
              "      <td>0.00</td>\n",
              "      <td>0.000000</td>\n",
              "    </tr>\n",
              "    <tr>\n",
              "      <th>192-X-mast-X-192</th>\n",
              "      <td>0.0</td>\n",
              "      <td>0.0</td>\n",
              "      <td>0.0</td>\n",
              "      <td>0.00</td>\n",
              "      <td>0.0</td>\n",
              "      <td>0.055556</td>\n",
              "      <td>0.0</td>\n",
              "      <td>0.000000</td>\n",
              "      <td>0.08</td>\n",
              "      <td>0.0</td>\n",
              "      <td>...</td>\n",
              "      <td>0.0</td>\n",
              "      <td>0.00</td>\n",
              "      <td>0.000000</td>\n",
              "      <td>0.00</td>\n",
              "      <td>0.0</td>\n",
              "      <td>0.0</td>\n",
              "      <td>0.000000</td>\n",
              "      <td>0.000000</td>\n",
              "      <td>0.00</td>\n",
              "      <td>0.066667</td>\n",
              "    </tr>\n",
              "    <tr>\n",
              "      <th>193-X-pDC-X-p-DC_CpG-TLR9_response</th>\n",
              "      <td>0.0</td>\n",
              "      <td>0.0</td>\n",
              "      <td>0.0</td>\n",
              "      <td>0.00</td>\n",
              "      <td>0.0</td>\n",
              "      <td>0.000000</td>\n",
              "      <td>0.0</td>\n",
              "      <td>0.000000</td>\n",
              "      <td>0.00</td>\n",
              "      <td>0.0</td>\n",
              "      <td>...</td>\n",
              "      <td>0.0</td>\n",
              "      <td>0.00</td>\n",
              "      <td>0.000000</td>\n",
              "      <td>0.04</td>\n",
              "      <td>0.0</td>\n",
              "      <td>0.0</td>\n",
              "      <td>0.000000</td>\n",
              "      <td>0.000000</td>\n",
              "      <td>0.00</td>\n",
              "      <td>0.000000</td>\n",
              "    </tr>\n",
              "    <tr>\n",
              "      <th>194-X-pDC-X-194</th>\n",
              "      <td>0.0</td>\n",
              "      <td>0.0</td>\n",
              "      <td>0.0</td>\n",
              "      <td>0.04</td>\n",
              "      <td>0.0</td>\n",
              "      <td>0.055556</td>\n",
              "      <td>0.0</td>\n",
              "      <td>0.000000</td>\n",
              "      <td>0.12</td>\n",
              "      <td>0.0</td>\n",
              "      <td>...</td>\n",
              "      <td>0.0</td>\n",
              "      <td>0.00</td>\n",
              "      <td>0.055556</td>\n",
              "      <td>0.04</td>\n",
              "      <td>0.0</td>\n",
              "      <td>0.0</td>\n",
              "      <td>0.000000</td>\n",
              "      <td>0.000000</td>\n",
              "      <td>0.04</td>\n",
              "      <td>0.000000</td>\n",
              "    </tr>\n",
              "    <tr>\n",
              "      <th>195-X-plasma-X-195</th>\n",
              "      <td>0.0</td>\n",
              "      <td>0.0</td>\n",
              "      <td>0.0</td>\n",
              "      <td>0.00</td>\n",
              "      <td>0.0</td>\n",
              "      <td>0.000000</td>\n",
              "      <td>0.0</td>\n",
              "      <td>0.066667</td>\n",
              "      <td>0.04</td>\n",
              "      <td>0.0</td>\n",
              "      <td>...</td>\n",
              "      <td>0.0</td>\n",
              "      <td>0.00</td>\n",
              "      <td>0.000000</td>\n",
              "      <td>0.04</td>\n",
              "      <td>0.0</td>\n",
              "      <td>0.0</td>\n",
              "      <td>0.041667</td>\n",
              "      <td>0.000000</td>\n",
              "      <td>0.04</td>\n",
              "      <td>0.000000</td>\n",
              "    </tr>\n",
              "  </tbody>\n",
              "</table>\n",
              "<p>196 rows × 181 columns</p>\n",
              "</div>"
            ],
            "text/plain": [
              "                                                    B_Breg_UP   \n",
              "0-X-global-X-all_biotin_metabolism                        0.0  \\\n",
              "1-X-global-X-all_purine_synthesis                         0.0   \n",
              "2-X-global-X-all_ethanol_metabolism                       0.0   \n",
              "3-X-global-X-all_amino-sugar-nucleotide-sugar_m...        0.0   \n",
              "4-X-global-X-all_steroid_metabolism                       0.0   \n",
              "...                                                       ...   \n",
              "191-X-mast-X-mast_granule-exocytosis                      0.0   \n",
              "192-X-mast-X-192                                          0.0   \n",
              "193-X-pDC-X-p-DC_CpG-TLR9_response                        0.0   \n",
              "194-X-pDC-X-194                                           0.0   \n",
              "195-X-plasma-X-195                                        0.0   \n",
              "\n",
              "                                                    B_effector-2_UP   \n",
              "0-X-global-X-all_biotin_metabolism                              0.0  \\\n",
              "1-X-global-X-all_purine_synthesis                               0.0   \n",
              "2-X-global-X-all_ethanol_metabolism                             0.0   \n",
              "3-X-global-X-all_amino-sugar-nucleotide-sugar_m...              0.0   \n",
              "4-X-global-X-all_steroid_metabolism                             0.0   \n",
              "...                                                             ...   \n",
              "191-X-mast-X-mast_granule-exocytosis                            0.0   \n",
              "192-X-mast-X-192                                                0.0   \n",
              "193-X-pDC-X-p-DC_CpG-TLR9_response                              0.0   \n",
              "194-X-pDC-X-194                                                 0.0   \n",
              "195-X-plasma-X-195                                              0.0   \n",
              "\n",
              "                                                    B_effector-1_UP   \n",
              "0-X-global-X-all_biotin_metabolism                              0.0  \\\n",
              "1-X-global-X-all_purine_synthesis                               0.0   \n",
              "2-X-global-X-all_ethanol_metabolism                             0.0   \n",
              "3-X-global-X-all_amino-sugar-nucleotide-sugar_m...              0.0   \n",
              "4-X-global-X-all_steroid_metabolism                             0.0   \n",
              "...                                                             ...   \n",
              "191-X-mast-X-mast_granule-exocytosis                            0.0   \n",
              "192-X-mast-X-192                                                0.0   \n",
              "193-X-pDC-X-p-DC_CpG-TLR9_response                              0.0   \n",
              "194-X-pDC-X-194                                                 0.0   \n",
              "195-X-plasma-X-195                                              0.0   \n",
              "\n",
              "                                                    B_IgM-ligation_response   \n",
              "0-X-global-X-all_biotin_metabolism                                     0.00  \\\n",
              "1-X-global-X-all_purine_synthesis                                      0.00   \n",
              "2-X-global-X-all_ethanol_metabolism                                    0.00   \n",
              "3-X-global-X-all_amino-sugar-nucleotide-sugar_m...                     0.00   \n",
              "4-X-global-X-all_steroid_metabolism                                    0.00   \n",
              "...                                                                     ...   \n",
              "191-X-mast-X-mast_granule-exocytosis                                   0.00   \n",
              "192-X-mast-X-192                                                       0.00   \n",
              "193-X-pDC-X-p-DC_CpG-TLR9_response                                     0.00   \n",
              "194-X-pDC-X-194                                                        0.04   \n",
              "195-X-plasma-X-195                                                     0.00   \n",
              "\n",
              "                                                    CD4-T_IL12_response   \n",
              "0-X-global-X-all_biotin_metabolism                                  0.0  \\\n",
              "1-X-global-X-all_purine_synthesis                                   0.0   \n",
              "2-X-global-X-all_ethanol_metabolism                                 0.0   \n",
              "3-X-global-X-all_amino-sugar-nucleotide-sugar_m...                  0.0   \n",
              "4-X-global-X-all_steroid_metabolism                                 0.0   \n",
              "...                                                                 ...   \n",
              "191-X-mast-X-mast_granule-exocytosis                                0.0   \n",
              "192-X-mast-X-192                                                    0.0   \n",
              "193-X-pDC-X-p-DC_CpG-TLR9_response                                  0.0   \n",
              "194-X-pDC-X-194                                                     0.0   \n",
              "195-X-plasma-X-195                                                  0.0   \n",
              "\n",
              "                                                    TNK_IL2_response   \n",
              "0-X-global-X-all_biotin_metabolism                          0.000000  \\\n",
              "1-X-global-X-all_purine_synthesis                           0.000000   \n",
              "2-X-global-X-all_ethanol_metabolism                         0.000000   \n",
              "3-X-global-X-all_amino-sugar-nucleotide-sugar_m...          0.000000   \n",
              "4-X-global-X-all_steroid_metabolism                         0.000000   \n",
              "...                                                              ...   \n",
              "191-X-mast-X-mast_granule-exocytosis                        0.000000   \n",
              "192-X-mast-X-192                                            0.055556   \n",
              "193-X-pDC-X-p-DC_CpG-TLR9_response                          0.000000   \n",
              "194-X-pDC-X-194                                             0.055556   \n",
              "195-X-plasma-X-195                                          0.000000   \n",
              "\n",
              "                                                    CD4-T_TH22_UP   \n",
              "0-X-global-X-all_biotin_metabolism                            0.0  \\\n",
              "1-X-global-X-all_purine_synthesis                             0.0   \n",
              "2-X-global-X-all_ethanol_metabolism                           0.0   \n",
              "3-X-global-X-all_amino-sugar-nucleotide-sugar_m...            0.0   \n",
              "4-X-global-X-all_steroid_metabolism                           0.0   \n",
              "...                                                           ...   \n",
              "191-X-mast-X-mast_granule-exocytosis                          0.0   \n",
              "192-X-mast-X-192                                              0.0   \n",
              "193-X-pDC-X-p-DC_CpG-TLR9_response                            0.0   \n",
              "194-X-pDC-X-194                                               0.0   \n",
              "195-X-plasma-X-195                                            0.0   \n",
              "\n",
              "                                                    CD4-T_TH17_UP   \n",
              "0-X-global-X-all_biotin_metabolism                       0.000000  \\\n",
              "1-X-global-X-all_purine_synthesis                        0.000000   \n",
              "2-X-global-X-all_ethanol_metabolism                      0.000000   \n",
              "3-X-global-X-all_amino-sugar-nucleotide-sugar_m...       0.000000   \n",
              "4-X-global-X-all_steroid_metabolism                      0.000000   \n",
              "...                                                           ...   \n",
              "191-X-mast-X-mast_granule-exocytosis                     0.000000   \n",
              "192-X-mast-X-192                                         0.000000   \n",
              "193-X-pDC-X-p-DC_CpG-TLR9_response                       0.000000   \n",
              "194-X-pDC-X-194                                          0.000000   \n",
              "195-X-plasma-X-195                                       0.066667   \n",
              "\n",
              "                                                    TNK_IL2-STAT5-signaling   \n",
              "0-X-global-X-all_biotin_metabolism                                     0.04  \\\n",
              "1-X-global-X-all_purine_synthesis                                      0.08   \n",
              "2-X-global-X-all_ethanol_metabolism                                    0.04   \n",
              "3-X-global-X-all_amino-sugar-nucleotide-sugar_m...                     0.00   \n",
              "4-X-global-X-all_steroid_metabolism                                    0.00   \n",
              "...                                                                     ...   \n",
              "191-X-mast-X-mast_granule-exocytosis                                   0.00   \n",
              "192-X-mast-X-192                                                       0.08   \n",
              "193-X-pDC-X-p-DC_CpG-TLR9_response                                     0.00   \n",
              "194-X-pDC-X-194                                                        0.12   \n",
              "195-X-plasma-X-195                                                     0.04   \n",
              "\n",
              "                                                    T_IL21_response  ...   \n",
              "0-X-global-X-all_biotin_metabolism                              0.0  ...  \\\n",
              "1-X-global-X-all_purine_synthesis                               0.0  ...   \n",
              "2-X-global-X-all_ethanol_metabolism                             0.0  ...   \n",
              "3-X-global-X-all_amino-sugar-nucleotide-sugar_m...              0.0  ...   \n",
              "4-X-global-X-all_steroid_metabolism                             0.0  ...   \n",
              "...                                                             ...  ...   \n",
              "191-X-mast-X-mast_granule-exocytosis                            0.0  ...   \n",
              "192-X-mast-X-192                                                0.0  ...   \n",
              "193-X-pDC-X-p-DC_CpG-TLR9_response                              0.0  ...   \n",
              "194-X-pDC-X-194                                                 0.0  ...   \n",
              "195-X-plasma-X-195                                              0.0  ...   \n",
              "\n",
              "                                                    all_thiamin_metabolism   \n",
              "0-X-global-X-all_biotin_metabolism                                     0.0  \\\n",
              "1-X-global-X-all_purine_synthesis                                      0.0   \n",
              "2-X-global-X-all_ethanol_metabolism                                    0.0   \n",
              "3-X-global-X-all_amino-sugar-nucleotide-sugar_m...                     0.0   \n",
              "4-X-global-X-all_steroid_metabolism                                    0.0   \n",
              "...                                                                    ...   \n",
              "191-X-mast-X-mast_granule-exocytosis                                   0.0   \n",
              "192-X-mast-X-192                                                       0.0   \n",
              "193-X-pDC-X-p-DC_CpG-TLR9_response                                     0.0   \n",
              "194-X-pDC-X-194                                                        0.0   \n",
              "195-X-plasma-X-195                                                     0.0   \n",
              "\n",
              "                                                    all_NOTCH_signaling   \n",
              "0-X-global-X-all_biotin_metabolism                                 0.00  \\\n",
              "1-X-global-X-all_purine_synthesis                                  0.00   \n",
              "2-X-global-X-all_ethanol_metabolism                                0.04   \n",
              "3-X-global-X-all_amino-sugar-nucleotide-sugar_m...                 0.00   \n",
              "4-X-global-X-all_steroid_metabolism                                0.00   \n",
              "...                                                                 ...   \n",
              "191-X-mast-X-mast_granule-exocytosis                               0.00   \n",
              "192-X-mast-X-192                                                   0.00   \n",
              "193-X-pDC-X-p-DC_CpG-TLR9_response                                 0.00   \n",
              "194-X-pDC-X-194                                                    0.00   \n",
              "195-X-plasma-X-195                                                 0.00   \n",
              "\n",
              "                                                    all_galactose_metabolism   \n",
              "0-X-global-X-all_biotin_metabolism                                  0.000000  \\\n",
              "1-X-global-X-all_purine_synthesis                                   0.000000   \n",
              "2-X-global-X-all_ethanol_metabolism                                 0.000000   \n",
              "3-X-global-X-all_amino-sugar-nucleotide-sugar_m...                  0.055556   \n",
              "4-X-global-X-all_steroid_metabolism                                 0.000000   \n",
              "...                                                                      ...   \n",
              "191-X-mast-X-mast_granule-exocytosis                                0.000000   \n",
              "192-X-mast-X-192                                                    0.000000   \n",
              "193-X-pDC-X-p-DC_CpG-TLR9_response                                  0.000000   \n",
              "194-X-pDC-X-194                                                     0.055556   \n",
              "195-X-plasma-X-195                                                  0.000000   \n",
              "\n",
              "                                                    all_MYC_targets   \n",
              "0-X-global-X-all_biotin_metabolism                             0.04  \\\n",
              "1-X-global-X-all_purine_synthesis                              0.04   \n",
              "2-X-global-X-all_ethanol_metabolism                            0.00   \n",
              "3-X-global-X-all_amino-sugar-nucleotide-sugar_m...             0.00   \n",
              "4-X-global-X-all_steroid_metabolism                            0.00   \n",
              "...                                                             ...   \n",
              "191-X-mast-X-mast_granule-exocytosis                           0.00   \n",
              "192-X-mast-X-192                                               0.00   \n",
              "193-X-pDC-X-p-DC_CpG-TLR9_response                             0.04   \n",
              "194-X-pDC-X-194                                                0.04   \n",
              "195-X-plasma-X-195                                             0.04   \n",
              "\n",
              "                                                    all_GLU_metabolism   \n",
              "0-X-global-X-all_biotin_metabolism                                 0.0  \\\n",
              "1-X-global-X-all_purine_synthesis                                  0.0   \n",
              "2-X-global-X-all_ethanol_metabolism                                0.0   \n",
              "3-X-global-X-all_amino-sugar-nucleotide-sugar_m...                 0.0   \n",
              "4-X-global-X-all_steroid_metabolism                                0.0   \n",
              "...                                                                ...   \n",
              "191-X-mast-X-mast_granule-exocytosis                               0.0   \n",
              "192-X-mast-X-192                                                   0.0   \n",
              "193-X-pDC-X-p-DC_CpG-TLR9_response                                 0.0   \n",
              "194-X-pDC-X-194                                                    0.0   \n",
              "195-X-plasma-X-195                                                 0.0   \n",
              "\n",
              "                                                    all_fatty-acid_synthesis   \n",
              "0-X-global-X-all_biotin_metabolism                                       0.0  \\\n",
              "1-X-global-X-all_purine_synthesis                                        0.0   \n",
              "2-X-global-X-all_ethanol_metabolism                                      0.0   \n",
              "3-X-global-X-all_amino-sugar-nucleotide-sugar_m...                       0.0   \n",
              "4-X-global-X-all_steroid_metabolism                                      0.0   \n",
              "...                                                                      ...   \n",
              "191-X-mast-X-mast_granule-exocytosis                                     0.0   \n",
              "192-X-mast-X-192                                                         0.0   \n",
              "193-X-pDC-X-p-DC_CpG-TLR9_response                                       0.0   \n",
              "194-X-pDC-X-194                                                          0.0   \n",
              "195-X-plasma-X-195                                                       0.0   \n",
              "\n",
              "                                                    all_glycolysis   \n",
              "0-X-global-X-all_biotin_metabolism                        0.000000  \\\n",
              "1-X-global-X-all_purine_synthesis                         0.000000   \n",
              "2-X-global-X-all_ethanol_metabolism                       0.000000   \n",
              "3-X-global-X-all_amino-sugar-nucleotide-sugar_m...        0.041667   \n",
              "4-X-global-X-all_steroid_metabolism                       0.000000   \n",
              "...                                                            ...   \n",
              "191-X-mast-X-mast_granule-exocytosis                      0.000000   \n",
              "192-X-mast-X-192                                          0.000000   \n",
              "193-X-pDC-X-p-DC_CpG-TLR9_response                        0.000000   \n",
              "194-X-pDC-X-194                                           0.000000   \n",
              "195-X-plasma-X-195                                        0.041667   \n",
              "\n",
              "                                                    all_glutathione_metabolism   \n",
              "0-X-global-X-all_biotin_metabolism                                    0.000000  \\\n",
              "1-X-global-X-all_purine_synthesis                                     0.000000   \n",
              "2-X-global-X-all_ethanol_metabolism                                   0.000000   \n",
              "3-X-global-X-all_amino-sugar-nucleotide-sugar_m...                    0.000000   \n",
              "4-X-global-X-all_steroid_metabolism                                   0.000000   \n",
              "...                                                                        ...   \n",
              "191-X-mast-X-mast_granule-exocytosis                                  0.047619   \n",
              "192-X-mast-X-192                                                      0.000000   \n",
              "193-X-pDC-X-p-DC_CpG-TLR9_response                                    0.000000   \n",
              "194-X-pDC-X-194                                                       0.000000   \n",
              "195-X-plasma-X-195                                                    0.000000   \n",
              "\n",
              "                                                    all_IL6-JAK-STAT3_signaling   \n",
              "0-X-global-X-all_biotin_metabolism                                         0.00  \\\n",
              "1-X-global-X-all_purine_synthesis                                          0.00   \n",
              "2-X-global-X-all_ethanol_metabolism                                        0.00   \n",
              "3-X-global-X-all_amino-sugar-nucleotide-sugar_m...                         0.00   \n",
              "4-X-global-X-all_steroid_metabolism                                        0.00   \n",
              "...                                                                         ...   \n",
              "191-X-mast-X-mast_granule-exocytosis                                       0.00   \n",
              "192-X-mast-X-192                                                           0.00   \n",
              "193-X-pDC-X-p-DC_CpG-TLR9_response                                         0.00   \n",
              "194-X-pDC-X-194                                                            0.04   \n",
              "195-X-plasma-X-195                                                         0.04   \n",
              "\n",
              "                                                    all_autophagy-chaperone-mediated  \n",
              "0-X-global-X-all_biotin_metabolism                                          0.000000  \n",
              "1-X-global-X-all_purine_synthesis                                           0.000000  \n",
              "2-X-global-X-all_ethanol_metabolism                                         0.066667  \n",
              "3-X-global-X-all_amino-sugar-nucleotide-sugar_m...                          0.000000  \n",
              "4-X-global-X-all_steroid_metabolism                                         0.000000  \n",
              "...                                                                              ...  \n",
              "191-X-mast-X-mast_granule-exocytosis                                        0.000000  \n",
              "192-X-mast-X-192                                                            0.066667  \n",
              "193-X-pDC-X-p-DC_CpG-TLR9_response                                          0.000000  \n",
              "194-X-pDC-X-194                                                             0.000000  \n",
              "195-X-plasma-X-195                                                          0.000000  \n",
              "\n",
              "[196 rows x 181 columns]"
            ]
          },
          "metadata": {},
          "output_type": "display_data"
        }
      ],
      "source": [
        "adata.uns['SPECTRA_overlap']"
      ]
    },
    {
      "cell_type": "markdown",
      "metadata": {},
      "source": [
        "*Cell scores* are similarly the score of each factor for every cell:"
      ]
    },
    {
      "cell_type": "code",
      "execution_count": null,
      "metadata": {},
      "outputs": [
        {
          "data": {
            "text/plain": [
              "array([[2.86921709e-06, 1.42483159e-05, 1.07089967e-05, ...,\n",
              "        0.00000000e+00, 0.00000000e+00, 0.00000000e+00],\n",
              "       [6.49965669e-06, 1.03690413e-05, 3.49707927e-06, ...,\n",
              "        0.00000000e+00, 0.00000000e+00, 0.00000000e+00],\n",
              "       [8.00530370e-06, 7.67099394e-05, 1.86200068e-05, ...,\n",
              "        0.00000000e+00, 0.00000000e+00, 0.00000000e+00],\n",
              "       ...,\n",
              "       [1.07195792e-05, 2.10324578e-05, 2.21568911e-06, ...,\n",
              "        0.00000000e+00, 0.00000000e+00, 0.00000000e+00],\n",
              "       [1.23273984e-05, 1.34339596e-05, 1.21239664e-06, ...,\n",
              "        0.00000000e+00, 0.00000000e+00, 0.00000000e+00],\n",
              "       [9.02660825e-06, 6.14785966e-06, 5.36833925e-05, ...,\n",
              "        0.00000000e+00, 0.00000000e+00, 0.00000000e+00]])"
            ]
          },
          "metadata": {},
          "output_type": "display_data"
        }
      ],
      "source": [
        "#find an array of cell scores per factor and cell here:\n",
        "adata.obsm['SPECTRA_cell_scores']"
      ]
    },
    {
      "cell_type": "markdown",
      "metadata": {},
      "source": [
        "Vocab is a boolean array that is `True` for genes that were used while fitting the model - note that this quantity is only added to the AnnData when `highly_variable` is set to `True`:"
      ]
    },
    {
      "cell_type": "code",
      "execution_count": null,
      "metadata": {},
      "outputs": [
        {
          "data": {
            "text/plain": [
              "KCNC3      True\n",
              "NDUFS3     True\n",
              "HACD1      True\n",
              "FAM214A    True\n",
              "TBCD       True\n",
              "           ... \n",
              "FDFT1      True\n",
              "HACD4      True\n",
              "FCGR3A     True\n",
              "AZGP1      True\n",
              "SLC35A1    True\n",
              "Name: spectra_vocab, Length: 6397, dtype: bool"
            ]
          },
          "metadata": {},
          "output_type": "display_data"
        }
      ],
      "source": [
        "#find the vocab here:\n",
        "adata.var['spectra_vocab']"
      ]
    },
    {
      "cell_type": "markdown",
      "metadata": {},
      "source": [
        "It also includes a dictionary of the factor numbers per cell type:"
      ]
    },
    {
      "cell_type": "code",
      "execution_count": null,
      "metadata": {},
      "outputs": [
        {
          "data": {
            "text/plain": [
              "{'B_GC': 1,\n",
              " 'B_memory': 5,\n",
              " 'B_naive': 1,\n",
              " 'CD4_T': 12,\n",
              " 'CD8_T': 7,\n",
              " 'DC': 3,\n",
              " 'ILC3': 1,\n",
              " 'MDC': 6,\n",
              " 'NK': 1,\n",
              " 'Treg': 2,\n",
              " 'gdT': 1,\n",
              " 'mast': 2,\n",
              " 'pDC': 2,\n",
              " 'plasma': 1,\n",
              " 'global': 151}"
            ]
          },
          "metadata": {},
          "output_type": "display_data"
        }
      ],
      "source": [
        "#find the factor numbere dict here:\n",
        "adata.uns['SPECTRA_L']"
      ]
    },
    {
      "attachments": {},
      "cell_type": "markdown",
      "metadata": {},
      "source": [
        "## Acessing model parameters"
      ]
    },
    {
      "attachments": {},
      "cell_type": "markdown",
      "metadata": {},
      "source": [
        "To access finer grained information about the model fit, we can look at the attributes of the model object directly. Model parameters can be accessed with functions associated with the model object"
      ]
    },
    {
      "cell_type": "code",
      "execution_count": 45,
      "metadata": {},
      "outputs": [
        {
          "data": {
            "text/plain": [
              "['B_diag',\n",
              " 'L',\n",
              " '_SPECTRA_Model__B_diag',\n",
              " '_SPECTRA_Model__eta_matrices',\n",
              " '_SPECTRA_Model__store_parameters',\n",
              " '_SPECTRA_Model__store_parameters_no_celltypes',\n",
              " '__class__',\n",
              " '__delattr__',\n",
              " '__dict__',\n",
              " '__dir__',\n",
              " '__doc__',\n",
              " '__eq__',\n",
              " '__format__',\n",
              " '__ge__',\n",
              " '__getattribute__',\n",
              " '__gt__',\n",
              " '__hash__',\n",
              " '__init__',\n",
              " '__init_subclass__',\n",
              " '__le__',\n",
              " '__lt__',\n",
              " '__module__',\n",
              " '__ne__',\n",
              " '__new__',\n",
              " '__reduce__',\n",
              " '__reduce_ex__',\n",
              " '__repr__',\n",
              " '__setattr__',\n",
              " '__sizeof__',\n",
              " '__slotnames__',\n",
              " '__str__',\n",
              " '__subclasshook__',\n",
              " '__weakref__',\n",
              " 'cell_scores',\n",
              " 'delta',\n",
              " 'eta_matrices',\n",
              " 'factors',\n",
              " 'gene_scalings',\n",
              " 'initialize',\n",
              " 'internal_model',\n",
              " 'kappa',\n",
              " 'lam',\n",
              " 'load',\n",
              " 'matching',\n",
              " 'return_cell_scores',\n",
              " 'return_eta',\n",
              " 'return_eta_diag',\n",
              " 'return_factors',\n",
              " 'return_gene_scalings',\n",
              " 'return_graph',\n",
              " 'return_kappa',\n",
              " 'return_rho',\n",
              " 'rho',\n",
              " 'save',\n",
              " 'train',\n",
              " 'use_cell_types']"
            ]
          },
          "execution_count": 45,
          "metadata": {},
          "output_type": "execute_result"
        }
      ],
      "source": [
        "#this is the model file\n",
        "dir(model)"
      ]
    },
    {
      "cell_type": "code",
      "execution_count": 50,
      "metadata": {},
      "outputs": [
        {
          "data": {
            "text/plain": [
              "0.1"
            ]
          },
          "execution_count": 50,
          "metadata": {},
          "output_type": "execute_result"
        }
      ],
      "source": [
        "#e.g. find the lambda parameter the model was trained with:\n",
        "model.lam"
      ]
    },
    {
      "attachments": {},
      "cell_type": "markdown",
      "metadata": {},
      "source": [
        "Apart from cell scores and factors, we can also retrive a number of other parameters this way that are not by default added to the AnnData. Eta diag is the diagonal of the fitted factor-factor interaction matrix; however, its interpretation is that it measures the extent to which each factor is influenced by the prior information. In practice many of these values are zero, indicating that they are estimated without bias introduced by the annotation set. Eta is the full set of factor-factor interaction matrices, whose off diagonals measure the extent to which factors share the same genes. Rho and kappa are parameters that control the background rate of non-edges and edges respectively. These can be fixed throughout training (default) or estimated from the data by providing rho = None or kappa = None to the est_spectra() function or to model.train(). Finally gene scalings are correction factors that normalize each gene based on its mean expression value."
      ]
    },
    {
      "cell_type": "code",
      "execution_count": 65,
      "metadata": {},
      "outputs": [
        {
          "data": {
            "text/plain": [
              "array([7.29059637e-01, 9.37646091e-01, 9.58847940e-01, 5.64639449e-01,\n",
              "       7.41125286e-01, 9.32427227e-01, 9.22017395e-01, 9.43130493e-01,\n",
              "       8.59929740e-01, 8.56519043e-01, 7.82566845e-01, 6.67324781e-01,\n",
              "       8.21090043e-01, 9.84051943e-01, 8.79281342e-01, 8.92622709e-01,\n",
              "       8.79680395e-01, 7.86273479e-01, 8.57352972e-01, 9.12245512e-01,\n",
              "       5.82343996e-01, 8.22608411e-01, 8.96037042e-01, 9.11055386e-01,\n",
              "       9.36209679e-01, 9.16336119e-01, 7.53154814e-01, 8.99920344e-01,\n",
              "       8.44789267e-01, 8.77812624e-01, 8.95596981e-01, 9.08325672e-01,\n",
              "       7.27641404e-01, 9.14651811e-01, 6.05913222e-01, 8.96556139e-01,\n",
              "       8.15413117e-01, 6.95450664e-01, 7.96228766e-01, 7.37381339e-01,\n",
              "       6.49389505e-01, 9.01984334e-01, 9.44199800e-01, 5.55731356e-01,\n",
              "       9.41454053e-01, 7.50130296e-01, 7.61469960e-01, 8.22213709e-01,\n",
              "       9.12421525e-01, 9.60477889e-01, 8.34987938e-01, 7.43405044e-01,\n",
              "       8.89582753e-01, 9.59777951e-01, 9.25869882e-01, 8.32937300e-01,\n",
              "       9.51991856e-01, 7.91073024e-01, 8.60077679e-01, 8.72806847e-01,\n",
              "       9.72798347e-01, 7.21979260e-01, 8.41412723e-01, 9.24485743e-01,\n",
              "       8.85502458e-01, 9.48575020e-01, 7.16327250e-01, 9.60182846e-01,\n",
              "       9.32379663e-01, 6.67949319e-01, 9.58890140e-01, 8.41658711e-01,\n",
              "       8.05374324e-01, 9.52380300e-01, 5.58322608e-01, 9.30930257e-01,\n",
              "       9.61904347e-01, 8.79390180e-01, 8.01907241e-01, 9.24036026e-01,\n",
              "       8.51132274e-01, 9.83306170e-01, 7.94696331e-01, 6.68173015e-01,\n",
              "       7.50998378e-01, 9.29338574e-01, 9.23901558e-01, 7.68582523e-01,\n",
              "       9.37846184e-01, 8.99548650e-01, 9.26223755e-01, 7.56324947e-01,\n",
              "       8.62311721e-01, 6.91296637e-01, 5.32331705e-01, 8.57684433e-01,\n",
              "       8.88617039e-01, 8.61139357e-01, 9.27409887e-01, 6.50771976e-01,\n",
              "       8.01845133e-01, 8.39552164e-01, 8.86019289e-01, 7.98950911e-01,\n",
              "       4.90675420e-01, 9.01055455e-01, 8.17903399e-01, 9.25075114e-01,\n",
              "       8.53156209e-01, 8.27946663e-01, 9.43772435e-01, 3.69046777e-01,\n",
              "       9.42744732e-01, 8.74445975e-01, 8.32176149e-01, 7.92772532e-01,\n",
              "       6.69036210e-01, 9.40282643e-01, 8.55816722e-01, 9.19165790e-01,\n",
              "       9.36116397e-01, 7.57987201e-01, 4.77629334e-01, 9.68531668e-01,\n",
              "       7.77470052e-01, 9.60620701e-01, 9.04986978e-01, 5.57754636e-01,\n",
              "       9.38621342e-01, 8.45750332e-01, 6.39492333e-01, 7.75683284e-01,\n",
              "       7.67853022e-01, 9.54331100e-01, 8.26129496e-01, 9.47359204e-01,\n",
              "       7.93192327e-01, 8.18697035e-01, 7.81355917e-01, 9.58859265e-01,\n",
              "       9.59583342e-01, 8.23902607e-01, 9.08904612e-01, 8.95253837e-01,\n",
              "       9.28152919e-01, 9.38129246e-01, 9.53343332e-01, 9.50264990e-01,\n",
              "       8.96190524e-01, 8.71828139e-01, 2.10725014e-12, 6.51308179e-01,\n",
              "       7.03755677e-01, 9.73621607e-01, 9.10914183e-01, 9.27817643e-01,\n",
              "       2.10829943e-12, 5.94552040e-01, 9.04923558e-01, 9.47471082e-01,\n",
              "       8.40739250e-01, 9.16922510e-01, 9.01225924e-01, 8.42503250e-01,\n",
              "       8.81004035e-01, 9.30459917e-01, 9.38122690e-01, 9.04667675e-01,\n",
              "       8.83581221e-01, 2.10711353e-12, 9.67270017e-01, 8.54066074e-01,\n",
              "       7.60255337e-01, 9.01700497e-01, 9.08083498e-01, 7.03211308e-01,\n",
              "       2.10705325e-12, 9.73929346e-01, 9.64895904e-01, 2.10959071e-12,\n",
              "       3.25058281e-01, 9.47098911e-01, 7.24340379e-01, 9.69575107e-01,\n",
              "       9.33422029e-01, 7.31132269e-01, 2.10745115e-12, 1.93882778e-01,\n",
              "       9.03365672e-01, 2.10779679e-12, 6.93432152e-01, 9.44665849e-01,\n",
              "       2.11448502e-12, 9.37100291e-01, 2.11556228e-12, 4.65196729e-01])"
            ]
          },
          "execution_count": 65,
          "metadata": {},
          "output_type": "execute_result"
        }
      ],
      "source": [
        "model.return_eta_diag()"
      ]
    },
    {
      "cell_type": "code",
      "execution_count": 90,
      "metadata": {},
      "outputs": [
        {
          "data": {
            "text/html": [
              "<div>\n",
              "<style scoped>\n",
              "    .dataframe tbody tr th:only-of-type {\n",
              "        vertical-align: middle;\n",
              "    }\n",
              "\n",
              "    .dataframe tbody tr th {\n",
              "        vertical-align: top;\n",
              "    }\n",
              "\n",
              "    .dataframe thead th {\n",
              "        text-align: right;\n",
              "    }\n",
              "</style>\n",
              "<table border=\"1\" class=\"dataframe\">\n",
              "  <thead>\n",
              "    <tr style=\"text-align: right;\">\n",
              "      <th></th>\n",
              "      <th>B_Breg_UP</th>\n",
              "      <th>B_effector-2_UP</th>\n",
              "      <th>B_effector-1_UP</th>\n",
              "      <th>B_IgM-ligation_response</th>\n",
              "      <th>CD4-T_IL12_response</th>\n",
              "      <th>TNK_IL2_response</th>\n",
              "      <th>CD4-T_TH22_UP</th>\n",
              "      <th>CD4-T_TH17_UP</th>\n",
              "      <th>TNK_IL2-STAT5-signaling</th>\n",
              "      <th>T_IL21_response</th>\n",
              "      <th>...</th>\n",
              "      <th>all_thiamin_metabolism</th>\n",
              "      <th>all_NOTCH_signaling</th>\n",
              "      <th>all_galactose_metabolism</th>\n",
              "      <th>all_MYC_targets</th>\n",
              "      <th>all_GLU_metabolism</th>\n",
              "      <th>all_fatty-acid_synthesis</th>\n",
              "      <th>all_glycolysis</th>\n",
              "      <th>all_glutathione_metabolism</th>\n",
              "      <th>all_IL6-JAK-STAT3_signaling</th>\n",
              "      <th>all_autophagy-chaperone-mediated</th>\n",
              "    </tr>\n",
              "  </thead>\n",
              "  <tbody>\n",
              "    <tr>\n",
              "      <th>0-X-global-X-all_biotin_metabolism</th>\n",
              "      <td>0.0</td>\n",
              "      <td>0.0</td>\n",
              "      <td>0.0</td>\n",
              "      <td>0.00</td>\n",
              "      <td>0.0</td>\n",
              "      <td>0.000000</td>\n",
              "      <td>0.0</td>\n",
              "      <td>0.000000</td>\n",
              "      <td>0.04</td>\n",
              "      <td>0.0</td>\n",
              "      <td>...</td>\n",
              "      <td>0.0</td>\n",
              "      <td>0.00</td>\n",
              "      <td>0.000000</td>\n",
              "      <td>0.04</td>\n",
              "      <td>0.0</td>\n",
              "      <td>0.0</td>\n",
              "      <td>0.000000</td>\n",
              "      <td>0.000000</td>\n",
              "      <td>0.00</td>\n",
              "      <td>0.000000</td>\n",
              "    </tr>\n",
              "    <tr>\n",
              "      <th>1-X-global-X-all_purine_synthesis</th>\n",
              "      <td>0.0</td>\n",
              "      <td>0.0</td>\n",
              "      <td>0.0</td>\n",
              "      <td>0.00</td>\n",
              "      <td>0.0</td>\n",
              "      <td>0.000000</td>\n",
              "      <td>0.0</td>\n",
              "      <td>0.000000</td>\n",
              "      <td>0.08</td>\n",
              "      <td>0.0</td>\n",
              "      <td>...</td>\n",
              "      <td>0.0</td>\n",
              "      <td>0.00</td>\n",
              "      <td>0.000000</td>\n",
              "      <td>0.04</td>\n",
              "      <td>0.0</td>\n",
              "      <td>0.0</td>\n",
              "      <td>0.000000</td>\n",
              "      <td>0.000000</td>\n",
              "      <td>0.00</td>\n",
              "      <td>0.000000</td>\n",
              "    </tr>\n",
              "    <tr>\n",
              "      <th>2-X-global-X-all_ethanol_metabolism</th>\n",
              "      <td>0.0</td>\n",
              "      <td>0.0</td>\n",
              "      <td>0.0</td>\n",
              "      <td>0.00</td>\n",
              "      <td>0.0</td>\n",
              "      <td>0.000000</td>\n",
              "      <td>0.0</td>\n",
              "      <td>0.000000</td>\n",
              "      <td>0.04</td>\n",
              "      <td>0.0</td>\n",
              "      <td>...</td>\n",
              "      <td>0.0</td>\n",
              "      <td>0.04</td>\n",
              "      <td>0.000000</td>\n",
              "      <td>0.00</td>\n",
              "      <td>0.0</td>\n",
              "      <td>0.0</td>\n",
              "      <td>0.000000</td>\n",
              "      <td>0.000000</td>\n",
              "      <td>0.00</td>\n",
              "      <td>0.066667</td>\n",
              "    </tr>\n",
              "    <tr>\n",
              "      <th>3-X-global-X-all_amino-sugar-nucleotide-sugar_metabolism</th>\n",
              "      <td>0.0</td>\n",
              "      <td>0.0</td>\n",
              "      <td>0.0</td>\n",
              "      <td>0.00</td>\n",
              "      <td>0.0</td>\n",
              "      <td>0.000000</td>\n",
              "      <td>0.0</td>\n",
              "      <td>0.000000</td>\n",
              "      <td>0.00</td>\n",
              "      <td>0.0</td>\n",
              "      <td>...</td>\n",
              "      <td>0.0</td>\n",
              "      <td>0.00</td>\n",
              "      <td>0.055556</td>\n",
              "      <td>0.00</td>\n",
              "      <td>0.0</td>\n",
              "      <td>0.0</td>\n",
              "      <td>0.041667</td>\n",
              "      <td>0.000000</td>\n",
              "      <td>0.00</td>\n",
              "      <td>0.000000</td>\n",
              "    </tr>\n",
              "    <tr>\n",
              "      <th>4-X-global-X-all_steroid_metabolism</th>\n",
              "      <td>0.0</td>\n",
              "      <td>0.0</td>\n",
              "      <td>0.0</td>\n",
              "      <td>0.00</td>\n",
              "      <td>0.0</td>\n",
              "      <td>0.000000</td>\n",
              "      <td>0.0</td>\n",
              "      <td>0.000000</td>\n",
              "      <td>0.00</td>\n",
              "      <td>0.0</td>\n",
              "      <td>...</td>\n",
              "      <td>0.0</td>\n",
              "      <td>0.00</td>\n",
              "      <td>0.000000</td>\n",
              "      <td>0.00</td>\n",
              "      <td>0.0</td>\n",
              "      <td>0.0</td>\n",
              "      <td>0.000000</td>\n",
              "      <td>0.000000</td>\n",
              "      <td>0.00</td>\n",
              "      <td>0.000000</td>\n",
              "    </tr>\n",
              "    <tr>\n",
              "      <th>...</th>\n",
              "      <td>...</td>\n",
              "      <td>...</td>\n",
              "      <td>...</td>\n",
              "      <td>...</td>\n",
              "      <td>...</td>\n",
              "      <td>...</td>\n",
              "      <td>...</td>\n",
              "      <td>...</td>\n",
              "      <td>...</td>\n",
              "      <td>...</td>\n",
              "      <td>...</td>\n",
              "      <td>...</td>\n",
              "      <td>...</td>\n",
              "      <td>...</td>\n",
              "      <td>...</td>\n",
              "      <td>...</td>\n",
              "      <td>...</td>\n",
              "      <td>...</td>\n",
              "      <td>...</td>\n",
              "      <td>...</td>\n",
              "      <td>...</td>\n",
              "    </tr>\n",
              "    <tr>\n",
              "      <th>191-X-mast-X-mast_granule-exocytosis</th>\n",
              "      <td>0.0</td>\n",
              "      <td>0.0</td>\n",
              "      <td>0.0</td>\n",
              "      <td>0.00</td>\n",
              "      <td>0.0</td>\n",
              "      <td>0.000000</td>\n",
              "      <td>0.0</td>\n",
              "      <td>0.000000</td>\n",
              "      <td>0.00</td>\n",
              "      <td>0.0</td>\n",
              "      <td>...</td>\n",
              "      <td>0.0</td>\n",
              "      <td>0.00</td>\n",
              "      <td>0.000000</td>\n",
              "      <td>0.00</td>\n",
              "      <td>0.0</td>\n",
              "      <td>0.0</td>\n",
              "      <td>0.000000</td>\n",
              "      <td>0.047619</td>\n",
              "      <td>0.00</td>\n",
              "      <td>0.000000</td>\n",
              "    </tr>\n",
              "    <tr>\n",
              "      <th>192-X-mast-X-192</th>\n",
              "      <td>0.0</td>\n",
              "      <td>0.0</td>\n",
              "      <td>0.0</td>\n",
              "      <td>0.00</td>\n",
              "      <td>0.0</td>\n",
              "      <td>0.055556</td>\n",
              "      <td>0.0</td>\n",
              "      <td>0.000000</td>\n",
              "      <td>0.08</td>\n",
              "      <td>0.0</td>\n",
              "      <td>...</td>\n",
              "      <td>0.0</td>\n",
              "      <td>0.00</td>\n",
              "      <td>0.000000</td>\n",
              "      <td>0.00</td>\n",
              "      <td>0.0</td>\n",
              "      <td>0.0</td>\n",
              "      <td>0.000000</td>\n",
              "      <td>0.000000</td>\n",
              "      <td>0.00</td>\n",
              "      <td>0.066667</td>\n",
              "    </tr>\n",
              "    <tr>\n",
              "      <th>193-X-pDC-X-p-DC_CpG-TLR9_response</th>\n",
              "      <td>0.0</td>\n",
              "      <td>0.0</td>\n",
              "      <td>0.0</td>\n",
              "      <td>0.00</td>\n",
              "      <td>0.0</td>\n",
              "      <td>0.000000</td>\n",
              "      <td>0.0</td>\n",
              "      <td>0.000000</td>\n",
              "      <td>0.00</td>\n",
              "      <td>0.0</td>\n",
              "      <td>...</td>\n",
              "      <td>0.0</td>\n",
              "      <td>0.00</td>\n",
              "      <td>0.000000</td>\n",
              "      <td>0.04</td>\n",
              "      <td>0.0</td>\n",
              "      <td>0.0</td>\n",
              "      <td>0.000000</td>\n",
              "      <td>0.000000</td>\n",
              "      <td>0.00</td>\n",
              "      <td>0.000000</td>\n",
              "    </tr>\n",
              "    <tr>\n",
              "      <th>194-X-pDC-X-194</th>\n",
              "      <td>0.0</td>\n",
              "      <td>0.0</td>\n",
              "      <td>0.0</td>\n",
              "      <td>0.04</td>\n",
              "      <td>0.0</td>\n",
              "      <td>0.055556</td>\n",
              "      <td>0.0</td>\n",
              "      <td>0.000000</td>\n",
              "      <td>0.12</td>\n",
              "      <td>0.0</td>\n",
              "      <td>...</td>\n",
              "      <td>0.0</td>\n",
              "      <td>0.00</td>\n",
              "      <td>0.055556</td>\n",
              "      <td>0.04</td>\n",
              "      <td>0.0</td>\n",
              "      <td>0.0</td>\n",
              "      <td>0.000000</td>\n",
              "      <td>0.000000</td>\n",
              "      <td>0.04</td>\n",
              "      <td>0.000000</td>\n",
              "    </tr>\n",
              "    <tr>\n",
              "      <th>195-X-plasma-X-195</th>\n",
              "      <td>0.0</td>\n",
              "      <td>0.0</td>\n",
              "      <td>0.0</td>\n",
              "      <td>0.00</td>\n",
              "      <td>0.0</td>\n",
              "      <td>0.000000</td>\n",
              "      <td>0.0</td>\n",
              "      <td>0.066667</td>\n",
              "      <td>0.04</td>\n",
              "      <td>0.0</td>\n",
              "      <td>...</td>\n",
              "      <td>0.0</td>\n",
              "      <td>0.00</td>\n",
              "      <td>0.000000</td>\n",
              "      <td>0.04</td>\n",
              "      <td>0.0</td>\n",
              "      <td>0.0</td>\n",
              "      <td>0.041667</td>\n",
              "      <td>0.000000</td>\n",
              "      <td>0.04</td>\n",
              "      <td>0.000000</td>\n",
              "    </tr>\n",
              "  </tbody>\n",
              "</table>\n",
              "<p>196 rows × 181 columns</p>\n",
              "</div>"
            ],
            "text/plain": [
              "                                                    B_Breg_UP   \n",
              "0-X-global-X-all_biotin_metabolism                        0.0  \\\n",
              "1-X-global-X-all_purine_synthesis                         0.0   \n",
              "2-X-global-X-all_ethanol_metabolism                       0.0   \n",
              "3-X-global-X-all_amino-sugar-nucleotide-sugar_m...        0.0   \n",
              "4-X-global-X-all_steroid_metabolism                       0.0   \n",
              "...                                                       ...   \n",
              "191-X-mast-X-mast_granule-exocytosis                      0.0   \n",
              "192-X-mast-X-192                                          0.0   \n",
              "193-X-pDC-X-p-DC_CpG-TLR9_response                        0.0   \n",
              "194-X-pDC-X-194                                           0.0   \n",
              "195-X-plasma-X-195                                        0.0   \n",
              "\n",
              "                                                    B_effector-2_UP   \n",
              "0-X-global-X-all_biotin_metabolism                              0.0  \\\n",
              "1-X-global-X-all_purine_synthesis                               0.0   \n",
              "2-X-global-X-all_ethanol_metabolism                             0.0   \n",
              "3-X-global-X-all_amino-sugar-nucleotide-sugar_m...              0.0   \n",
              "4-X-global-X-all_steroid_metabolism                             0.0   \n",
              "...                                                             ...   \n",
              "191-X-mast-X-mast_granule-exocytosis                            0.0   \n",
              "192-X-mast-X-192                                                0.0   \n",
              "193-X-pDC-X-p-DC_CpG-TLR9_response                              0.0   \n",
              "194-X-pDC-X-194                                                 0.0   \n",
              "195-X-plasma-X-195                                              0.0   \n",
              "\n",
              "                                                    B_effector-1_UP   \n",
              "0-X-global-X-all_biotin_metabolism                              0.0  \\\n",
              "1-X-global-X-all_purine_synthesis                               0.0   \n",
              "2-X-global-X-all_ethanol_metabolism                             0.0   \n",
              "3-X-global-X-all_amino-sugar-nucleotide-sugar_m...              0.0   \n",
              "4-X-global-X-all_steroid_metabolism                             0.0   \n",
              "...                                                             ...   \n",
              "191-X-mast-X-mast_granule-exocytosis                            0.0   \n",
              "192-X-mast-X-192                                                0.0   \n",
              "193-X-pDC-X-p-DC_CpG-TLR9_response                              0.0   \n",
              "194-X-pDC-X-194                                                 0.0   \n",
              "195-X-plasma-X-195                                              0.0   \n",
              "\n",
              "                                                    B_IgM-ligation_response   \n",
              "0-X-global-X-all_biotin_metabolism                                     0.00  \\\n",
              "1-X-global-X-all_purine_synthesis                                      0.00   \n",
              "2-X-global-X-all_ethanol_metabolism                                    0.00   \n",
              "3-X-global-X-all_amino-sugar-nucleotide-sugar_m...                     0.00   \n",
              "4-X-global-X-all_steroid_metabolism                                    0.00   \n",
              "...                                                                     ...   \n",
              "191-X-mast-X-mast_granule-exocytosis                                   0.00   \n",
              "192-X-mast-X-192                                                       0.00   \n",
              "193-X-pDC-X-p-DC_CpG-TLR9_response                                     0.00   \n",
              "194-X-pDC-X-194                                                        0.04   \n",
              "195-X-plasma-X-195                                                     0.00   \n",
              "\n",
              "                                                    CD4-T_IL12_response   \n",
              "0-X-global-X-all_biotin_metabolism                                  0.0  \\\n",
              "1-X-global-X-all_purine_synthesis                                   0.0   \n",
              "2-X-global-X-all_ethanol_metabolism                                 0.0   \n",
              "3-X-global-X-all_amino-sugar-nucleotide-sugar_m...                  0.0   \n",
              "4-X-global-X-all_steroid_metabolism                                 0.0   \n",
              "...                                                                 ...   \n",
              "191-X-mast-X-mast_granule-exocytosis                                0.0   \n",
              "192-X-mast-X-192                                                    0.0   \n",
              "193-X-pDC-X-p-DC_CpG-TLR9_response                                  0.0   \n",
              "194-X-pDC-X-194                                                     0.0   \n",
              "195-X-plasma-X-195                                                  0.0   \n",
              "\n",
              "                                                    TNK_IL2_response   \n",
              "0-X-global-X-all_biotin_metabolism                          0.000000  \\\n",
              "1-X-global-X-all_purine_synthesis                           0.000000   \n",
              "2-X-global-X-all_ethanol_metabolism                         0.000000   \n",
              "3-X-global-X-all_amino-sugar-nucleotide-sugar_m...          0.000000   \n",
              "4-X-global-X-all_steroid_metabolism                         0.000000   \n",
              "...                                                              ...   \n",
              "191-X-mast-X-mast_granule-exocytosis                        0.000000   \n",
              "192-X-mast-X-192                                            0.055556   \n",
              "193-X-pDC-X-p-DC_CpG-TLR9_response                          0.000000   \n",
              "194-X-pDC-X-194                                             0.055556   \n",
              "195-X-plasma-X-195                                          0.000000   \n",
              "\n",
              "                                                    CD4-T_TH22_UP   \n",
              "0-X-global-X-all_biotin_metabolism                            0.0  \\\n",
              "1-X-global-X-all_purine_synthesis                             0.0   \n",
              "2-X-global-X-all_ethanol_metabolism                           0.0   \n",
              "3-X-global-X-all_amino-sugar-nucleotide-sugar_m...            0.0   \n",
              "4-X-global-X-all_steroid_metabolism                           0.0   \n",
              "...                                                           ...   \n",
              "191-X-mast-X-mast_granule-exocytosis                          0.0   \n",
              "192-X-mast-X-192                                              0.0   \n",
              "193-X-pDC-X-p-DC_CpG-TLR9_response                            0.0   \n",
              "194-X-pDC-X-194                                               0.0   \n",
              "195-X-plasma-X-195                                            0.0   \n",
              "\n",
              "                                                    CD4-T_TH17_UP   \n",
              "0-X-global-X-all_biotin_metabolism                       0.000000  \\\n",
              "1-X-global-X-all_purine_synthesis                        0.000000   \n",
              "2-X-global-X-all_ethanol_metabolism                      0.000000   \n",
              "3-X-global-X-all_amino-sugar-nucleotide-sugar_m...       0.000000   \n",
              "4-X-global-X-all_steroid_metabolism                      0.000000   \n",
              "...                                                           ...   \n",
              "191-X-mast-X-mast_granule-exocytosis                     0.000000   \n",
              "192-X-mast-X-192                                         0.000000   \n",
              "193-X-pDC-X-p-DC_CpG-TLR9_response                       0.000000   \n",
              "194-X-pDC-X-194                                          0.000000   \n",
              "195-X-plasma-X-195                                       0.066667   \n",
              "\n",
              "                                                    TNK_IL2-STAT5-signaling   \n",
              "0-X-global-X-all_biotin_metabolism                                     0.04  \\\n",
              "1-X-global-X-all_purine_synthesis                                      0.08   \n",
              "2-X-global-X-all_ethanol_metabolism                                    0.04   \n",
              "3-X-global-X-all_amino-sugar-nucleotide-sugar_m...                     0.00   \n",
              "4-X-global-X-all_steroid_metabolism                                    0.00   \n",
              "...                                                                     ...   \n",
              "191-X-mast-X-mast_granule-exocytosis                                   0.00   \n",
              "192-X-mast-X-192                                                       0.08   \n",
              "193-X-pDC-X-p-DC_CpG-TLR9_response                                     0.00   \n",
              "194-X-pDC-X-194                                                        0.12   \n",
              "195-X-plasma-X-195                                                     0.04   \n",
              "\n",
              "                                                    T_IL21_response  ...   \n",
              "0-X-global-X-all_biotin_metabolism                              0.0  ...  \\\n",
              "1-X-global-X-all_purine_synthesis                               0.0  ...   \n",
              "2-X-global-X-all_ethanol_metabolism                             0.0  ...   \n",
              "3-X-global-X-all_amino-sugar-nucleotide-sugar_m...              0.0  ...   \n",
              "4-X-global-X-all_steroid_metabolism                             0.0  ...   \n",
              "...                                                             ...  ...   \n",
              "191-X-mast-X-mast_granule-exocytosis                            0.0  ...   \n",
              "192-X-mast-X-192                                                0.0  ...   \n",
              "193-X-pDC-X-p-DC_CpG-TLR9_response                              0.0  ...   \n",
              "194-X-pDC-X-194                                                 0.0  ...   \n",
              "195-X-plasma-X-195                                              0.0  ...   \n",
              "\n",
              "                                                    all_thiamin_metabolism   \n",
              "0-X-global-X-all_biotin_metabolism                                     0.0  \\\n",
              "1-X-global-X-all_purine_synthesis                                      0.0   \n",
              "2-X-global-X-all_ethanol_metabolism                                    0.0   \n",
              "3-X-global-X-all_amino-sugar-nucleotide-sugar_m...                     0.0   \n",
              "4-X-global-X-all_steroid_metabolism                                    0.0   \n",
              "...                                                                    ...   \n",
              "191-X-mast-X-mast_granule-exocytosis                                   0.0   \n",
              "192-X-mast-X-192                                                       0.0   \n",
              "193-X-pDC-X-p-DC_CpG-TLR9_response                                     0.0   \n",
              "194-X-pDC-X-194                                                        0.0   \n",
              "195-X-plasma-X-195                                                     0.0   \n",
              "\n",
              "                                                    all_NOTCH_signaling   \n",
              "0-X-global-X-all_biotin_metabolism                                 0.00  \\\n",
              "1-X-global-X-all_purine_synthesis                                  0.00   \n",
              "2-X-global-X-all_ethanol_metabolism                                0.04   \n",
              "3-X-global-X-all_amino-sugar-nucleotide-sugar_m...                 0.00   \n",
              "4-X-global-X-all_steroid_metabolism                                0.00   \n",
              "...                                                                 ...   \n",
              "191-X-mast-X-mast_granule-exocytosis                               0.00   \n",
              "192-X-mast-X-192                                                   0.00   \n",
              "193-X-pDC-X-p-DC_CpG-TLR9_response                                 0.00   \n",
              "194-X-pDC-X-194                                                    0.00   \n",
              "195-X-plasma-X-195                                                 0.00   \n",
              "\n",
              "                                                    all_galactose_metabolism   \n",
              "0-X-global-X-all_biotin_metabolism                                  0.000000  \\\n",
              "1-X-global-X-all_purine_synthesis                                   0.000000   \n",
              "2-X-global-X-all_ethanol_metabolism                                 0.000000   \n",
              "3-X-global-X-all_amino-sugar-nucleotide-sugar_m...                  0.055556   \n",
              "4-X-global-X-all_steroid_metabolism                                 0.000000   \n",
              "...                                                                      ...   \n",
              "191-X-mast-X-mast_granule-exocytosis                                0.000000   \n",
              "192-X-mast-X-192                                                    0.000000   \n",
              "193-X-pDC-X-p-DC_CpG-TLR9_response                                  0.000000   \n",
              "194-X-pDC-X-194                                                     0.055556   \n",
              "195-X-plasma-X-195                                                  0.000000   \n",
              "\n",
              "                                                    all_MYC_targets   \n",
              "0-X-global-X-all_biotin_metabolism                             0.04  \\\n",
              "1-X-global-X-all_purine_synthesis                              0.04   \n",
              "2-X-global-X-all_ethanol_metabolism                            0.00   \n",
              "3-X-global-X-all_amino-sugar-nucleotide-sugar_m...             0.00   \n",
              "4-X-global-X-all_steroid_metabolism                            0.00   \n",
              "...                                                             ...   \n",
              "191-X-mast-X-mast_granule-exocytosis                           0.00   \n",
              "192-X-mast-X-192                                               0.00   \n",
              "193-X-pDC-X-p-DC_CpG-TLR9_response                             0.04   \n",
              "194-X-pDC-X-194                                                0.04   \n",
              "195-X-plasma-X-195                                             0.04   \n",
              "\n",
              "                                                    all_GLU_metabolism   \n",
              "0-X-global-X-all_biotin_metabolism                                 0.0  \\\n",
              "1-X-global-X-all_purine_synthesis                                  0.0   \n",
              "2-X-global-X-all_ethanol_metabolism                                0.0   \n",
              "3-X-global-X-all_amino-sugar-nucleotide-sugar_m...                 0.0   \n",
              "4-X-global-X-all_steroid_metabolism                                0.0   \n",
              "...                                                                ...   \n",
              "191-X-mast-X-mast_granule-exocytosis                               0.0   \n",
              "192-X-mast-X-192                                                   0.0   \n",
              "193-X-pDC-X-p-DC_CpG-TLR9_response                                 0.0   \n",
              "194-X-pDC-X-194                                                    0.0   \n",
              "195-X-plasma-X-195                                                 0.0   \n",
              "\n",
              "                                                    all_fatty-acid_synthesis   \n",
              "0-X-global-X-all_biotin_metabolism                                       0.0  \\\n",
              "1-X-global-X-all_purine_synthesis                                        0.0   \n",
              "2-X-global-X-all_ethanol_metabolism                                      0.0   \n",
              "3-X-global-X-all_amino-sugar-nucleotide-sugar_m...                       0.0   \n",
              "4-X-global-X-all_steroid_metabolism                                      0.0   \n",
              "...                                                                      ...   \n",
              "191-X-mast-X-mast_granule-exocytosis                                     0.0   \n",
              "192-X-mast-X-192                                                         0.0   \n",
              "193-X-pDC-X-p-DC_CpG-TLR9_response                                       0.0   \n",
              "194-X-pDC-X-194                                                          0.0   \n",
              "195-X-plasma-X-195                                                       0.0   \n",
              "\n",
              "                                                    all_glycolysis   \n",
              "0-X-global-X-all_biotin_metabolism                        0.000000  \\\n",
              "1-X-global-X-all_purine_synthesis                         0.000000   \n",
              "2-X-global-X-all_ethanol_metabolism                       0.000000   \n",
              "3-X-global-X-all_amino-sugar-nucleotide-sugar_m...        0.041667   \n",
              "4-X-global-X-all_steroid_metabolism                       0.000000   \n",
              "...                                                            ...   \n",
              "191-X-mast-X-mast_granule-exocytosis                      0.000000   \n",
              "192-X-mast-X-192                                          0.000000   \n",
              "193-X-pDC-X-p-DC_CpG-TLR9_response                        0.000000   \n",
              "194-X-pDC-X-194                                           0.000000   \n",
              "195-X-plasma-X-195                                        0.041667   \n",
              "\n",
              "                                                    all_glutathione_metabolism   \n",
              "0-X-global-X-all_biotin_metabolism                                    0.000000  \\\n",
              "1-X-global-X-all_purine_synthesis                                     0.000000   \n",
              "2-X-global-X-all_ethanol_metabolism                                   0.000000   \n",
              "3-X-global-X-all_amino-sugar-nucleotide-sugar_m...                    0.000000   \n",
              "4-X-global-X-all_steroid_metabolism                                   0.000000   \n",
              "...                                                                        ...   \n",
              "191-X-mast-X-mast_granule-exocytosis                                  0.047619   \n",
              "192-X-mast-X-192                                                      0.000000   \n",
              "193-X-pDC-X-p-DC_CpG-TLR9_response                                    0.000000   \n",
              "194-X-pDC-X-194                                                       0.000000   \n",
              "195-X-plasma-X-195                                                    0.000000   \n",
              "\n",
              "                                                    all_IL6-JAK-STAT3_signaling   \n",
              "0-X-global-X-all_biotin_metabolism                                         0.00  \\\n",
              "1-X-global-X-all_purine_synthesis                                          0.00   \n",
              "2-X-global-X-all_ethanol_metabolism                                        0.00   \n",
              "3-X-global-X-all_amino-sugar-nucleotide-sugar_m...                         0.00   \n",
              "4-X-global-X-all_steroid_metabolism                                        0.00   \n",
              "...                                                                         ...   \n",
              "191-X-mast-X-mast_granule-exocytosis                                       0.00   \n",
              "192-X-mast-X-192                                                           0.00   \n",
              "193-X-pDC-X-p-DC_CpG-TLR9_response                                         0.00   \n",
              "194-X-pDC-X-194                                                            0.04   \n",
              "195-X-plasma-X-195                                                         0.04   \n",
              "\n",
              "                                                    all_autophagy-chaperone-mediated  \n",
              "0-X-global-X-all_biotin_metabolism                                          0.000000  \n",
              "1-X-global-X-all_purine_synthesis                                           0.000000  \n",
              "2-X-global-X-all_ethanol_metabolism                                         0.066667  \n",
              "3-X-global-X-all_amino-sugar-nucleotide-sugar_m...                          0.000000  \n",
              "4-X-global-X-all_steroid_metabolism                                         0.000000  \n",
              "...                                                                              ...  \n",
              "191-X-mast-X-mast_granule-exocytosis                                        0.000000  \n",
              "192-X-mast-X-192                                                            0.066667  \n",
              "193-X-pDC-X-p-DC_CpG-TLR9_response                                          0.000000  \n",
              "194-X-pDC-X-194                                                             0.000000  \n",
              "195-X-plasma-X-195                                                          0.000000  \n",
              "\n",
              "[196 rows x 181 columns]"
            ]
          },
          "execution_count": 90,
          "metadata": {},
          "output_type": "execute_result"
        }
      ],
      "source": [
        "adata.uns['SPECTRA_overlap']"
      ]
    },
    {
      "cell_type": "code",
      "execution_count": 89,
      "metadata": {},
      "outputs": [
        {
          "data": {
            "text/plain": [
              "all_mitophagy_regulation_positive                    1.0\n",
              "all_autophagy-of-mitochondria_regulation_positive    1.0\n",
              "Name: 115-X-global-X-all_autophagy-of-mitochondria_regulation_positive, dtype: float64"
            ]
          },
          "execution_count": 89,
          "metadata": {},
          "output_type": "execute_result"
        }
      ],
      "source": [
        "adata.uns['SPECTRA_overlap'][['all_mitophagy_regulation_positive', 'all_autophagy-of-mitochondria_regulation_positive']].iloc[115]"
      ]
    },
    {
      "cell_type": "code",
      "execution_count": 83,
      "metadata": {},
      "outputs": [
        {
          "name": "stdout",
          "output_type": "stream",
          "text": [
            "for factor 23 model says: all_macroautophagy_regulation_positive new method says all_autophagy_regulation_positive\n",
            "for factor 66 model says: all_microautophagy-lysosomal new method says all_nucleophagy-late\n",
            "for factor 86 model says: all_mitophagy_regulation_positive new method says all_autophagy-selective\n",
            "for factor 115 model says: all_mitophagy_regulation_positive new method says all_autophagy-of-mitochondria_regulation_positive\n",
            "for factor 150 model says: 0 new method says 150\n",
            "for factor 151 model says: 0 new method says 151\n",
            "for factor 156 model says: 0 new method says 156\n",
            "for factor 157 model says: 0 new method says 157\n",
            "for factor 169 model says: 0 new method says 169\n",
            "for factor 176 model says: 0 new method says 176\n",
            "for factor 179 model says: 0 new method says 179\n",
            "for factor 180 model says: 0 new method says 180\n",
            "for factor 186 model says: 0 new method says 186\n",
            "for factor 187 model says: 0 new method says 187\n",
            "for factor 189 model says: 0 new method says 189\n",
            "for factor 190 model says: 0 new method says 190\n",
            "for factor 192 model says: 0 new method says 192\n",
            "for factor 194 model says: 0 new method says 194\n",
            "for factor 195 model says: 0 new method says 195\n"
          ]
        }
      ],
      "source": [
        "annotated_factors = [x.split('-X-')[-1] for x in adata.uns['SPECTRA_overlap'].index]\n",
        "\n",
        "for i,v in enumerate(list(model.matching(adata.uns[\"SPECTRA_markers\"], annotations, threshold = 0.2))):\n",
        "    if annotated_factors[i] != v:\n",
        "        print('for factor',i,'model says:',v,'new method says',annotated_factors[i])"
      ]
    },
    {
      "cell_type": "code",
      "execution_count": null,
      "metadata": {},
      "outputs": [],
      "source": [
        "#You can save the model like this:\n",
        "import pickle\n",
        "with open('spectra_model.pickle', 'wb') as f:\n",
        "    pickle.dump(model, f, pickle.HIGHEST_PROTOCOL)"
      ]
    },
    {
      "cell_type": "code",
      "execution_count": null,
      "metadata": {},
      "outputs": [],
      "source": [
        "#and load it like this:\n",
        "with open('spectra_model.pickle', 'rb') as f:\n",
        "    model = pickle.load(f)"
      ]
    },
    {
      "cell_type": "markdown",
      "metadata": {},
      "source": [
        "**fit model without cell type annotations**\n",
        "\n",
        "You can also fit the model without using the cell type annotations. In this case, instead of a nested gene set annotation dictionary, supply a regular dictionary with gene set names as keys (str) and the gene sets as values (list of gene names/IDs which match the gene names/IDs in the adata.var_names)"
      ]
    },
    {
      "cell_type": "code",
      "execution_count": null,
      "metadata": {},
      "outputs": [
        {
          "name": "stderr",
          "output_type": "stream",
          "text": [
            "100%|██████████| 2/2 [00:13<00:00,  6.95s/it]\n"
          ]
        }
      ],
      "source": [
        "#fit the model (We will run this with only 2 epochs to decrease runtime in this tutorial)\n",
        "model = spc.est_spectra(adata = adata, gene_set_dictionary = annotations['global'], # because we do not use the cell types\n",
        "                                                                                    # we will supply a regular dict\n",
        "                                                                                    # instead of the nested dict above\n",
        "                        use_highly_variable = True, cell_type_key =None,# \"cell_type_annotations\" \n",
        "                        use_weights = True, lam = 0.1, \n",
        "                        delta=0.001,kappa = 0.00001, rho = 0.00001, \n",
        "                        use_cell_types = False, #set to False to not use the cell type annotations\n",
        "                        n_top_vals = 25, \n",
        "                        num_epochs=2 #for demonstration purposes we will only run 2 epochs, we recommend 10,000 epochs\n",
        "                       )\n",
        "\n"
      ]
    },
    {
      "cell_type": "code",
      "execution_count": null,
      "metadata": {},
      "outputs": [
        {
          "data": {
            "text/plain": [
              "Index(['0-X-global-X-all_biotin_metabolism',\n",
              "       '1-X-global-X-all_purine_synthesis',\n",
              "       '2-X-global-X-all_ethanol_metabolism',\n",
              "       '3-X-global-X-all_amino-sugar-nucleotide-sugar_metabolism',\n",
              "       '4-X-global-X-all_steroid_metabolism',\n",
              "       '5-X-global-X-all_carnitine-shuttle', '6-X-global-X-all_TLR_signaling',\n",
              "       '7-X-global-X-all_phosphoinositide_signaling',\n",
              "       '8-X-global-X-all_microautophagy-lysosomal',\n",
              "       '9-X-global-X-all_TCA-cycle',\n",
              "       ...\n",
              "       '186-X-MDC-X-186', '187-X-NK-X-187',\n",
              "       '188-X-Treg-X-Treg_FoxP3-stabilization', '189-X-Treg-X-189',\n",
              "       '190-X-gdT-X-190', '191-X-mast-X-mast_granule-exocytosis',\n",
              "       '192-X-mast-X-192', '193-X-pDC-X-p-DC_CpG-TLR9_response',\n",
              "       '194-X-pDC-X-194', '195-X-plasma-X-195'],\n",
              "      dtype='object', length=196)"
            ]
          },
          "metadata": {},
          "output_type": "display_data"
        }
      ],
      "source": [
        "#show the labeled factors in the data:\n",
        "adata.uns['SPECTRA_overlap'].index"
      ]
    },
    {
      "cell_type": "code",
      "execution_count": null,
      "metadata": {},
      "outputs": [
        {
          "data": {
            "text/plain": [
              "(10000,)"
            ]
          },
          "metadata": {},
          "output_type": "display_data"
        }
      ],
      "source": []
    },
    {
      "cell_type": "code",
      "execution_count": null,
      "metadata": {},
      "outputs": [],
      "source": []
    },
    {
      "cell_type": "code",
      "execution_count": null,
      "metadata": {},
      "outputs": [],
      "source": []
    },
    {
      "cell_type": "code",
      "execution_count": null,
      "metadata": {},
      "outputs": [],
      "source": []
    },
    {
      "cell_type": "code",
      "execution_count": null,
      "metadata": {},
      "outputs": [],
      "source": []
    },
    {
      "cell_type": "code",
      "execution_count": null,
      "metadata": {},
      "outputs": [],
      "source": []
    },
    {
      "cell_type": "code",
      "execution_count": null,
      "metadata": {},
      "outputs": [],
      "source": []
    },
    {
      "cell_type": "code",
      "execution_count": null,
      "metadata": {},
      "outputs": [],
      "source": []
    },
    {
      "cell_type": "code",
      "execution_count": null,
      "metadata": {},
      "outputs": [],
      "source": []
    },
    {
      "cell_type": "code",
      "execution_count": null,
      "metadata": {},
      "outputs": [],
      "source": []
    },
    {
      "cell_type": "code",
      "execution_count": null,
      "metadata": {},
      "outputs": [],
      "source": []
    },
    {
      "cell_type": "code",
      "execution_count": null,
      "metadata": {},
      "outputs": [],
      "source": []
    },
    {
      "cell_type": "code",
      "execution_count": null,
      "metadata": {},
      "outputs": [],
      "source": []
    },
    {
      "cell_type": "code",
      "execution_count": 38,
      "metadata": {
        "colab": {
          "base_uri": "https://localhost:8080/",
          "height": 448
        },
        "id": "4vXRdI4SzOq9",
        "outputId": "4b1dc986-1453-4b19-bcc3-d4e18535be8f"
      },
      "outputs": [
        {
          "name": "stdout",
          "output_type": "stream",
          "text": [
            "plotting factor: 0-X-global-X-all_biotin_metabolism\n"
          ]
        },
        {
          "data": {
            "image/png": "[encoded data removed]",
            "text/plain": [
              "<Figure size 640x480 with 2 Axes>"
            ]
          },
          "metadata": {},
          "output_type": "display_data"
        }
      ],
      "source": [
        "#visualize factor cell scores (this is poorly fitted bc we only ran 2 epochs)\n",
        "factor_of_interest = adata.uns['SPECTRA_overlap'].index[0]\n",
        "print('plotting factor:',adata.uns['SPECTRA_overlap'].index[0])\n",
        "\n",
        "#add cell scores to obs\n",
        "cell_scores = adata.obsm['SPECTRA_cell_scores'][:,0].astype(float)\n",
        "adata.obs[factor_of_interest] = cell_scores\n",
        "sc.pl.umap(adata,color=factor_of_interest,s=30,vmax=np.quantile(cell_scores,0.98))"
      ]
    },
    {
      "cell_type": "code",
      "execution_count": 39,
      "metadata": {
        "colab": {
          "base_uri": "https://localhost:8080/"
        },
        "id": "FOU3kk63zQ7x",
        "outputId": "158319b9-7622-42fd-bb1c-e84e8e04f218"
      },
      "outputs": [
        {
          "name": "stdout",
          "output_type": "stream",
          "text": [
            "Saved adata to: adata_spectra.h5ad\n"
          ]
        }
      ],
      "source": [
        "#save the adata\n",
        "adata_save_path = 'adata_spectra.h5ad'#where to save the adata to\n",
        "adata.write(adata_save_path)\n",
        "print('Saved adata to:',adata_save_path)"
      ]
    },
    {
      "cell_type": "code",
      "execution_count": null,
      "metadata": {},
      "outputs": [],
      "source": []
    }
  ],
  "metadata": {
    "colab": {
      "authorship_tag": "ABX9TyOp78KuTpVxQFJQD84jrAv/",
      "include_colab_link": true,
      "provenance": []
    },
    "kernelspec": {
      "display_name": "Python 3",
      "name": "python3"
    },
    "language_info": {
      "codemirror_mode": {
        "name": "ipython",
        "version": 3
      },
      "file_extension": ".py",
      "mimetype": "text/x-python",
      "name": "python",
      "nbconvert_exporter": "python",
      "pygments_lexer": "ipython3",
      "version": "3.10.9"
    }
  },
  "nbformat": 4,
  "nbformat_minor": 0
}
