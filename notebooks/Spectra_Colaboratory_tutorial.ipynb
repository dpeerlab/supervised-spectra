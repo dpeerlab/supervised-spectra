{
  "nbformat": 4,
  "nbformat_minor": 0,
  "metadata": {
    "colab": {
      "provenance": [],
      "authorship_tag": "ABX9TyO5H64Db+7ediO/aewcns3T",
      "include_colab_link": true
    },
    "kernelspec": {
      "name": "python3",
      "display_name": "Python 3"
    },
    "language_info": {
      "name": "python"
    }
  },
  "cells": [
    {
      "cell_type": "markdown",
      "metadata": {
        "id": "view-in-github",
        "colab_type": "text"
      },
      "source": [
        "<a href=\"https://colab.research.google.com/github/wallet-maker/spectra/blob/main/notebooks/Spectra_Colaboratory_tutorial.ipynb\" target=\"_parent\"><img src=\"https://colab.research.google.com/assets/colab-badge.svg\" alt=\"Open In Colab\"/></a>"
      ]
    },
    {
      "cell_type": "code",
      "execution_count": 1,
      "metadata": {
        "colab": {
          "base_uri": "https://localhost:8080/"
        },
        "id": "xmWAliJ7G5Rj",
        "outputId": "352ac8d7-ca5a-4c77-a3d6-4dbd57b75473"
      },
      "outputs": [
        {
          "output_type": "stream",
          "name": "stdout",
          "text": [
            "fatal: destination path 'spectra' already exists and is not an empty directory.\n"
          ]
        }
      ],
      "source": [
        "!git clone https://github.com/dpeerlab/spectra"
      ]
    },
    {
      "cell_type": "code",
      "source": [
        "!ls"
      ],
      "metadata": {
        "colab": {
          "base_uri": "https://localhost:8080/"
        },
        "id": "g6EVIHU7G-1P",
        "outputId": "2dc4e685-7c87-44a4-af5f-3f673495f4b1"
      },
      "execution_count": 2,
      "outputs": [
        {
          "output_type": "stream",
          "name": "stdout",
          "text": [
            "sample_data  spectra\n"
          ]
        }
      ]
    },
    {
      "cell_type": "code",
      "source": [
        "%cd spectra"
      ],
      "metadata": {
        "colab": {
          "base_uri": "https://localhost:8080/"
        },
        "id": "s5GFodIgG-3-",
        "outputId": "5d487e27-595d-4f6a-f2b2-8a7bd7294723"
      },
      "execution_count": 3,
      "outputs": [
        {
          "output_type": "stream",
          "name": "stdout",
          "text": [
            "/content/spectra\n"
          ]
        }
      ]
    },
    {
      "cell_type": "code",
      "source": [
        "!pip install ."
      ],
      "metadata": {
        "colab": {
          "base_uri": "https://localhost:8080/"
        },
        "id": "W9hy0-yiH6tQ",
        "outputId": "8f6da2b7-63ea-4fb6-eb9b-627439c6c854"
      },
      "execution_count": 4,
      "outputs": [
        {
          "output_type": "stream",
          "name": "stdout",
          "text": [
            "Looking in indexes: https://pypi.org/simple, https://us-python.pkg.dev/colab-wheels/public/simple/\n",
            "Processing /content/spectra\n",
            "  Preparing metadata (setup.py) ... \u001b[?25l\u001b[?25hdone\n",
            "Requirement already satisfied: numpy>=1.20.3 in /usr/local/lib/python3.8/dist-packages (from spectra==0.1.0) (1.21.6)\n",
            "Requirement already satisfied: scipy>=1.7.3 in /usr/local/lib/python3.8/dist-packages (from spectra==0.1.0) (1.7.3)\n",
            "Requirement already satisfied: scanpy>=1.8.2 in /usr/local/lib/python3.8/dist-packages (from spectra==0.1.0) (1.9.1)\n",
            "Requirement already satisfied: torch>=1.10.1 in /usr/local/lib/python3.8/dist-packages (from spectra==0.1.0) (1.13.1+cu116)\n",
            "Requirement already satisfied: opt-einsum>=3.3.0 in /usr/local/lib/python3.8/dist-packages (from spectra==0.1.0) (3.3.0)\n",
            "Requirement already satisfied: pandas>=1.3.5 in /usr/local/lib/python3.8/dist-packages (from spectra==0.1.0) (1.3.5)\n",
            "Requirement already satisfied: tqdm>=4.62.3 in /usr/local/lib/python3.8/dist-packages (from spectra==0.1.0) (4.64.1)\n",
            "Requirement already satisfied: pyvis>=0.1.9 in /usr/local/lib/python3.8/dist-packages (from spectra==0.1.0) (0.3.1)\n",
            "Requirement already satisfied: python-dateutil>=2.7.3 in /usr/local/lib/python3.8/dist-packages (from pandas>=1.3.5->spectra==0.1.0) (2.8.2)\n",
            "Requirement already satisfied: pytz>=2017.3 in /usr/local/lib/python3.8/dist-packages (from pandas>=1.3.5->spectra==0.1.0) (2022.7.1)\n",
            "Requirement already satisfied: jsonpickle>=1.4.1 in /usr/local/lib/python3.8/dist-packages (from pyvis>=0.1.9->spectra==0.1.0) (3.0.1)\n",
            "Requirement already satisfied: ipython>=5.3.0 in /usr/local/lib/python3.8/dist-packages (from pyvis>=0.1.9->spectra==0.1.0) (7.9.0)\n",
            "Requirement already satisfied: jinja2>=2.9.6 in /usr/local/lib/python3.8/dist-packages (from pyvis>=0.1.9->spectra==0.1.0) (2.11.3)\n",
            "Requirement already satisfied: networkx>=1.11 in /usr/local/lib/python3.8/dist-packages (from pyvis>=0.1.9->spectra==0.1.0) (3.0)\n",
            "Requirement already satisfied: numba>=0.41.0 in /usr/local/lib/python3.8/dist-packages (from scanpy>=1.8.2->spectra==0.1.0) (0.56.4)\n",
            "Requirement already satisfied: h5py>=3 in /usr/local/lib/python3.8/dist-packages (from scanpy>=1.8.2->spectra==0.1.0) (3.1.0)\n",
            "Requirement already satisfied: joblib in /usr/local/lib/python3.8/dist-packages (from scanpy>=1.8.2->spectra==0.1.0) (1.2.0)\n",
            "Requirement already satisfied: session-info in /usr/local/lib/python3.8/dist-packages (from scanpy>=1.8.2->spectra==0.1.0) (1.0.0)\n",
            "Requirement already satisfied: matplotlib>=3.4 in /usr/local/lib/python3.8/dist-packages (from scanpy>=1.8.2->spectra==0.1.0) (3.5.0)\n",
            "Requirement already satisfied: seaborn in /usr/local/lib/python3.8/dist-packages (from scanpy>=1.8.2->spectra==0.1.0) (0.11.2)\n",
            "Requirement already satisfied: scikit-learn>=0.22 in /usr/local/lib/python3.8/dist-packages (from scanpy>=1.8.2->spectra==0.1.0) (1.0.2)\n",
            "Requirement already satisfied: umap-learn>=0.3.10 in /usr/local/lib/python3.8/dist-packages (from scanpy>=1.8.2->spectra==0.1.0) (0.5.3)\n",
            "Requirement already satisfied: patsy in /usr/local/lib/python3.8/dist-packages (from scanpy>=1.8.2->spectra==0.1.0) (0.5.3)\n",
            "Requirement already satisfied: statsmodels>=0.10.0rc2 in /usr/local/lib/python3.8/dist-packages (from scanpy>=1.8.2->spectra==0.1.0) (0.12.2)\n",
            "Requirement already satisfied: natsort in /usr/local/lib/python3.8/dist-packages (from scanpy>=1.8.2->spectra==0.1.0) (5.5.0)\n",
            "Requirement already satisfied: packaging in /usr/local/lib/python3.8/dist-packages (from scanpy>=1.8.2->spectra==0.1.0) (23.0)\n",
            "Requirement already satisfied: anndata>=0.7.4 in /usr/local/lib/python3.8/dist-packages (from scanpy>=1.8.2->spectra==0.1.0) (0.8.0)\n",
            "Requirement already satisfied: typing-extensions in /usr/local/lib/python3.8/dist-packages (from torch>=1.10.1->spectra==0.1.0) (4.4.0)\n",
            "Requirement already satisfied: traitlets>=4.2 in /usr/local/lib/python3.8/dist-packages (from ipython>=5.3.0->pyvis>=0.1.9->spectra==0.1.0) (5.7.1)\n",
            "Requirement already satisfied: backcall in /usr/local/lib/python3.8/dist-packages (from ipython>=5.3.0->pyvis>=0.1.9->spectra==0.1.0) (0.2.0)\n",
            "Requirement already satisfied: setuptools>=18.5 in /usr/local/lib/python3.8/dist-packages (from ipython>=5.3.0->pyvis>=0.1.9->spectra==0.1.0) (57.4.0)\n",
            "Requirement already satisfied: decorator in /usr/local/lib/python3.8/dist-packages (from ipython>=5.3.0->pyvis>=0.1.9->spectra==0.1.0) (4.4.2)\n",
            "Requirement already satisfied: pexpect in /usr/local/lib/python3.8/dist-packages (from ipython>=5.3.0->pyvis>=0.1.9->spectra==0.1.0) (4.8.0)\n",
            "Requirement already satisfied: jedi>=0.10 in /usr/local/lib/python3.8/dist-packages (from ipython>=5.3.0->pyvis>=0.1.9->spectra==0.1.0) (0.18.2)\n",
            "Requirement already satisfied: pickleshare in /usr/local/lib/python3.8/dist-packages (from ipython>=5.3.0->pyvis>=0.1.9->spectra==0.1.0) (0.7.5)\n",
            "Requirement already satisfied: pygments in /usr/local/lib/python3.8/dist-packages (from ipython>=5.3.0->pyvis>=0.1.9->spectra==0.1.0) (2.6.1)\n",
            "Requirement already satisfied: prompt-toolkit<2.1.0,>=2.0.0 in /usr/local/lib/python3.8/dist-packages (from ipython>=5.3.0->pyvis>=0.1.9->spectra==0.1.0) (2.0.10)\n",
            "Requirement already satisfied: MarkupSafe>=0.23 in /usr/local/lib/python3.8/dist-packages (from jinja2>=2.9.6->pyvis>=0.1.9->spectra==0.1.0) (2.0.1)\n",
            "Requirement already satisfied: fonttools>=4.22.0 in /usr/local/lib/python3.8/dist-packages (from matplotlib>=3.4->scanpy>=1.8.2->spectra==0.1.0) (4.38.0)\n",
            "Requirement already satisfied: pillow>=6.2.0 in /usr/local/lib/python3.8/dist-packages (from matplotlib>=3.4->scanpy>=1.8.2->spectra==0.1.0) (7.1.2)\n",
            "Requirement already satisfied: cycler>=0.10 in /usr/local/lib/python3.8/dist-packages (from matplotlib>=3.4->scanpy>=1.8.2->spectra==0.1.0) (0.11.0)\n",
            "Requirement already satisfied: kiwisolver>=1.0.1 in /usr/local/lib/python3.8/dist-packages (from matplotlib>=3.4->scanpy>=1.8.2->spectra==0.1.0) (1.4.4)\n",
            "Requirement already satisfied: setuptools-scm>=4 in /usr/local/lib/python3.8/dist-packages (from matplotlib>=3.4->scanpy>=1.8.2->spectra==0.1.0) (7.1.0)\n",
            "Requirement already satisfied: pyparsing>=2.2.1 in /usr/local/lib/python3.8/dist-packages (from matplotlib>=3.4->scanpy>=1.8.2->spectra==0.1.0) (3.0.9)\n",
            "Requirement already satisfied: importlib-metadata in /usr/local/lib/python3.8/dist-packages (from numba>=0.41.0->scanpy>=1.8.2->spectra==0.1.0) (6.0.0)\n",
            "Requirement already satisfied: llvmlite<0.40,>=0.39.0dev0 in /usr/local/lib/python3.8/dist-packages (from numba>=0.41.0->scanpy>=1.8.2->spectra==0.1.0) (0.39.1)\n",
            "Requirement already satisfied: six>=1.5 in /usr/local/lib/python3.8/dist-packages (from python-dateutil>=2.7.3->pandas>=1.3.5->spectra==0.1.0) (1.15.0)\n",
            "Requirement already satisfied: threadpoolctl>=2.0.0 in /usr/local/lib/python3.8/dist-packages (from scikit-learn>=0.22->scanpy>=1.8.2->spectra==0.1.0) (3.1.0)\n",
            "Requirement already satisfied: pynndescent>=0.5 in /usr/local/lib/python3.8/dist-packages (from umap-learn>=0.3.10->scanpy>=1.8.2->spectra==0.1.0) (0.5.8)\n",
            "Requirement already satisfied: stdlib-list in /usr/local/lib/python3.8/dist-packages (from session-info->scanpy>=1.8.2->spectra==0.1.0) (0.8.0)\n",
            "Requirement already satisfied: parso<0.9.0,>=0.8.0 in /usr/local/lib/python3.8/dist-packages (from jedi>=0.10->ipython>=5.3.0->pyvis>=0.1.9->spectra==0.1.0) (0.8.3)\n",
            "Requirement already satisfied: wcwidth in /usr/local/lib/python3.8/dist-packages (from prompt-toolkit<2.1.0,>=2.0.0->ipython>=5.3.0->pyvis>=0.1.9->spectra==0.1.0) (0.2.6)\n",
            "Requirement already satisfied: tomli>=1.0.0 in /usr/local/lib/python3.8/dist-packages (from setuptools-scm>=4->matplotlib>=3.4->scanpy>=1.8.2->spectra==0.1.0) (2.0.1)\n",
            "Requirement already satisfied: zipp>=0.5 in /usr/local/lib/python3.8/dist-packages (from importlib-metadata->numba>=0.41.0->scanpy>=1.8.2->spectra==0.1.0) (3.12.0)\n",
            "Requirement already satisfied: ptyprocess>=0.5 in /usr/local/lib/python3.8/dist-packages (from pexpect->ipython>=5.3.0->pyvis>=0.1.9->spectra==0.1.0) (0.7.0)\n",
            "Building wheels for collected packages: spectra\n",
            "  Building wheel for spectra (setup.py) ... \u001b[?25l\u001b[?25hdone\n",
            "  Created wheel for spectra: filename=spectra-0.1.0-py3-none-any.whl size=30021 sha256=6ad04adff02679eb454451aa89c2e2a4a62592dfd9cf290f9df2faea34b5a236\n",
            "  Stored in directory: /tmp/pip-ephem-wheel-cache-ro2bzsm_/wheels/7d/2a/d8/aee9bb70f56a7c3839c9e3f2489c721678a1d0af7d9be17623\n",
            "Successfully built spectra\n",
            "Installing collected packages: spectra\n",
            "  Attempting uninstall: spectra\n",
            "    Found existing installation: spectra 0.1.0\n",
            "    Uninstalling spectra-0.1.0:\n",
            "      Successfully uninstalled spectra-0.1.0\n",
            "Successfully installed spectra-0.1.0\n"
          ]
        }
      ]
    },
    {
      "cell_type": "code",
      "source": [
        "%pip install -U matplotlib==3.5.0"
      ],
      "metadata": {
        "colab": {
          "base_uri": "https://localhost:8080/"
        },
        "id": "GQFeb6lhIWR0",
        "outputId": "584d7efb-8723-4d95-e0b1-be9237fc68f5"
      },
      "execution_count": 5,
      "outputs": [
        {
          "output_type": "stream",
          "name": "stdout",
          "text": [
            "Looking in indexes: https://pypi.org/simple, https://us-python.pkg.dev/colab-wheels/public/simple/\n",
            "Requirement already satisfied: matplotlib==3.5.0 in /usr/local/lib/python3.8/dist-packages (3.5.0)\n",
            "Requirement already satisfied: cycler>=0.10 in /usr/local/lib/python3.8/dist-packages (from matplotlib==3.5.0) (0.11.0)\n",
            "Requirement already satisfied: kiwisolver>=1.0.1 in /usr/local/lib/python3.8/dist-packages (from matplotlib==3.5.0) (1.4.4)\n",
            "Requirement already satisfied: numpy>=1.17 in /usr/local/lib/python3.8/dist-packages (from matplotlib==3.5.0) (1.21.6)\n",
            "Requirement already satisfied: pyparsing>=2.2.1 in /usr/local/lib/python3.8/dist-packages (from matplotlib==3.5.0) (3.0.9)\n",
            "Requirement already satisfied: pillow>=6.2.0 in /usr/local/lib/python3.8/dist-packages (from matplotlib==3.5.0) (7.1.2)\n",
            "Requirement already satisfied: fonttools>=4.22.0 in /usr/local/lib/python3.8/dist-packages (from matplotlib==3.5.0) (4.38.0)\n",
            "Requirement already satisfied: python-dateutil>=2.7 in /usr/local/lib/python3.8/dist-packages (from matplotlib==3.5.0) (2.8.2)\n",
            "Requirement already satisfied: setuptools-scm>=4 in /usr/local/lib/python3.8/dist-packages (from matplotlib==3.5.0) (7.1.0)\n",
            "Requirement already satisfied: packaging>=20.0 in /usr/local/lib/python3.8/dist-packages (from matplotlib==3.5.0) (23.0)\n",
            "Requirement already satisfied: six>=1.5 in /usr/local/lib/python3.8/dist-packages (from python-dateutil>=2.7->matplotlib==3.5.0) (1.15.0)\n",
            "Requirement already satisfied: typing-extensions in /usr/local/lib/python3.8/dist-packages (from setuptools-scm>=4->matplotlib==3.5.0) (4.4.0)\n",
            "Requirement already satisfied: setuptools in /usr/local/lib/python3.8/dist-packages (from setuptools-scm>=4->matplotlib==3.5.0) (57.4.0)\n",
            "Requirement already satisfied: tomli>=1.0.0 in /usr/local/lib/python3.8/dist-packages (from setuptools-scm>=4->matplotlib==3.5.0) (2.0.1)\n"
          ]
        }
      ]
    },
    {
      "cell_type": "code",
      "source": [
        "from spectra import spectra as spc"
      ],
      "metadata": {
        "id": "uUhGZevNHjzd"
      },
      "execution_count": 6,
      "outputs": []
    },
    {
      "cell_type": "code",
      "source": [
        "#import packages\n",
        "import numpy as np\n",
        "import json \n",
        "import scanpy as sc\n",
        "from collections import OrderedDict\n",
        "import scipy \n",
        "import pandas as pd\n",
        "\n",
        "#spectra imports \n",
        "from spectra import spectra as spc\n",
        "from spectra import spectra_util as util\n",
        "from spectra import K_est as kst\n",
        "\n"
      ],
      "metadata": {
        "id": "WEf_XV5Vxf-I"
      },
      "execution_count": 7,
      "outputs": []
    },
    {
      "cell_type": "code",
      "source": [
        "def get_factor_celltypes(adata, obs_key, cellscore_obsm_key = 'SPECTRA_cell_scores'):\n",
        "    '''\n",
        "    Assigns Spectra factors to cell types by analyzing the factor cell scores.\n",
        "    Cell type specific factors will have zero cell scores except in their respective cell type\n",
        "    \n",
        "    adata: AnnData , object containing the Spectra output\n",
        "    obs_key: str , column name in adata.obs containing the cell type annotations\n",
        "    cellscore_obsm_key: str , key for adata.obsm containing the Spectra cell scores\n",
        "    \n",
        "    returns: dict , dictionary of {factor index : 'cell type'}\n",
        "    '''\n",
        "    \n",
        "    #get cellscores\n",
        "    import pandas as pd\n",
        "    cell_scores_df = pd.DataFrame(adata.obsm[cellscore_obsm_key])\n",
        "    cell_scores_df['celltype'] = list(adata.obs[obs_key])\n",
        "    \n",
        "    #find global and cell type specific fators\n",
        "    global_factors_series = (cell_scores_df.groupby('celltype').mean() !=0).all()\n",
        "    global_factors = [factor for factor in global_factors_series.index if global_factors_series[factor]]\n",
        "    specific_cell_scores = (cell_scores_df.groupby('celltype').mean()).T[~global_factors_series].T\n",
        "    specific_factors = {}\n",
        "    \n",
        "    for i in set(cell_scores_df['celltype']):\n",
        "        specific_factors[i]=[factor for factor in specific_cell_scores.loc[i].index if specific_cell_scores.loc[i,factor]]\n",
        "    \n",
        "    #inverse dict factor:celltype\n",
        "    factors_inv = {}\n",
        "    for i,v in specific_factors.items():\n",
        "        for factor in v:\n",
        "            factors_inv[factor]=i\n",
        "    \n",
        "    #add global\n",
        "\n",
        "    for factor in global_factors:\n",
        "        factors_inv[factor]= 'global'\n",
        "            \n",
        "    return factors_inv"
      ],
      "metadata": {
        "id": "PJFA769rxySi"
      },
      "execution_count": 8,
      "outputs": []
    },
    {
      "cell_type": "code",
      "source": [
        "def check_gene_set_dictionary(adata, annotations, obs_key='cell_type_annotations',global_key='global', return_dict = True):\n",
        "    '''\n",
        "    Filters annotations dictionary contains only genes contained in the adata. \n",
        "    Checks that annotations dictionary cell type keys and adata cell types are identical.\n",
        "    Checks that all gene sets in annotations dictionary contain >2 genes after filtering.\n",
        "    \n",
        "    adata: AnnData , data to use with Spectra\n",
        "    annotations: dict , gene set annotations dictionary to use with Spectra\n",
        "    obs_key: str , column name for cell type annotations in adata.obs\n",
        "    global_key: str , key for global gene sests in gene set annotation dictionary\n",
        "    return_dict: bool , return filtered gene set annotation dictionary\n",
        "    \n",
        "    returns: dict , filtered gene set annotation dictionary\n",
        "    \n",
        "    '''\n",
        "    #test if keys match\n",
        "    adata_labels  = list(set(adata.obs[obs_key]))+['global']#cell type labels in adata object\n",
        "    annotation_labels = list(annotations.keys())\n",
        "    matching_celltype_labels = list(set(adata_labels).intersection(annotation_labels))\n",
        "    if set(annotation_labels)==set(adata_labels):\n",
        "        print('Cell type labels in gene set annotation dictionary and AnnData object are identical')\n",
        "        dict_keys_OK = True\n",
        "    if len(annotation_labels)<len(adata_labels):\n",
        "        print('The following labels are missing in the gene set annotation dictionary:',set(adata_labels)-set(annotation_labels))\n",
        "        dict_keys_OK = False\n",
        "    if len(adata_labels)<len(annotation_labels):\n",
        "        print('The following labels are missing in the AnnData object:',set(annotation_labels)-set(adata_labels))\n",
        "        dict_keys_OK = False\n",
        "        \n",
        "    #check that gene sets in dictionary have len >2\n",
        "    Counter = 0\n",
        "    annotations_new = {}\n",
        "    for k,v in annotations.items():\n",
        "        annotations_new[k] = {}\n",
        "        for k2,v2 in v.items():\n",
        "            annotations_new[k][k2]= [x for x in v2 if x in adata.var_names]\n",
        "            length = len(v2)\n",
        "            if length<3:\n",
        "                print('gene set',k2,'for cell type',k,'is of length',length)\n",
        "                Counter = Counter+1\n",
        "            \n",
        "    if Counter > 0:\n",
        "        print(Counter,'gene sets are too small. Gene sets must contain at least 3 genes')\n",
        "    elif Counter == 0 and dict_keys_OK:\n",
        "        print('Your gene set annotation dictionary is correctly formatted.')\n",
        "    if return_dict:\n",
        "        return annotations_new"
      ],
      "metadata": {
        "id": "6htuiSo0xz2w"
      },
      "execution_count": 9,
      "outputs": []
    },
    {
      "cell_type": "markdown",
      "source": [
        "# Load gene_set_dictionary"
      ],
      "metadata": {
        "id": "v4vTEyL6sDR4"
      }
    },
    {
      "cell_type": "markdown",
      "source": [
        "**load a nested dictionary containing global and cell type specific gene sets in the following format:**\n",
        "\n",
        "Gene set annotation dictionary with the keys being the celltypes (str) and values being dictionaries with gene set names as keys (str) and gene sets as values (lists of gene names/IDs which matches the gene names/IDs in adata.var_names).\n",
        "\n",
        "For example:\n",
        "\n",
        "gene_set_dictionary = {'celltype_1':{'gene_set_1':['gene_a', 'gene_b', 'gene_c'], 'gene_set_2':['gene_c','gene_a','gene_e','gene_f']},\n",
        "\n",
        "'celltype_2':{'gene_set_1':['gene_a', 'gene_b', 'gene_c'], 'gene_set_3':['gene_a', 'gene_e','gene_f','gene_d']},\n",
        "\n",
        "'celltype_3':{},\n",
        "\n",
        "'global':\"{'gene_set_4':['gene_m','gene_n']} #the global key must be supplied\n",
        "\n",
        "**Note that one key in the dictionary must be 'global' with the corresponding value being a dictionary of gene sets which apply to all cells**\n",
        "\n",
        "Spectra will use this dictionary to align factors to the input gene sets. Gene sets which apply to only one cell type in the data should be included in the dictionary of that cell type. If a gene sets applies to all cell types in the data, the gene set should be included in the dictionary for 'global'. If a gene set applies to more than one cell type but not all cell types in the data there are two options 1) Include this gene set in each cell type dictionary which will likely result in a separate factor for this gene set in each cell type. OR 2) include this gene set in the 'global' dictionary which will likely result in one factor for this gene set in all cell types. We give additional guidance on the advantages and disadvantages of either approach in the Supplementary Methods of the Spectra paper: https://doi.org/10.1101/2022.12.20.521311"
      ],
      "metadata": {
        "id": "oqLbpf3qsFWF"
      }
    },
    {
      "cell_type": "markdown",
      "source": [
        "**Load the default dictionary**\n",
        "We used this dictionary to generate the results in the paper: https://doi.org/10.1101/2022.12.20.521311"
      ],
      "metadata": {
        "id": "mU-oUalzsO-P"
      }
    },
    {
      "cell_type": "code",
      "source": [
        "#load the default gene set dictionary from the Spectra paper:\n",
        "import os\n",
        "dict_path ='/content/spectra/data/Spectra_dict.json'\n",
        "with open(dict_path, \"rb\") as file:\n",
        "    annotations = json.load(file)"
      ],
      "metadata": {
        "id": "X4QL5M0ax1rc"
      },
      "execution_count": 10,
      "outputs": []
    },
    {
      "cell_type": "code",
      "source": [
        "annotations[\"global\"][\"all_wnt-beta-catenin-signaling\"]"
      ],
      "metadata": {
        "colab": {
          "base_uri": "https://localhost:8080/"
        },
        "id": "GLttFF8Lx3_3",
        "outputId": "a26dc890-6c13-4e41-9863-47dd49519c1a"
      },
      "execution_count": 11,
      "outputs": [
        {
          "output_type": "execute_result",
          "data": {
            "text/plain": [
              "['HDAC2',\n",
              " 'LEF1',\n",
              " 'CUL1',\n",
              " 'TP53',\n",
              " 'GNAI1',\n",
              " 'DLL1',\n",
              " 'SKP2',\n",
              " 'AXIN1',\n",
              " 'KAT2A',\n",
              " 'CSNK1E',\n",
              " 'MAML1',\n",
              " 'FZD8',\n",
              " 'NOTCH1',\n",
              " 'MYC',\n",
              " 'RBPJ',\n",
              " 'JAG2',\n",
              " 'PTCH1',\n",
              " 'PPARD',\n",
              " 'HDAC5',\n",
              " 'AXIN2',\n",
              " 'NUMB',\n",
              " 'PSEN2',\n",
              " 'NKD1',\n",
              " 'WNT1',\n",
              " 'TCF7',\n",
              " 'FRAT1',\n",
              " 'HDAC11',\n",
              " 'ADAM17',\n",
              " 'CCND2',\n",
              " 'HEY1',\n",
              " 'NCSTN',\n",
              " 'JAG1',\n",
              " 'DVL2',\n",
              " 'NOTCH4',\n",
              " 'NCOR2',\n",
              " 'TPTEP2-CSNK1E',\n",
              " 'FZD1',\n",
              " 'CTNNB1',\n",
              " 'DKK4',\n",
              " 'HEY2',\n",
              " 'WNT6',\n",
              " 'DKK1',\n",
              " 'WNT5B']"
            ]
          },
          "metadata": {},
          "execution_count": 11
        }
      ]
    },
    {
      "cell_type": "markdown",
      "source": [
        "# Custom gene_set_dictionary"
      ],
      "metadata": {
        "id": "MMXT036ZsanA"
      }
    },
    {
      "cell_type": "markdown",
      "source": [
        "**Alternatively you can use Spectra with your custom gene set annotation dictionaries.**\n",
        "\n",
        "Cytopus Knowledge Base\n",
        "\n",
        "We supply the Cytopus knowledge base to construct custom input gene set dictionaries for Spectra. For a tutorial visit the github repository: https://github.com/wallet-maker/cytopus\n",
        "\n",
        "**External Databases**\n",
        "\n",
        "To obtain optimal results, we recommend using dedicated gene sets, like from the Cytopus database which are tailored to single cell RNA sequencing data (see Supplementary Methods for details https://doi.org/10.1101/2022.12.20.521311).\n",
        "\n",
        "However, Spectra can also use gene set annotation dictionaries from external databases if they can be provided in the format described above."
      ],
      "metadata": {
        "id": "k5IWVmNGsfH5"
      }
    },
    {
      "cell_type": "markdown",
      "source": [
        "# Load adata"
      ],
      "metadata": {
        "id": "ktOGTojasldB"
      }
    },
    {
      "cell_type": "markdown",
      "source": [
        "In the Spectra paper we use logged scran-normalized leukocyte single cell RNA sequencing data (https://doi.org/10.1101/2022.12.20.521311). We have also used the method with logged median library size normalized RNA sequencing data."
      ],
      "metadata": {
        "id": "0kHJZhUOsn2C"
      }
    },
    {
      "cell_type": "code",
      "source": [
        "#define data paths\n",
        "adata_path = '/content/spectra/data/sample_data.h5ad'#indicate where to find the gene expression AnnData object\n",
        "obs_key = 'cell_type_annotations' #indicat the column name for the dataframe in adata.obs where to find the cell type lab"
      ],
      "metadata": {
        "id": "75tKPam6yCoz"
      },
      "execution_count": 12,
      "outputs": []
    },
    {
      "cell_type": "code",
      "source": [
        "#load data\n",
        "adata = sc.read(adata_path)\n",
        "adata"
      ],
      "metadata": {
        "colab": {
          "base_uri": "https://localhost:8080/"
        },
        "id": "mdoNNI4XyHlk",
        "outputId": "07bd66bb-36c4-4a00-e399-053689f73eb5"
      },
      "execution_count": 13,
      "outputs": [
        {
          "output_type": "execute_result",
          "data": {
            "text/plain": [
              "AnnData object with n_obs × n_vars = 10000 × 6397\n",
              "    obs: 'cell_type_annotations'\n",
              "    var: 'n_cells_by_counts', 'highly_variable'\n",
              "    uns: 'annotation_SPADE_1_colors', 'cell_type_annotations_colors', 'diffmap_evals', 'draw_graph', 'hvg', 'neighbors', 'pca'\n",
              "    obsm: 'X_diffmap', 'X_draw_graph_fa', 'X_pca', 'X_tsne', 'X_umap'\n",
              "    varm: 'PCs'\n",
              "    obsp: 'connectivities', 'distances'"
            ]
          },
          "metadata": {},
          "execution_count": 13
        }
      ]
    },
    {
      "cell_type": "markdown",
      "source": [
        "**Important: The cell type labels have to match with the cell type labels in the gene set dictionary**"
      ],
      "metadata": {
        "id": "-oKda8X2sql-"
      }
    },
    {
      "cell_type": "code",
      "source": [
        "#filter gene set annotation dict for genes contained in adata\n",
        "annotations = check_gene_set_dictionary(adata, annotations, obs_key='cell_type_annotations',global_key='global')"
      ],
      "metadata": {
        "colab": {
          "base_uri": "https://localhost:8080/"
        },
        "id": "PDOrKMD8yI_i",
        "outputId": "9c0ade86-8d07-43e9-85d6-2facb4af23d8"
      },
      "execution_count": 14,
      "outputs": [
        {
          "output_type": "stream",
          "name": "stdout",
          "text": [
            "Cell type labels in gene set annotation dictionary and AnnData object are identical\n",
            "Your gene set annotation dictionary is correctly formatted.\n"
          ]
        }
      ]
    },
    {
      "cell_type": "code",
      "source": [
        "#cell type labels in adata\n",
        "list(set(adata.obs[obs_key]))"
      ],
      "metadata": {
        "colab": {
          "base_uri": "https://localhost:8080/"
        },
        "id": "4FDWzBwXymHu",
        "outputId": "c7585906-5be4-4bab-9837-e17386c0f040"
      },
      "execution_count": 15,
      "outputs": [
        {
          "output_type": "execute_result",
          "data": {
            "text/plain": [
              "['B_memory',\n",
              " 'ILC3',\n",
              " 'NK',\n",
              " 'mast',\n",
              " 'gdT',\n",
              " 'plasma',\n",
              " 'MDC',\n",
              " 'B_GC',\n",
              " 'DC',\n",
              " 'CD8_T',\n",
              " 'Treg',\n",
              " 'pDC',\n",
              " 'B_naive',\n",
              " 'CD4_T']"
            ]
          },
          "metadata": {},
          "execution_count": 15
        }
      ]
    },
    {
      "cell_type": "code",
      "source": [
        "#cell type in gene set annotation dictionary\n",
        "list(set(annotations.keys()))"
      ],
      "metadata": {
        "colab": {
          "base_uri": "https://localhost:8080/"
        },
        "id": "lH4on6YRynsN",
        "outputId": "104f81b2-f58f-4002-c0f1-1326a79c6783"
      },
      "execution_count": 16,
      "outputs": [
        {
          "output_type": "execute_result",
          "data": {
            "text/plain": [
              "['global',\n",
              " 'B_memory',\n",
              " 'NK',\n",
              " 'mast',\n",
              " 'gdT',\n",
              " 'pDC',\n",
              " 'MDC',\n",
              " 'plasma',\n",
              " 'B_GC',\n",
              " 'DC',\n",
              " 'CD8_T',\n",
              " 'Treg',\n",
              " 'ILC3',\n",
              " 'B_naive',\n",
              " 'CD4_T']"
            ]
          },
          "metadata": {},
          "execution_count": 16
        }
      ]
    },
    {
      "cell_type": "markdown",
      "source": [
        "**if labels do not match adjust the labels either in adata or in annotations**"
      ],
      "metadata": {
        "id": "bSKFHS3rs8ae"
      }
    },
    {
      "cell_type": "markdown",
      "source": [
        "For example define and map a dictionary mapping the annotations in the adata object to the keys in the gene set annotations dictionary or vice versa. **Note that if you have a cell type in your adata for which you do not have any gene sets in your gene set annotation dictionary you must include an empty dictionary under that cell type key.** Afterwards confirm that the matching has worked:"
      ],
      "metadata": {
        "id": "D5EvurEfs2aL"
      }
    },
    {
      "cell_type": "code",
      "source": [
        "#filter gene set annotation dict for genes contained in adata\n",
        "annotations = check_gene_set_dictionary(adata, annotations, obs_key='cell_type_annotations',global_key='global')"
      ],
      "metadata": {
        "colab": {
          "base_uri": "https://localhost:8080/"
        },
        "id": "DNY50iPdyo_5",
        "outputId": "2600d15a-f428-44e1-8985-0537d1b9a4f9"
      },
      "execution_count": 17,
      "outputs": [
        {
          "output_type": "stream",
          "name": "stdout",
          "text": [
            "Cell type labels in gene set annotation dictionary and AnnData object are identical\n",
            "Your gene set annotation dictionary is correctly formatted.\n"
          ]
        }
      ]
    },
    {
      "cell_type": "markdown",
      "source": [
        "# Fit Spectra model"
      ],
      "metadata": {
        "id": "u3-E0Hsstt2L"
      }
    },
    {
      "cell_type": "markdown",
      "source": [
        "**General comments**\n",
        "\n",
        "Spectra is memory and cpu intensive.\n",
        "\n",
        "The here-provided dataset can be run on most computers. For bigger datasets you want to run this in non-interactive mode, as runtime can be 1-2 days for a dataset of ca 200,000 cells with 250 factors and 10 cell types. Run time scales linearly with the number of cell types in your data.\n",
        "\n",
        "An example hardware you could run a 200,000 cell, 10 cell type, 250 factor dataset on would be:\n",
        "\n",
        "16 cpus Intel Xeon Gold 256 GB RAM\n",
        "\n",
        "**Parameters**\n",
        "\n",
        "**adata** : AnnData object containing cell_type_key with log count data stored in .X\n",
        "\n",
        "**gene_set_dictionary**:dict or OrderedDict() maps cell types to gene set names to gene sets ; if use_cell_types == False then maps gene set names to gene sets ; must contain \"global\" key in addition to every unique cell type under .obs.<cell_type_key>\n",
        "\n",
        "**L**: dict, OrderedDict(), int , NoneType number of factors per cell type ; if use_cell_types == False then int. Else dictionary. If None then match factors to number of gene sets (recommended)\n",
        "\n",
        "**use_highly_variable** : bool if True, then uses highly_variable_genes\n",
        "\n",
        "**cell_type_key**: str cell type key, must be under adata.obs.<cell_type_key> . If use_cell_types == False, this is ignored\n",
        "\n",
        "**use_weights**: bool if True, edge weights are estimated based on graph structure and used throughout training\n",
        "\n",
        "**lam**: float lambda parameter of the model. weighs relative contribution of graph and expression loss functions\n",
        "\n",
        "**delta**: float delta parameter of the model. lower bounds possible gene scaling factors so that maximum ratio of gene scalings cannot be too large\n",
        "\n",
        "**kappa**: float or None if None, estimate background rate of 1s in the graph from data\n",
        "\n",
        "**rho**: float or None if None, estimate background rate of 0s in the graph from data\n",
        "\n",
        "**use_cell_types** : bool if True then cell type label is used to fit cell type specific factors. If false then cell types are ignored\n",
        "\n",
        "**n_top_vals** : int number of top markers to return in markers dataframe\n",
        "\n",
        "**determinant_penalty** : float determinant penalty of the attention mechanism. If set higher than 0 then sparse solutions of the attention weights and diverse attention weights are encouraged. However, tuning is crucial as setting too high reduces the selection accuracy because convergence to a hard selection occurs early during training [todo: annealing strategy]\n",
        "\n",
        "**filter_sets** : bool whether to filter the gene sets based on coherence\n",
        "\n",
        "**kwargs** : (num_epochs = 10000, lr_schedule = [...], verbose = False) arguments to .train(), maximum number of training epochs, learning rate schedule and whether to print changes in learning rate\n",
        "\n",
        "**Returns**: SPECTRA_Model object [after training]\n",
        "\n",
        "**In place**: adds 1. factors, 2. cell scores, 3. vocabulary, and 4. markers as attributes in .obsm, .var, .uns\n",
        "\n"
      ],
      "metadata": {
        "id": "q-G3dGLPtp8P"
      }
    },
    {
      "cell_type": "markdown",
      "source": [
        "**fit model with cell type annotations**\n",
        "\n",
        "Running Spectra with the cell type annotations will give you both global and cell type specific factors."
      ],
      "metadata": {
        "id": "zKETp-2LtmAs"
      }
    },
    {
      "cell_type": "code",
      "source": [
        "#fit the model (We will run this with only 2 epochs to decrease runtime in this tutorial)\n",
        "model = spc.est_spectra(adata = adata, gene_set_dictionary = annotations, \n",
        "                        use_highly_variable = True, cell_type_key = \"cell_type_annotations\", \n",
        "                        use_weights = True, lam = 0.1, \n",
        "                        delta=0.001,kappa = 0.00001, rho = 0.00001, \n",
        "                        use_cell_types = True, n_top_vals = 25, \n",
        "                        num_epochs=2 #for demonstration purposes we will only run 2 epochs, we recommend 10,000 epochs\n",
        "                       )"
      ],
      "metadata": {
        "colab": {
          "base_uri": "https://localhost:8080/"
        },
        "id": "6XDuS4eoopXS",
        "outputId": "09184442-9df6-4cd0-8d6d-a2030bb74215"
      },
      "execution_count": 18,
      "outputs": [
        {
          "output_type": "stream",
          "name": "stderr",
          "text": [
            "100%|██████████| 2/2 [00:54<00:00, 27.49s/it]\n"
          ]
        }
      ]
    },
    {
      "cell_type": "code",
      "source": [
        "del model"
      ],
      "metadata": {
        "id": "MUTKBbaoopzC"
      },
      "execution_count": 19,
      "outputs": []
    },
    {
      "cell_type": "markdown",
      "source": [
        "**fit model without cell type annotations**\n",
        "\n",
        "You can also fit the model without using the cell type annotations. In this case, instead of a nested gene set annotation dictionary, supply a regular dictionary with gene set names as keys (str) and the gene sets as values (list of gene names/IDs which match the gene names/IDs in the adata.var_names)"
      ],
      "metadata": {
        "id": "p8GHPvfytfde"
      }
    },
    {
      "cell_type": "code",
      "source": [
        "#fit the model (We will run this with only 2 epochs to decrease runtime in this tutorial)\n",
        "model = spc.est_spectra(adata = adata, gene_set_dictionary = annotations['global'], # because we do not use the cell types\n",
        "                                                                                    # we will supply a regular dict\n",
        "                                                                                    # instead of the nested dict above\n",
        "                        use_highly_variable = True, cell_type_key =None,# \"cell_type_annotations\" \n",
        "                        use_weights = True, lam = 0.1, \n",
        "                        delta=0.001,kappa = 0.00001, rho = 0.00001, \n",
        "                        use_cell_types = False, #set to False to not use the cell type annotations\n",
        "                        n_top_vals = 25, \n",
        "                        num_epochs=2 #for demonstration purposes we will only run 2 epochs, we recommend 10,000 epochs\n",
        "                       )\n",
        "\n"
      ],
      "metadata": {
        "colab": {
          "base_uri": "https://localhost:8080/"
        },
        "id": "i539dhsFyrX3",
        "outputId": "36337cec-4809-4702-b218-d701320dbda2"
      },
      "execution_count": 20,
      "outputs": [
        {
          "output_type": "stream",
          "name": "stderr",
          "text": [
            "100%|██████████| 2/2 [00:18<00:00,  9.14s/it]\n"
          ]
        }
      ]
    },
    {
      "cell_type": "code",
      "source": [
        "#this is the model file which includes all outputs\n",
        "dir(model)"
      ],
      "metadata": {
        "id": "Ar_34e8nyzFz",
        "colab": {
          "base_uri": "https://localhost:8080/"
        },
        "outputId": "718908d6-12c6-421e-e0ee-9858d765a97b"
      },
      "execution_count": 21,
      "outputs": [
        {
          "output_type": "execute_result",
          "data": {
            "text/plain": [
              "['B_diag',\n",
              " 'L',\n",
              " '_SPECTRA_Model__B_diag',\n",
              " '_SPECTRA_Model__eta_matrices',\n",
              " '_SPECTRA_Model__store_parameters',\n",
              " '_SPECTRA_Model__store_parameters_no_celltypes',\n",
              " '__class__',\n",
              " '__delattr__',\n",
              " '__dict__',\n",
              " '__dir__',\n",
              " '__doc__',\n",
              " '__eq__',\n",
              " '__format__',\n",
              " '__ge__',\n",
              " '__getattribute__',\n",
              " '__gt__',\n",
              " '__hash__',\n",
              " '__init__',\n",
              " '__init_subclass__',\n",
              " '__le__',\n",
              " '__lt__',\n",
              " '__module__',\n",
              " '__ne__',\n",
              " '__new__',\n",
              " '__reduce__',\n",
              " '__reduce_ex__',\n",
              " '__repr__',\n",
              " '__setattr__',\n",
              " '__sizeof__',\n",
              " '__str__',\n",
              " '__subclasshook__',\n",
              " '__weakref__',\n",
              " 'cell_scores',\n",
              " 'delta',\n",
              " 'eta_matrices',\n",
              " 'factors',\n",
              " 'gene_scalings',\n",
              " 'initialize',\n",
              " 'internal_model',\n",
              " 'kappa',\n",
              " 'lam',\n",
              " 'load',\n",
              " 'matching',\n",
              " 'return_cell_scores',\n",
              " 'return_eta',\n",
              " 'return_eta_diag',\n",
              " 'return_factors',\n",
              " 'return_gene_scalings',\n",
              " 'return_graph',\n",
              " 'return_kappa',\n",
              " 'return_rho',\n",
              " 'rho',\n",
              " 'save',\n",
              " 'train',\n",
              " 'use_cell_types']"
            ]
          },
          "metadata": {},
          "execution_count": 21
        }
      ]
    },
    {
      "cell_type": "code",
      "source": [
        "#save the model\n",
        "import pickle\n",
        "with open('spectra_model.pickle', 'wb') as f:\n",
        "    pickle.dump(model, f, pickle.HIGHEST_PROTOCOL)"
      ],
      "metadata": {
        "id": "V96MD2JNy1l9"
      },
      "execution_count": 22,
      "outputs": []
    },
    {
      "cell_type": "code",
      "source": [
        "#load the model\n",
        "with open('spectra_model.pickle', 'rb') as f:\n",
        "    model = pickle.load(f)"
      ],
      "metadata": {
        "id": "koPXcTN4pJz-"
      },
      "execution_count": 23,
      "outputs": []
    },
    {
      "cell_type": "code",
      "source": [
        "#the adata will contain the most important outputs from the Spectra model \n",
        "adata"
      ],
      "metadata": {
        "id": "DIwXb_1ty65g",
        "colab": {
          "base_uri": "https://localhost:8080/"
        },
        "outputId": "93e14a7b-2c02-48b0-a4b5-ae70b75f4688"
      },
      "execution_count": 24,
      "outputs": [
        {
          "output_type": "execute_result",
          "data": {
            "text/plain": [
              "AnnData object with n_obs × n_vars = 10000 × 6397\n",
              "    obs: 'cell_type_annotations'\n",
              "    var: 'n_cells_by_counts', 'highly_variable', 'spectra_vocab'\n",
              "    uns: 'annotation_SPADE_1_colors', 'cell_type_annotations_colors', 'diffmap_evals', 'draw_graph', 'hvg', 'neighbors', 'pca', 'SPECTRA_factors', 'SPECTRA_markers', 'SPECTRA_L'\n",
              "    obsm: 'X_diffmap', 'X_draw_graph_fa', 'X_pca', 'X_tsne', 'X_umap', 'SPECTRA_cell_scores'\n",
              "    varm: 'PCs'\n",
              "    obsp: 'connectivities', 'distances'"
            ]
          },
          "metadata": {},
          "execution_count": 24
        }
      ]
    },
    {
      "cell_type": "code",
      "source": [
        "#find the markers under adata.uns['SPECTRA_markers']\n",
        "adata.uns['SPECTRA_markers']"
      ],
      "metadata": {
        "id": "5k2f1CbZy68U",
        "colab": {
          "base_uri": "https://localhost:8080/"
        },
        "outputId": "bad5cfff-29fd-4331-c2bf-c78d19e106e6"
      },
      "execution_count": 25,
      "outputs": [
        {
          "output_type": "execute_result",
          "data": {
            "text/plain": [
              "array([['HLCS', 'BTD', 'SLC16A1', ..., 'CXCL5', 'FBXW5', 'VPS26B'],\n",
              "       ['AMPD3', 'AK5', 'GUK1', ..., 'GMPR2', 'GK', 'NCSTN'],\n",
              "       ['AOX1', 'ALDH1B1', 'ADH1C', ..., 'DYNLL1', 'MT1E', 'EIF3H'],\n",
              "       ...,\n",
              "       ['LTB', 'CD44', 'STAT3', ..., 'ITGA4', 'IL4R', 'CD9'],\n",
              "       ['EEF1A1', 'HSPA8', 'CTSA', ..., 'CORO1A', 'COX8A', 'USO1'],\n",
              "       ['NEAT1', 'SSR4', 'CST3', ..., 'CTSB', 'TRBC1', 'ABI3BP']],\n",
              "      dtype=object)"
            ]
          },
          "metadata": {},
          "execution_count": 25
        }
      ]
    },
    {
      "cell_type": "code",
      "source": [
        "#find the factors under adata.uns['SPECTRA_factors'] \n",
        "adata.uns['SPECTRA_factors']"
      ],
      "metadata": {
        "id": "aDKxRcpWy6_O",
        "colab": {
          "base_uri": "https://localhost:8080/"
        },
        "outputId": "954227f2-5732-40b6-a30e-7d30905046eb"
      },
      "execution_count": 26,
      "outputs": [
        {
          "output_type": "execute_result",
          "data": {
            "text/plain": [
              "array([[1.4264622e-12, 3.1336755e-13, 4.0787594e-13, ..., 8.5524236e-13,\n",
              "        5.2548634e-13, 4.8993279e-12],\n",
              "       [1.9226394e-13, 4.1273644e-13, 6.6424627e-13, ..., 1.8275069e-12,\n",
              "        6.0423379e-13, 1.9634398e-12],\n",
              "       [9.0637746e-13, 3.0669629e-13, 1.9294791e-13, ..., 2.8407132e-13,\n",
              "        4.9726906e-13, 1.6757212e-11],\n",
              "       ...,\n",
              "       [6.6269286e-12, 1.4080662e-12, 1.4590616e-12, ..., 1.3263091e-12,\n",
              "        1.0104778e-12, 6.2596226e-12],\n",
              "       [1.2739936e-12, 3.6685390e-13, 2.4900641e-13, ..., 4.2118487e-13,\n",
              "        1.3815362e-12, 1.3844622e-12],\n",
              "       [2.7026785e-23, 6.1628019e-24, 1.2346127e-01, ..., 1.2769276e-01,\n",
              "        2.2520727e-01, 1.5700197e-23]], dtype=float32)"
            ]
          },
          "metadata": {},
          "execution_count": 26
        }
      ]
    },
    {
      "cell_type": "code",
      "source": [
        "#it also includes a dictionary of the factor numbers per cell type\n",
        "adata.uns['SPECTRA_L']"
      ],
      "metadata": {
        "id": "fYzI1tK3y7B6",
        "colab": {
          "base_uri": "https://localhost:8080/"
        },
        "outputId": "038cb263-c450-488d-983b-4503068812b7"
      },
      "execution_count": 27,
      "outputs": [
        {
          "output_type": "execute_result",
          "data": {
            "text/plain": [
              "151"
            ]
          },
          "metadata": {},
          "execution_count": 27
        }
      ]
    },
    {
      "cell_type": "code",
      "source": [
        "#get factor celltype labels (the cell type will likely be provided directly by the model in future versions)\n",
        "celltype_dict = get_factor_celltypes(adata, obs_key= obs_key, cellscore_obsm_key = 'SPECTRA_cell_scores')\n",
        "celltype_dict"
      ],
      "metadata": {
        "id": "DV0xG5Ady7EY",
        "colab": {
          "base_uri": "https://localhost:8080/"
        },
        "outputId": "b1ff49f4-6ba5-4813-cb67-fd9bf15cfad7"
      },
      "execution_count": 28,
      "outputs": [
        {
          "output_type": "execute_result",
          "data": {
            "text/plain": [
              "{0: 'global',\n",
              " 1: 'global',\n",
              " 2: 'global',\n",
              " 3: 'global',\n",
              " 4: 'global',\n",
              " 5: 'global',\n",
              " 6: 'global',\n",
              " 7: 'global',\n",
              " 8: 'global',\n",
              " 9: 'global',\n",
              " 10: 'global',\n",
              " 11: 'global',\n",
              " 12: 'global',\n",
              " 13: 'global',\n",
              " 14: 'global',\n",
              " 15: 'global',\n",
              " 16: 'global',\n",
              " 17: 'global',\n",
              " 18: 'global',\n",
              " 19: 'global',\n",
              " 20: 'global',\n",
              " 21: 'global',\n",
              " 22: 'global',\n",
              " 23: 'global',\n",
              " 24: 'global',\n",
              " 25: 'global',\n",
              " 26: 'global',\n",
              " 27: 'global',\n",
              " 28: 'global',\n",
              " 29: 'global',\n",
              " 30: 'global',\n",
              " 31: 'global',\n",
              " 32: 'global',\n",
              " 33: 'global',\n",
              " 34: 'global',\n",
              " 35: 'global',\n",
              " 36: 'global',\n",
              " 37: 'global',\n",
              " 38: 'global',\n",
              " 39: 'global',\n",
              " 40: 'global',\n",
              " 41: 'global',\n",
              " 42: 'global',\n",
              " 43: 'global',\n",
              " 44: 'global',\n",
              " 45: 'global',\n",
              " 46: 'global',\n",
              " 47: 'global',\n",
              " 48: 'global',\n",
              " 49: 'global',\n",
              " 50: 'global',\n",
              " 51: 'global',\n",
              " 52: 'global',\n",
              " 53: 'global',\n",
              " 54: 'global',\n",
              " 55: 'global',\n",
              " 56: 'global',\n",
              " 57: 'global',\n",
              " 58: 'global',\n",
              " 59: 'global',\n",
              " 60: 'global',\n",
              " 61: 'global',\n",
              " 62: 'global',\n",
              " 63: 'global',\n",
              " 64: 'global',\n",
              " 65: 'global',\n",
              " 66: 'global',\n",
              " 67: 'global',\n",
              " 68: 'global',\n",
              " 69: 'global',\n",
              " 70: 'global',\n",
              " 71: 'global',\n",
              " 72: 'global',\n",
              " 73: 'global',\n",
              " 74: 'global',\n",
              " 75: 'global',\n",
              " 76: 'global',\n",
              " 77: 'global',\n",
              " 78: 'global',\n",
              " 79: 'global',\n",
              " 80: 'global',\n",
              " 81: 'global',\n",
              " 82: 'global',\n",
              " 83: 'global',\n",
              " 84: 'global',\n",
              " 85: 'global',\n",
              " 86: 'global',\n",
              " 87: 'global',\n",
              " 88: 'global',\n",
              " 89: 'global',\n",
              " 90: 'global',\n",
              " 91: 'global',\n",
              " 92: 'global',\n",
              " 93: 'global',\n",
              " 94: 'global',\n",
              " 95: 'global',\n",
              " 96: 'global',\n",
              " 97: 'global',\n",
              " 98: 'global',\n",
              " 99: 'global',\n",
              " 100: 'global',\n",
              " 101: 'global',\n",
              " 102: 'global',\n",
              " 103: 'global',\n",
              " 104: 'global',\n",
              " 105: 'global',\n",
              " 106: 'global',\n",
              " 107: 'global',\n",
              " 108: 'global',\n",
              " 109: 'global',\n",
              " 110: 'global',\n",
              " 111: 'global',\n",
              " 112: 'global',\n",
              " 113: 'global',\n",
              " 114: 'global',\n",
              " 115: 'global',\n",
              " 116: 'global',\n",
              " 117: 'global',\n",
              " 118: 'global',\n",
              " 119: 'global',\n",
              " 120: 'global',\n",
              " 121: 'global',\n",
              " 122: 'global',\n",
              " 123: 'global',\n",
              " 124: 'global',\n",
              " 125: 'global',\n",
              " 126: 'global',\n",
              " 127: 'global',\n",
              " 128: 'global',\n",
              " 129: 'global',\n",
              " 130: 'global',\n",
              " 131: 'global',\n",
              " 132: 'global',\n",
              " 133: 'global',\n",
              " 134: 'global',\n",
              " 135: 'global',\n",
              " 136: 'global',\n",
              " 137: 'global',\n",
              " 138: 'global',\n",
              " 139: 'global',\n",
              " 140: 'global',\n",
              " 141: 'global',\n",
              " 142: 'global',\n",
              " 143: 'global',\n",
              " 144: 'global',\n",
              " 145: 'global',\n",
              " 146: 'global',\n",
              " 147: 'global',\n",
              " 148: 'global',\n",
              " 149: 'global',\n",
              " 150: 'global'}"
            ]
          },
          "metadata": {},
          "execution_count": 28
        }
      ]
    },
    {
      "cell_type": "code",
      "source": [
        "#so you can construct a dataframe for the factor gene weights\n",
        "\n",
        "#include cell type specificity as a prefix into the index\n",
        "index_labels = [celltype_dict[x]+'_'+str(x) for x in range(adata.uns['SPECTRA_factors'].shape[0])]\n",
        "gene_weights = pd.DataFrame(adata.uns['SPECTRA_factors'], \n",
        "                            index= index_labels,\n",
        "                            columns=adata.var[adata.var['spectra_vocab']].index)\n",
        "gene_weights"
      ],
      "metadata": {
        "id": "1l6It9epy7G7",
        "colab": {
          "base_uri": "https://localhost:8080/",
          "height": 661
        },
        "outputId": "2b96800d-b960-4ef8-95dd-f664d24f3303"
      },
      "execution_count": 29,
      "outputs": [
        {
          "output_type": "execute_result",
          "data": {
            "text/plain": [
              "                  NDUFS3         HACD1       FAM214A          TBCD  \\\n",
              "global_0    1.426462e-12  3.133676e-13  4.078759e-13  1.052373e-12   \n",
              "global_1    1.922639e-13  4.127364e-13  6.642463e-13  1.042596e-11   \n",
              "global_2    9.063775e-13  3.066963e-13  1.929479e-13  1.349572e-10   \n",
              "global_3    1.939631e-12  1.068132e-11  3.416372e-13  8.365690e-12   \n",
              "global_4    1.105112e-12  7.600197e-12  4.372925e-13  6.787013e-13   \n",
              "...                  ...           ...           ...           ...   \n",
              "global_146  2.117620e-13  4.940722e-13  5.879836e-13  3.289156e-12   \n",
              "global_147  4.279148e-12  1.083420e-13  4.147679e-13  9.529658e-12   \n",
              "global_148  6.626929e-12  1.408066e-12  1.459062e-12  1.532427e-11   \n",
              "global_149  1.273994e-12  3.668539e-13  2.490064e-13  1.016001e-11   \n",
              "global_150  2.702678e-23  6.162802e-24  1.234613e-01  1.503002e-23   \n",
              "\n",
              "              AC124312.1        CD40LG    AC022182.1         USP53  \\\n",
              "global_0    1.086653e-14  3.554916e-13  1.310569e-12  8.406174e-13   \n",
              "global_1    2.083381e-14  8.310702e-13  2.954132e-13  2.927339e-13   \n",
              "global_2    1.689898e-14  2.562518e-13  5.972588e-13  1.702591e-13   \n",
              "global_3    2.834347e-14  5.708033e-13  1.766137e-13  6.356579e-13   \n",
              "global_4    3.271136e-14  2.807759e-13  2.797081e-13  3.342814e-13   \n",
              "...                  ...           ...           ...           ...   \n",
              "global_146  2.641029e-15  2.826210e-13  3.140946e-13  1.287632e-13   \n",
              "global_147  3.936888e-14  8.587310e-13  2.047087e-13  1.544531e-13   \n",
              "global_148  1.577173e-14  1.278900e-12  1.233998e-12  1.038032e-12   \n",
              "global_149  2.409658e-14  8.643295e-13  5.656654e-13  2.018486e-13   \n",
              "global_150  2.010260e-02  1.802888e-01  1.171175e-01  1.227627e-01   \n",
              "\n",
              "                    SPOP         PILRA  ...         ACVR1        CCL3L1  \\\n",
              "global_0    1.357429e-11  9.580000e-14  ...  3.457702e-13  6.701217e-13   \n",
              "global_1    1.741983e-11  6.209762e-13  ...  9.520684e-14  5.131048e-13   \n",
              "global_2    1.523680e-11  3.003847e-13  ...  5.192975e-12  1.159259e-12   \n",
              "global_3    1.269146e-10  1.053521e-13  ...  1.778954e-11  4.434325e-12   \n",
              "global_4    1.529212e-11  3.159904e-13  ...  1.610307e-13  5.641215e-13   \n",
              "...                  ...           ...  ...           ...           ...   \n",
              "global_146  3.060624e-12  6.120314e-13  ...  5.746553e-12  3.125482e-12   \n",
              "global_147  1.787591e-11  1.211024e-12  ...  1.053748e-12  9.275724e-13   \n",
              "global_148  1.819160e-11  1.846287e-13  ...  3.327272e-11  2.870468e-12   \n",
              "global_149  1.039519e-11  2.920739e-13  ...  7.485200e-13  7.019427e-13   \n",
              "global_150  2.552837e-23  1.096996e-01  ...  1.795141e-23  3.332673e-01   \n",
              "\n",
              "                    BAG3      CDC42EP3        RANBP1         FDFT1  \\\n",
              "global_0    1.400822e-13  1.684671e-13  8.499309e-11  3.096349e-13   \n",
              "global_1    1.976109e-13  2.591360e-13  1.636935e-11  4.358598e-13   \n",
              "global_2    5.049908e-13  2.047703e-13  1.245956e-11  1.065309e-11   \n",
              "global_3    2.446120e-13  1.884185e-13  1.060865e-12  2.695016e-11   \n",
              "global_4    1.355144e-13  1.274085e-12  2.764309e-12  2.566376e-02   \n",
              "...                  ...           ...           ...           ...   \n",
              "global_146  3.021661e-13  8.198652e-13  1.987707e-11  4.394863e-12   \n",
              "global_147  9.077086e-14  2.397302e-13  6.617448e-12  1.452582e-12   \n",
              "global_148  1.146729e-14  9.365435e-14  1.778399e-10  2.671117e-11   \n",
              "global_149  1.674867e-03  3.682419e-13  3.979527e-12  2.066328e-12   \n",
              "global_150  2.228926e-24  1.449223e-01  5.817943e-23  1.758976e-23   \n",
              "\n",
              "                   HACD4        FCGR3A         AZGP1       SLC35A1  \n",
              "global_0    7.295150e-11  8.552424e-13  5.254863e-13  4.899328e-12  \n",
              "global_1    8.641829e-12  1.827507e-12  6.042338e-13  1.963440e-12  \n",
              "global_2    9.574741e-12  2.840713e-13  4.972691e-13  1.675721e-11  \n",
              "global_3    1.993136e-11  7.260813e-13  2.266828e-13  4.448736e-13  \n",
              "global_4    4.208527e-12  7.983055e-13  5.881891e-13  6.842381e-12  \n",
              "...                  ...           ...           ...           ...  \n",
              "global_146  1.863833e-11  3.253889e-13  6.137128e-13  2.151590e-11  \n",
              "global_147  1.709805e-11  7.374562e-13  1.031613e-12  2.372693e-11  \n",
              "global_148  7.448866e-13  1.326309e-12  1.010478e-12  6.259623e-12  \n",
              "global_149  1.396873e-12  4.211849e-13  1.381536e-12  1.384462e-12  \n",
              "global_150  5.049790e-23  1.276928e-01  2.252073e-01  1.570020e-23  \n",
              "\n",
              "[151 rows x 6075 columns]"
            ],
            "text/html": [
              "\n",
              "  <div id=\"df-a12e3024-8e7e-4043-9b94-a430f1d18c92\">\n",
              "    <div class=\"colab-df-container\">\n",
              "      <div>\n",
              "<style scoped>\n",
              "    .dataframe tbody tr th:only-of-type {\n",
              "        vertical-align: middle;\n",
              "    }\n",
              "\n",
              "    .dataframe tbody tr th {\n",
              "        vertical-align: top;\n",
              "    }\n",
              "\n",
              "    .dataframe thead th {\n",
              "        text-align: right;\n",
              "    }\n",
              "</style>\n",
              "<table border=\"1\" class=\"dataframe\">\n",
              "  <thead>\n",
              "    <tr style=\"text-align: right;\">\n",
              "      <th></th>\n",
              "      <th>NDUFS3</th>\n",
              "      <th>HACD1</th>\n",
              "      <th>FAM214A</th>\n",
              "      <th>TBCD</th>\n",
              "      <th>AC124312.1</th>\n",
              "      <th>CD40LG</th>\n",
              "      <th>AC022182.1</th>\n",
              "      <th>USP53</th>\n",
              "      <th>SPOP</th>\n",
              "      <th>PILRA</th>\n",
              "      <th>...</th>\n",
              "      <th>ACVR1</th>\n",
              "      <th>CCL3L1</th>\n",
              "      <th>BAG3</th>\n",
              "      <th>CDC42EP3</th>\n",
              "      <th>RANBP1</th>\n",
              "      <th>FDFT1</th>\n",
              "      <th>HACD4</th>\n",
              "      <th>FCGR3A</th>\n",
              "      <th>AZGP1</th>\n",
              "      <th>SLC35A1</th>\n",
              "    </tr>\n",
              "  </thead>\n",
              "  <tbody>\n",
              "    <tr>\n",
              "      <th>global_0</th>\n",
              "      <td>1.426462e-12</td>\n",
              "      <td>3.133676e-13</td>\n",
              "      <td>4.078759e-13</td>\n",
              "      <td>1.052373e-12</td>\n",
              "      <td>1.086653e-14</td>\n",
              "      <td>3.554916e-13</td>\n",
              "      <td>1.310569e-12</td>\n",
              "      <td>8.406174e-13</td>\n",
              "      <td>1.357429e-11</td>\n",
              "      <td>9.580000e-14</td>\n",
              "      <td>...</td>\n",
              "      <td>3.457702e-13</td>\n",
              "      <td>6.701217e-13</td>\n",
              "      <td>1.400822e-13</td>\n",
              "      <td>1.684671e-13</td>\n",
              "      <td>8.499309e-11</td>\n",
              "      <td>3.096349e-13</td>\n",
              "      <td>7.295150e-11</td>\n",
              "      <td>8.552424e-13</td>\n",
              "      <td>5.254863e-13</td>\n",
              "      <td>4.899328e-12</td>\n",
              "    </tr>\n",
              "    <tr>\n",
              "      <th>global_1</th>\n",
              "      <td>1.922639e-13</td>\n",
              "      <td>4.127364e-13</td>\n",
              "      <td>6.642463e-13</td>\n",
              "      <td>1.042596e-11</td>\n",
              "      <td>2.083381e-14</td>\n",
              "      <td>8.310702e-13</td>\n",
              "      <td>2.954132e-13</td>\n",
              "      <td>2.927339e-13</td>\n",
              "      <td>1.741983e-11</td>\n",
              "      <td>6.209762e-13</td>\n",
              "      <td>...</td>\n",
              "      <td>9.520684e-14</td>\n",
              "      <td>5.131048e-13</td>\n",
              "      <td>1.976109e-13</td>\n",
              "      <td>2.591360e-13</td>\n",
              "      <td>1.636935e-11</td>\n",
              "      <td>4.358598e-13</td>\n",
              "      <td>8.641829e-12</td>\n",
              "      <td>1.827507e-12</td>\n",
              "      <td>6.042338e-13</td>\n",
              "      <td>1.963440e-12</td>\n",
              "    </tr>\n",
              "    <tr>\n",
              "      <th>global_2</th>\n",
              "      <td>9.063775e-13</td>\n",
              "      <td>3.066963e-13</td>\n",
              "      <td>1.929479e-13</td>\n",
              "      <td>1.349572e-10</td>\n",
              "      <td>1.689898e-14</td>\n",
              "      <td>2.562518e-13</td>\n",
              "      <td>5.972588e-13</td>\n",
              "      <td>1.702591e-13</td>\n",
              "      <td>1.523680e-11</td>\n",
              "      <td>3.003847e-13</td>\n",
              "      <td>...</td>\n",
              "      <td>5.192975e-12</td>\n",
              "      <td>1.159259e-12</td>\n",
              "      <td>5.049908e-13</td>\n",
              "      <td>2.047703e-13</td>\n",
              "      <td>1.245956e-11</td>\n",
              "      <td>1.065309e-11</td>\n",
              "      <td>9.574741e-12</td>\n",
              "      <td>2.840713e-13</td>\n",
              "      <td>4.972691e-13</td>\n",
              "      <td>1.675721e-11</td>\n",
              "    </tr>\n",
              "    <tr>\n",
              "      <th>global_3</th>\n",
              "      <td>1.939631e-12</td>\n",
              "      <td>1.068132e-11</td>\n",
              "      <td>3.416372e-13</td>\n",
              "      <td>8.365690e-12</td>\n",
              "      <td>2.834347e-14</td>\n",
              "      <td>5.708033e-13</td>\n",
              "      <td>1.766137e-13</td>\n",
              "      <td>6.356579e-13</td>\n",
              "      <td>1.269146e-10</td>\n",
              "      <td>1.053521e-13</td>\n",
              "      <td>...</td>\n",
              "      <td>1.778954e-11</td>\n",
              "      <td>4.434325e-12</td>\n",
              "      <td>2.446120e-13</td>\n",
              "      <td>1.884185e-13</td>\n",
              "      <td>1.060865e-12</td>\n",
              "      <td>2.695016e-11</td>\n",
              "      <td>1.993136e-11</td>\n",
              "      <td>7.260813e-13</td>\n",
              "      <td>2.266828e-13</td>\n",
              "      <td>4.448736e-13</td>\n",
              "    </tr>\n",
              "    <tr>\n",
              "      <th>global_4</th>\n",
              "      <td>1.105112e-12</td>\n",
              "      <td>7.600197e-12</td>\n",
              "      <td>4.372925e-13</td>\n",
              "      <td>6.787013e-13</td>\n",
              "      <td>3.271136e-14</td>\n",
              "      <td>2.807759e-13</td>\n",
              "      <td>2.797081e-13</td>\n",
              "      <td>3.342814e-13</td>\n",
              "      <td>1.529212e-11</td>\n",
              "      <td>3.159904e-13</td>\n",
              "      <td>...</td>\n",
              "      <td>1.610307e-13</td>\n",
              "      <td>5.641215e-13</td>\n",
              "      <td>1.355144e-13</td>\n",
              "      <td>1.274085e-12</td>\n",
              "      <td>2.764309e-12</td>\n",
              "      <td>2.566376e-02</td>\n",
              "      <td>4.208527e-12</td>\n",
              "      <td>7.983055e-13</td>\n",
              "      <td>5.881891e-13</td>\n",
              "      <td>6.842381e-12</td>\n",
              "    </tr>\n",
              "    <tr>\n",
              "      <th>...</th>\n",
              "      <td>...</td>\n",
              "      <td>...</td>\n",
              "      <td>...</td>\n",
              "      <td>...</td>\n",
              "      <td>...</td>\n",
              "      <td>...</td>\n",
              "      <td>...</td>\n",
              "      <td>...</td>\n",
              "      <td>...</td>\n",
              "      <td>...</td>\n",
              "      <td>...</td>\n",
              "      <td>...</td>\n",
              "      <td>...</td>\n",
              "      <td>...</td>\n",
              "      <td>...</td>\n",
              "      <td>...</td>\n",
              "      <td>...</td>\n",
              "      <td>...</td>\n",
              "      <td>...</td>\n",
              "      <td>...</td>\n",
              "      <td>...</td>\n",
              "    </tr>\n",
              "    <tr>\n",
              "      <th>global_146</th>\n",
              "      <td>2.117620e-13</td>\n",
              "      <td>4.940722e-13</td>\n",
              "      <td>5.879836e-13</td>\n",
              "      <td>3.289156e-12</td>\n",
              "      <td>2.641029e-15</td>\n",
              "      <td>2.826210e-13</td>\n",
              "      <td>3.140946e-13</td>\n",
              "      <td>1.287632e-13</td>\n",
              "      <td>3.060624e-12</td>\n",
              "      <td>6.120314e-13</td>\n",
              "      <td>...</td>\n",
              "      <td>5.746553e-12</td>\n",
              "      <td>3.125482e-12</td>\n",
              "      <td>3.021661e-13</td>\n",
              "      <td>8.198652e-13</td>\n",
              "      <td>1.987707e-11</td>\n",
              "      <td>4.394863e-12</td>\n",
              "      <td>1.863833e-11</td>\n",
              "      <td>3.253889e-13</td>\n",
              "      <td>6.137128e-13</td>\n",
              "      <td>2.151590e-11</td>\n",
              "    </tr>\n",
              "    <tr>\n",
              "      <th>global_147</th>\n",
              "      <td>4.279148e-12</td>\n",
              "      <td>1.083420e-13</td>\n",
              "      <td>4.147679e-13</td>\n",
              "      <td>9.529658e-12</td>\n",
              "      <td>3.936888e-14</td>\n",
              "      <td>8.587310e-13</td>\n",
              "      <td>2.047087e-13</td>\n",
              "      <td>1.544531e-13</td>\n",
              "      <td>1.787591e-11</td>\n",
              "      <td>1.211024e-12</td>\n",
              "      <td>...</td>\n",
              "      <td>1.053748e-12</td>\n",
              "      <td>9.275724e-13</td>\n",
              "      <td>9.077086e-14</td>\n",
              "      <td>2.397302e-13</td>\n",
              "      <td>6.617448e-12</td>\n",
              "      <td>1.452582e-12</td>\n",
              "      <td>1.709805e-11</td>\n",
              "      <td>7.374562e-13</td>\n",
              "      <td>1.031613e-12</td>\n",
              "      <td>2.372693e-11</td>\n",
              "    </tr>\n",
              "    <tr>\n",
              "      <th>global_148</th>\n",
              "      <td>6.626929e-12</td>\n",
              "      <td>1.408066e-12</td>\n",
              "      <td>1.459062e-12</td>\n",
              "      <td>1.532427e-11</td>\n",
              "      <td>1.577173e-14</td>\n",
              "      <td>1.278900e-12</td>\n",
              "      <td>1.233998e-12</td>\n",
              "      <td>1.038032e-12</td>\n",
              "      <td>1.819160e-11</td>\n",
              "      <td>1.846287e-13</td>\n",
              "      <td>...</td>\n",
              "      <td>3.327272e-11</td>\n",
              "      <td>2.870468e-12</td>\n",
              "      <td>1.146729e-14</td>\n",
              "      <td>9.365435e-14</td>\n",
              "      <td>1.778399e-10</td>\n",
              "      <td>2.671117e-11</td>\n",
              "      <td>7.448866e-13</td>\n",
              "      <td>1.326309e-12</td>\n",
              "      <td>1.010478e-12</td>\n",
              "      <td>6.259623e-12</td>\n",
              "    </tr>\n",
              "    <tr>\n",
              "      <th>global_149</th>\n",
              "      <td>1.273994e-12</td>\n",
              "      <td>3.668539e-13</td>\n",
              "      <td>2.490064e-13</td>\n",
              "      <td>1.016001e-11</td>\n",
              "      <td>2.409658e-14</td>\n",
              "      <td>8.643295e-13</td>\n",
              "      <td>5.656654e-13</td>\n",
              "      <td>2.018486e-13</td>\n",
              "      <td>1.039519e-11</td>\n",
              "      <td>2.920739e-13</td>\n",
              "      <td>...</td>\n",
              "      <td>7.485200e-13</td>\n",
              "      <td>7.019427e-13</td>\n",
              "      <td>1.674867e-03</td>\n",
              "      <td>3.682419e-13</td>\n",
              "      <td>3.979527e-12</td>\n",
              "      <td>2.066328e-12</td>\n",
              "      <td>1.396873e-12</td>\n",
              "      <td>4.211849e-13</td>\n",
              "      <td>1.381536e-12</td>\n",
              "      <td>1.384462e-12</td>\n",
              "    </tr>\n",
              "    <tr>\n",
              "      <th>global_150</th>\n",
              "      <td>2.702678e-23</td>\n",
              "      <td>6.162802e-24</td>\n",
              "      <td>1.234613e-01</td>\n",
              "      <td>1.503002e-23</td>\n",
              "      <td>2.010260e-02</td>\n",
              "      <td>1.802888e-01</td>\n",
              "      <td>1.171175e-01</td>\n",
              "      <td>1.227627e-01</td>\n",
              "      <td>2.552837e-23</td>\n",
              "      <td>1.096996e-01</td>\n",
              "      <td>...</td>\n",
              "      <td>1.795141e-23</td>\n",
              "      <td>3.332673e-01</td>\n",
              "      <td>2.228926e-24</td>\n",
              "      <td>1.449223e-01</td>\n",
              "      <td>5.817943e-23</td>\n",
              "      <td>1.758976e-23</td>\n",
              "      <td>5.049790e-23</td>\n",
              "      <td>1.276928e-01</td>\n",
              "      <td>2.252073e-01</td>\n",
              "      <td>1.570020e-23</td>\n",
              "    </tr>\n",
              "  </tbody>\n",
              "</table>\n",
              "<p>151 rows × 6075 columns</p>\n",
              "</div>\n",
              "      <button class=\"colab-df-convert\" onclick=\"convertToInteractive('df-a12e3024-8e7e-4043-9b94-a430f1d18c92')\"\n",
              "              title=\"Convert this dataframe to an interactive table.\"\n",
              "              style=\"display:none;\">\n",
              "        \n",
              "  <svg xmlns=\"http://www.w3.org/2000/svg\" height=\"24px\"viewBox=\"0 0 24 24\"\n",
              "       width=\"24px\">\n",
              "    <path d=\"M0 0h24v24H0V0z\" fill=\"none\"/>\n",
              "    <path d=\"M18.56 5.44l.94 2.06.94-2.06 2.06-.94-2.06-.94-.94-2.06-.94 2.06-2.06.94zm-11 1L8.5 8.5l.94-2.06 2.06-.94-2.06-.94L8.5 2.5l-.94 2.06-2.06.94zm10 10l.94 2.06.94-2.06 2.06-.94-2.06-.94-.94-2.06-.94 2.06-2.06.94z\"/><path d=\"M17.41 7.96l-1.37-1.37c-.4-.4-.92-.59-1.43-.59-.52 0-1.04.2-1.43.59L10.3 9.45l-7.72 7.72c-.78.78-.78 2.05 0 2.83L4 21.41c.39.39.9.59 1.41.59.51 0 1.02-.2 1.41-.59l7.78-7.78 2.81-2.81c.8-.78.8-2.07 0-2.86zM5.41 20L4 18.59l7.72-7.72 1.47 1.35L5.41 20z\"/>\n",
              "  </svg>\n",
              "      </button>\n",
              "      \n",
              "  <style>\n",
              "    .colab-df-container {\n",
              "      display:flex;\n",
              "      flex-wrap:wrap;\n",
              "      gap: 12px;\n",
              "    }\n",
              "\n",
              "    .colab-df-convert {\n",
              "      background-color: #E8F0FE;\n",
              "      border: none;\n",
              "      border-radius: 50%;\n",
              "      cursor: pointer;\n",
              "      display: none;\n",
              "      fill: #1967D2;\n",
              "      height: 32px;\n",
              "      padding: 0 0 0 0;\n",
              "      width: 32px;\n",
              "    }\n",
              "\n",
              "    .colab-df-convert:hover {\n",
              "      background-color: #E2EBFA;\n",
              "      box-shadow: 0px 1px 2px rgba(60, 64, 67, 0.3), 0px 1px 3px 1px rgba(60, 64, 67, 0.15);\n",
              "      fill: #174EA6;\n",
              "    }\n",
              "\n",
              "    [theme=dark] .colab-df-convert {\n",
              "      background-color: #3B4455;\n",
              "      fill: #D2E3FC;\n",
              "    }\n",
              "\n",
              "    [theme=dark] .colab-df-convert:hover {\n",
              "      background-color: #434B5C;\n",
              "      box-shadow: 0px 1px 3px 1px rgba(0, 0, 0, 0.15);\n",
              "      filter: drop-shadow(0px 1px 2px rgba(0, 0, 0, 0.3));\n",
              "      fill: #FFFFFF;\n",
              "    }\n",
              "  </style>\n",
              "\n",
              "      <script>\n",
              "        const buttonEl =\n",
              "          document.querySelector('#df-a12e3024-8e7e-4043-9b94-a430f1d18c92 button.colab-df-convert');\n",
              "        buttonEl.style.display =\n",
              "          google.colab.kernel.accessAllowed ? 'block' : 'none';\n",
              "\n",
              "        async function convertToInteractive(key) {\n",
              "          const element = document.querySelector('#df-a12e3024-8e7e-4043-9b94-a430f1d18c92');\n",
              "          const dataTable =\n",
              "            await google.colab.kernel.invokeFunction('convertToInteractive',\n",
              "                                                     [key], {});\n",
              "          if (!dataTable) return;\n",
              "\n",
              "          const docLinkHtml = 'Like what you see? Visit the ' +\n",
              "            '<a target=\"_blank\" href=https://colab.research.google.com/notebooks/data_table.ipynb>data table notebook</a>'\n",
              "            + ' to learn more about interactive tables.';\n",
              "          element.innerHTML = '';\n",
              "          dataTable['output_type'] = 'display_data';\n",
              "          await google.colab.output.renderOutput(dataTable, element);\n",
              "          const docLink = document.createElement('div');\n",
              "          docLink.innerHTML = docLinkHtml;\n",
              "          element.appendChild(docLink);\n",
              "        }\n",
              "      </script>\n",
              "    </div>\n",
              "  </div>\n",
              "  "
            ]
          },
          "metadata": {},
          "execution_count": 29
        }
      ]
    },
    {
      "cell_type": "code",
      "source": [
        "#find the cell scores under adata.obsm['SPECTRA_cellscores']\n",
        "adata.obsm['SPECTRA_cell_scores']"
      ],
      "metadata": {
        "id": "ON6rNbn0zMO6",
        "colab": {
          "base_uri": "https://localhost:8080/"
        },
        "outputId": "51dfa647-4f53-4aed-90b6-7c48338347ed"
      },
      "execution_count": 30,
      "outputs": [
        {
          "output_type": "execute_result",
          "data": {
            "text/plain": [
              "array([[1.08373615e-05, 5.13322630e-06, 4.47263483e-05, ...,\n",
              "        2.23431061e-03, 2.86384090e-03, 7.11303530e-03],\n",
              "       [3.55503107e-05, 1.31731952e-06, 4.40637923e-05, ...,\n",
              "        4.30809276e-04, 1.54331676e-03, 2.98465118e-02],\n",
              "       [2.47188582e-05, 2.52847030e-06, 2.58140353e-05, ...,\n",
              "        5.34603372e-04, 3.20112123e-03, 6.96386490e-03],\n",
              "       ...,\n",
              "       [4.35856382e-05, 8.80713105e-06, 1.22848189e-06, ...,\n",
              "        7.49572238e-04, 1.26500917e-03, 3.27083841e-02],\n",
              "       [7.16659633e-05, 7.00277087e-06, 3.67051252e-05, ...,\n",
              "        9.70213907e-04, 4.81314957e-04, 3.13359313e-02],\n",
              "       [1.44212800e-05, 1.45706144e-05, 1.86467860e-05, ...,\n",
              "        8.21715454e-04, 8.02540744e-04, 1.19159296e-02]], dtype=float32)"
            ]
          },
          "metadata": {},
          "execution_count": 30
        }
      ]
    },
    {
      "cell_type": "code",
      "source": [
        "#construct a dataframe for the cell scores\n",
        "\n",
        "#include cell type specificity as a prefix into the column names\n",
        "column_labels = [celltype_dict[x]+'_'+str(x) for x in range(adata.obsm['SPECTRA_cell_scores'].shape[1])]\n",
        "cell_scores = pd.DataFrame(adata.obsm['SPECTRA_cell_scores'], \n",
        "                            index= adata.obs_names,\n",
        "                            columns=column_labels)\n",
        "cell_scores\n",
        "\n"
      ],
      "metadata": {
        "id": "Eo_evLBczNQj",
        "colab": {
          "base_uri": "https://localhost:8080/",
          "height": 661
        },
        "outputId": "cdc2c6e0-1135-473e-fdd3-e630292fa3fd"
      },
      "execution_count": 31,
      "outputs": [
        {
          "output_type": "execute_result",
          "data": {
            "text/plain": [
              "      global_0  global_1  global_2  global_3  global_4  global_5  global_6  \\\n",
              "0     0.000011  0.000005  0.000045  0.000112  0.000100  0.000046  0.000213   \n",
              "1     0.000036  0.000001  0.000044  0.000055  0.000061  0.000006  0.000134   \n",
              "2     0.000025  0.000003  0.000026  0.000038  0.000136  0.000248  0.000129   \n",
              "3     0.000081  0.000013  0.000020  0.000254  0.000142  0.000016  0.000659   \n",
              "4     0.000018  0.000040  0.000008  0.000150  0.000043  0.000036  0.000323   \n",
              "...        ...       ...       ...       ...       ...       ...       ...   \n",
              "9995  0.000022  0.000018  0.000048  0.000234  0.000090  0.000022  0.000093   \n",
              "9996  0.000038  0.000031  0.000010  0.000341  0.000050  0.000011  0.001144   \n",
              "9997  0.000044  0.000009  0.000001  0.000067  0.000269  0.000004  0.000109   \n",
              "9998  0.000072  0.000007  0.000037  0.000250  0.000074  0.000085  0.000371   \n",
              "9999  0.000014  0.000015  0.000019  0.000014  0.000231  0.000005  0.000119   \n",
              "\n",
              "      global_7      global_8      global_9  ...  global_141  global_142  \\\n",
              "0     0.000330  2.871489e-07  3.018786e-05  ...    0.000305    0.000109   \n",
              "1     0.000224  1.003051e-07  1.529512e-06  ...    0.001105    0.000021   \n",
              "2     0.000867  1.072633e-07  5.152734e-05  ...    0.000257    0.000036   \n",
              "3     0.000391  5.290757e-07  6.943267e-06  ...    0.000149    0.000050   \n",
              "4     0.000362  2.057773e-07  7.856399e-05  ...    0.000100    0.000054   \n",
              "...        ...           ...           ...  ...         ...         ...   \n",
              "9995  0.000290  1.253270e-06  6.600707e-07  ...    0.000301    0.000220   \n",
              "9996  0.000717  2.558488e-07  2.533359e-06  ...    0.000109    0.000075   \n",
              "9997  0.000152  1.539892e-07  5.712754e-06  ...    0.000160    0.000035   \n",
              "9998  0.001188  2.631248e-08  2.511635e-05  ...    0.000689    0.000062   \n",
              "9999  0.000511  6.198835e-07  3.171843e-06  ...    0.000062    0.000152   \n",
              "\n",
              "      global_143  global_144  global_145  global_146  global_147  global_148  \\\n",
              "0       0.002073    0.000085    0.000546    0.000148    0.000370    0.002234   \n",
              "1       0.000778    0.000100    0.000179    0.000159    0.000015    0.000431   \n",
              "2       0.001253    0.000085    0.000605    0.000513    0.000123    0.000535   \n",
              "3       0.002266    0.000018    0.000034    0.001680    0.000268    0.001417   \n",
              "4       0.000653    0.000116    0.000175    0.000640    0.000257    0.001967   \n",
              "...          ...         ...         ...         ...         ...         ...   \n",
              "9995    0.000643    0.000048    0.000112    0.000356    0.000107    0.000632   \n",
              "9996    0.003084    0.000034    0.000152    0.000228    0.000098    0.000237   \n",
              "9997    0.000874    0.000030    0.000103    0.003048    0.000053    0.000750   \n",
              "9998    0.001312    0.000034    0.000102    0.001197    0.000138    0.000970   \n",
              "9999    0.000406    0.000075    0.000406    0.000592    0.000159    0.000822   \n",
              "\n",
              "      global_149  global_150  \n",
              "0       0.002864    0.007113  \n",
              "1       0.001543    0.029847  \n",
              "2       0.003201    0.006964  \n",
              "3       0.001930    0.009908  \n",
              "4       0.002223    0.008857  \n",
              "...          ...         ...  \n",
              "9995    0.003470    0.025108  \n",
              "9996    0.002449    0.024510  \n",
              "9997    0.001265    0.032708  \n",
              "9998    0.000481    0.031336  \n",
              "9999    0.000803    0.011916  \n",
              "\n",
              "[10000 rows x 151 columns]"
            ],
            "text/html": [
              "\n",
              "  <div id=\"df-5208481e-3034-4bc9-ab87-969c9e6ba028\">\n",
              "    <div class=\"colab-df-container\">\n",
              "      <div>\n",
              "<style scoped>\n",
              "    .dataframe tbody tr th:only-of-type {\n",
              "        vertical-align: middle;\n",
              "    }\n",
              "\n",
              "    .dataframe tbody tr th {\n",
              "        vertical-align: top;\n",
              "    }\n",
              "\n",
              "    .dataframe thead th {\n",
              "        text-align: right;\n",
              "    }\n",
              "</style>\n",
              "<table border=\"1\" class=\"dataframe\">\n",
              "  <thead>\n",
              "    <tr style=\"text-align: right;\">\n",
              "      <th></th>\n",
              "      <th>global_0</th>\n",
              "      <th>global_1</th>\n",
              "      <th>global_2</th>\n",
              "      <th>global_3</th>\n",
              "      <th>global_4</th>\n",
              "      <th>global_5</th>\n",
              "      <th>global_6</th>\n",
              "      <th>global_7</th>\n",
              "      <th>global_8</th>\n",
              "      <th>global_9</th>\n",
              "      <th>...</th>\n",
              "      <th>global_141</th>\n",
              "      <th>global_142</th>\n",
              "      <th>global_143</th>\n",
              "      <th>global_144</th>\n",
              "      <th>global_145</th>\n",
              "      <th>global_146</th>\n",
              "      <th>global_147</th>\n",
              "      <th>global_148</th>\n",
              "      <th>global_149</th>\n",
              "      <th>global_150</th>\n",
              "    </tr>\n",
              "  </thead>\n",
              "  <tbody>\n",
              "    <tr>\n",
              "      <th>0</th>\n",
              "      <td>0.000011</td>\n",
              "      <td>0.000005</td>\n",
              "      <td>0.000045</td>\n",
              "      <td>0.000112</td>\n",
              "      <td>0.000100</td>\n",
              "      <td>0.000046</td>\n",
              "      <td>0.000213</td>\n",
              "      <td>0.000330</td>\n",
              "      <td>2.871489e-07</td>\n",
              "      <td>3.018786e-05</td>\n",
              "      <td>...</td>\n",
              "      <td>0.000305</td>\n",
              "      <td>0.000109</td>\n",
              "      <td>0.002073</td>\n",
              "      <td>0.000085</td>\n",
              "      <td>0.000546</td>\n",
              "      <td>0.000148</td>\n",
              "      <td>0.000370</td>\n",
              "      <td>0.002234</td>\n",
              "      <td>0.002864</td>\n",
              "      <td>0.007113</td>\n",
              "    </tr>\n",
              "    <tr>\n",
              "      <th>1</th>\n",
              "      <td>0.000036</td>\n",
              "      <td>0.000001</td>\n",
              "      <td>0.000044</td>\n",
              "      <td>0.000055</td>\n",
              "      <td>0.000061</td>\n",
              "      <td>0.000006</td>\n",
              "      <td>0.000134</td>\n",
              "      <td>0.000224</td>\n",
              "      <td>1.003051e-07</td>\n",
              "      <td>1.529512e-06</td>\n",
              "      <td>...</td>\n",
              "      <td>0.001105</td>\n",
              "      <td>0.000021</td>\n",
              "      <td>0.000778</td>\n",
              "      <td>0.000100</td>\n",
              "      <td>0.000179</td>\n",
              "      <td>0.000159</td>\n",
              "      <td>0.000015</td>\n",
              "      <td>0.000431</td>\n",
              "      <td>0.001543</td>\n",
              "      <td>0.029847</td>\n",
              "    </tr>\n",
              "    <tr>\n",
              "      <th>2</th>\n",
              "      <td>0.000025</td>\n",
              "      <td>0.000003</td>\n",
              "      <td>0.000026</td>\n",
              "      <td>0.000038</td>\n",
              "      <td>0.000136</td>\n",
              "      <td>0.000248</td>\n",
              "      <td>0.000129</td>\n",
              "      <td>0.000867</td>\n",
              "      <td>1.072633e-07</td>\n",
              "      <td>5.152734e-05</td>\n",
              "      <td>...</td>\n",
              "      <td>0.000257</td>\n",
              "      <td>0.000036</td>\n",
              "      <td>0.001253</td>\n",
              "      <td>0.000085</td>\n",
              "      <td>0.000605</td>\n",
              "      <td>0.000513</td>\n",
              "      <td>0.000123</td>\n",
              "      <td>0.000535</td>\n",
              "      <td>0.003201</td>\n",
              "      <td>0.006964</td>\n",
              "    </tr>\n",
              "    <tr>\n",
              "      <th>3</th>\n",
              "      <td>0.000081</td>\n",
              "      <td>0.000013</td>\n",
              "      <td>0.000020</td>\n",
              "      <td>0.000254</td>\n",
              "      <td>0.000142</td>\n",
              "      <td>0.000016</td>\n",
              "      <td>0.000659</td>\n",
              "      <td>0.000391</td>\n",
              "      <td>5.290757e-07</td>\n",
              "      <td>6.943267e-06</td>\n",
              "      <td>...</td>\n",
              "      <td>0.000149</td>\n",
              "      <td>0.000050</td>\n",
              "      <td>0.002266</td>\n",
              "      <td>0.000018</td>\n",
              "      <td>0.000034</td>\n",
              "      <td>0.001680</td>\n",
              "      <td>0.000268</td>\n",
              "      <td>0.001417</td>\n",
              "      <td>0.001930</td>\n",
              "      <td>0.009908</td>\n",
              "    </tr>\n",
              "    <tr>\n",
              "      <th>4</th>\n",
              "      <td>0.000018</td>\n",
              "      <td>0.000040</td>\n",
              "      <td>0.000008</td>\n",
              "      <td>0.000150</td>\n",
              "      <td>0.000043</td>\n",
              "      <td>0.000036</td>\n",
              "      <td>0.000323</td>\n",
              "      <td>0.000362</td>\n",
              "      <td>2.057773e-07</td>\n",
              "      <td>7.856399e-05</td>\n",
              "      <td>...</td>\n",
              "      <td>0.000100</td>\n",
              "      <td>0.000054</td>\n",
              "      <td>0.000653</td>\n",
              "      <td>0.000116</td>\n",
              "      <td>0.000175</td>\n",
              "      <td>0.000640</td>\n",
              "      <td>0.000257</td>\n",
              "      <td>0.001967</td>\n",
              "      <td>0.002223</td>\n",
              "      <td>0.008857</td>\n",
              "    </tr>\n",
              "    <tr>\n",
              "      <th>...</th>\n",
              "      <td>...</td>\n",
              "      <td>...</td>\n",
              "      <td>...</td>\n",
              "      <td>...</td>\n",
              "      <td>...</td>\n",
              "      <td>...</td>\n",
              "      <td>...</td>\n",
              "      <td>...</td>\n",
              "      <td>...</td>\n",
              "      <td>...</td>\n",
              "      <td>...</td>\n",
              "      <td>...</td>\n",
              "      <td>...</td>\n",
              "      <td>...</td>\n",
              "      <td>...</td>\n",
              "      <td>...</td>\n",
              "      <td>...</td>\n",
              "      <td>...</td>\n",
              "      <td>...</td>\n",
              "      <td>...</td>\n",
              "      <td>...</td>\n",
              "    </tr>\n",
              "    <tr>\n",
              "      <th>9995</th>\n",
              "      <td>0.000022</td>\n",
              "      <td>0.000018</td>\n",
              "      <td>0.000048</td>\n",
              "      <td>0.000234</td>\n",
              "      <td>0.000090</td>\n",
              "      <td>0.000022</td>\n",
              "      <td>0.000093</td>\n",
              "      <td>0.000290</td>\n",
              "      <td>1.253270e-06</td>\n",
              "      <td>6.600707e-07</td>\n",
              "      <td>...</td>\n",
              "      <td>0.000301</td>\n",
              "      <td>0.000220</td>\n",
              "      <td>0.000643</td>\n",
              "      <td>0.000048</td>\n",
              "      <td>0.000112</td>\n",
              "      <td>0.000356</td>\n",
              "      <td>0.000107</td>\n",
              "      <td>0.000632</td>\n",
              "      <td>0.003470</td>\n",
              "      <td>0.025108</td>\n",
              "    </tr>\n",
              "    <tr>\n",
              "      <th>9996</th>\n",
              "      <td>0.000038</td>\n",
              "      <td>0.000031</td>\n",
              "      <td>0.000010</td>\n",
              "      <td>0.000341</td>\n",
              "      <td>0.000050</td>\n",
              "      <td>0.000011</td>\n",
              "      <td>0.001144</td>\n",
              "      <td>0.000717</td>\n",
              "      <td>2.558488e-07</td>\n",
              "      <td>2.533359e-06</td>\n",
              "      <td>...</td>\n",
              "      <td>0.000109</td>\n",
              "      <td>0.000075</td>\n",
              "      <td>0.003084</td>\n",
              "      <td>0.000034</td>\n",
              "      <td>0.000152</td>\n",
              "      <td>0.000228</td>\n",
              "      <td>0.000098</td>\n",
              "      <td>0.000237</td>\n",
              "      <td>0.002449</td>\n",
              "      <td>0.024510</td>\n",
              "    </tr>\n",
              "    <tr>\n",
              "      <th>9997</th>\n",
              "      <td>0.000044</td>\n",
              "      <td>0.000009</td>\n",
              "      <td>0.000001</td>\n",
              "      <td>0.000067</td>\n",
              "      <td>0.000269</td>\n",
              "      <td>0.000004</td>\n",
              "      <td>0.000109</td>\n",
              "      <td>0.000152</td>\n",
              "      <td>1.539892e-07</td>\n",
              "      <td>5.712754e-06</td>\n",
              "      <td>...</td>\n",
              "      <td>0.000160</td>\n",
              "      <td>0.000035</td>\n",
              "      <td>0.000874</td>\n",
              "      <td>0.000030</td>\n",
              "      <td>0.000103</td>\n",
              "      <td>0.003048</td>\n",
              "      <td>0.000053</td>\n",
              "      <td>0.000750</td>\n",
              "      <td>0.001265</td>\n",
              "      <td>0.032708</td>\n",
              "    </tr>\n",
              "    <tr>\n",
              "      <th>9998</th>\n",
              "      <td>0.000072</td>\n",
              "      <td>0.000007</td>\n",
              "      <td>0.000037</td>\n",
              "      <td>0.000250</td>\n",
              "      <td>0.000074</td>\n",
              "      <td>0.000085</td>\n",
              "      <td>0.000371</td>\n",
              "      <td>0.001188</td>\n",
              "      <td>2.631248e-08</td>\n",
              "      <td>2.511635e-05</td>\n",
              "      <td>...</td>\n",
              "      <td>0.000689</td>\n",
              "      <td>0.000062</td>\n",
              "      <td>0.001312</td>\n",
              "      <td>0.000034</td>\n",
              "      <td>0.000102</td>\n",
              "      <td>0.001197</td>\n",
              "      <td>0.000138</td>\n",
              "      <td>0.000970</td>\n",
              "      <td>0.000481</td>\n",
              "      <td>0.031336</td>\n",
              "    </tr>\n",
              "    <tr>\n",
              "      <th>9999</th>\n",
              "      <td>0.000014</td>\n",
              "      <td>0.000015</td>\n",
              "      <td>0.000019</td>\n",
              "      <td>0.000014</td>\n",
              "      <td>0.000231</td>\n",
              "      <td>0.000005</td>\n",
              "      <td>0.000119</td>\n",
              "      <td>0.000511</td>\n",
              "      <td>6.198835e-07</td>\n",
              "      <td>3.171843e-06</td>\n",
              "      <td>...</td>\n",
              "      <td>0.000062</td>\n",
              "      <td>0.000152</td>\n",
              "      <td>0.000406</td>\n",
              "      <td>0.000075</td>\n",
              "      <td>0.000406</td>\n",
              "      <td>0.000592</td>\n",
              "      <td>0.000159</td>\n",
              "      <td>0.000822</td>\n",
              "      <td>0.000803</td>\n",
              "      <td>0.011916</td>\n",
              "    </tr>\n",
              "  </tbody>\n",
              "</table>\n",
              "<p>10000 rows × 151 columns</p>\n",
              "</div>\n",
              "      <button class=\"colab-df-convert\" onclick=\"convertToInteractive('df-5208481e-3034-4bc9-ab87-969c9e6ba028')\"\n",
              "              title=\"Convert this dataframe to an interactive table.\"\n",
              "              style=\"display:none;\">\n",
              "        \n",
              "  <svg xmlns=\"http://www.w3.org/2000/svg\" height=\"24px\"viewBox=\"0 0 24 24\"\n",
              "       width=\"24px\">\n",
              "    <path d=\"M0 0h24v24H0V0z\" fill=\"none\"/>\n",
              "    <path d=\"M18.56 5.44l.94 2.06.94-2.06 2.06-.94-2.06-.94-.94-2.06-.94 2.06-2.06.94zm-11 1L8.5 8.5l.94-2.06 2.06-.94-2.06-.94L8.5 2.5l-.94 2.06-2.06.94zm10 10l.94 2.06.94-2.06 2.06-.94-2.06-.94-.94-2.06-.94 2.06-2.06.94z\"/><path d=\"M17.41 7.96l-1.37-1.37c-.4-.4-.92-.59-1.43-.59-.52 0-1.04.2-1.43.59L10.3 9.45l-7.72 7.72c-.78.78-.78 2.05 0 2.83L4 21.41c.39.39.9.59 1.41.59.51 0 1.02-.2 1.41-.59l7.78-7.78 2.81-2.81c.8-.78.8-2.07 0-2.86zM5.41 20L4 18.59l7.72-7.72 1.47 1.35L5.41 20z\"/>\n",
              "  </svg>\n",
              "      </button>\n",
              "      \n",
              "  <style>\n",
              "    .colab-df-container {\n",
              "      display:flex;\n",
              "      flex-wrap:wrap;\n",
              "      gap: 12px;\n",
              "    }\n",
              "\n",
              "    .colab-df-convert {\n",
              "      background-color: #E8F0FE;\n",
              "      border: none;\n",
              "      border-radius: 50%;\n",
              "      cursor: pointer;\n",
              "      display: none;\n",
              "      fill: #1967D2;\n",
              "      height: 32px;\n",
              "      padding: 0 0 0 0;\n",
              "      width: 32px;\n",
              "    }\n",
              "\n",
              "    .colab-df-convert:hover {\n",
              "      background-color: #E2EBFA;\n",
              "      box-shadow: 0px 1px 2px rgba(60, 64, 67, 0.3), 0px 1px 3px 1px rgba(60, 64, 67, 0.15);\n",
              "      fill: #174EA6;\n",
              "    }\n",
              "\n",
              "    [theme=dark] .colab-df-convert {\n",
              "      background-color: #3B4455;\n",
              "      fill: #D2E3FC;\n",
              "    }\n",
              "\n",
              "    [theme=dark] .colab-df-convert:hover {\n",
              "      background-color: #434B5C;\n",
              "      box-shadow: 0px 1px 3px 1px rgba(0, 0, 0, 0.15);\n",
              "      filter: drop-shadow(0px 1px 2px rgba(0, 0, 0, 0.3));\n",
              "      fill: #FFFFFF;\n",
              "    }\n",
              "  </style>\n",
              "\n",
              "      <script>\n",
              "        const buttonEl =\n",
              "          document.querySelector('#df-5208481e-3034-4bc9-ab87-969c9e6ba028 button.colab-df-convert');\n",
              "        buttonEl.style.display =\n",
              "          google.colab.kernel.accessAllowed ? 'block' : 'none';\n",
              "\n",
              "        async function convertToInteractive(key) {\n",
              "          const element = document.querySelector('#df-5208481e-3034-4bc9-ab87-969c9e6ba028');\n",
              "          const dataTable =\n",
              "            await google.colab.kernel.invokeFunction('convertToInteractive',\n",
              "                                                     [key], {});\n",
              "          if (!dataTable) return;\n",
              "\n",
              "          const docLinkHtml = 'Like what you see? Visit the ' +\n",
              "            '<a target=\"_blank\" href=https://colab.research.google.com/notebooks/data_table.ipynb>data table notebook</a>'\n",
              "            + ' to learn more about interactive tables.';\n",
              "          element.innerHTML = '';\n",
              "          dataTable['output_type'] = 'display_data';\n",
              "          await google.colab.output.renderOutput(dataTable, element);\n",
              "          const docLink = document.createElement('div');\n",
              "          docLink.innerHTML = docLinkHtml;\n",
              "          element.appendChild(docLink);\n",
              "        }\n",
              "      </script>\n",
              "    </div>\n",
              "  </div>\n",
              "  "
            ]
          },
          "metadata": {},
          "execution_count": 31
        }
      ]
    },
    {
      "cell_type": "code",
      "source": [
        "#visualize factor cell scores (this is poorly fitted bc we only ran 2 epochs)\n",
        "factor_of_interest = 'global_0'\n",
        "adata.obs[factor_of_interest] = cell_scores[factor_of_interest].astype(float)\n",
        "sc.pl.umap(adata,color=factor_of_interest,vmax=cell_scores[factor_of_interest].quantile(0.99))"
      ],
      "metadata": {
        "id": "4vXRdI4SzOq9",
        "colab": {
          "base_uri": "https://localhost:8080/",
          "height": 278
        },
        "outputId": "6ca2eb5b-c5e3-4261-ed97-34f5233f397f"
      },
      "execution_count": 32,
      "outputs": [
        {
          "output_type": "display_data",
          "data": {
            "text/plain": [
              "<Figure size 432x288 with 2 Axes>"
            ],
            "image/png": "[encoded data removed]"
          },
          "metadata": {
            "needs_background": "light"
          }
        }
      ]
    },
    {
      "cell_type": "code",
      "source": [
        "#save the adata\n",
        "adata_save_path = 'adata_spectra.h5ad'#where to save the adata to\n",
        "adata.write(adata_save_path)\n",
        "print('Saved adata to:',adata_save_path)"
      ],
      "metadata": {
        "id": "FOU3kk63zQ7x",
        "colab": {
          "base_uri": "https://localhost:8080/"
        },
        "outputId": "92d6b8ed-19a8-487b-e01a-495b5698373a"
      },
      "execution_count": 33,
      "outputs": [
        {
          "output_type": "stream",
          "name": "stdout",
          "text": [
            "Saved adata to: adata_spectra.h5ad\n"
          ]
        }
      ]
    },
    {
      "cell_type": "code",
      "source": [
        "#save the model\n",
        "import pickle\n",
        "with open('spectra_model.pickle', 'wb') as f:\n",
        "    pickle.dump(model, f, pickle.HIGHEST_PROTOCOL)"
      ],
      "metadata": {
        "id": "WBz7AZhkWrpk"
      },
      "execution_count": 34,
      "outputs": []
    }
  ]
}