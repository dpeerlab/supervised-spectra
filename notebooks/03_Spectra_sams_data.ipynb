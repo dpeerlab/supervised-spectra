{
 "cells": [
  {
   "cell_type": "code",
   "execution_count": 1,
   "id": "2342e723-4e9f-4e1b-a631-62a2cb86341f",
   "metadata": {},
   "outputs": [],
   "source": [
    "import scanpy as sc\n",
    "import anndata as ad\n",
    "\n",
    "#import packages\n",
    "import numpy as np\n",
    "import json \n",
    "import scanpy as sc\n",
    "from collections import OrderedDict\n",
    "import scipy \n",
    "import pandas as pd\n",
    "import matplotlib.pyplot as plt\n",
    "\n",
    "#spectra imports \n",
    "import Spectra as spc\n",
    "from Spectra import Spectra_util as spc_tl\n",
    "from Spectra import K_est as kst\n",
    "from Spectra import default_gene_sets"
   ]
  },
  {
   "cell_type": "code",
   "execution_count": null,
   "id": "1bd194de-0c3d-4bb2-9e34-fdc65cb78df3",
   "metadata": {},
   "outputs": [],
   "source": [
    "# read in /data/peer/sam/cytokine_central/data/processed/cui23/cui23_processed_spectrav2_example_20241216.h5ad\n",
    "adata = sc.read_h5ad('/data/peer/sam/cytokine_central/data/processed/cui23/cui23_processed_spectrav2_example_20241216.h5ad')"
   ]
  },
  {
   "cell_type": "code",
   "execution_count": null,
   "id": "0a6fa7d9-00e3-4123-bb45-b652b89728ba",
   "metadata": {},
   "outputs": [
    {
     "name": "stderr",
     "output_type": "stream",
     "text": [
      "/tmp/ipykernel_129682/3907025969.py:2: FutureWarning: The behavior of Series.replace (and DataFrame.replace) with CategoricalDtype is deprecated. In a future version, replace will only be used for cases that preserve the categories. To change the categories, use ser.cat.rename_categories instead.\n",
      "  adata.obs['cytokine_coarse'] = adata.obs['cytokine_coarse'].replace('IL-2.15', 'IL-2-15')\n"
     ]
    }
   ],
   "source": [
    "# in adata.obs['cytokine_coarse'], rename 'IL-2.15' to 'IL-2-15'\n",
    "adata.obs['cytokine_coarse'] = adata.obs['cytokine_coarse'].replace('IL-2.15', 'IL-2-15')"
   ]
  },
  {
   "cell_type": "code",
   "execution_count": null,
   "id": "33b20c72-753a-48f0-a43b-c6778469b241",
   "metadata": {},
   "outputs": [],
   "source": [
    "import json\n",
    "with open('/data/peer/sam/cytokine_central/references/gene_sets/spectra_dicts/spectra_genesetDict_Cuifull_TregcytokineSignaling_v2_20241107.json') as f:\n",
    "    gene_dict = json.load(f)"
   ]
  },
  {
   "cell_type": "code",
   "execution_count": null,
   "id": "40c8f1f1-599f-49df-86c4-5c0dd33e7358",
   "metadata": {},
   "outputs": [],
   "source": [
    "condition_specific_gene_sets = [\n",
    "    \"Treg_IL4\",\n",
    "    \"Treg_TNFA\",\n",
    "    \"Treg_TGFB1\",\n",
    "    \"Treg_Th1\",\n",
    "    \"Treg_IL2\",\n",
    "    \"Treg_IFNG\",\n",
    "    \"Treg_IFNA/B\",\n",
    "    \"Treg_IL33\",\n",
    "    \"hema_IL36\",\n",
    "    \"Treg_Th17_UP\",\n",
    "    \"hema_IL1B\", \n",
    "    \"lym_IL7\",\n",
    "    \"lym_IL21\",\n",
    "    \"lym_IL18\"\n",
    "]\n",
    "gene_dict['PBS'] = {}\n",
    "gene_dict['IFN-γ'] = {}\n",
    "gene_dict['IL-2-15'] = {}\n",
    "\n",
    "for key in condition_specific_gene_sets:\n",
    "    gene_dict['PBS'][key] = gene_dict['global'][key]\n",
    "    gene_dict['IFN-γ'][key] = gene_dict['global'][key]\n",
    "    gene_dict['IL-2-15'][key] = gene_dict['global'][key]"
   ]
  },
  {
   "cell_type": "code",
   "execution_count": null,
   "id": "95561ee8-919d-49c3-a926-9b8e0c845a63",
   "metadata": {},
   "outputs": [
    {
     "name": "stdout",
     "output_type": "stream",
     "text": [
      "Cell type labels in gene set annotation dictionary and AnnData object are identical\n",
      "removing gene set Treg_TNFA for cell type global which is of length 5 1 genes are found in the data. minimum length is 3\n",
      "removing gene set all_ethanol_metabolism for cell type global which is of length 5 0 genes are found in the data. minimum length is 3\n",
      "removing gene set all_pyruvate_metabolism for cell type global which is of length 3 2 genes are found in the data. minimum length is 3\n",
      "removing gene set all_taurine-hypotaurine_metabolism for cell type global which is of length 4 2 genes are found in the data. minimum length is 3\n",
      "removing gene set all_Beta-Ala_metabolism for cell type global which is of length 4 2 genes are found in the data. minimum length is 3\n",
      "removing gene set all_coagulation-factor_production for cell type global which is of length 11 0 genes are found in the data. minimum length is 3\n",
      "removing gene set all_bile-acid_synthesis for cell type global which is of length 12 2 genes are found in the data. minimum length is 3\n",
      "removing gene set all_creatinine_metabolism for cell type global which is of length 4 1 genes are found in the data. minimum length is 3\n",
      "removing gene set all_platelet-activation-factor_production for cell type global which is of length 9 2 genes are found in the data. minimum length is 3\n",
      "removing gene set all_HIS_metabolism for cell type global which is of length 11 2 genes are found in the data. minimum length is 3\n",
      "removing gene set all_thiamin_metabolism for cell type global which is of length 4 2 genes are found in the data. minimum length is 3\n",
      "removing gene set Treg_TNFA for cell type PBS which is of length 5 1 genes are found in the data. minimum length is 3\n",
      "removing gene set Treg_TNFA for cell type IFN-γ which is of length 5 1 genes are found in the data. minimum length is 3\n",
      "removing gene set Treg_TNFA for cell type IL-2-15 which is of length 5 1 genes are found in the data. minimum length is 3\n",
      "Your gene set annotation dictionary is now correctly formatted.\n"
     ]
    }
   ],
   "source": [
    "# check problem\n",
    "geneset_annotations_f = spc_tl.check_gene_set_dictionary(adata, gene_dict, obs_key = 'cytokine_coarse', global_key = 'global')"
   ]
  },
  {
   "cell_type": "code",
   "execution_count": null,
   "id": "13d21609-c3f8-4ce7-b22c-4ee65f82fe2a",
   "metadata": {},
   "outputs": [
    {
     "name": "stdout",
     "output_type": "stream",
     "text": [
      "Cell type labels in gene set annotation dictionary and AnnData object are identical\n",
      "removing gene set Treg_TNFA for cell type global which is of length 5 1 genes are found in the data. minimum length is 3\n",
      "removing gene set all_ethanol_metabolism for cell type global which is of length 5 0 genes are found in the data. minimum length is 3\n",
      "removing gene set all_pyruvate_metabolism for cell type global which is of length 3 2 genes are found in the data. minimum length is 3\n",
      "removing gene set all_taurine-hypotaurine_metabolism for cell type global which is of length 4 2 genes are found in the data. minimum length is 3\n",
      "removing gene set all_Beta-Ala_metabolism for cell type global which is of length 4 2 genes are found in the data. minimum length is 3\n",
      "removing gene set all_coagulation-factor_production for cell type global which is of length 11 0 genes are found in the data. minimum length is 3\n",
      "removing gene set all_bile-acid_synthesis for cell type global which is of length 12 2 genes are found in the data. minimum length is 3\n",
      "removing gene set all_creatinine_metabolism for cell type global which is of length 4 1 genes are found in the data. minimum length is 3\n",
      "removing gene set all_platelet-activation-factor_production for cell type global which is of length 9 2 genes are found in the data. minimum length is 3\n",
      "removing gene set all_HIS_metabolism for cell type global which is of length 11 2 genes are found in the data. minimum length is 3\n",
      "removing gene set all_thiamin_metabolism for cell type global which is of length 4 2 genes are found in the data. minimum length is 3\n",
      "removing gene set Treg_TNFA for cell type PBS which is of length 5 1 genes are found in the data. minimum length is 3\n",
      "removing gene set Treg_TNFA for cell type IFN-γ which is of length 5 1 genes are found in the data. minimum length is 3\n",
      "removing gene set Treg_TNFA for cell type IL-2-15 which is of length 5 1 genes are found in the data. minimum length is 3\n",
      "Your gene set annotation dictionary is now correctly formatted.\n"
     ]
    }
   ],
   "source": [
    "#filter gene set annotation dict for genes contained in adata\n",
    "annotations = spc_tl.check_gene_set_dictionary(\n",
    "    adata,\n",
    "    gene_dict,\n",
    "    obs_key='cytokine_coarse',\n",
    "    global_key='global')"
   ]
  },
  {
   "cell_type": "code",
   "execution_count": null,
   "id": "025c2f0b-6206-4ba0-a486-1ae598fe4113",
   "metadata": {},
   "outputs": [
    {
     "name": "stdout",
     "output_type": "stream",
     "text": [
      "Cell type labels in gene set annotation dictionary and AnnData object are identical\n",
      "Your gene set annotation dictionary is now correctly formatted.\n"
     ]
    },
    {
     "name": "stderr",
     "output_type": "stream",
     "text": [
      " 46%|████▋     | 463/1000 [03:08<03:38,  2.46it/s]\n",
      "/lilac/data/peer/rsaha/supervised-spectra/src/Spectra/Spectra.py:353: FutureWarning: Setting an item of incompatible dtype is deprecated and will raise an error in a future version of pandas. Value 'Nfatc1' has dtype incompatible with float64, please explicitly cast to a compatible dtype first.\n",
      "  df.iloc[i, j] = id2word[idx_matrix[i, j]]\n",
      "/lilac/data/peer/rsaha/supervised-spectra/src/Spectra/Spectra.py:353: FutureWarning: Setting an item of incompatible dtype is deprecated and will raise an error in a future version of pandas. Value 'Tgfbr2' has dtype incompatible with float64, please explicitly cast to a compatible dtype first.\n",
      "  df.iloc[i, j] = id2word[idx_matrix[i, j]]\n",
      "/lilac/data/peer/rsaha/supervised-spectra/src/Spectra/Spectra.py:353: FutureWarning: Setting an item of incompatible dtype is deprecated and will raise an error in a future version of pandas. Value 'Stat5a' has dtype incompatible with float64, please explicitly cast to a compatible dtype first.\n",
      "  df.iloc[i, j] = id2word[idx_matrix[i, j]]\n",
      "/lilac/data/peer/rsaha/supervised-spectra/src/Spectra/Spectra.py:353: FutureWarning: Setting an item of incompatible dtype is deprecated and will raise an error in a future version of pandas. Value 'Tgfbr1' has dtype incompatible with float64, please explicitly cast to a compatible dtype first.\n",
      "  df.iloc[i, j] = id2word[idx_matrix[i, j]]\n",
      "/lilac/data/peer/rsaha/supervised-spectra/src/Spectra/Spectra.py:353: FutureWarning: Setting an item of incompatible dtype is deprecated and will raise an error in a future version of pandas. Value 'Stat5b' has dtype incompatible with float64, please explicitly cast to a compatible dtype first.\n",
      "  df.iloc[i, j] = id2word[idx_matrix[i, j]]\n",
      "/lilac/data/peer/rsaha/supervised-spectra/src/Spectra/Spectra.py:353: FutureWarning: Setting an item of incompatible dtype is deprecated and will raise an error in a future version of pandas. Value 'Nfatc2' has dtype incompatible with float64, please explicitly cast to a compatible dtype first.\n",
      "  df.iloc[i, j] = id2word[idx_matrix[i, j]]\n",
      "/lilac/data/peer/rsaha/supervised-spectra/src/Spectra/Spectra.py:353: FutureWarning: Setting an item of incompatible dtype is deprecated and will raise an error in a future version of pandas. Value 'Il2rb' has dtype incompatible with float64, please explicitly cast to a compatible dtype first.\n",
      "  df.iloc[i, j] = id2word[idx_matrix[i, j]]\n",
      "/lilac/data/peer/rsaha/supervised-spectra/src/Spectra/Spectra.py:353: FutureWarning: Setting an item of incompatible dtype is deprecated and will raise an error in a future version of pandas. Value 'Creb1' has dtype incompatible with float64, please explicitly cast to a compatible dtype first.\n",
      "  df.iloc[i, j] = id2word[idx_matrix[i, j]]\n",
      "/lilac/data/peer/rsaha/supervised-spectra/src/Spectra/Spectra.py:353: FutureWarning: Setting an item of incompatible dtype is deprecated and will raise an error in a future version of pandas. Value 'Ets1' has dtype incompatible with float64, please explicitly cast to a compatible dtype first.\n",
      "  df.iloc[i, j] = id2word[idx_matrix[i, j]]\n",
      "/lilac/data/peer/rsaha/supervised-spectra/src/Spectra/Spectra.py:353: FutureWarning: Setting an item of incompatible dtype is deprecated and will raise an error in a future version of pandas. Value 'Il2rg' has dtype incompatible with float64, please explicitly cast to a compatible dtype first.\n",
      "  df.iloc[i, j] = id2word[idx_matrix[i, j]]\n",
      "/lilac/data/peer/rsaha/supervised-spectra/src/Spectra/Spectra.py:353: FutureWarning: Setting an item of incompatible dtype is deprecated and will raise an error in a future version of pandas. Value 'Atf1' has dtype incompatible with float64, please explicitly cast to a compatible dtype first.\n",
      "  df.iloc[i, j] = id2word[idx_matrix[i, j]]\n",
      "/lilac/data/peer/rsaha/supervised-spectra/src/Spectra/Spectra.py:353: FutureWarning: Setting an item of incompatible dtype is deprecated and will raise an error in a future version of pandas. Value 'Il2ra' has dtype incompatible with float64, please explicitly cast to a compatible dtype first.\n",
      "  df.iloc[i, j] = id2word[idx_matrix[i, j]]\n",
      "/lilac/data/peer/rsaha/supervised-spectra/src/Spectra/Spectra.py:353: FutureWarning: Setting an item of incompatible dtype is deprecated and will raise an error in a future version of pandas. Value 'Smad3' has dtype incompatible with float64, please explicitly cast to a compatible dtype first.\n",
      "  df.iloc[i, j] = id2word[idx_matrix[i, j]]\n",
      "/lilac/data/peer/rsaha/supervised-spectra/src/Spectra/Spectra.py:353: FutureWarning: Setting an item of incompatible dtype is deprecated and will raise an error in a future version of pandas. Value 'Slc16a10' has dtype incompatible with float64, please explicitly cast to a compatible dtype first.\n",
      "  df.iloc[i, j] = id2word[idx_matrix[i, j]]\n",
      "/lilac/data/peer/rsaha/supervised-spectra/src/Spectra/Spectra.py:353: FutureWarning: Setting an item of incompatible dtype is deprecated and will raise an error in a future version of pandas. Value 'Cyld' has dtype incompatible with float64, please explicitly cast to a compatible dtype first.\n",
      "  df.iloc[i, j] = id2word[idx_matrix[i, j]]\n",
      "/lilac/data/peer/rsaha/supervised-spectra/src/Spectra/Spectra.py:353: FutureWarning: Setting an item of incompatible dtype is deprecated and will raise an error in a future version of pandas. Value 'Ppia' has dtype incompatible with float64, please explicitly cast to a compatible dtype first.\n",
      "  df.iloc[i, j] = id2word[idx_matrix[i, j]]\n",
      "/lilac/data/peer/rsaha/supervised-spectra/src/Spectra/Spectra.py:353: FutureWarning: Setting an item of incompatible dtype is deprecated and will raise an error in a future version of pandas. Value 'H3f3a' has dtype incompatible with float64, please explicitly cast to a compatible dtype first.\n",
      "  df.iloc[i, j] = id2word[idx_matrix[i, j]]\n",
      "/lilac/data/peer/rsaha/supervised-spectra/src/Spectra/Spectra.py:353: FutureWarning: Setting an item of incompatible dtype is deprecated and will raise an error in a future version of pandas. Value 'Bcap31' has dtype incompatible with float64, please explicitly cast to a compatible dtype first.\n",
      "  df.iloc[i, j] = id2word[idx_matrix[i, j]]\n",
      "/lilac/data/peer/rsaha/supervised-spectra/src/Spectra/Spectra.py:353: FutureWarning: Setting an item of incompatible dtype is deprecated and will raise an error in a future version of pandas. Value 'Eef2' has dtype incompatible with float64, please explicitly cast to a compatible dtype first.\n",
      "  df.iloc[i, j] = id2word[idx_matrix[i, j]]\n",
      "/lilac/data/peer/rsaha/supervised-spectra/src/Spectra/Spectra.py:353: FutureWarning: Setting an item of incompatible dtype is deprecated and will raise an error in a future version of pandas. Value 'Npm1' has dtype incompatible with float64, please explicitly cast to a compatible dtype first.\n",
      "  df.iloc[i, j] = id2word[idx_matrix[i, j]]\n",
      "/lilac/data/peer/rsaha/supervised-spectra/src/Spectra/Spectra.py:353: FutureWarning: Setting an item of incompatible dtype is deprecated and will raise an error in a future version of pandas. Value 'H3f3b' has dtype incompatible with float64, please explicitly cast to a compatible dtype first.\n",
      "  df.iloc[i, j] = id2word[idx_matrix[i, j]]\n",
      "/lilac/data/peer/rsaha/supervised-spectra/src/Spectra/Spectra.py:353: FutureWarning: Setting an item of incompatible dtype is deprecated and will raise an error in a future version of pandas. Value 'Dnmt3a' has dtype incompatible with float64, please explicitly cast to a compatible dtype first.\n",
      "  df.iloc[i, j] = id2word[idx_matrix[i, j]]\n",
      "/lilac/data/peer/rsaha/supervised-spectra/src/Spectra/Spectra.py:353: FutureWarning: Setting an item of incompatible dtype is deprecated and will raise an error in a future version of pandas. Value 'Cd2' has dtype incompatible with float64, please explicitly cast to a compatible dtype first.\n",
      "  df.iloc[i, j] = id2word[idx_matrix[i, j]]\n",
      "/lilac/data/peer/rsaha/supervised-spectra/src/Spectra/Spectra.py:353: FutureWarning: Setting an item of incompatible dtype is deprecated and will raise an error in a future version of pandas. Value 'Ly6e' has dtype incompatible with float64, please explicitly cast to a compatible dtype first.\n",
      "  df.iloc[i, j] = id2word[idx_matrix[i, j]]\n",
      "/lilac/data/peer/rsaha/supervised-spectra/src/Spectra/Spectra.py:353: FutureWarning: Setting an item of incompatible dtype is deprecated and will raise an error in a future version of pandas. Value 'Cox6c' has dtype incompatible with float64, please explicitly cast to a compatible dtype first.\n",
      "  df.iloc[i, j] = id2word[idx_matrix[i, j]]\n",
      "/lilac/data/peer/rsaha/supervised-spectra/src/Spectra/Spectra.py:353: FutureWarning: Setting an item of incompatible dtype is deprecated and will raise an error in a future version of pandas. Value 'Cox4i1' has dtype incompatible with float64, please explicitly cast to a compatible dtype first.\n",
      "  df.iloc[i, j] = id2word[idx_matrix[i, j]]\n",
      "/lilac/data/peer/rsaha/supervised-spectra/src/Spectra/Spectra.py:353: FutureWarning: Setting an item of incompatible dtype is deprecated and will raise an error in a future version of pandas. Value 'Junb' has dtype incompatible with float64, please explicitly cast to a compatible dtype first.\n",
      "  df.iloc[i, j] = id2word[idx_matrix[i, j]]\n",
      "/lilac/data/peer/rsaha/supervised-spectra/src/Spectra/Spectra.py:353: FutureWarning: Setting an item of incompatible dtype is deprecated and will raise an error in a future version of pandas. Value 'Pdcd4' has dtype incompatible with float64, please explicitly cast to a compatible dtype first.\n",
      "  df.iloc[i, j] = id2word[idx_matrix[i, j]]\n",
      "/lilac/data/peer/rsaha/supervised-spectra/src/Spectra/Spectra.py:353: FutureWarning: Setting an item of incompatible dtype is deprecated and will raise an error in a future version of pandas. Value 'Tcf7' has dtype incompatible with float64, please explicitly cast to a compatible dtype first.\n",
      "  df.iloc[i, j] = id2word[idx_matrix[i, j]]\n",
      "/lilac/data/peer/rsaha/supervised-spectra/src/Spectra/Spectra.py:353: FutureWarning: Setting an item of incompatible dtype is deprecated and will raise an error in a future version of pandas. Value 'Rhoa' has dtype incompatible with float64, please explicitly cast to a compatible dtype first.\n",
      "  df.iloc[i, j] = id2word[idx_matrix[i, j]]\n",
      "/lilac/data/peer/rsaha/supervised-spectra/src/Spectra/Spectra.py:353: FutureWarning: Setting an item of incompatible dtype is deprecated and will raise an error in a future version of pandas. Value 'Emb' has dtype incompatible with float64, please explicitly cast to a compatible dtype first.\n",
      "  df.iloc[i, j] = id2word[idx_matrix[i, j]]\n",
      "/lilac/data/peer/rsaha/supervised-spectra/src/Spectra/Spectra.py:353: FutureWarning: Setting an item of incompatible dtype is deprecated and will raise an error in a future version of pandas. Value 'Srm' has dtype incompatible with float64, please explicitly cast to a compatible dtype first.\n",
      "  df.iloc[i, j] = id2word[idx_matrix[i, j]]\n",
      "/lilac/data/peer/rsaha/supervised-spectra/src/Spectra/Spectra.py:353: FutureWarning: Setting an item of incompatible dtype is deprecated and will raise an error in a future version of pandas. Value 'Rack1' has dtype incompatible with float64, please explicitly cast to a compatible dtype first.\n",
      "  df.iloc[i, j] = id2word[idx_matrix[i, j]]\n",
      "/lilac/data/peer/rsaha/supervised-spectra/src/Spectra/Spectra.py:353: FutureWarning: Setting an item of incompatible dtype is deprecated and will raise an error in a future version of pandas. Value 'Ldha' has dtype incompatible with float64, please explicitly cast to a compatible dtype first.\n",
      "  df.iloc[i, j] = id2word[idx_matrix[i, j]]\n",
      "/lilac/data/peer/rsaha/supervised-spectra/src/Spectra/Spectra.py:353: FutureWarning: Setting an item of incompatible dtype is deprecated and will raise an error in a future version of pandas. Value 'Ppp1r15a' has dtype incompatible with float64, please explicitly cast to a compatible dtype first.\n",
      "  df.iloc[i, j] = id2word[idx_matrix[i, j]]\n",
      "/lilac/data/peer/rsaha/supervised-spectra/src/Spectra/Spectra.py:353: FutureWarning: Setting an item of incompatible dtype is deprecated and will raise an error in a future version of pandas. Value 'Gls' has dtype incompatible with float64, please explicitly cast to a compatible dtype first.\n",
      "  df.iloc[i, j] = id2word[idx_matrix[i, j]]\n",
      "/lilac/data/peer/rsaha/supervised-spectra/src/Spectra/Spectra.py:353: FutureWarning: Setting an item of incompatible dtype is deprecated and will raise an error in a future version of pandas. Value 'Tmem59' has dtype incompatible with float64, please explicitly cast to a compatible dtype first.\n",
      "  df.iloc[i, j] = id2word[idx_matrix[i, j]]\n",
      "/lilac/data/peer/rsaha/supervised-spectra/src/Spectra/Spectra.py:353: FutureWarning: Setting an item of incompatible dtype is deprecated and will raise an error in a future version of pandas. Value 'Lgals1' has dtype incompatible with float64, please explicitly cast to a compatible dtype first.\n",
      "  df.iloc[i, j] = id2word[idx_matrix[i, j]]\n",
      "/lilac/data/peer/rsaha/supervised-spectra/src/Spectra/Spectra.py:353: FutureWarning: Setting an item of incompatible dtype is deprecated and will raise an error in a future version of pandas. Value 'Psma4' has dtype incompatible with float64, please explicitly cast to a compatible dtype first.\n",
      "  df.iloc[i, j] = id2word[idx_matrix[i, j]]\n",
      "/lilac/data/peer/rsaha/supervised-spectra/src/Spectra/Spectra.py:353: FutureWarning: Setting an item of incompatible dtype is deprecated and will raise an error in a future version of pandas. Value 'Adam17' has dtype incompatible with float64, please explicitly cast to a compatible dtype first.\n",
      "  df.iloc[i, j] = id2word[idx_matrix[i, j]]\n",
      "/lilac/data/peer/rsaha/supervised-spectra/src/Spectra/Spectra.py:353: FutureWarning: Setting an item of incompatible dtype is deprecated and will raise an error in a future version of pandas. Value 'Psme1' has dtype incompatible with float64, please explicitly cast to a compatible dtype first.\n",
      "  df.iloc[i, j] = id2word[idx_matrix[i, j]]\n",
      "/lilac/data/peer/rsaha/supervised-spectra/src/Spectra/Spectra.py:353: FutureWarning: Setting an item of incompatible dtype is deprecated and will raise an error in a future version of pandas. Value 'Mvb12a' has dtype incompatible with float64, please explicitly cast to a compatible dtype first.\n",
      "  df.iloc[i, j] = id2word[idx_matrix[i, j]]\n",
      "/lilac/data/peer/rsaha/supervised-spectra/src/Spectra/Spectra.py:353: FutureWarning: Setting an item of incompatible dtype is deprecated and will raise an error in a future version of pandas. Value 'Psmb6' has dtype incompatible with float64, please explicitly cast to a compatible dtype first.\n",
      "  df.iloc[i, j] = id2word[idx_matrix[i, j]]\n",
      "/lilac/data/peer/rsaha/supervised-spectra/src/Spectra/Spectra.py:353: FutureWarning: Setting an item of incompatible dtype is deprecated and will raise an error in a future version of pandas. Value 'Ndufa4' has dtype incompatible with float64, please explicitly cast to a compatible dtype first.\n",
      "  df.iloc[i, j] = id2word[idx_matrix[i, j]]\n",
      "/lilac/data/peer/rsaha/supervised-spectra/src/Spectra/Spectra.py:353: FutureWarning: Setting an item of incompatible dtype is deprecated and will raise an error in a future version of pandas. Value 'Slc25a3' has dtype incompatible with float64, please explicitly cast to a compatible dtype first.\n",
      "  df.iloc[i, j] = id2word[idx_matrix[i, j]]\n",
      "/lilac/data/peer/rsaha/supervised-spectra/src/Spectra/Spectra.py:353: FutureWarning: Setting an item of incompatible dtype is deprecated and will raise an error in a future version of pandas. Value 'Arpc1b' has dtype incompatible with float64, please explicitly cast to a compatible dtype first.\n",
      "  df.iloc[i, j] = id2word[idx_matrix[i, j]]\n",
      "/lilac/data/peer/rsaha/supervised-spectra/src/Spectra/Spectra.py:353: FutureWarning: Setting an item of incompatible dtype is deprecated and will raise an error in a future version of pandas. Value 'Dnaja1' has dtype incompatible with float64, please explicitly cast to a compatible dtype first.\n",
      "  df.iloc[i, j] = id2word[idx_matrix[i, j]]\n",
      "/lilac/data/peer/rsaha/supervised-spectra/src/Spectra/Spectra.py:353: FutureWarning: Setting an item of incompatible dtype is deprecated and will raise an error in a future version of pandas. Value 'Taf10' has dtype incompatible with float64, please explicitly cast to a compatible dtype first.\n",
      "  df.iloc[i, j] = id2word[idx_matrix[i, j]]\n",
      "/lilac/data/peer/rsaha/supervised-spectra/src/Spectra/Spectra.py:353: FutureWarning: Setting an item of incompatible dtype is deprecated and will raise an error in a future version of pandas. Value 'Cox8a' has dtype incompatible with float64, please explicitly cast to a compatible dtype first.\n",
      "  df.iloc[i, j] = id2word[idx_matrix[i, j]]\n",
      "/lilac/data/peer/rsaha/supervised-spectra/src/Spectra/Spectra.py:353: FutureWarning: Setting an item of incompatible dtype is deprecated and will raise an error in a future version of pandas. Value 'Btg1' has dtype incompatible with float64, please explicitly cast to a compatible dtype first.\n",
      "  df.iloc[i, j] = id2word[idx_matrix[i, j]]\n"
     ]
    }
   ],
   "source": [
    "num_epochs = 1000\n",
    "# fit the model (We will run this with only 2 epochs to decrease runtime in this tutorial)\n",
    "model = spc.est_spectra(adata=adata, \n",
    "    gene_set_dictionary=annotations, \n",
    "    use_highly_variable=True,\n",
    "    cell_type_key=\"cytokine_coarse\", \n",
    "    use_weights=True,\n",
    "    lam=0.1, # varies depending on data and gene sets, try between 0.5 and 0.001\n",
    "    delta=0.001, \n",
    "    kappa=None,\n",
    "    rho=0.001, \n",
    "    use_cell_types=True,\n",
    "    n_top_vals=50,\n",
    "    label_factors=True, \n",
    "    overlap_threshold=0.2,\n",
    "    clean_gs = True, \n",
    "    min_gs_num = 3,\n",
    "    num_epochs=num_epochs #here running only 2 epochs for time reasons, we recommend 10,000 epochs for most datasets\n",
    ")"
   ]
  },
  {
   "cell_type": "code",
   "execution_count": null,
   "id": "f966dac0-01fd-4368-8af5-e580fe4518ad",
   "metadata": {},
   "outputs": [
    {
     "data": {
      "text/plain": [
       "{'global': array([0.06548912, 0.41227034, 0.4929193 , ..., 0.09932926, 0.5517805 ,\n",
       "        0.20823461], dtype=float32),\n",
       " 'IFN-γ': array([3.1269038e-01, 9.5344073e-01, 9.9999344e-01, ..., 8.4378822e-05,\n",
       "        3.1153584e-01, 2.0235483e-01], dtype=float32),\n",
       " 'IL-2-15': array([0.47851828, 0.999243  , 0.9999639 , ..., 0.01087287, 0.24314664,\n",
       "        0.27296895], dtype=float32),\n",
       " 'PBS': array([0.38821813, 0.9983004 , 0.9973464 , ..., 0.00559141, 0.18718368,\n",
       "        0.41129255], dtype=float32)}"
      ]
     },
     "execution_count": 31,
     "metadata": {},
     "output_type": "execute_result"
    }
   ],
   "source": []
  },
  {
   "cell_type": "code",
   "execution_count": 42,
   "id": "a46ac71d-b61a-40c3-a7fd-698af62c468d",
   "metadata": {},
   "outputs": [],
   "source": [
    "import pandas as pd"
   ]
  },
  {
   "cell_type": "markdown",
   "id": "80cb24df-f24c-4a44-a181-e0bffabe073b",
   "metadata": {},
   "source": [
    "# New run with stripped down spectra"
   ]
  },
  {
   "cell_type": "code",
   "execution_count": 60,
   "id": "924bdcdb-896c-4fc5-a377-d9412d4a2793",
   "metadata": {},
   "outputs": [],
   "source": [
    "\n",
    "\n",
    "# read in /data/peer/ibrahih3/spectra/spec-v2-log/output_postprocessing/cui23_processed_spectrav2_example_20241216_spectra_epochs_10000-time_1736835731.1690764markers.csv\n",
    "markers = pd.read_csv('/data/peer/rsaha/supervised-spectra/scripts/results/cui23_processed_spectrav2_example_20241216_spectra_epochs_10000-time_1740428884.7412221markers.csv')\n",
    "\n",
    "il2 = markers[markers['geneset_match'] == 'Treg_IL2']\n",
    "\n",
    "ifng = markers[markers['geneset_match'] == 'Treg_IFNG']\n",
    "\n",
    "th1 = markers[markers['geneset_match'] == 'Treg_Th1']"
   ]
  },
  {
   "cell_type": "code",
   "execution_count": 61,
   "id": "6e9fcc5b-b43a-445e-ad33-deb7fb4338e1",
   "metadata": {},
   "outputs": [
    {
     "name": "stdout",
     "output_type": "stream",
     "text": [
      "IL2-15\n"
     ]
    },
    {
     "data": {
      "text/plain": [
       "cell_type\n",
       "IFN-γ      0.006834\n",
       "IL-2-15    0.005683\n",
       "PBS        0.003661\n",
       "Name: importance, dtype: float64"
      ]
     },
     "execution_count": 61,
     "metadata": {},
     "output_type": "execute_result"
    }
   ],
   "source": [
    "print('IL2-15')\n",
    "# group by cell_type and sum over the importance column\n",
    "il2.groupby('cell_type')['importance'].mean()"
   ]
  },
  {
   "cell_type": "code",
   "execution_count": 62,
   "id": "0659d5ab-4516-46a0-9fd4-5feb0a03e855",
   "metadata": {},
   "outputs": [
    {
     "name": "stdout",
     "output_type": "stream",
     "text": [
      "IFNG\n"
     ]
    },
    {
     "data": {
      "text/plain": [
       "cell_type\n",
       "IFN-γ      0.009825\n",
       "IL-2-15    0.009190\n",
       "PBS        0.005245\n",
       "Name: importance, dtype: float64"
      ]
     },
     "execution_count": 62,
     "metadata": {},
     "output_type": "execute_result"
    }
   ],
   "source": [
    "print('IFNG')\n",
    "ifng.groupby('cell_type')['importance'].mean()"
   ]
  },
  {
   "cell_type": "code",
   "execution_count": 63,
   "id": "a643e3e8-621b-4b74-869c-06c1778c6e78",
   "metadata": {},
   "outputs": [
    {
     "name": "stdout",
     "output_type": "stream",
     "text": [
      "Th1\n"
     ]
    },
    {
     "data": {
      "text/plain": [
       "cell_type\n",
       "IFN-γ      0.008208\n",
       "IL-2-15    0.003367\n",
       "PBS        0.003125\n",
       "Name: importance, dtype: float64"
      ]
     },
     "execution_count": 63,
     "metadata": {},
     "output_type": "execute_result"
    }
   ],
   "source": [
    "print('Th1')\n",
    "th1.groupby('cell_type')['importance'].mean()"
   ]
  },
  {
   "cell_type": "markdown",
   "id": "580eac4f-9da6-48b6-8499-548bb744b4dd",
   "metadata": {},
   "source": [
    "# Earlier run with original spectra"
   ]
  },
  {
   "cell_type": "code",
   "execution_count": 52,
   "id": "24de88d9-23a3-4c0d-b8e2-b04ba3b05292",
   "metadata": {},
   "outputs": [],
   "source": [
    "# read in /data/peer/ibrahih3/spectra/spec-v2-log/output_postprocessing/cui23_processed_spectrav2_example_20241216_spectra_epochs_10000-time_1736835731.1690764markers.csv\n",
    "markers = pd.read_csv('/data/peer/ibrahih3/spectra/spec-v2-log/output_postprocessing/cui23_processed_spectrav2_example_20241216_spectra_epochs_10000-time_1736835731.1690764markers.csv')\n",
    "\n",
    "il2 = markers[markers['geneset_match'] == 'Treg_IL2']\n",
    "\n",
    "ifng = markers[markers['geneset_match'] == 'Treg_IFNG']\n",
    "\n",
    "th1 = markers[markers['geneset_match'] == 'Treg_Th1']"
   ]
  },
  {
   "cell_type": "code",
   "execution_count": 53,
   "id": "9c71ef07-6f63-4dc9-be0e-1379db4dfb04",
   "metadata": {},
   "outputs": [
    {
     "name": "stdout",
     "output_type": "stream",
     "text": [
      "IL2-15\n"
     ]
    },
    {
     "data": {
      "text/plain": [
       "cell_type\n",
       "IFN-γ      0.012961\n",
       "IL-2-15    0.009826\n",
       "PBS        0.006838\n",
       "Name: importance, dtype: float64"
      ]
     },
     "execution_count": 53,
     "metadata": {},
     "output_type": "execute_result"
    }
   ],
   "source": [
    "print('IL2-15')\n",
    "# group by cell_type and sum over the importance column\n",
    "il2.groupby('cell_type')['importance'].mean()"
   ]
  },
  {
   "cell_type": "code",
   "execution_count": 54,
   "id": "7c2b413d-7d1c-4919-ba5b-04452672b8ff",
   "metadata": {},
   "outputs": [
    {
     "name": "stdout",
     "output_type": "stream",
     "text": [
      "IFNG\n"
     ]
    },
    {
     "data": {
      "text/plain": [
       "cell_type\n",
       "IFN-γ      0.017733\n",
       "IL-2-15    0.009108\n",
       "PBS        0.005113\n",
       "Name: importance, dtype: float64"
      ]
     },
     "execution_count": 54,
     "metadata": {},
     "output_type": "execute_result"
    }
   ],
   "source": [
    "print('IFNG')\n",
    "ifng.groupby('cell_type')['importance'].mean()"
   ]
  },
  {
   "cell_type": "code",
   "execution_count": 55,
   "id": "3a2fca47-fa71-4ef3-8149-a251e421f784",
   "metadata": {},
   "outputs": [
    {
     "name": "stdout",
     "output_type": "stream",
     "text": [
      "Th1\n"
     ]
    },
    {
     "data": {
      "text/plain": [
       "cell_type\n",
       "IFN-γ      0.015467\n",
       "IL-2-15    0.006734\n",
       "PBS        0.003748\n",
       "Name: importance, dtype: float64"
      ]
     },
     "execution_count": 55,
     "metadata": {},
     "output_type": "execute_result"
    }
   ],
   "source": [
    "print('Th1')\n",
    "th1.groupby('cell_type')['importance'].mean()"
   ]
  },
  {
   "cell_type": "code",
   "execution_count": null,
   "id": "7e0d38d4-cd9e-493b-81bd-6e4c059193d5",
   "metadata": {},
   "outputs": [],
   "source": []
  }
 ],
 "metadata": {
  "kernelspec": {
   "display_name": "supervised-spectra",
   "language": "python",
   "name": "supervised-spectra"
  },
  "language_info": {
   "codemirror_mode": {
    "name": "ipython",
    "version": 3
   },
   "file_extension": ".py",
   "mimetype": "text/x-python",
   "name": "python",
   "nbconvert_exporter": "python",
   "pygments_lexer": "ipython3",
   "version": "3.10.10"
  }
 },
 "nbformat": 4,
 "nbformat_minor": 5
}
