{
 "cells": [
  {
   "cell_type": "code",
   "execution_count": 1,
   "id": "74c42988",
   "metadata": {},
   "outputs": [],
   "source": [
    "import numpy as np\n",
    "import SPECTRA as spc\n",
    "import spectra_util as util\n",
    "import json \n",
    "import scanpy as sc\n",
    "import K_est\n",
    "from collections import OrderedDict\n",
    "import scipy "
   ]
  },
  {
   "cell_type": "markdown",
   "id": "f6162146",
   "metadata": {},
   "source": [
    "## Load gene sets"
   ]
  },
  {
   "cell_type": "code",
   "execution_count": 2,
   "id": "3ca7b222",
   "metadata": {},
   "outputs": [],
   "source": [
    "with open(\"global0.1_delta_0.001_beta_0.0_pseudo_0.0gene_names_dict.json\", \"rb\") as file:\n",
    "    annotations = json.load(file)"
   ]
  },
  {
   "cell_type": "code",
   "execution_count": 3,
   "id": "f3244cad",
   "metadata": {},
   "outputs": [
    {
     "data": {
      "text/plain": [
       "dict_keys(['global', 'B_memory', 'CD4_T', 'CD8_T', 'DC', 'MDC', 'Treg', 'mast', 'pDC'])"
      ]
     },
     "execution_count": 3,
     "metadata": {},
     "output_type": "execute_result"
    }
   ],
   "source": [
    "annotations.keys()"
   ]
  },
  {
   "cell_type": "markdown",
   "id": "1ef39556",
   "metadata": {},
   "source": [
    "## Load data & create a new cell type label "
   ]
  },
  {
   "cell_type": "code",
   "execution_count": 4,
   "id": "955f56cf",
   "metadata": {},
   "outputs": [],
   "source": [
    "adata = sc.read_h5ad(\"all_scseq_results.h5ad\")"
   ]
  },
  {
   "cell_type": "markdown",
   "id": "8d6d5fc3",
   "metadata": {},
   "source": [
    "Subsetting the dataset to the following immune cell types"
   ]
  },
  {
   "cell_type": "code",
   "execution_count": 5,
   "id": "2e30fa6d",
   "metadata": {},
   "outputs": [],
   "source": [
    "immune_types = [\"T_cell\", \"Monocyte/Macrophage\", \"NK cell\", \"T cell\", \"Plasma/B cell\", \"Neutrophil\"]"
   ]
  },
  {
   "cell_type": "code",
   "execution_count": 6,
   "id": "6d97b6ab",
   "metadata": {},
   "outputs": [],
   "source": [
    "is_immune = adata.obs.broad_clusters.apply(lambda x: x in immune_types).values.astype(bool)\n",
    "adata_immune = adata[is_immune,:]"
   ]
  },
  {
   "cell_type": "markdown",
   "id": "1c1540b8",
   "metadata": {},
   "source": [
    "Create a new cell type label that combines T and NK cells, etc"
   ]
  },
  {
   "cell_type": "code",
   "execution_count": 7,
   "id": "f32cba60",
   "metadata": {},
   "outputs": [],
   "source": [
    "type_transfer_dict =  {\n",
    "    \"T cell\": \"TNK\",\n",
    "    \"Monocyte/Macrophage\" : \"M\",\n",
    "    \"NK cell\": \"TNK\",\n",
    "    \"Plasma/B cell\": \"B\",\n",
    "    \"Neutrophil\" : \"Neutrophil\"\n",
    "}"
   ]
  },
  {
   "cell_type": "code",
   "execution_count": 8,
   "id": "3e95a4c4",
   "metadata": {},
   "outputs": [],
   "source": [
    "ct_labels = adata_immune.obs.broad_clusters.apply(lambda x: type_transfer_dict[x])"
   ]
  },
  {
   "cell_type": "code",
   "execution_count": 9,
   "id": "ae605f2c",
   "metadata": {},
   "outputs": [
    {
     "name": "stderr",
     "output_type": "stream",
     "text": [
      "Trying to set attribute `.obs` of view, copying.\n"
     ]
    }
   ],
   "source": [
    "adata_immune.obs[\"cell_type\"] = ct_labels"
   ]
  },
  {
   "cell_type": "markdown",
   "id": "cce93bc9",
   "metadata": {},
   "source": [
    "## Create a dictionary for SPECTRA input"
   ]
  },
  {
   "cell_type": "code",
   "execution_count": 10,
   "id": "0e887bc7",
   "metadata": {},
   "outputs": [
    {
     "data": {
      "text/plain": [
       "dict_keys(['global', 'B_memory', 'CD4_T', 'CD8_T', 'DC', 'MDC', 'Treg', 'mast', 'pDC'])"
      ]
     },
     "execution_count": 10,
     "metadata": {},
     "output_type": "execute_result"
    }
   ],
   "source": [
    "annotations.keys()"
   ]
  },
  {
   "cell_type": "code",
   "execution_count": 11,
   "id": "699d63ba",
   "metadata": {},
   "outputs": [],
   "source": [
    "annotations_pdac = {}"
   ]
  },
  {
   "cell_type": "code",
   "execution_count": 12,
   "id": "e2f7902f",
   "metadata": {},
   "outputs": [],
   "source": [
    "\n",
    "annotations_pdac[\"global\"] = annotations[\"global\"]\n",
    "for ct in type_transfer_dict.values():\n",
    "    annotations_pdac[ct] = {}"
   ]
  },
  {
   "cell_type": "code",
   "execution_count": 13,
   "id": "d78e7098",
   "metadata": {},
   "outputs": [],
   "source": [
    "\n",
    "for key in annotations[\"B_memory\"].keys():\n",
    "    annotations_pdac[\"B\"][key] = annotations[\"B_memory\"][key]\n",
    "for key in annotations[\"CD4_T\"].keys():\n",
    "    annotations_pdac[\"TNK\"][key] = annotations[\"CD4_T\"][key]\n",
    "for key in annotations[\"CD8_T\"].keys():\n",
    "    annotations_pdac[\"TNK\"][key] = annotations[\"CD8_T\"][key]\n",
    "for key in annotations[\"Treg\"].keys():\n",
    "    annotations_pdac[\"TNK\"][key] = annotations[\"Treg\"][key]\n",
    "for key in annotations[\"MDC\"].keys():\n",
    "    annotations_pdac[\"M\"][key] = annotations[\"MDC\"][key]"
   ]
  },
  {
   "cell_type": "markdown",
   "id": "213b11f7",
   "metadata": {},
   "source": [
    "## K estimation"
   ]
  },
  {
   "cell_type": "code",
   "execution_count": 14,
   "id": "339bcaa6",
   "metadata": {},
   "outputs": [],
   "source": [
    "X = np.array(adata_immune[:,adata_immune.var[\"highly_variable\"]].X.todense())"
   ]
  },
  {
   "cell_type": "code",
   "execution_count": 15,
   "id": "90124608",
   "metadata": {},
   "outputs": [
    {
     "data": {
      "text/plain": [
       "(117077, 1810)"
      ]
     },
     "execution_count": 15,
     "metadata": {},
     "output_type": "execute_result"
    }
   ],
   "source": [
    "X.shape"
   ]
  },
  {
   "cell_type": "code",
   "execution_count": 16,
   "id": "34828d89",
   "metadata": {},
   "outputs": [],
   "source": [
    "# don't rerun this unless necessary\n",
    "#L_est = K_est.estimate_L(adata_immune, attribute = \"cell_type\", highly_variable = True)"
   ]
  },
  {
   "cell_type": "code",
   "execution_count": 17,
   "id": "1e3dfd91",
   "metadata": {},
   "outputs": [],
   "source": [
    "#save result \n",
    "\n",
    "L = {'global': 20, 'B': 31, 'M': 15, 'Neutrophil': 3, 'TNK': 13}"
   ]
  },
  {
   "cell_type": "code",
   "execution_count": 18,
   "id": "e1a4145c",
   "metadata": {},
   "outputs": [
    {
     "data": {
      "text/plain": [
       "{'global': 20, 'B': 31, 'M': 15, 'Neutrophil': 3, 'TNK': 13}"
      ]
     },
     "execution_count": 18,
     "metadata": {},
     "output_type": "execute_result"
    }
   ],
   "source": [
    "L"
   ]
  },
  {
   "cell_type": "markdown",
   "id": "5837d672",
   "metadata": {},
   "source": [
    "## Fit SPECTRA model \n",
    "\n",
    "> don't rerun this"
   ]
  },
  {
   "cell_type": "code",
   "execution_count": null,
   "id": "20521a7f",
   "metadata": {},
   "outputs": [
    {
     "name": "stderr",
     "output_type": "stream",
     "text": [
      " 23%|██▎       | 2301/10000 [6:06:03<20:07:31,  9.41s/it]"
     ]
    }
   ],
   "source": [
    "model = spc.est_spectra(adata = adata_immune, L = L, gene_set_dictionary = annotations_pdac, use_highly_variable = True, cell_type_key = \"cell_type\", use_weights = True, lam = 0.1, delta=0.001,kappa = 0.00001, rho = 0.00001, use_cell_types = True, n_top_vals = 25)"
   ]
  },
  {
   "cell_type": "code",
   "execution_count": null,
   "id": "1e71d69a",
   "metadata": {},
   "outputs": [],
   "source": [
    "import torch\n",
    "#haven't written save function yet \n",
    "torch.save(model.internal_model.state_dict(), \"pdac_model\")"
   ]
  },
  {
   "cell_type": "code",
   "execution_count": null,
   "id": "832b949e",
   "metadata": {},
   "outputs": [],
   "source": []
  }
 ],
 "metadata": {
  "kernelspec": {
   "display_name": "Python 3 (ipykernel)",
   "language": "python",
   "name": "python3"
  },
  "language_info": {
   "codemirror_mode": {
    "name": "ipython",
    "version": 3
   },
   "file_extension": ".py",
   "mimetype": "text/x-python",
   "name": "python",
   "nbconvert_exporter": "python",
   "pygments_lexer": "ipython3",
   "version": "3.7.6"
  }
 },
 "nbformat": 4,
 "nbformat_minor": 5
}
