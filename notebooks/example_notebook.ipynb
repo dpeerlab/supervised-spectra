{
 "cells": [
  {
   "cell_type": "code",
   "execution_count": 2,
   "id": "74c42988",
   "metadata": {},
   "outputs": [],
   "source": [
    "import numpy as np\n",
    "import json \n",
    "import scanpy as sc\n",
    "from collections import OrderedDict\n",
    "import scipy \n",
    "\n",
    "#spectra imports \n",
    "from spectra import spectra as spc\n",
    "from spectra import spectra_util as util\n",
    "from spectra import K_est as kst"
   ]
  },
  {
   "cell_type": "markdown",
   "id": "f6162146",
   "metadata": {},
   "source": [
    "## Load gene sets"
   ]
  },
  {
   "cell_type": "code",
   "execution_count": 4,
   "id": "3ca7b222",
   "metadata": {},
   "outputs": [],
   "source": [
    "with open(\"../annotations_2.json\", \"rb\") as file:\n",
    "    annotations = json.load(file)"
   ]
  },
  {
   "cell_type": "code",
   "execution_count": 6,
   "id": "aeedeb15",
   "metadata": {
    "scrolled": false
   },
   "outputs": [
    {
     "data": {
      "text/plain": [
       "['GNAI1',\n",
       " 'WNT5B',\n",
       " 'DVL2',\n",
       " 'PTCH1',\n",
       " 'LEF1',\n",
       " 'HEY2',\n",
       " 'PSEN2',\n",
       " 'NKD1',\n",
       " 'NUMB',\n",
       " 'AXIN1',\n",
       " 'SKP2',\n",
       " 'NOTCH1',\n",
       " 'JAG1',\n",
       " 'WNT1',\n",
       " 'NOTCH4',\n",
       " 'NCOR2',\n",
       " 'HEY1',\n",
       " 'DLL1',\n",
       " 'WNT6',\n",
       " 'HDAC5',\n",
       " 'CTNNB1',\n",
       " 'DKK1',\n",
       " 'TP53',\n",
       " 'FZD1']"
      ]
     },
     "execution_count": 6,
     "metadata": {},
     "output_type": "execute_result"
    }
   ],
   "source": [
    "annotations[\"global\"][\"all_wnt-beta-catenin-signaling\"]"
   ]
  },
  {
   "cell_type": "markdown",
   "id": "1ef39556",
   "metadata": {},
   "source": [
    "## Load data "
   ]
  },
  {
   "cell_type": "code",
   "execution_count": 8,
   "id": "955f56cf",
   "metadata": {},
   "outputs": [],
   "source": [
    "adata = sc.read_h5ad(PATH_TO_DATA + \"Bassez_10k_subset_scran.h5ad\")"
   ]
  },
  {
   "cell_type": "markdown",
   "id": "5837d672",
   "metadata": {},
   "source": [
    "## Fit SPECTRA model \n",
    "\n",
    "> don't rerun this"
   ]
  },
  {
   "cell_type": "code",
   "execution_count": 9,
   "id": "20521a7f",
   "metadata": {},
   "outputs": [],
   "source": [
    "model = spc.est_spectra(adata = adata, gene_set_dictionary = annotations, use_highly_variable = True, cell_type_key = \"annotation_SPADE_1\", use_weights = True, lam = 0.1, delta=0.001,kappa = 0.00001, rho = 0.00001, use_cell_types = True, n_top_vals = 25)"
   ]
  },
  {
   "cell_type": "code",
   "execution_count": null,
   "id": "1e71d69a",
   "metadata": {},
   "outputs": [],
   "source": [
    "model.save(\"example_model\")"
   ]
  }
 ],
 "metadata": {
  "kernelspec": {
   "display_name": "Python 3 (ipykernel)",
   "language": "python",
   "name": "python3"
  },
  "language_info": {
   "codemirror_mode": {
    "name": "ipython",
    "version": 3
   },
   "file_extension": ".py",
   "mimetype": "text/x-python",
   "name": "python",
   "nbconvert_exporter": "python",
   "pygments_lexer": "ipython3",
   "version": "3.7.6"
  }
 },
 "nbformat": 4,
 "nbformat_minor": 5
}
