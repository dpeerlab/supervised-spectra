{
 "cells": [
  {
   "cell_type": "code",
   "execution_count": 1,
   "id": "74c42988",
   "metadata": {},
   "outputs": [],
   "source": [
    "import numpy as np\n",
    "import json \n",
    "import scanpy as sc\n",
    "from collections import OrderedDict\n",
    "import scipy \n",
    "\n",
    "#spectra imports \n",
    "from spectra import spectra as spc\n",
    "from spectra import spectra_util as util\n",
    "from spectra import K_est as kst"
   ]
  },
  {
   "cell_type": "markdown",
   "id": "f6162146",
   "metadata": {},
   "source": [
    "## Load gene sets"
   ]
  },
  {
   "cell_type": "code",
   "execution_count": 2,
   "id": "3ca7b222",
   "metadata": {},
   "outputs": [],
   "source": [
    "with open(\"annotations_2.json\", \"rb\") as file:\n",
    "    annotations = json.load(file)"
   ]
  },
  {
   "cell_type": "markdown",
   "id": "1ef39556",
   "metadata": {},
   "source": [
    "## Load data "
   ]
  },
  {
   "cell_type": "code",
   "execution_count": 4,
   "id": "955f56cf",
   "metadata": {},
   "outputs": [],
   "source": [
    "adata = sc.read_h5ad(PATH_TO_DATA + \"Bassez_10k_subset_scran.h5ad\")"
   ]
  },
  {
   "cell_type": "markdown",
   "id": "213b11f7",
   "metadata": {},
   "source": [
    "## K estimation"
   ]
  },
  {
   "cell_type": "code",
   "execution_count": 16,
   "id": "34828d89",
   "metadata": {},
   "outputs": [],
   "source": [
    "# don't rerun this unless necessary\n",
    "L = K_est.estimate_L(adata, attribute = \"annotation_SPADE_1\", highly_variable = True)"
   ]
  },
  {
   "cell_type": "code",
   "execution_count": 18,
   "id": "e1a4145c",
   "metadata": {},
   "outputs": [
    {
     "data": {
      "text/plain": [
       "{'global': 20, 'B': 31, 'M': 15, 'Neutrophil': 3, 'TNK': 13}"
      ]
     },
     "execution_count": 18,
     "metadata": {},
     "output_type": "execute_result"
    }
   ],
   "source": [
    "L"
   ]
  },
  {
   "cell_type": "markdown",
   "id": "5837d672",
   "metadata": {},
   "source": [
    "## Fit SPECTRA model \n",
    "\n",
    "> don't rerun this"
   ]
  },
  {
   "cell_type": "code",
   "execution_count": null,
   "id": "20521a7f",
   "metadata": {},
   "outputs": [
    {
     "name": "stderr",
     "output_type": "stream",
     "text": [
      " 23%|██▎       | 2301/10000 [6:06:03<20:07:31,  9.41s/it]"
     ]
    }
   ],
   "source": [
    "model = spc.est_spectra(adata = adata, L = L, gene_set_dictionary = annotations, use_highly_variable = True, cell_type_key = \"annotation_SPADE_1\", use_weights = True, lam = 0.1, delta=0.001,kappa = 0.00001, rho = 0.00001, use_cell_types = True, n_top_vals = 25)"
   ]
  },
  {
   "cell_type": "code",
   "execution_count": null,
   "id": "1e71d69a",
   "metadata": {},
   "outputs": [],
   "source": [
    "model.save(\"example_model\")"
   ]
  }
 ],
 "metadata": {
  "kernelspec": {
   "display_name": "Python 3 (ipykernel)",
   "language": "python",
   "name": "python3"
  },
  "language_info": {
   "codemirror_mode": {
    "name": "ipython",
    "version": 3
   },
   "file_extension": ".py",
   "mimetype": "text/x-python",
   "name": "python",
   "nbconvert_exporter": "python",
   "pygments_lexer": "ipython3",
   "version": "3.7.6"
  }
 },
 "nbformat": 4,
 "nbformat_minor": 5
}
